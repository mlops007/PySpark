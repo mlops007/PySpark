{
 "cells": [
  {
   "cell_type": "code",
   "execution_count": 43,
   "id": "ec250068",
   "metadata": {},
   "outputs": [],
   "source": [
    "from pyspark.sql import SparkSession\n",
    "import getpass\n",
    "username = getpass.getuser()\n",
    "spark= SparkSession. \\\n",
    "builder. \\\n",
    "appName(\"week_9\"). \\\n",
    "config('spark.ui.port','0'). \\\n",
    "config(\"spark.sql.warehouse.dir\", f\"/user/itv009033/warehouse\"). \\\n",
    "config(\"spark.sql.files.maxPartitionBytes\", \"146800640\"). \\\n",
    "config(\"spark.shuffle.useOldFetchProtocol\", \"true\").\\\n",
    "enableHiveSupport(). \\\n",
    "master('yarn'). \\\n",
    "getOrCreate()"
   ]
  },
  {
   "cell_type": "code",
   "execution_count": 2,
   "id": "f0f9fe96",
   "metadata": {},
   "outputs": [],
   "source": [
    "#creating schema for reading the json file\n",
    "from pyspark.sql.types import StructType, StructField, StringType, IntegerType, ArrayType"
   ]
  },
  {
   "cell_type": "code",
   "execution_count": 3,
   "id": "ae6cad13",
   "metadata": {},
   "outputs": [],
   "source": [
    "users_schema = StructType([StructField(\"user_id\", IntegerType(), nullable=False),\n",
    "StructField(\"user_first_name\", StringType(), nullable=False),\n",
    "StructField(\"user_last_name\", StringType(), nullable=False),\n",
    "StructField(\"user_email\", StringType(), nullable=False),\n",
    "StructField(\"user_gender\", StringType(), nullable=False),\n",
    "StructField(\"user_phone_numbers\", ArrayType(StringType()),\n",
    "nullable=True),\n",
    "StructField(\"user_address\", StructType([\n",
    "StructField(\"street\", StringType(), nullable=False),\n",
    "StructField(\"city\", StringType(), nullable=False),\n",
    "StructField(\"state\", StringType(), nullable=False),\n",
    "StructField(\"postal_code\", StringType(), nullable=False),\n",
    "]), nullable=False)])"
   ]
  },
  {
   "cell_type": "code",
   "execution_count": 4,
   "id": "88339fa0",
   "metadata": {},
   "outputs": [],
   "source": [
    "df = spark.read.format(\"json\").schema(users_schema).load(\"/public/sms/users/*\")"
   ]
  },
  {
   "cell_type": "code",
   "execution_count": 5,
   "id": "0c521df4",
   "metadata": {},
   "outputs": [
    {
     "name": "stdout",
     "output_type": "stream",
     "text": [
      "+-------+---------------+--------------+--------------------------------+-----------+------------------------------------------------------------+----------------------------------------------------------+\n",
      "|user_id|user_first_name|user_last_name|user_email                      |user_gender|user_phone_numbers                                          |user_address                                              |\n",
      "+-------+---------------+--------------+--------------------------------+-----------+------------------------------------------------------------+----------------------------------------------------------+\n",
      "|200001 |Eirena         |Cutsforth     |ecutsforth0@wisc.edu            |Female     |[4197404036, 9173828061, 4027467939, 3371963735]            |{8 Warrior Drive, Dallas, Texas, 75358}                   |\n",
      "|200002 |Marja          |Shopcott      |mshopcott1@hexun.com            |Female     |[9542037028, 2128289053, 4068088779, 2621495368, 9038414778]|{66 Prairieview Terrace, Joliet, Illinois, 60435}         |\n",
      "|200003 |Dawn           |Tointon       |dtointon2@ucsd.edu              |Female     |[9523035647, 2134982789, 6615999645]                        |{18 Ronald Regan Hill, Shawnee Mission, Kansas, 66225}    |\n",
      "|200004 |Goldi          |Leaman        |gleaman3@360.cn                 |Female     |[2027069459, 7042854979, 2058662100, 2156494557, 3612541912]|{7696 Calypso Junction, Saint Paul, Minnesota, 55166}     |\n",
      "|200005 |Brewster       |Hallagan      |bhallagan4@livejournal.com      |Male       |[8134746319, 2152769457]                                    |{942 Emmet Park, Albuquerque, New Mexico, 87110}          |\n",
      "|200006 |Florence       |Glashby       |fglashby5@deviantart.com        |Female     |[7571763565, 7134157643, 6109401875, 6789261652, 2023724495]|{664 Ridge Oak Circle, Virginia Beach, Virginia, 23454}   |\n",
      "|200007 |Zollie         |Philimore     |zphilimore6@webeden.co.uk       |Male       |[7865450177, 8019242051]                                    |{4 Continental Drive, Young America, Minnesota, 55557}    |\n",
      "|200008 |Ferdinand      |Ramelot       |framelot7@alexa.com             |Male       |[8164055187]                                                |{44698 Arapahoe Park, Tucson, Arizona, 85725}             |\n",
      "|200009 |Ruddy          |Greystoke     |rgreystoke8@digg.com            |Male       |null                                                        |{null, null, null, null}                                  |\n",
      "|200010 |Gilles         |Beeho         |gbeeho9@webmd.com               |Male       |[5599886694, 5201911221]                                    |{9430 Reinke Park, North Las Vegas, Nevada, 89087}        |\n",
      "|200011 |Axel           |Kitchinham    |akitchinhama@naver.com          |Male       |[2036913158]                                                |{688 Granby Point, Warren, Ohio, 44485}                   |\n",
      "|200012 |Moreen         |Pearmine      |mpearmineb@github.com           |Female     |[4047148129]                                                |{3997 Russell Parkway, North Little Rock, Arkansas, 72199}|\n",
      "|200013 |Joceline       |Adshead       |jadsheadc@joomla.org            |Female     |[3134837460, 3022947366, 7702373822, 7166720430]            |{89 Fair Oaks Terrace, Shawnee Mission, Kansas, 66220}    |\n",
      "|200014 |Roxie          |Menichi       |rmenichid@nationalgeographic.com|Female     |[6148474898, 9034594283, 2812388853, 9282129221]            |{3 Green Pass, Fort Wayne, Indiana, 46814}                |\n",
      "|200015 |Selena         |Flood         |sfloode@delicious.com           |Female     |[7274706417, 4026151021, 7578520296]                        |{2 Butterfield Crossing, Sacramento, California, 94286}   |\n",
      "|200016 |Leoine         |Markovic      |lmarkovicf@usa.gov              |Female     |null                                                        |{null, null, null, null}                                  |\n",
      "|200017 |Judi           |Svanetti      |jsvanettig@theglobeandmail.com  |Female     |[2158389703, 8169206363, 7149845960, 8019197400, 3105149676]|{1 Sheridan Pass, Miami, Florida, 33147}                  |\n",
      "|200018 |Hildegarde     |Hapke         |hhapkeh@nps.gov                 |Female     |[8183692525]                                                |{60 Oak Valley Street, Missoula, Montana, 59806}          |\n",
      "|200019 |Hanni          |Dommett       |hdommetti@tinyurl.com           |Female     |[7868201036, 7048546511, 2029024266, 3012635847]            |{5 Vera Point, Wichita Falls, Texas, 76310}               |\n",
      "|200020 |Rupert         |Gaskoin       |rgaskoinj@mozilla.com           |Male       |[5623065887, 9198293554, 8061474652]                        |{52636 Heath Alley, Kansas City, Missouri, 64160}         |\n",
      "+-------+---------------+--------------+--------------------------------+-----------+------------------------------------------------------------+----------------------------------------------------------+\n",
      "only showing top 20 rows\n",
      "\n"
     ]
    }
   ],
   "source": [
    "df.show(truncate = False)"
   ]
  },
  {
   "cell_type": "code",
   "execution_count": 6,
   "id": "e455ce71",
   "metadata": {},
   "outputs": [
    {
     "data": {
      "text/plain": [
       "3"
      ]
     },
     "execution_count": 6,
     "metadata": {},
     "output_type": "execute_result"
    }
   ],
   "source": [
    "#number of partitions\n",
    "df.rdd.getNumPartitions()"
   ]
  },
  {
   "cell_type": "markdown",
   "id": "3cb7b995",
   "metadata": {},
   "source": [
    "# Question 2\n",
    "#### Do some basic analysis and find out the following"
   ]
  },
  {
   "cell_type": "markdown",
   "id": "7920c30f",
   "metadata": {},
   "source": [
    "a. total number of records in the dataframe"
   ]
  },
  {
   "cell_type": "code",
   "execution_count": 7,
   "id": "81bec505",
   "metadata": {},
   "outputs": [
    {
     "name": "stdout",
     "output_type": "stream",
     "text": [
      "Total records in the dataframe :  1000000\n"
     ]
    }
   ],
   "source": [
    "print(\"Total records in the dataframe : \", df.count())"
   ]
  },
  {
   "cell_type": "markdown",
   "id": "49213998",
   "metadata": {},
   "source": [
    "b. how many users are from the state New York"
   ]
  },
  {
   "cell_type": "code",
   "execution_count": 8,
   "id": "1985785a",
   "metadata": {},
   "outputs": [
    {
     "name": "stdout",
     "output_type": "stream",
     "text": [
      "+----------------------------------------------------------+\n",
      "|user_address                                              |\n",
      "+----------------------------------------------------------+\n",
      "|{8 Warrior Drive, Dallas, Texas, 75358}                   |\n",
      "|{66 Prairieview Terrace, Joliet, Illinois, 60435}         |\n",
      "|{18 Ronald Regan Hill, Shawnee Mission, Kansas, 66225}    |\n",
      "|{7696 Calypso Junction, Saint Paul, Minnesota, 55166}     |\n",
      "|{942 Emmet Park, Albuquerque, New Mexico, 87110}          |\n",
      "|{664 Ridge Oak Circle, Virginia Beach, Virginia, 23454}   |\n",
      "|{4 Continental Drive, Young America, Minnesota, 55557}    |\n",
      "|{44698 Arapahoe Park, Tucson, Arizona, 85725}             |\n",
      "|{null, null, null, null}                                  |\n",
      "|{9430 Reinke Park, North Las Vegas, Nevada, 89087}        |\n",
      "|{688 Granby Point, Warren, Ohio, 44485}                   |\n",
      "|{3997 Russell Parkway, North Little Rock, Arkansas, 72199}|\n",
      "|{89 Fair Oaks Terrace, Shawnee Mission, Kansas, 66220}    |\n",
      "|{3 Green Pass, Fort Wayne, Indiana, 46814}                |\n",
      "|{2 Butterfield Crossing, Sacramento, California, 94286}   |\n",
      "|{null, null, null, null}                                  |\n",
      "|{1 Sheridan Pass, Miami, Florida, 33147}                  |\n",
      "|{60 Oak Valley Street, Missoula, Montana, 59806}          |\n",
      "|{5 Vera Point, Wichita Falls, Texas, 76310}               |\n",
      "|{52636 Heath Alley, Kansas City, Missouri, 64160}         |\n",
      "+----------------------------------------------------------+\n",
      "only showing top 20 rows\n",
      "\n"
     ]
    }
   ],
   "source": [
    "df.select(\"user_address\").show(truncate = False)"
   ]
  },
  {
   "cell_type": "code",
   "execution_count": 9,
   "id": "39fa19f6",
   "metadata": {},
   "outputs": [],
   "source": [
    "from pyspark.sql.functions import col,size"
   ]
  },
  {
   "cell_type": "markdown",
   "id": "732b2086",
   "metadata": {},
   "source": [
    "# Unnesting Json file"
   ]
  },
  {
   "cell_type": "code",
   "execution_count": 10,
   "id": "f5c4271d",
   "metadata": {},
   "outputs": [],
   "source": [
    "df_unnest = df.withColumn(\"user_street\",col(\"user_Address.street\")) \\\n",
    ".withColumn(\"user_city\",col(\"user_address.city\")) \\\n",
    ".withColumn(\"user_state\", col(\"user_Address.state\")) \\\n",
    ".withColumn(\"user_postal_code\", col(\"user_address.postal_code\")) \\\n",
    ".withColumn(\"num_phn_numbers\",\n",
    "size(col(\"user_phone_numbers\")))"
   ]
  },
  {
   "cell_type": "code",
   "execution_count": 11,
   "id": "0e4e050b",
   "metadata": {},
   "outputs": [
    {
     "name": "stdout",
     "output_type": "stream",
     "text": [
      "+-------+---------------+--------------+--------------------------------+-----------+------------------------------------------------------------+----------------------------------------------------------+----------------------+-----------------+----------+----------------+---------------+\n",
      "|user_id|user_first_name|user_last_name|user_email                      |user_gender|user_phone_numbers                                          |user_address                                              |user_street           |user_city        |user_state|user_postal_code|num_phn_numbers|\n",
      "+-------+---------------+--------------+--------------------------------+-----------+------------------------------------------------------------+----------------------------------------------------------+----------------------+-----------------+----------+----------------+---------------+\n",
      "|200001 |Eirena         |Cutsforth     |ecutsforth0@wisc.edu            |Female     |[4197404036, 9173828061, 4027467939, 3371963735]            |{8 Warrior Drive, Dallas, Texas, 75358}                   |8 Warrior Drive       |Dallas           |Texas     |75358           |4              |\n",
      "|200002 |Marja          |Shopcott      |mshopcott1@hexun.com            |Female     |[9542037028, 2128289053, 4068088779, 2621495368, 9038414778]|{66 Prairieview Terrace, Joliet, Illinois, 60435}         |66 Prairieview Terrace|Joliet           |Illinois  |60435           |5              |\n",
      "|200003 |Dawn           |Tointon       |dtointon2@ucsd.edu              |Female     |[9523035647, 2134982789, 6615999645]                        |{18 Ronald Regan Hill, Shawnee Mission, Kansas, 66225}    |18 Ronald Regan Hill  |Shawnee Mission  |Kansas    |66225           |3              |\n",
      "|200004 |Goldi          |Leaman        |gleaman3@360.cn                 |Female     |[2027069459, 7042854979, 2058662100, 2156494557, 3612541912]|{7696 Calypso Junction, Saint Paul, Minnesota, 55166}     |7696 Calypso Junction |Saint Paul       |Minnesota |55166           |5              |\n",
      "|200005 |Brewster       |Hallagan      |bhallagan4@livejournal.com      |Male       |[8134746319, 2152769457]                                    |{942 Emmet Park, Albuquerque, New Mexico, 87110}          |942 Emmet Park        |Albuquerque      |New Mexico|87110           |2              |\n",
      "|200006 |Florence       |Glashby       |fglashby5@deviantart.com        |Female     |[7571763565, 7134157643, 6109401875, 6789261652, 2023724495]|{664 Ridge Oak Circle, Virginia Beach, Virginia, 23454}   |664 Ridge Oak Circle  |Virginia Beach   |Virginia  |23454           |5              |\n",
      "|200007 |Zollie         |Philimore     |zphilimore6@webeden.co.uk       |Male       |[7865450177, 8019242051]                                    |{4 Continental Drive, Young America, Minnesota, 55557}    |4 Continental Drive   |Young America    |Minnesota |55557           |2              |\n",
      "|200008 |Ferdinand      |Ramelot       |framelot7@alexa.com             |Male       |[8164055187]                                                |{44698 Arapahoe Park, Tucson, Arizona, 85725}             |44698 Arapahoe Park   |Tucson           |Arizona   |85725           |1              |\n",
      "|200009 |Ruddy          |Greystoke     |rgreystoke8@digg.com            |Male       |null                                                        |{null, null, null, null}                                  |null                  |null             |null      |null            |-1             |\n",
      "|200010 |Gilles         |Beeho         |gbeeho9@webmd.com               |Male       |[5599886694, 5201911221]                                    |{9430 Reinke Park, North Las Vegas, Nevada, 89087}        |9430 Reinke Park      |North Las Vegas  |Nevada    |89087           |2              |\n",
      "|200011 |Axel           |Kitchinham    |akitchinhama@naver.com          |Male       |[2036913158]                                                |{688 Granby Point, Warren, Ohio, 44485}                   |688 Granby Point      |Warren           |Ohio      |44485           |1              |\n",
      "|200012 |Moreen         |Pearmine      |mpearmineb@github.com           |Female     |[4047148129]                                                |{3997 Russell Parkway, North Little Rock, Arkansas, 72199}|3997 Russell Parkway  |North Little Rock|Arkansas  |72199           |1              |\n",
      "|200013 |Joceline       |Adshead       |jadsheadc@joomla.org            |Female     |[3134837460, 3022947366, 7702373822, 7166720430]            |{89 Fair Oaks Terrace, Shawnee Mission, Kansas, 66220}    |89 Fair Oaks Terrace  |Shawnee Mission  |Kansas    |66220           |4              |\n",
      "|200014 |Roxie          |Menichi       |rmenichid@nationalgeographic.com|Female     |[6148474898, 9034594283, 2812388853, 9282129221]            |{3 Green Pass, Fort Wayne, Indiana, 46814}                |3 Green Pass          |Fort Wayne       |Indiana   |46814           |4              |\n",
      "|200015 |Selena         |Flood         |sfloode@delicious.com           |Female     |[7274706417, 4026151021, 7578520296]                        |{2 Butterfield Crossing, Sacramento, California, 94286}   |2 Butterfield Crossing|Sacramento       |California|94286           |3              |\n",
      "|200016 |Leoine         |Markovic      |lmarkovicf@usa.gov              |Female     |null                                                        |{null, null, null, null}                                  |null                  |null             |null      |null            |-1             |\n",
      "|200017 |Judi           |Svanetti      |jsvanettig@theglobeandmail.com  |Female     |[2158389703, 8169206363, 7149845960, 8019197400, 3105149676]|{1 Sheridan Pass, Miami, Florida, 33147}                  |1 Sheridan Pass       |Miami            |Florida   |33147           |5              |\n",
      "|200018 |Hildegarde     |Hapke         |hhapkeh@nps.gov                 |Female     |[8183692525]                                                |{60 Oak Valley Street, Missoula, Montana, 59806}          |60 Oak Valley Street  |Missoula         |Montana   |59806           |1              |\n",
      "|200019 |Hanni          |Dommett       |hdommetti@tinyurl.com           |Female     |[7868201036, 7048546511, 2029024266, 3012635847]            |{5 Vera Point, Wichita Falls, Texas, 76310}               |5 Vera Point          |Wichita Falls    |Texas     |76310           |4              |\n",
      "|200020 |Rupert         |Gaskoin       |rgaskoinj@mozilla.com           |Male       |[5623065887, 9198293554, 8061474652]                        |{52636 Heath Alley, Kansas City, Missouri, 64160}         |52636 Heath Alley     |Kansas City      |Missouri  |64160           |3              |\n",
      "+-------+---------------+--------------+--------------------------------+-----------+------------------------------------------------------------+----------------------------------------------------------+----------------------+-----------------+----------+----------------+---------------+\n",
      "only showing top 20 rows\n",
      "\n"
     ]
    }
   ],
   "source": [
    "df_unnest.show(truncate = False)"
   ]
  },
  {
   "cell_type": "code",
   "execution_count": 12,
   "id": "d4ca0ee6",
   "metadata": {},
   "outputs": [
    {
     "data": {
      "text/plain": [
       "49576"
      ]
     },
     "execution_count": 12,
     "metadata": {},
     "output_type": "execute_result"
    }
   ],
   "source": [
    "df_state = df_unnest.select(\"user_state\")\n",
    "df_state.filter(df_state.user_state == \"New York\").count()"
   ]
  },
  {
   "cell_type": "markdown",
   "id": "4ae6c31c",
   "metadata": {},
   "source": [
    "# c. which state has maximum number of postal codes"
   ]
  },
  {
   "cell_type": "code",
   "execution_count": 14,
   "id": "4b6175cf",
   "metadata": {},
   "outputs": [],
   "source": [
    "from pyspark.sql.functions import countDistinct"
   ]
  },
  {
   "cell_type": "code",
   "execution_count": 15,
   "id": "225627d6",
   "metadata": {},
   "outputs": [
    {
     "name": "stdout",
     "output_type": "stream",
     "text": [
      "+--------------------+---------+\n",
      "|          user_state|zip_codes|\n",
      "+--------------------+---------+\n",
      "|          California|      206|\n",
      "|               Texas|      205|\n",
      "|             Florida|      155|\n",
      "|            New York|      104|\n",
      "|                Ohio|       68|\n",
      "|            Virginia|       66|\n",
      "|District of Columbia|       60|\n",
      "|        Pennsylvania|       60|\n",
      "|             Georgia|       54|\n",
      "|            Illinois|       47|\n",
      "|      North Carolina|       46|\n",
      "|            Colorado|       43|\n",
      "|             Indiana|       40|\n",
      "|             Arizona|       40|\n",
      "|            Missouri|       40|\n",
      "|             Alabama|       39|\n",
      "|           Minnesota|       39|\n",
      "|           Tennessee|       37|\n",
      "|          Washington|       37|\n",
      "|           Louisiana|       36|\n",
      "+--------------------+---------+\n",
      "only showing top 20 rows\n",
      "\n"
     ]
    }
   ],
   "source": [
    "df_postal = df_unnest.select(\"user_state\", \"user_postal_code\")\n",
    "\n",
    "temp = df_postal.groupBy(\"user_state\").agg(countDistinct(\"user_postal_code\")).sort(\"count(user_postal_code)\",ascending = False)\n",
    "temp = temp.withColumnRenamed(\"count(user_postal_code)\", \"zip_codes\")\n",
    "temp.show()"
   ]
  },
  {
   "cell_type": "markdown",
   "id": "9e6784ce",
   "metadata": {},
   "source": [
    "# d. which city has the most number of users"
   ]
  },
  {
   "cell_type": "code",
   "execution_count": 16,
   "id": "cb2eb90c",
   "metadata": {},
   "outputs": [
    {
     "name": "stdout",
     "output_type": "stream",
     "text": [
      "+-------------+----------------------+\n",
      "|    user_city|no_of_people_per_state|\n",
      "+-------------+----------------------+\n",
      "|   Washington|                 28504|\n",
      "|      Houston|                 18098|\n",
      "|New York City|                 15546|\n",
      "|      El Paso|                 14740|\n",
      "|       Dallas|                 11842|\n",
      "|      Atlanta|                 11634|\n",
      "|   Sacramento|                  9983|\n",
      "|  Los Angeles|                  9679|\n",
      "|  Kansas City|                  9020|\n",
      "|        Miami|                  9016|\n",
      "|      Chicago|                  8553|\n",
      "|  Springfield|                  8101|\n",
      "| Philadelphia|                  8091|\n",
      "|  San Antonio|                  8026|\n",
      "|      Phoenix|                  7652|\n",
      "|Oklahoma City|                  7609|\n",
      "|       Austin|                  7574|\n",
      "|    Charlotte|                  7550|\n",
      "|    San Diego|                  7396|\n",
      "|     Richmond|                  7214|\n",
      "+-------------+----------------------+\n",
      "only showing top 20 rows\n",
      "\n"
     ]
    }
   ],
   "source": [
    "users = df_unnest.select(\"user_id\", \"user_city\")\n",
    "userrs = users.groupBy(\"user_city\").agg(countDistinct(\"user_id\")).sort(\"count(user_id)\", ascending = False)\n",
    "userrs = userrs.withColumnRenamed(\"count(user_id)\", \"no_of_people_per_state\")\n",
    "userrs = userrs.filter(userrs.user_city != \"null\")\n",
    "userrs.show()"
   ]
  },
  {
   "cell_type": "markdown",
   "id": "631a1e5a",
   "metadata": {},
   "source": [
    "# e. how many users have email domain as bizjournals.com"
   ]
  },
  {
   "cell_type": "code",
   "execution_count": 17,
   "id": "5cb45795",
   "metadata": {},
   "outputs": [
    {
     "name": "stdout",
     "output_type": "stream",
     "text": [
      "+-------+-----------------------------+\n",
      "|user_id|user_email                   |\n",
      "+-------+-----------------------------+\n",
      "|200385 |crowntreeao@bizjournals.com  |\n",
      "|200490 |kgallymoredl@bizjournals.com |\n",
      "|200524 |okegginsej@bizjournals.com   |\n",
      "|201220 |banchorxv@bizjournals.com    |\n",
      "|201904 |mfraczak1gv@bizjournals.com  |\n",
      "|203138 |ohaskur2f5@bizjournals.com   |\n",
      "|203271 |drae2iu@bizjournals.com      |\n",
      "|203517 |mtwallin2po@bizjournals.com  |\n",
      "|203577 |dkendrew2rc@bizjournals.com  |\n",
      "|203700 |jmerriment2ur@bizjournals.com|\n",
      "|203806 |hsherrum2xp@bizjournals.com  |\n",
      "|205841 |xpelfer4i8@bizjournals.com   |\n",
      "|205912 |ccowden4k7@bizjournals.com   |\n",
      "|208610 |hrackstraw6n5@bizjournals.com|\n",
      "|209004 |rsodor6y3@bizjournals.com    |\n",
      "|209440 |ktownson7a7@bizjournals.com  |\n",
      "|209602 |tlenoury7ep@bizjournals.com  |\n",
      "|210206 |zjohnstone7vh@bizjournals.com|\n",
      "|210341 |kaskell7z8@bizjournals.com   |\n",
      "|210399 |jstolli80u@bizjournals.com   |\n",
      "+-------+-----------------------------+\n",
      "only showing top 20 rows\n",
      "\n"
     ]
    }
   ],
   "source": [
    "email = df_unnest.select(\"user_id\", \"user_email\").filter(df_unnest.user_email.like(\"%bizjournals.com%\"))\n",
    "email.show(truncate = False)"
   ]
  },
  {
   "cell_type": "code",
   "execution_count": 18,
   "id": "87804ca2",
   "metadata": {},
   "outputs": [
    {
     "data": {
      "text/plain": [
       "2015"
      ]
     },
     "execution_count": 18,
     "metadata": {},
     "output_type": "execute_result"
    }
   ],
   "source": [
    "email.count()"
   ]
  },
  {
   "cell_type": "markdown",
   "id": "231b0b1e",
   "metadata": {},
   "source": [
    "# f. how many users have 4 phone numbers mentioned"
   ]
  },
  {
   "cell_type": "code",
   "execution_count": 19,
   "id": "ca1e77f0",
   "metadata": {},
   "outputs": [
    {
     "data": {
      "text/plain": [
       "179041"
      ]
     },
     "execution_count": 19,
     "metadata": {},
     "output_type": "execute_result"
    }
   ],
   "source": [
    "ph_num = df_unnest.select(\"user_id\", \"num_phn_numbers\").filter(df_unnest.num_phn_numbers==4)\n",
    "ph_num.count()"
   ]
  },
  {
   "cell_type": "markdown",
   "id": "58486789",
   "metadata": {},
   "source": [
    "# g. how many users do not have any phone number mentioned"
   ]
  },
  {
   "cell_type": "code",
   "execution_count": 20,
   "id": "d249c9a4",
   "metadata": {},
   "outputs": [
    {
     "data": {
      "text/plain": [
       "108981"
      ]
     },
     "execution_count": 20,
     "metadata": {},
     "output_type": "execute_result"
    }
   ],
   "source": [
    "ph_num = df_unnest.select(\"user_id\", \"num_phn_numbers\").filter(df_unnest.num_phn_numbers==-1)\n",
    "ph_num.count()"
   ]
  },
  {
   "cell_type": "markdown",
   "id": "efa84fcf",
   "metadata": {},
   "source": [
    "# Question 3\n",
    "## Write the data from the base dataframe as it is to the disk, but write in parquet format. Observe the number of files created, also the size of files"
   ]
  },
  {
   "cell_type": "code",
   "execution_count": 21,
   "id": "4ab0e848",
   "metadata": {},
   "outputs": [],
   "source": [
    "# customers_folder_write"
   ]
  },
  {
   "cell_type": "code",
   "execution_count": null,
   "id": "90ea10f2",
   "metadata": {},
   "outputs": [],
   "source": [
    "# df_unnest.write.format(\"parquet\").mode(\"overwrite\").partitionBy(\"user_state\", \"user_city\").option(\"path\", \"/user/itv009033/customers_folder_write\").save()"
   ]
  },
  {
   "cell_type": "markdown",
   "id": "ac145e6b",
   "metadata": {},
   "source": [
    "# Question 5\n",
    "* Create a pivot where states should be the rows and user_gender should be  the columns."
   ]
  },
  {
   "cell_type": "code",
   "execution_count": 22,
   "id": "df4d3847",
   "metadata": {},
   "outputs": [],
   "source": [
    "df_pvt = df_unnest.select(\"user_gender\", \"user_state\").filter(df_unnest.num_phn_numbers>0)"
   ]
  },
  {
   "cell_type": "code",
   "execution_count": 23,
   "id": "cd992e8a",
   "metadata": {},
   "outputs": [
    {
     "name": "stdout",
     "output_type": "stream",
     "text": [
      "+-----------+----------+\n",
      "|user_gender|user_state|\n",
      "+-----------+----------+\n",
      "|     Female|     Texas|\n",
      "|     Female|  Illinois|\n",
      "|     Female|    Kansas|\n",
      "|     Female| Minnesota|\n",
      "|       Male|New Mexico|\n",
      "|     Female|  Virginia|\n",
      "|       Male| Minnesota|\n",
      "|       Male|   Arizona|\n",
      "|       Male|    Nevada|\n",
      "|       Male|      Ohio|\n",
      "|     Female|  Arkansas|\n",
      "|     Female|    Kansas|\n",
      "|     Female|   Indiana|\n",
      "|     Female|California|\n",
      "|     Female|   Florida|\n",
      "|     Female|   Montana|\n",
      "|     Female|     Texas|\n",
      "|       Male|  Missouri|\n",
      "|     Female|California|\n",
      "|       Male| Minnesota|\n",
      "+-----------+----------+\n",
      "only showing top 20 rows\n",
      "\n"
     ]
    }
   ],
   "source": [
    "df_pvt.show()"
   ]
  },
  {
   "cell_type": "code",
   "execution_count": 24,
   "id": "2d6d9698",
   "metadata": {},
   "outputs": [
    {
     "name": "stdout",
     "output_type": "stream",
     "text": [
      "+--------------------+-----------+-----+\n",
      "|          user_state|user_gender|   MF|\n",
      "+--------------------+-----------+-----+\n",
      "|          California|       Male|49120|\n",
      "|               Texas|       Male|48786|\n",
      "|          California|     Female|48716|\n",
      "|               Texas|     Female|48450|\n",
      "|             Florida|       Male|36692|\n",
      "|             Florida|     Female|36688|\n",
      "|            New York|       Male|25078|\n",
      "|            New York|     Female|24498|\n",
      "|                Ohio|       Male|16322|\n",
      "|                Ohio|     Female|16239|\n",
      "|            Virginia|       Male|15849|\n",
      "|            Virginia|     Female|15607|\n",
      "|District of Columbia|     Female|14292|\n",
      "|        Pennsylvania|       Male|14270|\n",
      "|        Pennsylvania|     Female|14237|\n",
      "|District of Columbia|       Male|14212|\n",
      "|             Georgia|     Female|13028|\n",
      "|             Georgia|       Male|13008|\n",
      "|            Illinois|     Female|11267|\n",
      "|            Illinois|       Male|11178|\n",
      "+--------------------+-----------+-----+\n",
      "only showing top 20 rows\n",
      "\n"
     ]
    }
   ],
   "source": [
    "df_count = df_pvt.groupBy(\"user_state\", \"user_gender\").count().sort(\"count\", ascending = False)\n",
    "df_count = df_count.withColumnRenamed(\"count\", \"MF\")\n",
    "df_count.show()"
   ]
  },
  {
   "cell_type": "code",
   "execution_count": 25,
   "id": "c20af03c",
   "metadata": {},
   "outputs": [
    {
     "name": "stdout",
     "output_type": "stream",
     "text": [
      "root\n",
      " |-- user_state: string (nullable = true)\n",
      " |-- user_gender: string (nullable = true)\n",
      " |-- MF: long (nullable = false)\n",
      "\n"
     ]
    }
   ],
   "source": [
    "df_count.printSchema()"
   ]
  },
  {
   "cell_type": "code",
   "execution_count": 26,
   "id": "dc130d11",
   "metadata": {},
   "outputs": [
    {
     "name": "stdout",
     "output_type": "stream",
     "text": [
      "+--------------------+------+-----+\n",
      "|          user_state|Female| Male|\n",
      "+--------------------+------+-----+\n",
      "|                Utah|  4171| 4073|\n",
      "|              Hawaii|  2062| 2172|\n",
      "|           Minnesota|  9250| 9371|\n",
      "|                Ohio| 16239|16322|\n",
      "|            Arkansas|  2416| 2420|\n",
      "|              Oregon|  3841| 3899|\n",
      "|               Texas| 48450|48786|\n",
      "|        North Dakota|   940|  981|\n",
      "|        Pennsylvania| 14237|14270|\n",
      "|         Connecticut|  5917| 5797|\n",
      "|             Vermont|   237|  227|\n",
      "|            Nebraska|  3688| 3501|\n",
      "|              Nevada|  6495| 6317|\n",
      "|          Washington|  8755| 8812|\n",
      "|            Illinois| 11267|11178|\n",
      "|            Oklahoma|  6913| 6888|\n",
      "|District of Columbia| 14292|14212|\n",
      "|            Delaware|  1654| 1651|\n",
      "|              Alaska|  1938| 1882|\n",
      "|          New Mexico|  2745| 2804|\n",
      "+--------------------+------+-----+\n",
      "only showing top 20 rows\n",
      "\n"
     ]
    }
   ],
   "source": [
    "result = df_count.groupBy(\"user_state\").pivot(\"user_gender\").sum(\"MF\")\n",
    "result.show()"
   ]
  },
  {
   "cell_type": "code",
   "execution_count": 30,
   "id": "6a199573",
   "metadata": {},
   "outputs": [],
   "source": [
    "result.write.format(\"csv\").mode(\"overwrite\").partitionBy(\"user_state\").option(\"path\", \"/user/itv009033/pivot_assignment_result\").save()"
   ]
  },
  {
   "cell_type": "code",
   "execution_count": null,
   "id": "5be05de9",
   "metadata": {},
   "outputs": [],
   "source": []
  },
  {
   "cell_type": "code",
   "execution_count": 44,
   "id": "094c76c0",
   "metadata": {},
   "outputs": [],
   "source": [
    "new_df = spark.read.format(\"csv\").load(\"/public/airlines_all/airlines\")"
   ]
  },
  {
   "cell_type": "code",
   "execution_count": 45,
   "id": "40c17a54",
   "metadata": {},
   "outputs": [
    {
     "name": "stdout",
     "output_type": "stream",
     "text": [
      "+----+---+---+---+----+----+----+----+---+----+------+----+----+----+----+----+----+----+----+----+----+----+----+----+----+----+----+----+----+----+----+\n",
      "| _c0|_c1|_c2|_c3| _c4| _c5| _c6| _c7|_c8| _c9|  _c10|_c11|_c12|_c13|_c14|_c15|_c16|_c17|_c18|_c19|_c20|_c21|_c22|_c23|_c24|_c25|_c26|_c27|_c28|_c29|_c30|\n",
      "+----+---+---+---+----+----+----+----+---+----+------+----+----+----+----+----+----+----+----+----+----+----+----+----+----+----+----+----+----+----+----+\n",
      "|2001|  8|  2|  4|  NA|1047|  NA|1222| AA|1056|�NKNO�|  NA|  95|  NA|  NA|  NA| MCI| ORD| 403|   0|   0|   1|  NA|   0|  NA|  NA|  NA|  NA|  NA| YES| YES|\n",
      "|2001|  8|  3|  5|1048|1047|1210|1222| AA|1056|N274A1|  82|  95|  66| -12|   1| MCI| ORD| 403|   6|  10|   0|  NA|   0|  NA|  NA|  NA|  NA|  NA|  NO| YES|\n",
      "|2001|  8|  4|  6|1043|1047|1159|1222| AA|1056|N513A1|  76|  95|  61| -23|  -4| MCI| ORD| 403|   4|  11|   0|  NA|   0|  NA|  NA|  NA|  NA|  NA|  NO|  NO|\n",
      "|2001|  8|  5|  7|1043|1047|1203|1222| AA|1056|N532A1|  80|  95|  65| -19|  -4| MCI| ORD| 403|   6|   9|   0|  NA|   0|  NA|  NA|  NA|  NA|  NA|  NO|  NO|\n",
      "|2001|  8|  6|  1|1045|1047|1159|1222| AA|1056|N521A1|  74|  95|  62| -23|  -2| MCI| ORD| 403|   4|   8|   0|  NA|   0|  NA|  NA|  NA|  NA|  NA|  NO|  NO|\n",
      "|2001|  8|  7|  2|1047|1047|1208|1222| AA|1056|N417A1|  81|  95|  65| -14|   0| MCI| ORD| 403|   6|  10|   0|  NA|   0|  NA|  NA|  NA|  NA|  NA|  NO|  NO|\n",
      "|2001|  8|  8|  3|1047|1047|1203|1222| AA|1056|N440A1|  76|  95|  60| -19|   0| MCI| ORD| 403|   7|   9|   0|  NA|   0|  NA|  NA|  NA|  NA|  NA|  NO|  NO|\n",
      "|2001|  8|  9|  4|1054|1047|1224|1222| AA|1056|N483A1|  90|  95|  66|   2|   7| MCI| ORD| 403|   7|  17|   0|  NA|   0|  NA|  NA|  NA|  NA|  NA| YES| YES|\n",
      "|2001|  8| 10|  5|1052|1047|1205|1222| AA|1056|N431A1|  73|  95|  53| -17|   5| MCI| ORD| 403|   5|  15|   0|  NA|   0|  NA|  NA|  NA|  NA|  NA|  NO| YES|\n",
      "|2001|  8| 11|  6|1045|1047|1205|1222| AA|1056|N424A1|  80|  95|  54| -17|  -2| MCI| ORD| 403|  16|  10|   0|  NA|   0|  NA|  NA|  NA|  NA|  NA|  NO|  NO|\n",
      "|2001|  8| 12|  7|1122|1047|1235|1222| AA|1056|N404A1|  73|  95|  57|  13|  35| MCI| ORD| 403|   5|  11|   0|  NA|   0|  NA|  NA|  NA|  NA|  NA| YES| YES|\n",
      "|2001|  8| 13|  1|1055|1047|1210|1222| AA|1056|N582A1|  75|  95|  56| -12|   8| MCI| ORD| 403|   5|  14|   0|  NA|   0|  NA|  NA|  NA|  NA|  NA|  NO| YES|\n",
      "|2001|  8| 14|  2|1045|1047|1154|1222| AA|1056|N285A1|  69|  95|  57| -28|  -2| MCI| ORD| 403|   5|   7|   0|  NA|   0|  NA|  NA|  NA|  NA|  NA|  NO|  NO|\n",
      "|2001|  8| 15|  3|1046|1047|1203|1222| AA|1056|N232A1|  77|  95|  63| -19|  -1| MCI| ORD| 403|   6|   8|   0|  NA|   0|  NA|  NA|  NA|  NA|  NA|  NO|  NO|\n",
      "|2001|  8| 16|  4|1157|1047|1314|1222| AA|1056|N430A1|  77|  95|  62|  52|  70| MCI| ORD| 403|   5|  10|   0|  NA|   0|  NA|  NA|  NA|  NA|  NA| YES| YES|\n",
      "|2001|  8| 17|  5|1048|1047|1214|1222| AA|1056|N224A1|  86|  95|  55|  -8|   1| MCI| ORD| 403|  11|  20|   0|  NA|   0|  NA|  NA|  NA|  NA|  NA|  NO| YES|\n",
      "|2001|  8| 18|  6|1046|1047|1202|1222| AA|1056|N471A1|  76|  95|  57| -20|  -1| MCI| ORD| 403|   6|  13|   0|  NA|   0|  NA|  NA|  NA|  NA|  NA|  NO|  NO|\n",
      "|2001|  8| 19|  7|1054|1047|1233|1222| AA|1056|N420A1|  99|  95|  65|  11|   7| MCI| ORD| 403|   9|  25|   0|  NA|   0|  NA|  NA|  NA|  NA|  NA| YES| YES|\n",
      "|2001|  8| 20|  1|1045|1047|1205|1222| AA|1056|N580A1|  80|  95|  59| -17|  -2| MCI| ORD| 403|   8|  13|   0|  NA|   0|  NA|  NA|  NA|  NA|  NA|  NO|  NO|\n",
      "|2001|  8| 21|  2|1042|1047|1159|1222| AA|1056|N421A1|  77|  95|  58| -23|  -5| MCI| ORD| 403|   9|  10|   0|  NA|   0|  NA|  NA|  NA|  NA|  NA|  NO|  NO|\n",
      "+----+---+---+---+----+----+----+----+---+----+------+----+----+----+----+----+----+----+----+----+----+----+----+----+----+----+----+----+----+----+----+\n",
      "only showing top 20 rows\n",
      "\n"
     ]
    }
   ],
   "source": [
    "new_df.show()"
   ]
  },
  {
   "cell_type": "code",
   "execution_count": 46,
   "id": "d44b08e5",
   "metadata": {},
   "outputs": [
    {
     "data": {
      "text/plain": [
       "960"
      ]
     },
     "execution_count": 46,
     "metadata": {},
     "output_type": "execute_result"
    }
   ],
   "source": [
    "new_df.rdd.getNumPartitions()"
   ]
  },
  {
   "cell_type": "code",
   "execution_count": null,
   "id": "48f92c2c",
   "metadata": {},
   "outputs": [],
   "source": []
  }
 ],
 "metadata": {
  "kernelspec": {
   "display_name": "Pyspark 3",
   "language": "python",
   "name": "pyspark3"
  },
  "language_info": {
   "codemirror_mode": {
    "name": "ipython",
    "version": 3
   },
   "file_extension": ".py",
   "mimetype": "text/x-python",
   "name": "python",
   "nbconvert_exporter": "python",
   "pygments_lexer": "ipython3",
   "version": "3.6.12"
  }
 },
 "nbformat": 4,
 "nbformat_minor": 5
}
