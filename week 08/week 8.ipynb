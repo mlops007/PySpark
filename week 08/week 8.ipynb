{
 "cells": [
  {
   "cell_type": "code",
   "execution_count": 8,
   "id": "3a9d4ab3",
   "metadata": {},
   "outputs": [],
   "source": [
    "from pyspark.sql import SparkSession\n",
    "import getpass\n",
    "username = getpass.getuser()\n",
    "spark= SparkSession. \\\n",
    "builder. \\\n",
    "appName(\"itv009033_week08_atheletes_data\"). \\\n",
    "config('spark.ui.port','0'). \\\n",
    "config(\"spark.sql.warehouse.dir\", f\"/user/itv009033/warehouse\"). \\\n",
    "enableHiveSupport(). \\\n",
    "master('yarn'). \\\n",
    "getOrCreate()"
   ]
  },
  {
   "cell_type": "code",
   "execution_count": 9,
   "id": "0272e5bd",
   "metadata": {},
   "outputs": [
    {
     "name": "stdout",
     "output_type": "stream",
     "text": [
      "+---+------------------------+---+---+------+------+--------------+---+-----------+----+------+-----------+--------------------+---------------------------------------------------+-----+\n",
      "|ID |Name                    |Sex|Age|Height|Weight|Team          |NOC|Games      |Year|Season|City       |Sport               |Event                                              |Medal|\n",
      "+---+------------------------+---+---+------+------+--------------+---+-----------+----+------+-----------+--------------------+---------------------------------------------------+-----+\n",
      "|1  |A Dijiang               |M  |24 |180   |80    |China         |CHN|1992 Summer|1992|Summer|Barcelona  |Basketball          |Basketball Men's Basketball                        |NA   |\n",
      "|2  |A Lamusi                |M  |23 |170   |60    |China         |CHN|2012 Summer|2012|Summer|London     |Judo                |Judo Men's Extra-Lightweight                       |NA   |\n",
      "|3  |Gunnar Nielsen Aaby     |M  |24 |NA    |NA    |Denmark       |DEN|1920 Summer|1920|Summer|Antwerpen  |Football            |Football Men's Football                            |NA   |\n",
      "|4  |Edgar Lindenau Aabye    |M  |34 |NA    |NA    |Denmark/Sweden|DEN|1900 Summer|1900|Summer|Paris      |Tug-Of-War          |Tug-Of-War Men's Tug-Of-War                        |Gold |\n",
      "|5  |Christine Jacoba Aaftink|F  |21 |185   |82    |Netherlands   |NED|1988 Winter|1988|Winter|Calgary    |Speed Skating       |Speed Skating Women's 500 metres                   |NA   |\n",
      "|5  |Christine Jacoba Aaftink|F  |21 |185   |82    |Netherlands   |NED|1988 Winter|1988|Winter|Calgary    |Speed Skating       |Speed Skating Women's 1,000 metres                 |NA   |\n",
      "|5  |Christine Jacoba Aaftink|F  |25 |185   |82    |Netherlands   |NED|1992 Winter|1992|Winter|Albertville|Speed Skating       |Speed Skating Women's 500 metres                   |NA   |\n",
      "|5  |Christine Jacoba Aaftink|F  |25 |185   |82    |Netherlands   |NED|1992 Winter|1992|Winter|Albertville|Speed Skating       |Speed Skating Women's 1,000 metres                 |NA   |\n",
      "|5  |Christine Jacoba Aaftink|F  |27 |185   |82    |Netherlands   |NED|1994 Winter|1994|Winter|Lillehammer|Speed Skating       |Speed Skating Women's 500 metres                   |NA   |\n",
      "|5  |Christine Jacoba Aaftink|F  |27 |185   |82    |Netherlands   |NED|1994 Winter|1994|Winter|Lillehammer|Speed Skating       |Speed Skating Women's 1,000 metres                 |NA   |\n",
      "|6  |Per Knut Aaland         |M  |31 |188   |75    |United States |USA|1992 Winter|1992|Winter|Albertville|Cross Country Skiing|Cross Country Skiing Men's 10 kilometres           |NA   |\n",
      "|6  |Per Knut Aaland         |M  |31 |188   |75    |United States |USA|1992 Winter|1992|Winter|Albertville|Cross Country Skiing|Cross Country Skiing Men's 50 kilometres           |NA   |\n",
      "|6  |Per Knut Aaland         |M  |31 |188   |75    |United States |USA|1992 Winter|1992|Winter|Albertville|Cross Country Skiing|Cross Country Skiing Men's 10/15 kilometres Pursuit|NA   |\n",
      "|6  |Per Knut Aaland         |M  |31 |188   |75    |United States |USA|1992 Winter|1992|Winter|Albertville|Cross Country Skiing|Cross Country Skiing Men's 4 x 10 kilometres Relay |NA   |\n",
      "|6  |Per Knut Aaland         |M  |33 |188   |75    |United States |USA|1994 Winter|1994|Winter|Lillehammer|Cross Country Skiing|Cross Country Skiing Men's 10 kilometres           |NA   |\n",
      "|6  |Per Knut Aaland         |M  |33 |188   |75    |United States |USA|1994 Winter|1994|Winter|Lillehammer|Cross Country Skiing|Cross Country Skiing Men's 30 kilometres           |NA   |\n",
      "|6  |Per Knut Aaland         |M  |33 |188   |75    |United States |USA|1994 Winter|1994|Winter|Lillehammer|Cross Country Skiing|Cross Country Skiing Men's 10/15 kilometres Pursuit|NA   |\n",
      "|6  |Per Knut Aaland         |M  |33 |188   |75    |United States |USA|1994 Winter|1994|Winter|Lillehammer|Cross Country Skiing|Cross Country Skiing Men's 4 x 10 kilometres Relay |NA   |\n",
      "|7  |John Aalberg            |M  |31 |183   |72    |United States |USA|1992 Winter|1992|Winter|Albertville|Cross Country Skiing|Cross Country Skiing Men's 10 kilometres           |NA   |\n",
      "|7  |John Aalberg            |M  |31 |183   |72    |United States |USA|1992 Winter|1992|Winter|Albertville|Cross Country Skiing|Cross Country Skiing Men's 50 kilometres           |NA   |\n",
      "+---+------------------------+---+---+------+------+--------------+---+-----------+----+------+-----------+--------------------+---------------------------------------------------+-----+\n",
      "only showing top 20 rows\n",
      "\n"
     ]
    }
   ],
   "source": [
    "atheletes = spark.read.format(\"csv\").option(\"header\",\"true\").option(\"inferSchema\",'true').load(\"atheletes/athlete_events.csv\")\n",
    "atheletes.show(truncate = False)"
   ]
  },
  {
   "cell_type": "code",
   "execution_count": 10,
   "id": "1e95b2e0",
   "metadata": {},
   "outputs": [
    {
     "name": "stdout",
     "output_type": "stream",
     "text": [
      "root\n",
      " |-- ID: integer (nullable = true)\n",
      " |-- Name: string (nullable = true)\n",
      " |-- Sex: string (nullable = true)\n",
      " |-- Age: string (nullable = true)\n",
      " |-- Height: string (nullable = true)\n",
      " |-- Weight: string (nullable = true)\n",
      " |-- Team: string (nullable = true)\n",
      " |-- NOC: string (nullable = true)\n",
      " |-- Games: string (nullable = true)\n",
      " |-- Year: string (nullable = true)\n",
      " |-- Season: string (nullable = true)\n",
      " |-- City: string (nullable = true)\n",
      " |-- Sport: string (nullable = true)\n",
      " |-- Event: string (nullable = true)\n",
      " |-- Medal: string (nullable = true)\n",
      "\n"
     ]
    }
   ],
   "source": [
    "atheletes.printSchema()"
   ]
  },
  {
   "cell_type": "markdown",
   "id": "62c1963d",
   "metadata": {},
   "source": [
    "1. How many olympics games have been held?"
   ]
  },
  {
   "cell_type": "code",
   "execution_count": 11,
   "id": "122ad752",
   "metadata": {},
   "outputs": [
    {
     "name": "stdout",
     "output_type": "stream",
     "text": [
      "+---------------------+\n",
      "|count(DISTINCT Games)|\n",
      "+---------------------+\n",
      "|                   80|\n",
      "+---------------------+\n",
      "\n"
     ]
    }
   ],
   "source": [
    "from pyspark.sql.functions import countDistinct\n",
    "\n",
    "atheletes.select(countDistinct(\"Games\")).show()"
   ]
  },
  {
   "cell_type": "code",
   "execution_count": 12,
   "id": "4f79b4d7",
   "metadata": {},
   "outputs": [
    {
     "name": "stdout",
     "output_type": "stream",
     "text": [
      "+----+------+-----------+\n",
      "|Year|Season|       City|\n",
      "+----+------+-----------+\n",
      "|1992|Summer|  Barcelona|\n",
      "|2012|Summer|     London|\n",
      "|1920|Summer|  Antwerpen|\n",
      "|1900|Summer|      Paris|\n",
      "|1988|Winter|    Calgary|\n",
      "|1988|Winter|    Calgary|\n",
      "|1992|Winter|Albertville|\n",
      "|1992|Winter|Albertville|\n",
      "|1994|Winter|Lillehammer|\n",
      "|1994|Winter|Lillehammer|\n",
      "|1992|Winter|Albertville|\n",
      "|1992|Winter|Albertville|\n",
      "|1992|Winter|Albertville|\n",
      "|1992|Winter|Albertville|\n",
      "|1994|Winter|Lillehammer|\n",
      "|1994|Winter|Lillehammer|\n",
      "|1994|Winter|Lillehammer|\n",
      "|1994|Winter|Lillehammer|\n",
      "|1992|Winter|Albertville|\n",
      "|1992|Winter|Albertville|\n",
      "+----+------+-----------+\n",
      "only showing top 20 rows\n",
      "\n"
     ]
    }
   ],
   "source": [
    "df2 = atheletes.select(\"Year\", \"Season\", \"City\")\n",
    "df2.show()"
   ]
  },
  {
   "cell_type": "code",
   "execution_count": 13,
   "id": "0f3ca088",
   "metadata": {},
   "outputs": [
    {
     "name": "stdout",
     "output_type": "stream",
     "text": [
      "+-----------+------+------------+\n",
      "|Year       |Season|City        |\n",
      "+-----------+------+------------+\n",
      "|1896       |Summer|Athina      |\n",
      "|1900       |Summer|Paris       |\n",
      "|1900 Summer|1900  |Summer      |\n",
      "|1904       |Summer|St. Louis   |\n",
      "|1904 Summer|1904  |Summer      |\n",
      "|1906       |Summer|Athina      |\n",
      "|1906 Summer|1906  |Summer      |\n",
      "|1908       |Summer|London      |\n",
      "|1908 Summer|1908  |Summer      |\n",
      "|1912       |Summer|Stockholm   |\n",
      "|1912 Summer|1912  |Summer      |\n",
      "|1920       |Summer|Antwerpen   |\n",
      "|1920 Summer|1920  |Summer      |\n",
      "|1924       |Summer|Paris       |\n",
      "|1924       |Winter|Chamonix    |\n",
      "|1924 Summer|1924  |Summer      |\n",
      "|1928       |Summer|Amsterdam   |\n",
      "|1928       |Winter|Sankt Moritz|\n",
      "|1928 Summer|1928  |Summer      |\n",
      "|1928 Winter|1928  |Winter      |\n",
      "+-----------+------+------------+\n",
      "only showing top 20 rows\n",
      "\n"
     ]
    }
   ],
   "source": [
    "df2.select(\"Year\", \"Season\", \"City\").distinct().sort(\"Year\").show(truncate = False)"
   ]
  },
  {
   "cell_type": "code",
   "execution_count": 14,
   "id": "590250fe",
   "metadata": {},
   "outputs": [
    {
     "name": "stdout",
     "output_type": "stream",
     "text": [
      "+----+------+-----------+\n",
      "|Year|Season|       City|\n",
      "+----+------+-----------+\n",
      "|1992|Summer|  Barcelona|\n",
      "|2012|Summer|     London|\n",
      "|1920|Summer|  Antwerpen|\n",
      "|1900|Summer|      Paris|\n",
      "|1988|Winter|    Calgary|\n",
      "|1988|Winter|    Calgary|\n",
      "|1992|Winter|Albertville|\n",
      "|1992|Winter|Albertville|\n",
      "|1994|Winter|Lillehammer|\n",
      "|1994|Winter|Lillehammer|\n",
      "|1992|Winter|Albertville|\n",
      "|1992|Winter|Albertville|\n",
      "|1992|Winter|Albertville|\n",
      "|1992|Winter|Albertville|\n",
      "|1994|Winter|Lillehammer|\n",
      "|1994|Winter|Lillehammer|\n",
      "|1994|Winter|Lillehammer|\n",
      "|1994|Winter|Lillehammer|\n",
      "|1992|Winter|Albertville|\n",
      "|1992|Winter|Albertville|\n",
      "+----+------+-----------+\n",
      "only showing top 20 rows\n",
      "\n"
     ]
    }
   ],
   "source": [
    "df2.show()"
   ]
  },
  {
   "cell_type": "code",
   "execution_count": 15,
   "id": "b62f7be2",
   "metadata": {},
   "outputs": [
    {
     "name": "stdout",
     "output_type": "stream",
     "text": [
      "+---+--------------+--------------------+\n",
      "|NOC|        region|               notes|\n",
      "+---+--------------+--------------------+\n",
      "|AFG|   Afghanistan|                null|\n",
      "|AHO|       Curacao|Netherlands Antilles|\n",
      "|ALB|       Albania|                null|\n",
      "|ALG|       Algeria|                null|\n",
      "|AND|       Andorra|                null|\n",
      "|ANG|        Angola|                null|\n",
      "|ANT|       Antigua| Antigua and Barbuda|\n",
      "|ANZ|     Australia|         Australasia|\n",
      "|ARG|     Argentina|                null|\n",
      "|ARM|       Armenia|                null|\n",
      "|ARU|         Aruba|                null|\n",
      "|ASA|American Samoa|                null|\n",
      "|AUS|     Australia|                null|\n",
      "|AUT|       Austria|                null|\n",
      "|AZE|    Azerbaijan|                null|\n",
      "|BAH|       Bahamas|                null|\n",
      "|BAN|    Bangladesh|                null|\n",
      "|BAR|      Barbados|                null|\n",
      "|BDI|       Burundi|                null|\n",
      "|BEL|       Belgium|                null|\n",
      "+---+--------------+--------------------+\n",
      "only showing top 20 rows\n",
      "\n"
     ]
    }
   ],
   "source": [
    "regions = spark.read.format(\"csv\").option(\"header\", \"true\").option(\"inferSchema\", \"true\").load(\"atheletes/noc_regions.csv\")\n",
    "regions.show()"
   ]
  },
  {
   "cell_type": "code",
   "execution_count": 16,
   "id": "c17f4bb6",
   "metadata": {},
   "outputs": [],
   "source": [
    "regions = regions.drop(\"notes\")"
   ]
  },
  {
   "cell_type": "code",
   "execution_count": 17,
   "id": "bd62a433",
   "metadata": {},
   "outputs": [
    {
     "name": "stdout",
     "output_type": "stream",
     "text": [
      "+---+--------------+\n",
      "|NOC|        region|\n",
      "+---+--------------+\n",
      "|AFG|   Afghanistan|\n",
      "|AHO|       Curacao|\n",
      "|ALB|       Albania|\n",
      "|ALG|       Algeria|\n",
      "|AND|       Andorra|\n",
      "|ANG|        Angola|\n",
      "|ANT|       Antigua|\n",
      "|ANZ|     Australia|\n",
      "|ARG|     Argentina|\n",
      "|ARM|       Armenia|\n",
      "|ARU|         Aruba|\n",
      "|ASA|American Samoa|\n",
      "|AUS|     Australia|\n",
      "|AUT|       Austria|\n",
      "|AZE|    Azerbaijan|\n",
      "|BAH|       Bahamas|\n",
      "|BAN|    Bangladesh|\n",
      "|BAR|      Barbados|\n",
      "|BDI|       Burundi|\n",
      "|BEL|       Belgium|\n",
      "+---+--------------+\n",
      "only showing top 20 rows\n",
      "\n"
     ]
    }
   ],
   "source": [
    "regions.show()"
   ]
  },
  {
   "cell_type": "code",
   "execution_count": 18,
   "id": "74fa48de",
   "metadata": {},
   "outputs": [
    {
     "name": "stdout",
     "output_type": "stream",
     "text": [
      "+---+------------------------+---+---+------+------+--------------+---+-----------+----+------+-----------+--------------------+---------------------------------------------------+-----+\n",
      "|ID |Name                    |Sex|Age|Height|Weight|Team          |NOC|Games      |Year|Season|City       |Sport               |Event                                              |Medal|\n",
      "+---+------------------------+---+---+------+------+--------------+---+-----------+----+------+-----------+--------------------+---------------------------------------------------+-----+\n",
      "|1  |A Dijiang               |M  |24 |180   |80    |China         |CHN|1992 Summer|1992|Summer|Barcelona  |Basketball          |Basketball Men's Basketball                        |NA   |\n",
      "|2  |A Lamusi                |M  |23 |170   |60    |China         |CHN|2012 Summer|2012|Summer|London     |Judo                |Judo Men's Extra-Lightweight                       |NA   |\n",
      "|3  |Gunnar Nielsen Aaby     |M  |24 |NA    |NA    |Denmark       |DEN|1920 Summer|1920|Summer|Antwerpen  |Football            |Football Men's Football                            |NA   |\n",
      "|4  |Edgar Lindenau Aabye    |M  |34 |NA    |NA    |Denmark/Sweden|DEN|1900 Summer|1900|Summer|Paris      |Tug-Of-War          |Tug-Of-War Men's Tug-Of-War                        |Gold |\n",
      "|5  |Christine Jacoba Aaftink|F  |21 |185   |82    |Netherlands   |NED|1988 Winter|1988|Winter|Calgary    |Speed Skating       |Speed Skating Women's 500 metres                   |NA   |\n",
      "|5  |Christine Jacoba Aaftink|F  |21 |185   |82    |Netherlands   |NED|1988 Winter|1988|Winter|Calgary    |Speed Skating       |Speed Skating Women's 1,000 metres                 |NA   |\n",
      "|5  |Christine Jacoba Aaftink|F  |25 |185   |82    |Netherlands   |NED|1992 Winter|1992|Winter|Albertville|Speed Skating       |Speed Skating Women's 500 metres                   |NA   |\n",
      "|5  |Christine Jacoba Aaftink|F  |25 |185   |82    |Netherlands   |NED|1992 Winter|1992|Winter|Albertville|Speed Skating       |Speed Skating Women's 1,000 metres                 |NA   |\n",
      "|5  |Christine Jacoba Aaftink|F  |27 |185   |82    |Netherlands   |NED|1994 Winter|1994|Winter|Lillehammer|Speed Skating       |Speed Skating Women's 500 metres                   |NA   |\n",
      "|5  |Christine Jacoba Aaftink|F  |27 |185   |82    |Netherlands   |NED|1994 Winter|1994|Winter|Lillehammer|Speed Skating       |Speed Skating Women's 1,000 metres                 |NA   |\n",
      "|6  |Per Knut Aaland         |M  |31 |188   |75    |United States |USA|1992 Winter|1992|Winter|Albertville|Cross Country Skiing|Cross Country Skiing Men's 10 kilometres           |NA   |\n",
      "|6  |Per Knut Aaland         |M  |31 |188   |75    |United States |USA|1992 Winter|1992|Winter|Albertville|Cross Country Skiing|Cross Country Skiing Men's 50 kilometres           |NA   |\n",
      "|6  |Per Knut Aaland         |M  |31 |188   |75    |United States |USA|1992 Winter|1992|Winter|Albertville|Cross Country Skiing|Cross Country Skiing Men's 10/15 kilometres Pursuit|NA   |\n",
      "|6  |Per Knut Aaland         |M  |31 |188   |75    |United States |USA|1992 Winter|1992|Winter|Albertville|Cross Country Skiing|Cross Country Skiing Men's 4 x 10 kilometres Relay |NA   |\n",
      "|6  |Per Knut Aaland         |M  |33 |188   |75    |United States |USA|1994 Winter|1994|Winter|Lillehammer|Cross Country Skiing|Cross Country Skiing Men's 10 kilometres           |NA   |\n",
      "|6  |Per Knut Aaland         |M  |33 |188   |75    |United States |USA|1994 Winter|1994|Winter|Lillehammer|Cross Country Skiing|Cross Country Skiing Men's 30 kilometres           |NA   |\n",
      "|6  |Per Knut Aaland         |M  |33 |188   |75    |United States |USA|1994 Winter|1994|Winter|Lillehammer|Cross Country Skiing|Cross Country Skiing Men's 10/15 kilometres Pursuit|NA   |\n",
      "|6  |Per Knut Aaland         |M  |33 |188   |75    |United States |USA|1994 Winter|1994|Winter|Lillehammer|Cross Country Skiing|Cross Country Skiing Men's 4 x 10 kilometres Relay |NA   |\n",
      "|7  |John Aalberg            |M  |31 |183   |72    |United States |USA|1992 Winter|1992|Winter|Albertville|Cross Country Skiing|Cross Country Skiing Men's 10 kilometres           |NA   |\n",
      "|7  |John Aalberg            |M  |31 |183   |72    |United States |USA|1992 Winter|1992|Winter|Albertville|Cross Country Skiing|Cross Country Skiing Men's 50 kilometres           |NA   |\n",
      "+---+------------------------+---+---+------+------+--------------+---+-----------+----+------+-----------+--------------------+---------------------------------------------------+-----+\n",
      "only showing top 20 rows\n",
      "\n"
     ]
    }
   ],
   "source": [
    "atheletes.show(truncate = False)"
   ]
  },
  {
   "cell_type": "code",
   "execution_count": null,
   "id": "80f5bc04",
   "metadata": {},
   "outputs": [],
   "source": []
  },
  {
   "cell_type": "code",
   "execution_count": null,
   "id": "111c437e",
   "metadata": {},
   "outputs": [],
   "source": []
  }
 ],
 "metadata": {
  "kernelspec": {
   "display_name": "Pyspark 2",
   "language": "python",
   "name": "pyspark2"
  },
  "language_info": {
   "codemirror_mode": {
    "name": "ipython",
    "version": 3
   },
   "file_extension": ".py",
   "mimetype": "text/x-python",
   "name": "python",
   "nbconvert_exporter": "python",
   "pygments_lexer": "ipython3",
   "version": "3.6.12"
  }
 },
 "nbformat": 4,
 "nbformat_minor": 5
}
