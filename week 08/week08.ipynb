{
 "cells": [
  {
   "cell_type": "code",
   "execution_count": 1,
   "id": "3aa90747",
   "metadata": {},
   "outputs": [],
   "source": [
    "from pyspark.sql import SparkSession\n",
    "import getpass\n",
    "username = getpass.getuser()\n",
    "spark= SparkSession. \\\n",
    "builder. \\\n",
    "appName(\"itv009033_week08\"). \\\n",
    "config('spark.ui.port','0'). \\\n",
    "config(\"spark.sql.warehouse.dir\", f\"/user/itv009033/warehouse\"). \\\n",
    "enableHiveSupport(). \\\n",
    "master('yarn'). \\\n",
    "getOrCreate()"
   ]
  },
  {
   "cell_type": "markdown",
   "id": "5ed70587",
   "metadata": {},
   "source": [
    "# About Dataset:\n",
    "\n",
    "Uncover the factors that lead to employee attrition and explore important questions such as ‘show me a breakdown of distance from home by job role and attrition’ or ‘compare average monthly income by education and attrition’. This is a fictional data set created by IBM data scientists.\n",
    "\n",
    "## Education\n",
    "1. 'Below College'\n",
    "2. 'College'\n",
    "3. 'Bachelor'\n",
    "4. 'Master'\n",
    "5. 'Doctor'\n",
    "\n",
    "## EnvironmentSatisfaction\n",
    "1. 'Low'\n",
    "2. 'Medium'\n",
    "3. 'High'\n",
    "4. 'Very High'\n",
    "\n",
    "## JobInvolvement\n",
    "1. 'Low'\n",
    "2. 'Medium'\n",
    "3. 'High'\n",
    "4. 'Very High'\n",
    "\n",
    "## JobSatisfaction\n",
    "1. 'Low'\n",
    "2. 'Medium'\n",
    "3. 'High'\n",
    "4. 'Very High'\n",
    "\n",
    "## PerformanceRating\n",
    "1. 'Low'\n",
    "2. 'Good'\n",
    "3. 'Excellent'\n",
    "4. 'Outstanding'\n",
    "\n",
    "## RelationshipSatisfaction\n",
    "1. 'Low'\n",
    "2. 'Medium'\n",
    "3. 'High'\n",
    "4. 'Very High'\n",
    "\n",
    "## WorkLifeBalance\n",
    "1. 'Bad'\n",
    "2. 'Good'\n",
    "3. 'Better'\n",
    "4. 'Best'\n",
    "\n",
    "https://www.kaggle.com/datasets/pavansubhasht/ibm-hr-analytics-attrition-dataset/data"
   ]
  },
  {
   "cell_type": "markdown",
   "id": "efc7ecfa",
   "metadata": {},
   "source": [
    "# Question 3.\n",
    "<h3>Select a relevant dataset of your choice and write some queries to\n",
    "demonstrate the following :\n",
    "- Running total, Grouping aggregates and various Window functions like\n",
    "rank, dense_rank, row_num, lead, lag.\n",
    "- Also try creating a pivot view.</h3>"
   ]
  },
  {
   "cell_type": "code",
   "execution_count": 2,
   "id": "bc0eccf5",
   "metadata": {},
   "outputs": [],
   "source": [
    "file_path = \"week08/WA_Fn-UseC_-HR-Employee-Attrition.csv\""
   ]
  },
  {
   "cell_type": "code",
   "execution_count": 3,
   "id": "2450cb2b",
   "metadata": {},
   "outputs": [],
   "source": [
    "hr_schema = \"Age int, Attrition string, BusinessTravel string,DailyRate long,Department string,DistanceFromHome int,Education int,EducationField string,EmployeeCount int,EmployeeNumber int,EnvironmentSatisfaction string,Gender string,HourlyRate int,JobInvolvement int,JobLevel int,JobRole string,JobSatisfaction int,MaritalStatus string,MonthlyIncome long,MonthlyRate long,NumCompaniesWorked int,Over18 string,OverTime string,PercentSalaryHike int,PerformanceRating int,RelationshipSatisfaction int,StandardHours int,StockOptionLevel int,TotalWorkingYears int,TrainingTimesLastYear int,WorkLifeBalance int,YearsAtCompany int,YearsInCurrentRole int,YearsSinceLastPromotion int,YearsWithCurrManager int\""
   ]
  },
  {
   "cell_type": "code",
   "execution_count": 4,
   "id": "8262da60",
   "metadata": {},
   "outputs": [],
   "source": [
    "hr_df = spark.read.format(\"csv\").schema(hr_schema).load(file_path)"
   ]
  },
  {
   "cell_type": "code",
   "execution_count": 5,
   "id": "2b730fb9",
   "metadata": {},
   "outputs": [
    {
     "name": "stdout",
     "output_type": "stream",
     "text": [
      "+---+---------+-----------------+---------+----------------------+----------------+---------+--------------+-------------+--------------+-----------------------+------+----------+--------------+--------+------------------+---------------+-------------+-------------+-----------+------------------+------+--------+-----------------+-----------------+------------------------+-------------+----------------+-----------------+---------------------+---------------+--------------+------------------+-----------------------+--------------------+\n",
      "|Age|Attrition|BusinessTravel   |DailyRate|Department            |DistanceFromHome|Education|EducationField|EmployeeCount|EmployeeNumber|EnvironmentSatisfaction|Gender|HourlyRate|JobInvolvement|JobLevel|JobRole           |JobSatisfaction|MaritalStatus|MonthlyIncome|MonthlyRate|NumCompaniesWorked|Over18|OverTime|PercentSalaryHike|PerformanceRating|RelationshipSatisfaction|StandardHours|StockOptionLevel|TotalWorkingYears|TrainingTimesLastYear|WorkLifeBalance|YearsAtCompany|YearsInCurrentRole|YearsSinceLastPromotion|YearsWithCurrManager|\n",
      "+---+---------+-----------------+---------+----------------------+----------------+---------+--------------+-------------+--------------+-----------------------+------+----------+--------------+--------+------------------+---------------+-------------+-------------+-----------+------------------+------+--------+-----------------+-----------------+------------------------+-------------+----------------+-----------------+---------------------+---------------+--------------+------------------+-----------------------+--------------------+\n",
      "|41 |Yes      |Travel_Rarely    |1102     |Sales                 |1               |2        |Life Sciences |1            |1             |2                      |Female|94        |3             |2       |Sales Executive   |4              |Single       |5993         |19479      |8                 |Y     |Yes     |11               |3                |1                       |80           |0               |8                |0                    |1              |6             |4                 |0                      |5                   |\n",
      "|49 |No       |Travel_Frequently|279      |Research & Development|8               |1        |Life Sciences |1            |2             |3                      |Male  |61        |2             |2       |Research Scientist|2              |Married      |5130         |24907      |1                 |Y     |No      |23               |4                |4                       |80           |1               |10               |3                    |3              |10            |7                 |1                      |7                   |\n",
      "+---+---------+-----------------+---------+----------------------+----------------+---------+--------------+-------------+--------------+-----------------------+------+----------+--------------+--------+------------------+---------------+-------------+-------------+-----------+------------------+------+--------+-----------------+-----------------+------------------------+-------------+----------------+-----------------+---------------------+---------------+--------------+------------------+-----------------------+--------------------+\n",
      "only showing top 2 rows\n",
      "\n"
     ]
    }
   ],
   "source": [
    "hr_df.show(2,truncate = False)"
   ]
  },
  {
   "cell_type": "code",
   "execution_count": 6,
   "id": "dc3a89b3",
   "metadata": {},
   "outputs": [],
   "source": [
    "hr_df = hr_df.drop('Over18', 'EmployeeNumber','EmployeeCount','StandardHours')"
   ]
  },
  {
   "cell_type": "code",
   "execution_count": 7,
   "id": "9995aa84",
   "metadata": {},
   "outputs": [
    {
     "name": "stdout",
     "output_type": "stream",
     "text": [
      "+---+---------+-----------------+---------+--------------------+----------------+---------+--------------+-----------------------+------+----------+--------------+--------+--------------------+---------------+-------------+-------------+-----------+------------------+--------+-----------------+-----------------+------------------------+----------------+-----------------+---------------------+---------------+--------------+------------------+-----------------------+--------------------+\n",
      "|Age|Attrition|   BusinessTravel|DailyRate|          Department|DistanceFromHome|Education|EducationField|EnvironmentSatisfaction|Gender|HourlyRate|JobInvolvement|JobLevel|             JobRole|JobSatisfaction|MaritalStatus|MonthlyIncome|MonthlyRate|NumCompaniesWorked|OverTime|PercentSalaryHike|PerformanceRating|RelationshipSatisfaction|StockOptionLevel|TotalWorkingYears|TrainingTimesLastYear|WorkLifeBalance|YearsAtCompany|YearsInCurrentRole|YearsSinceLastPromotion|YearsWithCurrManager|\n",
      "+---+---------+-----------------+---------+--------------------+----------------+---------+--------------+-----------------------+------+----------+--------------+--------+--------------------+---------------+-------------+-------------+-----------+------------------+--------+-----------------+-----------------+------------------------+----------------+-----------------+---------------------+---------------+--------------+------------------+-----------------------+--------------------+\n",
      "| 41|      Yes|    Travel_Rarely|     1102|               Sales|               1|        2| Life Sciences|                      2|Female|        94|             3|       2|     Sales Executive|              4|       Single|         5993|      19479|                 8|     Yes|               11|                3|                       1|               0|                8|                    0|              1|             6|                 4|                      0|                   5|\n",
      "| 49|       No|Travel_Frequently|      279|Research & Develo...|               8|        1| Life Sciences|                      3|  Male|        61|             2|       2|  Research Scientist|              2|      Married|         5130|      24907|                 1|      No|               23|                4|                       4|               1|               10|                    3|              3|            10|                 7|                      1|                   7|\n",
      "| 37|      Yes|    Travel_Rarely|     1373|Research & Develo...|               2|        2|         Other|                      4|  Male|        92|             2|       1|Laboratory Techni...|              3|       Single|         2090|       2396|                 6|     Yes|               15|                3|                       2|               0|                7|                    3|              3|             0|                 0|                      0|                   0|\n",
      "| 33|       No|Travel_Frequently|     1392|Research & Develo...|               3|        4| Life Sciences|                      4|Female|        56|             3|       1|  Research Scientist|              3|      Married|         2909|      23159|                 1|     Yes|               11|                3|                       3|               0|                8|                    3|              3|             8|                 7|                      3|                   0|\n",
      "| 27|       No|    Travel_Rarely|      591|Research & Develo...|               2|        1|       Medical|                      1|  Male|        40|             3|       1|Laboratory Techni...|              2|      Married|         3468|      16632|                 9|      No|               12|                3|                       4|               1|                6|                    3|              3|             2|                 2|                      2|                   2|\n",
      "| 32|       No|Travel_Frequently|     1005|Research & Develo...|               2|        2| Life Sciences|                      4|  Male|        79|             3|       1|Laboratory Techni...|              4|       Single|         3068|      11864|                 0|      No|               13|                3|                       3|               0|                8|                    2|              2|             7|                 7|                      3|                   6|\n",
      "| 59|       No|    Travel_Rarely|     1324|Research & Develo...|               3|        3|       Medical|                      3|Female|        81|             4|       1|Laboratory Techni...|              1|      Married|         2670|       9964|                 4|     Yes|               20|                4|                       1|               3|               12|                    3|              2|             1|                 0|                      0|                   0|\n",
      "| 30|       No|    Travel_Rarely|     1358|Research & Develo...|              24|        1| Life Sciences|                      4|  Male|        67|             3|       1|Laboratory Techni...|              3|     Divorced|         2693|      13335|                 1|      No|               22|                4|                       2|               1|                1|                    2|              3|             1|                 0|                      0|                   0|\n",
      "| 38|       No|Travel_Frequently|      216|Research & Develo...|              23|        3| Life Sciences|                      4|  Male|        44|             2|       3|Manufacturing Dir...|              3|       Single|         9526|       8787|                 0|      No|               21|                4|                       2|               0|               10|                    2|              3|             9|                 7|                      1|                   8|\n",
      "| 36|       No|    Travel_Rarely|     1299|Research & Develo...|              27|        3|       Medical|                      3|  Male|        94|             3|       2|Healthcare Repres...|              3|      Married|         5237|      16577|                 6|      No|               13|                3|                       2|               2|               17|                    3|              2|             7|                 7|                      7|                   7|\n",
      "| 35|       No|    Travel_Rarely|      809|Research & Develo...|              16|        3|       Medical|                      1|  Male|        84|             4|       1|Laboratory Techni...|              2|      Married|         2426|      16479|                 0|      No|               13|                3|                       3|               1|                6|                    5|              3|             5|                 4|                      0|                   3|\n",
      "| 29|       No|    Travel_Rarely|      153|Research & Develo...|              15|        2| Life Sciences|                      4|Female|        49|             2|       2|Laboratory Techni...|              3|       Single|         4193|      12682|                 0|     Yes|               12|                3|                       4|               0|               10|                    3|              3|             9|                 5|                      0|                   8|\n",
      "| 31|       No|    Travel_Rarely|      670|Research & Develo...|              26|        1| Life Sciences|                      1|  Male|        31|             3|       1|  Research Scientist|              3|     Divorced|         2911|      15170|                 1|      No|               17|                3|                       4|               1|                5|                    1|              2|             5|                 2|                      4|                   3|\n",
      "| 34|       No|    Travel_Rarely|     1346|Research & Develo...|              19|        2|       Medical|                      2|  Male|        93|             3|       1|Laboratory Techni...|              4|     Divorced|         2661|       8758|                 0|      No|               11|                3|                       3|               1|                3|                    2|              3|             2|                 2|                      1|                   2|\n",
      "| 28|      Yes|    Travel_Rarely|      103|Research & Develo...|              24|        3| Life Sciences|                      3|  Male|        50|             2|       1|Laboratory Techni...|              3|       Single|         2028|      12947|                 5|     Yes|               14|                3|                       2|               0|                6|                    4|              3|             4|                 2|                      0|                   3|\n",
      "| 29|       No|    Travel_Rarely|     1389|Research & Develo...|              21|        4| Life Sciences|                      2|Female|        51|             4|       3|Manufacturing Dir...|              1|     Divorced|         9980|      10195|                 1|      No|               11|                3|                       3|               1|               10|                    1|              3|            10|                 9|                      8|                   8|\n",
      "| 32|       No|    Travel_Rarely|      334|Research & Develo...|               5|        2| Life Sciences|                      1|  Male|        80|             4|       1|  Research Scientist|              2|     Divorced|         3298|      15053|                 0|     Yes|               12|                3|                       4|               2|                7|                    5|              2|             6|                 2|                      0|                   5|\n",
      "| 22|       No|       Non-Travel|     1123|Research & Develo...|              16|        2|       Medical|                      4|  Male|        96|             4|       1|Laboratory Techni...|              4|     Divorced|         2935|       7324|                 1|     Yes|               13|                3|                       2|               2|                1|                    2|              2|             1|                 0|                      0|                   0|\n",
      "| 53|       No|    Travel_Rarely|     1219|               Sales|               2|        4| Life Sciences|                      1|Female|        78|             2|       4|             Manager|              4|      Married|        15427|      22021|                 2|      No|               16|                3|                       3|               0|               31|                    3|              3|            25|                 8|                      3|                   7|\n",
      "| 38|       No|    Travel_Rarely|      371|Research & Develo...|               2|        3| Life Sciences|                      4|  Male|        45|             3|       1|  Research Scientist|              4|       Single|         3944|       4306|                 5|     Yes|               11|                3|                       3|               0|                6|                    3|              3|             3|                 2|                      1|                   2|\n",
      "+---+---------+-----------------+---------+--------------------+----------------+---------+--------------+-----------------------+------+----------+--------------+--------+--------------------+---------------+-------------+-------------+-----------+------------------+--------+-----------------+-----------------+------------------------+----------------+-----------------+---------------------+---------------+--------------+------------------+-----------------------+--------------------+\n",
      "only showing top 20 rows\n",
      "\n"
     ]
    }
   ],
   "source": [
    "hr_df.show()"
   ]
  },
  {
   "cell_type": "markdown",
   "id": "08e7c777",
   "metadata": {},
   "source": [
    "## Attritions"
   ]
  },
  {
   "cell_type": "code",
   "execution_count": 8,
   "id": "96c115da",
   "metadata": {},
   "outputs": [],
   "source": [
    "att_df =  hr_df.groupBy(\"Attrition\").count().withColumnRenamed(\"count\", \"count_of_attritions\").sort(\"count_of_attritions\")"
   ]
  },
  {
   "cell_type": "code",
   "execution_count": 9,
   "id": "57d42205",
   "metadata": {},
   "outputs": [
    {
     "name": "stdout",
     "output_type": "stream",
     "text": [
      "+---------+-------------------+\n",
      "|Attrition|count_of_attritions|\n",
      "+---------+-------------------+\n",
      "|      Yes|                237|\n",
      "|       No|               1233|\n",
      "+---------+-------------------+\n",
      "\n"
     ]
    }
   ],
   "source": [
    "att_df.show()"
   ]
  },
  {
   "cell_type": "code",
   "execution_count": 10,
   "id": "3396a36f",
   "metadata": {},
   "outputs": [
    {
     "name": "stdout",
     "output_type": "stream",
     "text": [
      "+---+---------+-----------------+---------+--------------------+----------------+---------+----------------+-----------------------+------+----------+--------------+--------+--------------------+---------------+-------------+-------------+-----------+------------------+--------+-----------------+-----------------+------------------------+----------------+-----------------+---------------------+---------------+--------------+------------------+-----------------------+--------------------+\n",
      "|Age|Attrition|   BusinessTravel|DailyRate|          Department|DistanceFromHome|Education|  EducationField|EnvironmentSatisfaction|Gender|HourlyRate|JobInvolvement|JobLevel|             JobRole|JobSatisfaction|MaritalStatus|MonthlyIncome|MonthlyRate|NumCompaniesWorked|OverTime|PercentSalaryHike|PerformanceRating|RelationshipSatisfaction|StockOptionLevel|TotalWorkingYears|TrainingTimesLastYear|WorkLifeBalance|YearsAtCompany|YearsInCurrentRole|YearsSinceLastPromotion|YearsWithCurrManager|\n",
      "+---+---------+-----------------+---------+--------------------+----------------+---------+----------------+-----------------------+------+----------+--------------+--------+--------------------+---------------+-------------+-------------+-----------+------------------+--------+-----------------+-----------------+------------------------+----------------+-----------------+---------------------+---------------+--------------+------------------+-----------------------+--------------------+\n",
      "| 41|      Yes|    Travel_Rarely|     1102|               Sales|               1|        2|   Life Sciences|                      2|Female|        94|             3|       2|     Sales Executive|              4|       Single|         5993|      19479|                 8|     Yes|               11|                3|                       1|               0|                8|                    0|              1|             6|                 4|                      0|                   5|\n",
      "| 37|      Yes|    Travel_Rarely|     1373|Research & Develo...|               2|        2|           Other|                      4|  Male|        92|             2|       1|Laboratory Techni...|              3|       Single|         2090|       2396|                 6|     Yes|               15|                3|                       2|               0|                7|                    3|              3|             0|                 0|                      0|                   0|\n",
      "| 28|      Yes|    Travel_Rarely|      103|Research & Develo...|              24|        3|   Life Sciences|                      3|  Male|        50|             2|       1|Laboratory Techni...|              3|       Single|         2028|      12947|                 5|     Yes|               14|                3|                       2|               0|                6|                    4|              3|             4|                 2|                      0|                   3|\n",
      "| 36|      Yes|    Travel_Rarely|     1218|               Sales|               9|        4|   Life Sciences|                      3|  Male|        82|             2|       1|Sales Representative|              1|       Single|         3407|       6986|                 7|      No|               23|                4|                       2|               0|               10|                    4|              3|             5|                 3|                      0|                   3|\n",
      "| 34|      Yes|    Travel_Rarely|      699|Research & Develo...|               6|        1|         Medical|                      2|  Male|        83|             3|       1|  Research Scientist|              1|       Single|         2960|      17102|                 2|      No|               11|                3|                       3|               0|                8|                    2|              3|             4|                 2|                      1|                   3|\n",
      "| 32|      Yes|Travel_Frequently|     1125|Research & Develo...|              16|        1|   Life Sciences|                      2|Female|        72|             1|       1|  Research Scientist|              1|       Single|         3919|       4681|                 1|     Yes|               22|                4|                       2|               0|               10|                    5|              3|            10|                 2|                      6|                   7|\n",
      "| 39|      Yes|    Travel_Rarely|      895|               Sales|               5|        3|Technical Degree|                      4|  Male|        56|             3|       2|Sales Representative|              4|      Married|         2086|       3335|                 3|      No|               14|                3|                       3|               1|               19|                    6|              4|             1|                 0|                      0|                   0|\n",
      "| 24|      Yes|    Travel_Rarely|      813|Research & Develo...|               1|        3|         Medical|                      2|  Male|        61|             3|       1|  Research Scientist|              4|      Married|         2293|       3020|                 2|     Yes|               16|                3|                       1|               1|                6|                    2|              2|             2|                 0|                      2|                   0|\n",
      "| 50|      Yes|    Travel_Rarely|      869|               Sales|               3|        2|       Marketing|                      1|  Male|        86|             2|       1|Sales Representative|              3|      Married|         2683|       3810|                 1|     Yes|               14|                3|                       3|               0|                3|                    2|              3|             3|                 2|                      0|                   2|\n",
      "| 26|      Yes|    Travel_Rarely|     1357|Research & Develo...|              25|        3|   Life Sciences|                      1|  Male|        48|             1|       1|Laboratory Techni...|              3|       Single|         2293|      10558|                 1|      No|               12|                3|                       3|               0|                1|                    2|              2|             1|                 0|                      0|                   1|\n",
      "| 41|      Yes|    Travel_Rarely|     1360|Research & Develo...|              12|        3|Technical Degree|                      2|Female|        49|             3|       5|   Research Director|              3|      Married|        19545|      16280|                 1|      No|               12|                3|                       4|               0|               23|                    0|              3|            22|                15|                     15|                   8|\n",
      "| 48|      Yes|    Travel_Rarely|      626|Research & Develo...|               1|        2|   Life Sciences|                      1|  Male|        98|             2|       3|Laboratory Techni...|              3|       Single|         5381|      19294|                 9|     Yes|               13|                3|                       4|               0|               23|                    2|              3|             1|                 0|                      0|                   0|\n",
      "| 28|      Yes|    Travel_Rarely|     1434|Research & Develo...|               5|        4|Technical Degree|                      3|  Male|        50|             3|       1|Laboratory Techni...|              3|       Single|         3441|      11179|                 1|     Yes|               13|                3|                       3|               0|                2|                    3|              2|             2|                 2|                      2|                   2|\n",
      "| 36|      Yes|    Travel_Rarely|      318|Research & Develo...|               9|        3|         Medical|                      4|  Male|        79|             2|       1|  Research Scientist|              3|      Married|         3388|      21777|                 0|     Yes|               17|                3|                       1|               1|                2|                    0|              2|             1|                 0|                      0|                   0|\n",
      "| 46|      Yes|    Travel_Rarely|      669|               Sales|               9|        2|         Medical|                      3|  Male|        64|             2|       3|     Sales Executive|              4|       Single|         9619|      13596|                 1|      No|               16|                3|                       4|               0|                9|                    3|              3|             9|                 8|                      4|                   7|\n",
      "| 37|      Yes|    Travel_Rarely|      807|     Human Resources|               6|        4| Human Resources|                      3|  Male|        63|             3|       1|     Human Resources|              1|     Divorced|         2073|      23648|                 4|     Yes|               22|                4|                       4|               0|                7|                    3|              3|             3|                 2|                      0|                   2|\n",
      "| 20|      Yes|Travel_Frequently|      871|Research & Develo...|               6|        3|   Life Sciences|                      4|Female|        66|             2|       1|Laboratory Techni...|              4|       Single|         2926|      19783|                 1|     Yes|               18|                3|                       2|               0|                1|                    5|              3|             1|                 0|                      1|                   0|\n",
      "| 25|      Yes|    Travel_Rarely|      240|               Sales|               5|        3|       Marketing|                      3|  Male|        46|             2|       2|     Sales Executive|              3|       Single|         5744|      26959|                 1|     Yes|               11|                3|                       4|               0|                6|                    1|              3|             6|                 4|                      0|                   3|\n",
      "| 34|      Yes|Travel_Frequently|      658|Research & Develo...|               7|        3|   Life Sciences|                      1|  Male|        66|             1|       2|Laboratory Techni...|              3|       Single|         6074|      22887|                 1|     Yes|               24|                4|                       4|               0|                9|                    3|              3|             9|                 7|                      0|                   6|\n",
      "| 56|      Yes|    Travel_Rarely|      441|Research & Develo...|              14|        4|   Life Sciences|                      2|Female|        72|             3|       1|  Research Scientist|              2|      Married|         4963|       4510|                 9|     Yes|               18|                3|                       1|               3|                7|                    2|              3|             5|                 4|                      4|                   3|\n",
      "+---+---------+-----------------+---------+--------------------+----------------+---------+----------------+-----------------------+------+----------+--------------+--------+--------------------+---------------+-------------+-------------+-----------+------------------+--------+-----------------+-----------------+------------------------+----------------+-----------------+---------------------+---------------+--------------+------------------+-----------------------+--------------------+\n",
      "only showing top 20 rows\n",
      "\n"
     ]
    }
   ],
   "source": [
    "att = hr_df.filter((hr_df.Attrition == \"Yes\"))\n",
    "att.show()"
   ]
  },
  {
   "cell_type": "markdown",
   "id": "eace02c7",
   "metadata": {},
   "source": [
    "## Attritions Per department"
   ]
  },
  {
   "cell_type": "code",
   "execution_count": 11,
   "id": "23062c4b",
   "metadata": {},
   "outputs": [
    {
     "name": "stdout",
     "output_type": "stream",
     "text": [
      "+---+---------+-----------------+---------+--------------------+----------------+---------+----------------+-----------------------+------+----------+--------------+--------+--------------------+---------------+-------------+-------------+-----------+------------------+--------+-----------------+-----------------+------------------------+----------------+-----------------+---------------------+---------------+--------------+------------------+-----------------------+--------------------+\n",
      "|Age|Attrition|   BusinessTravel|DailyRate|          Department|DistanceFromHome|Education|  EducationField|EnvironmentSatisfaction|Gender|HourlyRate|JobInvolvement|JobLevel|             JobRole|JobSatisfaction|MaritalStatus|MonthlyIncome|MonthlyRate|NumCompaniesWorked|OverTime|PercentSalaryHike|PerformanceRating|RelationshipSatisfaction|StockOptionLevel|TotalWorkingYears|TrainingTimesLastYear|WorkLifeBalance|YearsAtCompany|YearsInCurrentRole|YearsSinceLastPromotion|YearsWithCurrManager|\n",
      "+---+---------+-----------------+---------+--------------------+----------------+---------+----------------+-----------------------+------+----------+--------------+--------+--------------------+---------------+-------------+-------------+-----------+------------------+--------+-----------------+-----------------+------------------------+----------------+-----------------+---------------------+---------------+--------------+------------------+-----------------------+--------------------+\n",
      "| 41|      Yes|    Travel_Rarely|     1102|               Sales|               1|        2|   Life Sciences|                      2|Female|        94|             3|       2|     Sales Executive|              4|       Single|         5993|      19479|                 8|     Yes|               11|                3|                       1|               0|                8|                    0|              1|             6|                 4|                      0|                   5|\n",
      "| 37|      Yes|    Travel_Rarely|     1373|Research & Develo...|               2|        2|           Other|                      4|  Male|        92|             2|       1|Laboratory Techni...|              3|       Single|         2090|       2396|                 6|     Yes|               15|                3|                       2|               0|                7|                    3|              3|             0|                 0|                      0|                   0|\n",
      "| 28|      Yes|    Travel_Rarely|      103|Research & Develo...|              24|        3|   Life Sciences|                      3|  Male|        50|             2|       1|Laboratory Techni...|              3|       Single|         2028|      12947|                 5|     Yes|               14|                3|                       2|               0|                6|                    4|              3|             4|                 2|                      0|                   3|\n",
      "| 36|      Yes|    Travel_Rarely|     1218|               Sales|               9|        4|   Life Sciences|                      3|  Male|        82|             2|       1|Sales Representative|              1|       Single|         3407|       6986|                 7|      No|               23|                4|                       2|               0|               10|                    4|              3|             5|                 3|                      0|                   3|\n",
      "| 34|      Yes|    Travel_Rarely|      699|Research & Develo...|               6|        1|         Medical|                      2|  Male|        83|             3|       1|  Research Scientist|              1|       Single|         2960|      17102|                 2|      No|               11|                3|                       3|               0|                8|                    2|              3|             4|                 2|                      1|                   3|\n",
      "| 32|      Yes|Travel_Frequently|     1125|Research & Develo...|              16|        1|   Life Sciences|                      2|Female|        72|             1|       1|  Research Scientist|              1|       Single|         3919|       4681|                 1|     Yes|               22|                4|                       2|               0|               10|                    5|              3|            10|                 2|                      6|                   7|\n",
      "| 39|      Yes|    Travel_Rarely|      895|               Sales|               5|        3|Technical Degree|                      4|  Male|        56|             3|       2|Sales Representative|              4|      Married|         2086|       3335|                 3|      No|               14|                3|                       3|               1|               19|                    6|              4|             1|                 0|                      0|                   0|\n",
      "| 24|      Yes|    Travel_Rarely|      813|Research & Develo...|               1|        3|         Medical|                      2|  Male|        61|             3|       1|  Research Scientist|              4|      Married|         2293|       3020|                 2|     Yes|               16|                3|                       1|               1|                6|                    2|              2|             2|                 0|                      2|                   0|\n",
      "| 50|      Yes|    Travel_Rarely|      869|               Sales|               3|        2|       Marketing|                      1|  Male|        86|             2|       1|Sales Representative|              3|      Married|         2683|       3810|                 1|     Yes|               14|                3|                       3|               0|                3|                    2|              3|             3|                 2|                      0|                   2|\n",
      "| 26|      Yes|    Travel_Rarely|     1357|Research & Develo...|              25|        3|   Life Sciences|                      1|  Male|        48|             1|       1|Laboratory Techni...|              3|       Single|         2293|      10558|                 1|      No|               12|                3|                       3|               0|                1|                    2|              2|             1|                 0|                      0|                   1|\n",
      "| 41|      Yes|    Travel_Rarely|     1360|Research & Develo...|              12|        3|Technical Degree|                      2|Female|        49|             3|       5|   Research Director|              3|      Married|        19545|      16280|                 1|      No|               12|                3|                       4|               0|               23|                    0|              3|            22|                15|                     15|                   8|\n",
      "| 48|      Yes|    Travel_Rarely|      626|Research & Develo...|               1|        2|   Life Sciences|                      1|  Male|        98|             2|       3|Laboratory Techni...|              3|       Single|         5381|      19294|                 9|     Yes|               13|                3|                       4|               0|               23|                    2|              3|             1|                 0|                      0|                   0|\n",
      "| 28|      Yes|    Travel_Rarely|     1434|Research & Develo...|               5|        4|Technical Degree|                      3|  Male|        50|             3|       1|Laboratory Techni...|              3|       Single|         3441|      11179|                 1|     Yes|               13|                3|                       3|               0|                2|                    3|              2|             2|                 2|                      2|                   2|\n",
      "| 36|      Yes|    Travel_Rarely|      318|Research & Develo...|               9|        3|         Medical|                      4|  Male|        79|             2|       1|  Research Scientist|              3|      Married|         3388|      21777|                 0|     Yes|               17|                3|                       1|               1|                2|                    0|              2|             1|                 0|                      0|                   0|\n",
      "| 46|      Yes|    Travel_Rarely|      669|               Sales|               9|        2|         Medical|                      3|  Male|        64|             2|       3|     Sales Executive|              4|       Single|         9619|      13596|                 1|      No|               16|                3|                       4|               0|                9|                    3|              3|             9|                 8|                      4|                   7|\n",
      "| 37|      Yes|    Travel_Rarely|      807|     Human Resources|               6|        4| Human Resources|                      3|  Male|        63|             3|       1|     Human Resources|              1|     Divorced|         2073|      23648|                 4|     Yes|               22|                4|                       4|               0|                7|                    3|              3|             3|                 2|                      0|                   2|\n",
      "| 20|      Yes|Travel_Frequently|      871|Research & Develo...|               6|        3|   Life Sciences|                      4|Female|        66|             2|       1|Laboratory Techni...|              4|       Single|         2926|      19783|                 1|     Yes|               18|                3|                       2|               0|                1|                    5|              3|             1|                 0|                      1|                   0|\n",
      "| 25|      Yes|    Travel_Rarely|      240|               Sales|               5|        3|       Marketing|                      3|  Male|        46|             2|       2|     Sales Executive|              3|       Single|         5744|      26959|                 1|     Yes|               11|                3|                       4|               0|                6|                    1|              3|             6|                 4|                      0|                   3|\n",
      "| 34|      Yes|Travel_Frequently|      658|Research & Develo...|               7|        3|   Life Sciences|                      1|  Male|        66|             1|       2|Laboratory Techni...|              3|       Single|         6074|      22887|                 1|     Yes|               24|                4|                       4|               0|                9|                    3|              3|             9|                 7|                      0|                   6|\n",
      "| 56|      Yes|    Travel_Rarely|      441|Research & Develo...|              14|        4|   Life Sciences|                      2|Female|        72|             3|       1|  Research Scientist|              2|      Married|         4963|       4510|                 9|     Yes|               18|                3|                       1|               3|                7|                    2|              3|             5|                 4|                      4|                   3|\n",
      "+---+---------+-----------------+---------+--------------------+----------------+---------+----------------+-----------------------+------+----------+--------------+--------+--------------------+---------------+-------------+-------------+-----------+------------------+--------+-----------------+-----------------+------------------------+----------------+-----------------+---------------------+---------------+--------------+------------------+-----------------------+--------------------+\n",
      "only showing top 20 rows\n",
      "\n"
     ]
    }
   ],
   "source": [
    "att_dept = hr_df.filter((hr_df.Attrition == \"Yes\"))\n",
    "att_dept.show()"
   ]
  },
  {
   "cell_type": "code",
   "execution_count": 12,
   "id": "e943d314",
   "metadata": {},
   "outputs": [],
   "source": [
    "att_dept = att_dept.groupBy(\"Department\", \"Attrition\").count().withColumnRenamed(\"count\", \"count_of_attritions_per_dept\").sort(\"count_of_attritions_per_dept\", ascending =  False)"
   ]
  },
  {
   "cell_type": "code",
   "execution_count": 13,
   "id": "b9091947",
   "metadata": {},
   "outputs": [
    {
     "name": "stdout",
     "output_type": "stream",
     "text": [
      "+----------------------+---------+----------------------------+\n",
      "|Department            |Attrition|count_of_attritions_per_dept|\n",
      "+----------------------+---------+----------------------------+\n",
      "|Research & Development|Yes      |133                         |\n",
      "|Sales                 |Yes      |92                          |\n",
      "|Human Resources       |Yes      |12                          |\n",
      "+----------------------+---------+----------------------------+\n",
      "\n"
     ]
    }
   ],
   "source": [
    "att_dept.show(truncate= False)"
   ]
  },
  {
   "cell_type": "code",
   "execution_count": 14,
   "id": "645d7f52",
   "metadata": {},
   "outputs": [],
   "source": [
    "att_gender = att.groupBy(\"gender\", \"Attrition\").count().withColumnRenamed(\"count\", \"count_of_attritions_per_gender\").sort(\"count_of_attritions_per_gender\", ascending =  False)"
   ]
  },
  {
   "cell_type": "code",
   "execution_count": 15,
   "id": "122c85f0",
   "metadata": {},
   "outputs": [
    {
     "name": "stdout",
     "output_type": "stream",
     "text": [
      "+------+---------+------------------------------+\n",
      "|gender|Attrition|count_of_attritions_per_gender|\n",
      "+------+---------+------------------------------+\n",
      "|  Male|      Yes|                           150|\n",
      "|Female|      Yes|                            87|\n",
      "+------+---------+------------------------------+\n",
      "\n"
     ]
    }
   ],
   "source": [
    "att_gender.show()"
   ]
  },
  {
   "cell_type": "code",
   "execution_count": 16,
   "id": "d27c322b",
   "metadata": {},
   "outputs": [
    {
     "name": "stdout",
     "output_type": "stream",
     "text": [
      "+--------+---------+---------+------------------------------+\n",
      "|OverTime|Attrition|Attrition|count_of_attritions_per_gender|\n",
      "+--------+---------+---------+------------------------------+\n",
      "|Yes     |Yes      |Yes      |127                           |\n",
      "|No      |Yes      |Yes      |110                           |\n",
      "+--------+---------+---------+------------------------------+\n",
      "\n"
     ]
    }
   ],
   "source": [
    "att_role = att.groupBy(\"OverTime\", \"Attrition\", \"Attrition\").count().withColumnRenamed(\"count\", \"count_of_attritions_per_gender\").sort(\"count_of_attritions_per_gender\", ascending =  False)\n",
    "att_role.show(truncate = False)"
   ]
  },
  {
   "cell_type": "code",
   "execution_count": 17,
   "id": "5e6a4580",
   "metadata": {},
   "outputs": [
    {
     "name": "stdout",
     "output_type": "stream",
     "text": [
      "+--------+---------+------------------------------+\n",
      "|OverTime|Attrition|count_of_attritions_per_gender|\n",
      "+--------+---------+------------------------------+\n",
      "|     Yes|      Yes|                           127|\n",
      "|      No|      Yes|                           110|\n",
      "+--------+---------+------------------------------+\n",
      "\n"
     ]
    }
   ],
   "source": [
    "att_time = att.groupBy(\"OverTime\", \"Attrition\").count().withColumnRenamed(\"count\", \"count_of_attritions_per_gender\").sort(\"count_of_attritions_per_gender\", ascending =  False)\n",
    "att_time.show()"
   ]
  },
  {
   "cell_type": "code",
   "execution_count": 18,
   "id": "68db0371",
   "metadata": {},
   "outputs": [
    {
     "name": "stdout",
     "output_type": "stream",
     "text": [
      "+-----------+---------+\n",
      "|MonthlyRate|Attrition|\n",
      "+-----------+---------+\n",
      "|       2094|       No|\n",
      "|       2097|       No|\n",
      "|       2104|       No|\n",
      "|       2112|       No|\n",
      "|       2122|       No|\n",
      "|       2125|       No|\n",
      "|       2125|       No|\n",
      "|       2137|       No|\n",
      "|       2227|       No|\n",
      "|       2243|       No|\n",
      "|       2253|       No|\n",
      "|       2261|       No|\n",
      "|       2288|       No|\n",
      "|       2302|       No|\n",
      "|       2323|       No|\n",
      "|       2326|      Yes|\n",
      "|       2338|       No|\n",
      "|       2354|       No|\n",
      "|       2373|       No|\n",
      "|       2396|      Yes|\n",
      "+-----------+---------+\n",
      "only showing top 20 rows\n",
      "\n"
     ]
    }
   ],
   "source": [
    "salary = hr_df.select(\"MonthlyRate\", \"Attrition\").sort(\"MonthlyRate\")\n",
    "salary.show()"
   ]
  },
  {
   "cell_type": "code",
   "execution_count": 19,
   "id": "4d4004cd",
   "metadata": {},
   "outputs": [],
   "source": [
    "final_df = hr_df.select(\"OverTime\",\"OverTime\",\"gender\", \"Department\",\"MonthlyIncome\",\"MonthlyRate\",\"Attrition\").cache()"
   ]
  },
  {
   "cell_type": "code",
   "execution_count": 20,
   "id": "54aa8d10",
   "metadata": {},
   "outputs": [
    {
     "name": "stdout",
     "output_type": "stream",
     "text": [
      "+--------+--------+------+----------------------+-------------+-----------+---------+\n",
      "|OverTime|OverTime|gender|Department            |MonthlyIncome|MonthlyRate|Attrition|\n",
      "+--------+--------+------+----------------------+-------------+-----------+---------+\n",
      "|Yes     |Yes     |Female|Sales                 |5993         |19479      |Yes      |\n",
      "|No      |No      |Male  |Research & Development|5130         |24907      |No       |\n",
      "|Yes     |Yes     |Male  |Research & Development|2090         |2396       |Yes      |\n",
      "|Yes     |Yes     |Female|Research & Development|2909         |23159      |No       |\n",
      "|No      |No      |Male  |Research & Development|3468         |16632      |No       |\n",
      "|No      |No      |Male  |Research & Development|3068         |11864      |No       |\n",
      "|Yes     |Yes     |Female|Research & Development|2670         |9964       |No       |\n",
      "|No      |No      |Male  |Research & Development|2693         |13335      |No       |\n",
      "|No      |No      |Male  |Research & Development|9526         |8787       |No       |\n",
      "|No      |No      |Male  |Research & Development|5237         |16577      |No       |\n",
      "|No      |No      |Male  |Research & Development|2426         |16479      |No       |\n",
      "|Yes     |Yes     |Female|Research & Development|4193         |12682      |No       |\n",
      "|No      |No      |Male  |Research & Development|2911         |15170      |No       |\n",
      "|No      |No      |Male  |Research & Development|2661         |8758       |No       |\n",
      "|Yes     |Yes     |Male  |Research & Development|2028         |12947      |Yes      |\n",
      "|No      |No      |Female|Research & Development|9980         |10195      |No       |\n",
      "|Yes     |Yes     |Male  |Research & Development|3298         |15053      |No       |\n",
      "|Yes     |Yes     |Male  |Research & Development|2935         |7324       |No       |\n",
      "|No      |No      |Female|Sales                 |15427        |22021      |No       |\n",
      "|Yes     |Yes     |Male  |Research & Development|3944         |4306       |No       |\n",
      "+--------+--------+------+----------------------+-------------+-----------+---------+\n",
      "only showing top 20 rows\n",
      "\n"
     ]
    }
   ],
   "source": [
    "final_df.show(truncate = False)"
   ]
  },
  {
   "cell_type": "code",
   "execution_count": 21,
   "id": "d48ffb2b",
   "metadata": {},
   "outputs": [],
   "source": [
    "final_df = final_df.withColumn(\"profit\", final_df.MonthlyRate - final_df.MonthlyIncome)"
   ]
  },
  {
   "cell_type": "code",
   "execution_count": 22,
   "id": "e1c9647c",
   "metadata": {},
   "outputs": [
    {
     "name": "stdout",
     "output_type": "stream",
     "text": [
      "+--------+--------+------+----------------------+-------------+-----------+---------+------+\n",
      "|OverTime|OverTime|gender|Department            |MonthlyIncome|MonthlyRate|Attrition|profit|\n",
      "+--------+--------+------+----------------------+-------------+-----------+---------+------+\n",
      "|Yes     |Yes     |Female|Sales                 |5993         |19479      |Yes      |13486 |\n",
      "|No      |No      |Male  |Research & Development|5130         |24907      |No       |19777 |\n",
      "|Yes     |Yes     |Male  |Research & Development|2090         |2396       |Yes      |306   |\n",
      "|Yes     |Yes     |Female|Research & Development|2909         |23159      |No       |20250 |\n",
      "|No      |No      |Male  |Research & Development|3468         |16632      |No       |13164 |\n",
      "|No      |No      |Male  |Research & Development|3068         |11864      |No       |8796  |\n",
      "|Yes     |Yes     |Female|Research & Development|2670         |9964       |No       |7294  |\n",
      "|No      |No      |Male  |Research & Development|2693         |13335      |No       |10642 |\n",
      "|No      |No      |Male  |Research & Development|9526         |8787       |No       |-739  |\n",
      "|No      |No      |Male  |Research & Development|5237         |16577      |No       |11340 |\n",
      "|No      |No      |Male  |Research & Development|2426         |16479      |No       |14053 |\n",
      "|Yes     |Yes     |Female|Research & Development|4193         |12682      |No       |8489  |\n",
      "|No      |No      |Male  |Research & Development|2911         |15170      |No       |12259 |\n",
      "|No      |No      |Male  |Research & Development|2661         |8758       |No       |6097  |\n",
      "|Yes     |Yes     |Male  |Research & Development|2028         |12947      |Yes      |10919 |\n",
      "|No      |No      |Female|Research & Development|9980         |10195      |No       |215   |\n",
      "|Yes     |Yes     |Male  |Research & Development|3298         |15053      |No       |11755 |\n",
      "|Yes     |Yes     |Male  |Research & Development|2935         |7324       |No       |4389  |\n",
      "|No      |No      |Female|Sales                 |15427        |22021      |No       |6594  |\n",
      "|Yes     |Yes     |Male  |Research & Development|3944         |4306       |No       |362   |\n",
      "+--------+--------+------+----------------------+-------------+-----------+---------+------+\n",
      "only showing top 20 rows\n",
      "\n"
     ]
    }
   ],
   "source": [
    "final_df.show(truncate =  False)"
   ]
  },
  {
   "cell_type": "code",
   "execution_count": 23,
   "id": "0edf942f",
   "metadata": {},
   "outputs": [
    {
     "name": "stdout",
     "output_type": "stream",
     "text": [
      "+----------------------+---------+------+\n",
      "|Department            |Attrition|profit|\n",
      "+----------------------+---------+------+\n",
      "|Research & Development|No       |9299  |\n",
      "|Research & Development|No       |2623  |\n",
      "|Research & Development|No       |18049 |\n",
      "|Research & Development|No       |19777 |\n",
      "|Research & Development|No       |-8359 |\n",
      "|Research & Development|No       |20250 |\n",
      "|Sales                 |No       |14348 |\n",
      "|Research & Development|No       |8796  |\n",
      "|Research & Development|No       |-8154 |\n",
      "|Research & Development|No       |10642 |\n",
      "|Sales                 |No       |3875  |\n",
      "|Research & Development|No       |11340 |\n",
      "|Research & Development|No       |4174  |\n",
      "|Research & Development|No       |8489  |\n",
      "|Research & Development|No       |12656 |\n",
      "|Research & Development|No       |6097  |\n",
      "|Research & Development|No       |13911 |\n",
      "|Research & Development|No       |215   |\n",
      "|Research & Development|No       |19278 |\n",
      "|Research & Development|No       |4389  |\n",
      "+----------------------+---------+------+\n",
      "only showing top 20 rows\n",
      "\n"
     ]
    }
   ],
   "source": [
    "final_df.select(\"Department\", \"Attrition\", \"profit\").sort(\"Attrition\").show(truncate = False)"
   ]
  },
  {
   "cell_type": "code",
   "execution_count": 24,
   "id": "1e4cbf53",
   "metadata": {},
   "outputs": [],
   "source": [
    "final_df = final_df.cache()"
   ]
  },
  {
   "cell_type": "code",
   "execution_count": 25,
   "id": "37c0339e",
   "metadata": {},
   "outputs": [
    {
     "data": {
      "text/plain": [
       "1470"
      ]
     },
     "execution_count": 25,
     "metadata": {},
     "output_type": "execute_result"
    }
   ],
   "source": [
    "final_df.count()"
   ]
  },
  {
   "cell_type": "code",
   "execution_count": 26,
   "id": "924fc687",
   "metadata": {},
   "outputs": [
    {
     "data": {
      "text/plain": [
       "1470"
      ]
     },
     "execution_count": 26,
     "metadata": {},
     "output_type": "execute_result"
    }
   ],
   "source": [
    "final_df.count()"
   ]
  },
  {
   "cell_type": "markdown",
   "id": "b75378f7",
   "metadata": {},
   "source": [
    "# 1. Using Row Number"
   ]
  },
  {
   "cell_type": "code",
   "execution_count": 27,
   "id": "5a102edf",
   "metadata": {},
   "outputs": [
    {
     "name": "stdout",
     "output_type": "stream",
     "text": [
      "+--------+--------+------+---------------+-------------+-----------+---------+------+\n",
      "|OverTime|OverTime|gender|Department     |MonthlyIncome|MonthlyRate|Attrition|profit|\n",
      "+--------+--------+------+---------------+-------------+-----------+---------+------+\n",
      "|Yes     |Yes     |Male  |Human Resources|5021         |10425      |No       |5404  |\n",
      "|No      |No      |Male  |Human Resources|4936         |23965      |No       |19029 |\n",
      "|Yes     |Yes     |Male  |Human Resources|2073         |23648      |Yes      |21575 |\n",
      "|No      |No      |Female|Human Resources|18844        |21922      |No       |3078  |\n",
      "|Yes     |Yes     |Female|Human Resources|17328        |13871      |No       |-3457 |\n",
      "|No      |No      |Female|Human Resources|2942         |8916       |No       |5974  |\n",
      "|Yes     |Yes     |Male  |Human Resources|6347         |13982      |No       |7635  |\n",
      "|No      |No      |Male  |Human Resources|2267         |25657      |No       |23390 |\n",
      "|No      |No      |Male  |Human Resources|6410         |17822      |No       |11412 |\n",
      "|Yes     |Yes     |Male  |Human Resources|2696         |24017      |No       |21321 |\n",
      "|No      |No      |Male  |Human Resources|2564         |18437      |Yes      |15873 |\n",
      "|Yes     |Yes     |Female|Human Resources|9950         |11533      |Yes      |1583  |\n",
      "|Yes     |Yes     |Female|Human Resources|2741         |22808      |Yes      |20067 |\n",
      "|No      |No      |Male  |Human Resources|18200        |7999       |No       |-10201|\n",
      "|No      |No      |Female|Human Resources|5985         |26894      |No       |20909 |\n",
      "|No      |No      |Male  |Human Resources|10725        |6729       |No       |-3996 |\n",
      "|No      |No      |Male  |Human Resources|19141        |8861       |No       |-10280|\n",
      "|No      |No      |Male  |Human Resources|19189        |19562      |No       |373   |\n",
      "|No      |No      |Female|Human Resources|6389         |18767      |No       |12378 |\n",
      "|No      |No      |Male  |Human Resources|2143         |25527      |No       |23384 |\n",
      "+--------+--------+------+---------------+-------------+-----------+---------+------+\n",
      "only showing top 20 rows\n",
      "\n"
     ]
    }
   ],
   "source": [
    "final_df.select(\"*\").sort(\"Department\").show(truncate = False)"
   ]
  },
  {
   "cell_type": "code",
   "execution_count": 28,
   "id": "fd10efe8",
   "metadata": {},
   "outputs": [],
   "source": [
    "from pyspark.sql.functions import col, row_number\n",
    "from pyspark.sql.window import Window\n",
    "from pyspark.sql.functions import desc"
   ]
  },
  {
   "cell_type": "code",
   "execution_count": 29,
   "id": "33084a54",
   "metadata": {},
   "outputs": [],
   "source": [
    "myWindow =  Window.partitionBy(\"Department\").orderBy(desc(\"MonthlyIncome\"))"
   ]
  },
  {
   "cell_type": "code",
   "execution_count": 30,
   "id": "6cf128ab",
   "metadata": {},
   "outputs": [],
   "source": [
    "df2 =  final_df.withColumn(\"Number\", row_number().over(myWindow)).cache()"
   ]
  },
  {
   "cell_type": "code",
   "execution_count": 31,
   "id": "acd82135",
   "metadata": {},
   "outputs": [
    {
     "name": "stdout",
     "output_type": "stream",
     "text": [
      "+------+----------+------+-------------+\n",
      "|Number|Department|gender|MonthlyIncome|\n",
      "+------+----------+------+-------------+\n",
      "|1     |Sales     |Male  |19847        |\n",
      "|2     |Sales     |Female|19845        |\n",
      "|3     |Sales     |Male  |19833        |\n",
      "|4     |Sales     |Male  |19586        |\n",
      "|5     |Sales     |Female|19517        |\n",
      "|6     |Sales     |Male  |19331        |\n",
      "|7     |Sales     |Male  |19068        |\n",
      "|8     |Sales     |Female|18947        |\n",
      "|9     |Sales     |Female|18824        |\n",
      "|10    |Sales     |Female|18789        |\n",
      "|11    |Sales     |Male  |18303        |\n",
      "|12    |Sales     |Male  |18213        |\n",
      "|13    |Sales     |Female|18041        |\n",
      "|14    |Sales     |Female|17875        |\n",
      "|15    |Sales     |Female|17650        |\n",
      "|16    |Sales     |Male  |17567        |\n",
      "|17    |Sales     |Male  |17465        |\n",
      "|18    |Sales     |Male  |17444        |\n",
      "|19    |Sales     |Female|17048        |\n",
      "|20    |Sales     |Male  |16959        |\n",
      "+------+----------+------+-------------+\n",
      "only showing top 20 rows\n",
      "\n"
     ]
    }
   ],
   "source": [
    "df2.select(\"Number\",\"Department\",\"gender\", \"MonthlyIncome\").show(truncate = False)"
   ]
  },
  {
   "cell_type": "markdown",
   "id": "fe2edf10",
   "metadata": {},
   "source": [
    "# 2. Top Department By income(monthly)"
   ]
  },
  {
   "cell_type": "code",
   "execution_count": 32,
   "id": "532cd022",
   "metadata": {},
   "outputs": [],
   "source": [
    "myWindow =  Window.partitionBy(\"Department\").orderBy(desc(\"MonthlyIncome\"))"
   ]
  },
  {
   "cell_type": "code",
   "execution_count": 33,
   "id": "b715446a",
   "metadata": {},
   "outputs": [
    {
     "name": "stdout",
     "output_type": "stream",
     "text": [
      "+----------------------+------+-------------+\n",
      "|Department            |gender|MonthlyIncome|\n",
      "+----------------------+------+-------------+\n",
      "|Sales                 |Female|5993         |\n",
      "|Research & Development|Male  |5130         |\n",
      "|Research & Development|Male  |2090         |\n",
      "|Research & Development|Female|2909         |\n",
      "|Research & Development|Male  |3468         |\n",
      "|Research & Development|Male  |3068         |\n",
      "|Research & Development|Female|2670         |\n",
      "|Research & Development|Male  |2693         |\n",
      "|Research & Development|Male  |9526         |\n",
      "|Research & Development|Male  |5237         |\n",
      "|Research & Development|Male  |2426         |\n",
      "|Research & Development|Female|4193         |\n",
      "|Research & Development|Male  |2911         |\n",
      "|Research & Development|Male  |2661         |\n",
      "|Research & Development|Male  |2028         |\n",
      "|Research & Development|Female|9980         |\n",
      "|Research & Development|Male  |3298         |\n",
      "|Research & Development|Male  |2935         |\n",
      "|Sales                 |Female|15427        |\n",
      "|Research & Development|Male  |3944         |\n",
      "+----------------------+------+-------------+\n",
      "only showing top 20 rows\n",
      "\n"
     ]
    }
   ],
   "source": [
    "final_df.select(\"Department\", \"gender\", \"MonthlyIncome\").show(truncate = False)"
   ]
  },
  {
   "cell_type": "code",
   "execution_count": 34,
   "id": "9869e8de",
   "metadata": {},
   "outputs": [],
   "source": [
    "from pyspark.sql.functions import rank"
   ]
  },
  {
   "cell_type": "code",
   "execution_count": 35,
   "id": "29bdb97a",
   "metadata": {},
   "outputs": [
    {
     "name": "stdout",
     "output_type": "stream",
     "text": [
      "+----------+-------------+----+\n",
      "|Department|MonthlyIncome|rank|\n",
      "+----------+-------------+----+\n",
      "|     Sales|        19847|   1|\n",
      "|     Sales|        19845|   2|\n",
      "|     Sales|        19833|   3|\n",
      "|     Sales|        19586|   4|\n",
      "|     Sales|        19517|   5|\n",
      "|     Sales|        19331|   6|\n",
      "|     Sales|        19068|   7|\n",
      "|     Sales|        18947|   8|\n",
      "|     Sales|        18824|   9|\n",
      "|     Sales|        18789|  10|\n",
      "|     Sales|        18303|  11|\n",
      "|     Sales|        18213|  12|\n",
      "|     Sales|        18041|  13|\n",
      "|     Sales|        17875|  14|\n",
      "|     Sales|        17650|  15|\n",
      "|     Sales|        17567|  16|\n",
      "|     Sales|        17465|  17|\n",
      "|     Sales|        17444|  18|\n",
      "|     Sales|        17048|  19|\n",
      "|     Sales|        16959|  20|\n",
      "+----------+-------------+----+\n",
      "only showing top 20 rows\n",
      "\n"
     ]
    }
   ],
   "source": [
    "df3 =  final_df.select(\"Department\", \"MonthlyIncome\").withColumn(\"rank\", rank().over(myWindow)).cache()\n",
    "df3.show()"
   ]
  },
  {
   "cell_type": "code",
   "execution_count": 36,
   "id": "0f2f8f9a",
   "metadata": {},
   "outputs": [],
   "source": [
    "df_salary = df3.groupBy(\"Department\").sum(\"MonthlyIncome\")"
   ]
  },
  {
   "cell_type": "code",
   "execution_count": 37,
   "id": "359af5ed",
   "metadata": {},
   "outputs": [
    {
     "name": "stdout",
     "output_type": "stream",
     "text": [
      "+----------------------+-------+\n",
      "|Department            |salary |\n",
      "+----------------------+-------+\n",
      "|Sales                 |3103791|\n",
      "|Research & Development|6036284|\n",
      "|Human Resources       |419234 |\n",
      "+----------------------+-------+\n",
      "\n"
     ]
    }
   ],
   "source": [
    "df_salary.select(\"Department\", \"sum(MonthlyIncome)\").withColumnRenamed(\"sum(MonthlyIncome)\", \"salary\").show(truncate = False)"
   ]
  },
  {
   "cell_type": "code",
   "execution_count": 38,
   "id": "8d42abf7",
   "metadata": {},
   "outputs": [],
   "source": [
    "from pyspark.sql.functions import dense_rank"
   ]
  },
  {
   "cell_type": "code",
   "execution_count": 39,
   "id": "9a212899",
   "metadata": {},
   "outputs": [
    {
     "name": "stdout",
     "output_type": "stream",
     "text": [
      "+----------+-------------+----+\n",
      "|Department|MonthlyIncome|rank|\n",
      "+----------+-------------+----+\n",
      "|     Sales|        19847|   1|\n",
      "|     Sales|        19845|   2|\n",
      "|     Sales|        19833|   3|\n",
      "|     Sales|        19586|   4|\n",
      "|     Sales|        19517|   5|\n",
      "|     Sales|        19331|   6|\n",
      "|     Sales|        19068|   7|\n",
      "|     Sales|        18947|   8|\n",
      "|     Sales|        18824|   9|\n",
      "|     Sales|        18789|  10|\n",
      "|     Sales|        18303|  11|\n",
      "|     Sales|        18213|  12|\n",
      "|     Sales|        18041|  13|\n",
      "|     Sales|        17875|  14|\n",
      "|     Sales|        17650|  15|\n",
      "|     Sales|        17567|  16|\n",
      "|     Sales|        17465|  17|\n",
      "|     Sales|        17444|  18|\n",
      "|     Sales|        17048|  19|\n",
      "|     Sales|        16959|  20|\n",
      "+----------+-------------+----+\n",
      "only showing top 20 rows\n",
      "\n"
     ]
    }
   ],
   "source": [
    "df3 =  final_df.select(\"Department\", \"MonthlyIncome\").withColumn(\"rank\", dense_rank().over(myWindow)).cache()\n",
    "df3.show()"
   ]
  },
  {
   "cell_type": "markdown",
   "id": "3746de8f",
   "metadata": {},
   "source": [
    "## Lag"
   ]
  },
  {
   "cell_type": "code",
   "execution_count": 40,
   "id": "65928341",
   "metadata": {},
   "outputs": [],
   "source": [
    "from pyspark.sql.functions import lag  "
   ]
  },
  {
   "cell_type": "code",
   "execution_count": 41,
   "id": "107d636d",
   "metadata": {},
   "outputs": [
    {
     "name": "stdout",
     "output_type": "stream",
     "text": [
      "+---------------+------+-------------+\n",
      "|Department     |gender|MonthlyIncome|\n",
      "+---------------+------+-------------+\n",
      "|Human Resources|Male  |5021         |\n",
      "|Human Resources|Male  |4936         |\n",
      "|Human Resources|Male  |2073         |\n",
      "|Human Resources|Female|18844        |\n",
      "|Human Resources|Female|17328        |\n",
      "|Human Resources|Female|2942         |\n",
      "|Human Resources|Male  |6347         |\n",
      "|Human Resources|Male  |2267         |\n",
      "|Human Resources|Male  |6410         |\n",
      "|Human Resources|Male  |2696         |\n",
      "|Human Resources|Male  |2564         |\n",
      "|Human Resources|Female|9950         |\n",
      "|Human Resources|Female|2741         |\n",
      "|Human Resources|Male  |18200        |\n",
      "|Human Resources|Female|5985         |\n",
      "|Human Resources|Male  |10725        |\n",
      "|Human Resources|Male  |19141        |\n",
      "|Human Resources|Male  |19189        |\n",
      "|Human Resources|Female|6389         |\n",
      "|Human Resources|Male  |2143         |\n",
      "+---------------+------+-------------+\n",
      "only showing top 20 rows\n",
      "\n"
     ]
    }
   ],
   "source": [
    "cumm = final_df.select(\"Department\",\"gender\", \"MonthlyIncome\").orderBy(\"Department\")\n",
    "cumm.show(truncate = False)"
   ]
  },
  {
   "cell_type": "code",
   "execution_count": 42,
   "id": "d1745e60",
   "metadata": {},
   "outputs": [],
   "source": [
    "myWindow =  Window.partitionBy(\"Department\").orderBy(desc(\"MonthlyIncome\"))"
   ]
  },
  {
   "cell_type": "code",
   "execution_count": 43,
   "id": "06ffd9b5",
   "metadata": {},
   "outputs": [],
   "source": [
    "lagger = final_df.select(\"Department\", \"MonthlyIncome\").withColumn(\"previous_value\", lag(\"MonthlyIncome\").over(myWindow))"
   ]
  },
  {
   "cell_type": "code",
   "execution_count": 44,
   "id": "5301bbaf",
   "metadata": {},
   "outputs": [
    {
     "name": "stdout",
     "output_type": "stream",
     "text": [
      "+----------+-------------+--------------+\n",
      "|Department|MonthlyIncome|previous_value|\n",
      "+----------+-------------+--------------+\n",
      "|     Sales|        19847|          null|\n",
      "|     Sales|        19845|         19847|\n",
      "|     Sales|        19833|         19845|\n",
      "|     Sales|        19586|         19833|\n",
      "|     Sales|        19517|         19586|\n",
      "|     Sales|        19331|         19517|\n",
      "|     Sales|        19068|         19331|\n",
      "|     Sales|        18947|         19068|\n",
      "|     Sales|        18824|         18947|\n",
      "|     Sales|        18789|         18824|\n",
      "|     Sales|        18303|         18789|\n",
      "|     Sales|        18213|         18303|\n",
      "|     Sales|        18041|         18213|\n",
      "|     Sales|        17875|         18041|\n",
      "|     Sales|        17650|         17875|\n",
      "|     Sales|        17567|         17650|\n",
      "|     Sales|        17465|         17567|\n",
      "|     Sales|        17444|         17465|\n",
      "|     Sales|        17048|         17444|\n",
      "|     Sales|        16959|         17048|\n",
      "+----------+-------------+--------------+\n",
      "only showing top 20 rows\n",
      "\n"
     ]
    }
   ],
   "source": [
    "lagger.show()"
   ]
  },
  {
   "cell_type": "code",
   "execution_count": 45,
   "id": "8ae89972",
   "metadata": {},
   "outputs": [],
   "source": [
    "comparison = lagger.withColumn(\"cumm_sum\", lagger.MonthlyIncome + lagger.previous_value)"
   ]
  },
  {
   "cell_type": "code",
   "execution_count": 46,
   "id": "9ef861b3",
   "metadata": {},
   "outputs": [
    {
     "name": "stdout",
     "output_type": "stream",
     "text": [
      "+----------+-------------+--------------+--------+\n",
      "|Department|MonthlyIncome|previous_value|cumm_sum|\n",
      "+----------+-------------+--------------+--------+\n",
      "|     Sales|        19847|          null|    null|\n",
      "|     Sales|        19845|         19847|   39692|\n",
      "|     Sales|        19833|         19845|   39678|\n",
      "|     Sales|        19586|         19833|   39419|\n",
      "|     Sales|        19517|         19586|   39103|\n",
      "|     Sales|        19331|         19517|   38848|\n",
      "|     Sales|        19068|         19331|   38399|\n",
      "|     Sales|        18947|         19068|   38015|\n",
      "|     Sales|        18824|         18947|   37771|\n",
      "|     Sales|        18789|         18824|   37613|\n",
      "|     Sales|        18303|         18789|   37092|\n",
      "|     Sales|        18213|         18303|   36516|\n",
      "|     Sales|        18041|         18213|   36254|\n",
      "|     Sales|        17875|         18041|   35916|\n",
      "|     Sales|        17650|         17875|   35525|\n",
      "|     Sales|        17567|         17650|   35217|\n",
      "|     Sales|        17465|         17567|   35032|\n",
      "|     Sales|        17444|         17465|   34909|\n",
      "|     Sales|        17048|         17444|   34492|\n",
      "|     Sales|        16959|         17048|   34007|\n",
      "+----------+-------------+--------------+--------+\n",
      "only showing top 20 rows\n",
      "\n"
     ]
    }
   ],
   "source": [
    "comparison.show()"
   ]
  },
  {
   "cell_type": "markdown",
   "id": "d7a28379",
   "metadata": {},
   "source": [
    "## Lead"
   ]
  },
  {
   "cell_type": "code",
   "execution_count": 47,
   "id": "810a63c7",
   "metadata": {},
   "outputs": [],
   "source": [
    "from pyspark.sql.functions import lead    "
   ]
  },
  {
   "cell_type": "code",
   "execution_count": 48,
   "id": "2a137cf3",
   "metadata": {},
   "outputs": [
    {
     "name": "stdout",
     "output_type": "stream",
     "text": [
      "+----------+------+-------------+-----+\n",
      "|Department|gender|MonthlyIncome| next|\n",
      "+----------+------+-------------+-----+\n",
      "|     Sales|  Male|        19847|19845|\n",
      "|     Sales|Female|        19845|19833|\n",
      "|     Sales|  Male|        19833|19586|\n",
      "|     Sales|  Male|        19586|19517|\n",
      "|     Sales|Female|        19517|19331|\n",
      "|     Sales|  Male|        19331|19068|\n",
      "|     Sales|  Male|        19068|18947|\n",
      "|     Sales|Female|        18947|18824|\n",
      "|     Sales|Female|        18824|18789|\n",
      "|     Sales|Female|        18789|18303|\n",
      "|     Sales|  Male|        18303|18213|\n",
      "|     Sales|  Male|        18213|18041|\n",
      "|     Sales|Female|        18041|17875|\n",
      "|     Sales|Female|        17875|17650|\n",
      "|     Sales|Female|        17650|17567|\n",
      "|     Sales|  Male|        17567|17465|\n",
      "|     Sales|  Male|        17465|17444|\n",
      "|     Sales|  Male|        17444|17048|\n",
      "|     Sales|Female|        17048|16959|\n",
      "|     Sales|  Male|        16959|16872|\n",
      "+----------+------+-------------+-----+\n",
      "only showing top 20 rows\n",
      "\n"
     ]
    }
   ],
   "source": [
    "leader = final_df.select(\"Department\",\"gender\", \"MonthlyIncome\").withColumn(\"next\", lead(\"MonthlyIncome\").over(myWindow))\n",
    "leader.show()"
   ]
  },
  {
   "cell_type": "markdown",
   "id": "b79ae24f",
   "metadata": {},
   "source": [
    "## pivot"
   ]
  },
  {
   "cell_type": "code",
   "execution_count": 49,
   "id": "291435bc",
   "metadata": {},
   "outputs": [
    {
     "name": "stdout",
     "output_type": "stream",
     "text": [
      "+---------------+------+-------------+\n",
      "|Department     |gender|MonthlyIncome|\n",
      "+---------------+------+-------------+\n",
      "|Human Resources|Male  |5021         |\n",
      "|Human Resources|Male  |4936         |\n",
      "|Human Resources|Male  |2073         |\n",
      "|Human Resources|Female|18844        |\n",
      "|Human Resources|Female|17328        |\n",
      "|Human Resources|Female|2942         |\n",
      "|Human Resources|Male  |6347         |\n",
      "|Human Resources|Male  |2267         |\n",
      "|Human Resources|Male  |6410         |\n",
      "|Human Resources|Male  |2696         |\n",
      "|Human Resources|Male  |2564         |\n",
      "|Human Resources|Female|9950         |\n",
      "|Human Resources|Female|2741         |\n",
      "|Human Resources|Male  |18200        |\n",
      "|Human Resources|Female|5985         |\n",
      "|Human Resources|Male  |10725        |\n",
      "|Human Resources|Male  |19141        |\n",
      "|Human Resources|Male  |19189        |\n",
      "|Human Resources|Female|6389         |\n",
      "|Human Resources|Male  |2143         |\n",
      "+---------------+------+-------------+\n",
      "only showing top 20 rows\n",
      "\n"
     ]
    }
   ],
   "source": [
    "cumm.show(truncate = False)"
   ]
  },
  {
   "cell_type": "code",
   "execution_count": 50,
   "id": "ef502776",
   "metadata": {},
   "outputs": [],
   "source": [
    "from pyspark.sql.functions import sum"
   ]
  },
  {
   "cell_type": "code",
   "execution_count": 51,
   "id": "2733bcce",
   "metadata": {},
   "outputs": [
    {
     "name": "stdout",
     "output_type": "stream",
     "text": [
      "+----------------------+------+------------------+\n",
      "|Department            |gender|sum(MonthlyIncome)|\n",
      "+----------------------+------+------------------+\n",
      "|Research & Development|Male  |3567595           |\n",
      "|Research & Development|Female|2468689           |\n",
      "|Sales                 |Male  |1786059           |\n",
      "|Sales                 |Female|1317732           |\n",
      "|Human Resources       |Male  |273954            |\n",
      "|Human Resources       |Female|145280            |\n",
      "+----------------------+------+------------------+\n",
      "\n"
     ]
    }
   ],
   "source": [
    "pivot_df = cumm.groupBy(\"Department\", \"gender\").sum(\"MonthlyIncome\").sort(\"sum(MonthlyIncome)\", ascending = False)\n",
    "pivot_df.show(truncate = False)"
   ]
  },
  {
   "cell_type": "code",
   "execution_count": 52,
   "id": "aef2aaa2",
   "metadata": {},
   "outputs": [
    {
     "name": "stdout",
     "output_type": "stream",
     "text": [
      "+------+---------------+----------------------+-------+\n",
      "|gender|Human Resources|Research & Development|  Sales|\n",
      "+------+---------------+----------------------+-------+\n",
      "|Female|         145280|               2468689|1317732|\n",
      "|  Male|         273954|               3567595|1786059|\n",
      "+------+---------------+----------------------+-------+\n",
      "\n"
     ]
    }
   ],
   "source": [
    "result = cumm.groupBy(\"gender\").pivot(\"Department\").agg(sum(\"MonthlyIncome\"))\n",
    "result.show()"
   ]
  },
  {
   "cell_type": "code",
   "execution_count": 61,
   "id": "fad10dcf",
   "metadata": {},
   "outputs": [],
   "source": [
    "##########################################################\n",
    "dup_schema = \"Id string, Name string, Occupation string, Salary long\""
   ]
  },
  {
   "cell_type": "code",
   "execution_count": 62,
   "id": "ff350500",
   "metadata": {},
   "outputs": [
    {
     "name": "stdout",
     "output_type": "stream",
     "text": [
      "+----+-------+----------+------+\n",
      "|  Id|   Name|Occupation|Salary|\n",
      "+----+-------+----------+------+\n",
      "|   1|Mrinmoy| Air-force|  2000|\n",
      "|   2| Dhruba| Air-force|  5000|\n",
      "|   3|  Subho|      Navy|  7000|\n",
      "|   4|   Aabu|      Food| 20000|\n",
      "|   5|    Tia|    Makeup|  6000|\n",
      "|   6|   Diya|    Makeup| 10000|\n",
      "|   7| Bishal|  Engineer|  1000|\n",
      "|   8|   Jina|    Makeup| 20000|\n",
      "|   9|  Bittu|      Navy| 20000|\n",
      "|  10|   Abhi|    Fruits| 50000|\n",
      "|  11|  Bishu|Vegetables|100000|\n",
      "|  12|   Bidu|      Farm| 20000|\n",
      "|  13|  Munna|      Farm| 20000|\n",
      "|  14|  Dabbu|   Alcohol| 20001|\n",
      "|  15|  Bulti|    Makeup|  9000|\n",
      "|  16|  datta|  Engineer|    20|\n",
      "|  17|   Abhi|   Vehicle| 30000|\n",
      "|null|   null|      null|  null|\n",
      "+----+-------+----------+------+\n",
      "\n"
     ]
    }
   ],
   "source": [
    "duplicate =  spark.read.format(\"csv\").schema(dup_schema).load(\"data/week08/employment.csv\")\n",
    "duplicate.show()"
   ]
  },
  {
   "cell_type": "code",
   "execution_count": 65,
   "id": "3dbee8ae",
   "metadata": {},
   "outputs": [],
   "source": [
    "duplicate = duplicate.na.drop()"
   ]
  },
  {
   "cell_type": "code",
   "execution_count": 67,
   "id": "65975602",
   "metadata": {},
   "outputs": [
    {
     "name": "stdout",
     "output_type": "stream",
     "text": [
      "+---+-------+----------+------+\n",
      "| Id|   Name|Occupation|Salary|\n",
      "+---+-------+----------+------+\n",
      "|  1|Mrinmoy| Air-force|  2000|\n",
      "|  2| Dhruba| Air-force|  5000|\n",
      "|  3|  Subho|      Navy|  7000|\n",
      "|  4|   Aabu|      Food| 20000|\n",
      "|  5|    Tia|    Makeup|  6000|\n",
      "|  6|   Diya|    Makeup| 10000|\n",
      "|  7| Bishal|  Engineer|  1000|\n",
      "|  8|   Jina|    Makeup| 20000|\n",
      "|  9|  Bittu|      Navy| 20000|\n",
      "| 10|   Abhi|    Fruits| 50000|\n",
      "| 11|  Bishu|Vegetables|100000|\n",
      "| 12|   Bidu|      Farm| 20000|\n",
      "| 13|  Munna|      Farm| 20000|\n",
      "| 14|  Dabbu|   Alcohol| 20001|\n",
      "| 15|  Bulti|    Makeup|  9000|\n",
      "| 16|  datta|  Engineer|    20|\n",
      "| 17|   Abhi|   Vehicle| 30000|\n",
      "+---+-------+----------+------+\n",
      "\n"
     ]
    }
   ],
   "source": [
    "duplicate.show()"
   ]
  },
  {
   "cell_type": "code",
   "execution_count": 77,
   "id": "6856f1da",
   "metadata": {},
   "outputs": [],
   "source": [
    "mywindow = Window.partitionBy(\"Occupation\").orderBy(\"Salary\")"
   ]
  },
  {
   "cell_type": "code",
   "execution_count": 78,
   "id": "91eacfc9",
   "metadata": {},
   "outputs": [
    {
     "name": "stdout",
     "output_type": "stream",
     "text": [
      "+---+-------+----------+------+----+\n",
      "| Id|   Name|Occupation|Salary|Rank|\n",
      "+---+-------+----------+------+----+\n",
      "|  1|Mrinmoy| Air-force|  2000|   1|\n",
      "|  2| Dhruba| Air-force|  5000|   2|\n",
      "|  4|   Aabu|      Food| 20000|   1|\n",
      "| 12|   Bidu|      Farm| 20000|   1|\n",
      "| 13|  Munna|      Farm| 20000|   1|\n",
      "| 11|  Bishu|Vegetables|100000|   1|\n",
      "| 16|  datta|  Engineer|    20|   1|\n",
      "|  7| Bishal|  Engineer|  1000|   2|\n",
      "| 14|  Dabbu|   Alcohol| 20001|   1|\n",
      "| 10|   Abhi|    Fruits| 50000|   1|\n",
      "|  3|  Subho|      Navy|  7000|   1|\n",
      "|  9|  Bittu|      Navy| 20000|   2|\n",
      "| 17|   Abhi|   Vehicle| 30000|   1|\n",
      "|  5|    Tia|    Makeup|  6000|   1|\n",
      "| 15|  Bulti|    Makeup|  9000|   2|\n",
      "|  6|   Diya|    Makeup| 10000|   3|\n",
      "|  8|   Jina|    Makeup| 20000|   4|\n",
      "+---+-------+----------+------+----+\n",
      "\n"
     ]
    }
   ],
   "source": [
    "duplicate.withColumn(\"Rank\", rank().over(mywindow)).show()"
   ]
  },
  {
   "cell_type": "code",
   "execution_count": 79,
   "id": "c63d7b65",
   "metadata": {},
   "outputs": [
    {
     "name": "stdout",
     "output_type": "stream",
     "text": [
      "+---+-------+----------+------+----------+\n",
      "| Id|   Name|Occupation|Salary|Dense Rank|\n",
      "+---+-------+----------+------+----------+\n",
      "|  1|Mrinmoy| Air-force|  2000|         1|\n",
      "|  2| Dhruba| Air-force|  5000|         2|\n",
      "|  4|   Aabu|      Food| 20000|         1|\n",
      "| 12|   Bidu|      Farm| 20000|         1|\n",
      "| 13|  Munna|      Farm| 20000|         1|\n",
      "| 11|  Bishu|Vegetables|100000|         1|\n",
      "| 16|  datta|  Engineer|    20|         1|\n",
      "|  7| Bishal|  Engineer|  1000|         2|\n",
      "| 14|  Dabbu|   Alcohol| 20001|         1|\n",
      "| 10|   Abhi|    Fruits| 50000|         1|\n",
      "|  3|  Subho|      Navy|  7000|         1|\n",
      "|  9|  Bittu|      Navy| 20000|         2|\n",
      "| 17|   Abhi|   Vehicle| 30000|         1|\n",
      "|  5|    Tia|    Makeup|  6000|         1|\n",
      "| 15|  Bulti|    Makeup|  9000|         2|\n",
      "|  6|   Diya|    Makeup| 10000|         3|\n",
      "|  8|   Jina|    Makeup| 20000|         4|\n",
      "+---+-------+----------+------+----------+\n",
      "\n"
     ]
    }
   ],
   "source": [
    "duplicate.withColumn(\"Dense Rank\", dense_rank().over(mywindow)).show()"
   ]
  },
  {
   "cell_type": "code",
   "execution_count": 81,
   "id": "175d6a1a",
   "metadata": {},
   "outputs": [
    {
     "name": "stdout",
     "output_type": "stream",
     "text": [
      "+----------+-----+-----+-----+------+------+-----+-----+-----+------+-----+-----+-------+-----+-----+----+-----+\n",
      "|Occupation| Aabu| Abhi| Bidu|Bishal| Bishu|Bittu|Bulti|Dabbu|Dhruba| Diya| Jina|Mrinmoy|Munna|Subho| Tia|datta|\n",
      "+----------+-----+-----+-----+------+------+-----+-----+-----+------+-----+-----+-------+-----+-----+----+-----+\n",
      "| Air-force| null| null| null|  null|  null| null| null| null|  5000| null| null|   2000| null| null|null| null|\n",
      "|      Food|20000| null| null|  null|  null| null| null| null|  null| null| null|   null| null| null|null| null|\n",
      "|      Farm| null| null|20000|  null|  null| null| null| null|  null| null| null|   null|20000| null|null| null|\n",
      "|Vegetables| null| null| null|  null|100000| null| null| null|  null| null| null|   null| null| null|null| null|\n",
      "|  Engineer| null| null| null|  1000|  null| null| null| null|  null| null| null|   null| null| null|null|   20|\n",
      "|   Alcohol| null| null| null|  null|  null| null| null|20001|  null| null| null|   null| null| null|null| null|\n",
      "|    Fruits| null|50000| null|  null|  null| null| null| null|  null| null| null|   null| null| null|null| null|\n",
      "|      Navy| null| null| null|  null|  null|20000| null| null|  null| null| null|   null| null| 7000|null| null|\n",
      "|   Vehicle| null|30000| null|  null|  null| null| null| null|  null| null| null|   null| null| null|null| null|\n",
      "|    Makeup| null| null| null|  null|  null| null| 9000| null|  null|10000|20000|   null| null| null|6000| null|\n",
      "+----------+-----+-----+-----+------+------+-----+-----+-----+------+-----+-----+-------+-----+-----+----+-----+\n",
      "\n"
     ]
    }
   ],
   "source": [
    "result = duplicate.groupBy(\"Occupation\").pivot(\"Name\").agg(sum(\"Salary\"))\n",
    "result.show()"
   ]
  },
  {
   "cell_type": "code",
   "execution_count": null,
   "id": "9792e905",
   "metadata": {},
   "outputs": [],
   "source": []
  }
 ],
 "metadata": {
  "kernelspec": {
   "display_name": "Pyspark 2",
   "language": "python",
   "name": "pyspark2"
  },
  "language_info": {
   "codemirror_mode": {
    "name": "ipython",
    "version": 3
   },
   "file_extension": ".py",
   "mimetype": "text/x-python",
   "name": "python",
   "nbconvert_exporter": "python",
   "pygments_lexer": "ipython3",
   "version": "3.6.12"
  }
 },
 "nbformat": 4,
 "nbformat_minor": 5
}
