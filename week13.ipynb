{
 "cells": [
  {
   "cell_type": "code",
   "execution_count": 161,
   "id": "7e8439ec",
   "metadata": {},
   "outputs": [],
   "source": [
    "from pyspark.sql import SparkSession\n",
    "import getpass\n",
    "username = getpass.getuser()\n",
    "spark = SparkSession. \\\n",
    "builder. \\\n",
    "config('spark.ui.port', '0'). \\\n",
    "appName(\"week13\").\\\n",
    "config('spark.shuffle.useOldFetchProtocol', 'true'). \\\n",
    "config(\"spark.sql.warehouse.dir\", f\"/user/itv009033/warehouse\"). \\\n",
    "enableHiveSupport(). \\\n",
    "master('yarn'). \\\n",
    "getOrCreate()"
   ]
  },
  {
   "cell_type": "code",
   "execution_count": 162,
   "id": "abda7e6d",
   "metadata": {},
   "outputs": [
    {
     "name": "stdout",
     "output_type": "stream",
     "text": [
      "+----+----------+----+-----+\n",
      "| _c0|       _c1| _c2|  _c3|\n",
      "+----+----------+----+-----+\n",
      "|1001|2023-05-15|1001|49.99|\n",
      "|1002|2023-05-16|1002|29.99|\n",
      "|1003|2023-05-17|1003|39.99|\n",
      "|1004|2023-05-18|1004|19.99|\n",
      "|1005|2023-05-19|1005|24.99|\n",
      "|1001|2023-05-20|1002|29.99|\n",
      "|1002|2023-05-21|1003|39.99|\n",
      "|1003|2023-05-22|1004|19.99|\n",
      "|1004|2023-05-23|1005|24.99|\n",
      "|1005|2023-05-24|1001|49.99|\n",
      "|1001|2023-05-25|1003|39.99|\n",
      "|1002|2023-05-26|1004|19.99|\n",
      "|1003|2023-05-27|1005|24.99|\n",
      "|1004|2023-05-28|1001|49.99|\n",
      "|1005|2023-05-29|1002|29.99|\n",
      "|1001|2023-05-30|1003|39.99|\n",
      "|1002|2023-05-31|1004|19.99|\n",
      "|1003|2023-06-01|1005|24.99|\n",
      "|1004|2023-06-02|1001|49.99|\n",
      "|1005|2023-06-03|1002|29.99|\n",
      "+----+----------+----+-----+\n",
      "only showing top 20 rows\n",
      "\n"
     ]
    }
   ],
   "source": [
    "df = spark.read.format(\"csv\").load(\"landing/cust_trnsf/cust_transf.csv\")\n",
    "df.show()"
   ]
  },
  {
   "cell_type": "code",
   "execution_count": 163,
   "id": "af8cc87f",
   "metadata": {},
   "outputs": [
    {
     "data": {
      "text/plain": [
       "18"
      ]
     },
     "execution_count": 163,
     "metadata": {},
     "output_type": "execute_result"
    }
   ],
   "source": [
    "df.rdd.getNumPartitions()"
   ]
  },
  {
   "cell_type": "markdown",
   "id": "afac859f",
   "metadata": {},
   "source": [
    "# 1. Analyze the datasets chosen and come up with an example use-case."
   ]
  },
  {
   "cell_type": "code",
   "execution_count": 164,
   "id": "1051f3c9",
   "metadata": {},
   "outputs": [],
   "source": [
    "from pyspark.sql.types import StructType, StructField, TimestampType, IntegerType, StringType, DateType, FloatType\n",
    "from pyspark.sql.functions import from_unixtime, expr"
   ]
  },
  {
   "cell_type": "code",
   "execution_count": 165,
   "id": "9cac23a3",
   "metadata": {},
   "outputs": [],
   "source": [
    "customers_schema = StructType([StructField(\"o_id\", IntegerType(), True)\n",
    "                              ,StructField(\"date\", DateType(), True)\n",
    "                              ,StructField(\"c_id\", IntegerType(), True)\n",
    "                              ,StructField(\"amount\", FloatType(), True)])"
   ]
  },
  {
   "cell_type": "code",
   "execution_count": 166,
   "id": "5893c06a",
   "metadata": {},
   "outputs": [
    {
     "name": "stdout",
     "output_type": "stream",
     "text": [
      "+----+----------+----+------+\n",
      "|o_id|      date|c_id|amount|\n",
      "+----+----------+----+------+\n",
      "|1001|2023-05-15|1001| 49.99|\n",
      "|1002|2023-05-16|1002| 29.99|\n",
      "|1003|2023-05-17|1003| 39.99|\n",
      "|1004|2023-05-18|1004| 19.99|\n",
      "|1005|2023-05-19|1005| 24.99|\n",
      "|1001|2023-05-20|1002| 29.99|\n",
      "|1002|2023-05-21|1003| 39.99|\n",
      "|1003|2023-05-22|1004| 19.99|\n",
      "|1004|2023-05-23|1005| 24.99|\n",
      "|1005|2023-05-24|1001| 49.99|\n",
      "|1001|2023-05-25|1003| 39.99|\n",
      "|1002|2023-05-26|1004| 19.99|\n",
      "|1003|2023-05-27|1005| 24.99|\n",
      "|1004|2023-05-28|1001| 49.99|\n",
      "|1005|2023-05-29|1002| 29.99|\n",
      "|1001|2023-05-30|1003| 39.99|\n",
      "|1002|2023-05-31|1004| 19.99|\n",
      "|1003|2023-06-01|1005| 24.99|\n",
      "|1004|2023-06-02|1001| 49.99|\n",
      "|1005|2023-06-03|1002| 29.99|\n",
      "+----+----------+----+------+\n",
      "only showing top 20 rows\n",
      "\n"
     ]
    }
   ],
   "source": [
    "cust_transf_df = spark.read.format(\"csv\").schema(customers_schema).load(\"landing/cust_trnsf/cust_transf.csv\")\n",
    "cust_transf_df.show()"
   ]
  },
  {
   "cell_type": "code",
   "execution_count": 167,
   "id": "3006dc20",
   "metadata": {},
   "outputs": [],
   "source": [
    "temp_df = cust_transf_df"
   ]
  },
  {
   "cell_type": "code",
   "execution_count": 168,
   "id": "be606321",
   "metadata": {},
   "outputs": [
    {
     "name": "stdout",
     "output_type": "stream",
     "text": [
      "root\n",
      " |-- o_id: integer (nullable = true)\n",
      " |-- date: date (nullable = true)\n",
      " |-- c_id: integer (nullable = true)\n",
      " |-- amount: float (nullable = true)\n",
      "\n"
     ]
    }
   ],
   "source": [
    "cust_transf_df.printSchema()"
   ]
  },
  {
   "cell_type": "markdown",
   "id": "9a293de0",
   "metadata": {},
   "source": [
    "# Use Case 1 : \n",
    "\n",
    "* Let's breakdown the date column and find out the amount collected per month, year and Quarter"
   ]
  },
  {
   "cell_type": "code",
   "execution_count": 169,
   "id": "52d4776f",
   "metadata": {},
   "outputs": [],
   "source": [
    "import datetime\n",
    "from pyspark.sql.functions import *\n",
    "from pyspark.sql.functions import year, month, dayofmonth, quarter"
   ]
  },
  {
   "cell_type": "code",
   "execution_count": 170,
   "id": "ed5633cf",
   "metadata": {},
   "outputs": [
    {
     "name": "stdout",
     "output_type": "stream",
     "text": [
      "+----+----------+----+------+----+-----+-------+---+\n",
      "|o_id|      date|c_id|amount|year|month|quarter|day|\n",
      "+----+----------+----+------+----+-----+-------+---+\n",
      "|1001|2023-05-15|1001| 49.99|2023|    5|      2| 15|\n",
      "|1002|2023-05-16|1002| 29.99|2023|    5|      2| 16|\n",
      "|1003|2023-05-17|1003| 39.99|2023|    5|      2| 17|\n",
      "|1004|2023-05-18|1004| 19.99|2023|    5|      2| 18|\n",
      "|1005|2023-05-19|1005| 24.99|2023|    5|      2| 19|\n",
      "|1001|2023-05-20|1002| 29.99|2023|    5|      2| 20|\n",
      "|1002|2023-05-21|1003| 39.99|2023|    5|      2| 21|\n",
      "|1003|2023-05-22|1004| 19.99|2023|    5|      2| 22|\n",
      "|1004|2023-05-23|1005| 24.99|2023|    5|      2| 23|\n",
      "|1005|2023-05-24|1001| 49.99|2023|    5|      2| 24|\n",
      "|1001|2023-05-25|1003| 39.99|2023|    5|      2| 25|\n",
      "|1002|2023-05-26|1004| 19.99|2023|    5|      2| 26|\n",
      "|1003|2023-05-27|1005| 24.99|2023|    5|      2| 27|\n",
      "|1004|2023-05-28|1001| 49.99|2023|    5|      2| 28|\n",
      "|1005|2023-05-29|1002| 29.99|2023|    5|      2| 29|\n",
      "|1001|2023-05-30|1003| 39.99|2023|    5|      2| 30|\n",
      "|1002|2023-05-31|1004| 19.99|2023|    5|      2| 31|\n",
      "|1003|2023-06-01|1005| 24.99|2023|    6|      2|  1|\n",
      "|1004|2023-06-02|1001| 49.99|2023|    6|      2|  2|\n",
      "|1005|2023-06-03|1002| 29.99|2023|    6|      2|  3|\n",
      "+----+----------+----+------+----+-----+-------+---+\n",
      "only showing top 20 rows\n",
      "\n"
     ]
    }
   ],
   "source": [
    "cust_transf_df = cust_transf_df.withColumn(\"year\", year(\"date\").alias(\"year\"))\n",
    "cust_transf_df = cust_transf_df.withColumn(\"month\", month(\"date\").alias(\"month\"))\n",
    "cust_transf_df = cust_transf_df.withColumn(\"quarter\", quarter(\"date\").alias(\"quarter\"))\n",
    "cust_transf_df = cust_transf_df.withColumn(\"day\", dayofmonth(\"date\").alias(\"day\"))\n",
    "cust_transf_df.show()"
   ]
  },
  {
   "cell_type": "code",
   "execution_count": 171,
   "id": "445ac8e8",
   "metadata": {},
   "outputs": [
    {
     "name": "stdout",
     "output_type": "stream",
     "text": [
      "+-----+-------------------+\n",
      "|month|       total_amount|\n",
      "+-----+-------------------+\n",
      "|    6|2.003853912477951E9|\n",
      "|    5|8.827241263519745E8|\n",
      "+-----+-------------------+\n",
      "\n"
     ]
    }
   ],
   "source": [
    "transformation_1 = cust_transf_df.groupBy(\"month\").agg(sum(\"amount\").alias(\"total_amount\"))\n",
    "transformation_1.show()"
   ]
  },
  {
   "cell_type": "code",
   "execution_count": 172,
   "id": "2122ca8a",
   "metadata": {},
   "outputs": [
    {
     "data": {
      "text/plain": [
       "2"
      ]
     },
     "execution_count": 172,
     "metadata": {},
     "output_type": "execute_result"
    }
   ],
   "source": [
    "transformation_1.count()"
   ]
  },
  {
   "cell_type": "code",
   "execution_count": 173,
   "id": "67a6b1b8",
   "metadata": {},
   "outputs": [
    {
     "name": "stdout",
     "output_type": "stream",
     "text": [
      "+-----+-------------------+\n",
      "|month|       total_amount|\n",
      "+-----+-------------------+\n",
      "|    6|2.003853912477951E9|\n",
      "|    5|8.827241263519745E8|\n",
      "+-----+-------------------+\n",
      "\n"
     ]
    }
   ],
   "source": [
    "transformation_1.show(35)"
   ]
  },
  {
   "cell_type": "code",
   "execution_count": 174,
   "id": "2d72038d",
   "metadata": {},
   "outputs": [
    {
     "name": "stdout",
     "output_type": "stream",
     "text": [
      "+----+----+----------+-----+---+------+\n",
      "|o_id|c_id|      date|month|day|amount|\n",
      "+----+----+----------+-----+---+------+\n",
      "|1001|1001|2023-05-15|    5| 15| 49.99|\n",
      "|1002|1002|2023-05-16|    5| 16| 29.99|\n",
      "|1003|1003|2023-05-17|    5| 17| 39.99|\n",
      "|1004|1004|2023-05-18|    5| 18| 19.99|\n",
      "|1005|1005|2023-05-19|    5| 19| 24.99|\n",
      "|1001|1002|2023-05-20|    5| 20| 29.99|\n",
      "|1002|1003|2023-05-21|    5| 21| 39.99|\n",
      "|1003|1004|2023-05-22|    5| 22| 19.99|\n",
      "|1004|1005|2023-05-23|    5| 23| 24.99|\n",
      "|1005|1001|2023-05-24|    5| 24| 49.99|\n",
      "|1001|1003|2023-05-25|    5| 25| 39.99|\n",
      "|1002|1004|2023-05-26|    5| 26| 19.99|\n",
      "|1003|1005|2023-05-27|    5| 27| 24.99|\n",
      "|1004|1001|2023-05-28|    5| 28| 49.99|\n",
      "|1005|1002|2023-05-29|    5| 29| 29.99|\n",
      "|1001|1003|2023-05-30|    5| 30| 39.99|\n",
      "|1002|1004|2023-05-31|    5| 31| 19.99|\n",
      "|1003|1005|2023-06-01|    6|  1| 24.99|\n",
      "|1004|1001|2023-06-02|    6|  2| 49.99|\n",
      "|1005|1002|2023-06-03|    6|  3| 29.99|\n",
      "+----+----+----------+-----+---+------+\n",
      "only showing top 20 rows\n",
      "\n"
     ]
    }
   ],
   "source": [
    "customers =  cust_transf_df.select(\"o_id\", \"c_id\", \"date\",\"month\", \"day\", \"amount\")\n",
    "customers.show()"
   ]
  },
  {
   "cell_type": "code",
   "execution_count": 175,
   "id": "3e2c8e54",
   "metadata": {},
   "outputs": [],
   "source": [
    "customers = customers.cache()"
   ]
  },
  {
   "cell_type": "code",
   "execution_count": 176,
   "id": "e8b238b5",
   "metadata": {},
   "outputs": [
    {
     "data": {
      "text/plain": [
       "87498290"
      ]
     },
     "execution_count": 176,
     "metadata": {},
     "output_type": "execute_result"
    }
   ],
   "source": [
    "customers.count()"
   ]
  },
  {
   "cell_type": "code",
   "execution_count": 177,
   "id": "0bf8b4e8",
   "metadata": {},
   "outputs": [
    {
     "data": {
      "text/plain": [
       "18"
      ]
     },
     "execution_count": 177,
     "metadata": {},
     "output_type": "execute_result"
    }
   ],
   "source": [
    "customers.rdd.getNumPartitions()"
   ]
  },
  {
   "cell_type": "code",
   "execution_count": 178,
   "id": "6e0436ab",
   "metadata": {},
   "outputs": [],
   "source": [
    "temp_df.createOrReplaceTempView(\"customers\")"
   ]
  },
  {
   "cell_type": "code",
   "execution_count": 179,
   "id": "8b918874",
   "metadata": {},
   "outputs": [
    {
     "name": "stdout",
     "output_type": "stream",
     "text": [
      "+----+----------+----+------+\n",
      "|o_id|      date|c_id|amount|\n",
      "+----+----------+----+------+\n",
      "|1001|2023-05-15|1001| 49.99|\n",
      "|1002|2023-05-16|1002| 29.99|\n",
      "|1003|2023-05-17|1003| 39.99|\n",
      "|1004|2023-05-18|1004| 19.99|\n",
      "|1005|2023-05-19|1005| 24.99|\n",
      "|1001|2023-05-20|1002| 29.99|\n",
      "|1002|2023-05-21|1003| 39.99|\n",
      "|1003|2023-05-22|1004| 19.99|\n",
      "|1004|2023-05-23|1005| 24.99|\n",
      "|1005|2023-05-24|1001| 49.99|\n",
      "|1001|2023-05-25|1003| 39.99|\n",
      "|1002|2023-05-26|1004| 19.99|\n",
      "|1003|2023-05-27|1005| 24.99|\n",
      "|1004|2023-05-28|1001| 49.99|\n",
      "|1005|2023-05-29|1002| 29.99|\n",
      "|1001|2023-05-30|1003| 39.99|\n",
      "|1002|2023-05-31|1004| 19.99|\n",
      "|1003|2023-06-01|1005| 24.99|\n",
      "|1004|2023-06-02|1001| 49.99|\n",
      "|1005|2023-06-03|1002| 29.99|\n",
      "+----+----------+----+------+\n",
      "only showing top 20 rows\n",
      "\n"
     ]
    }
   ],
   "source": [
    "spark.sql('''select * from customers''').show()"
   ]
  },
  {
   "cell_type": "code",
   "execution_count": 180,
   "id": "92b35561",
   "metadata": {},
   "outputs": [
    {
     "name": "stdout",
     "output_type": "stream",
     "text": [
      "+----+---+--------------------+\n",
      "|o_id|mth|        total_amount|\n",
      "+----+---+--------------------+\n",
      "|1008| 06|1.3517889965189552E8|\n",
      "|1005| 06| 2.624090592137146E8|\n",
      "|1010| 06|1.6699778965229416E8|\n",
      "|1015| 06|1.6700301465229416E8|\n",
      "|1014| 06|1.5109356965229416E8|\n",
      "|1007| 06|1.4313205465189552E8|\n",
      "|1011| 06|1.9086143768658066E8|\n",
      "|1012| 06|1.4313727965229416E8|\n",
      "|1006| 06|1.9085621268618202E8|\n",
      "|1009| 06|1.5108834465189552E8|\n",
      "|1013| 06|1.3518412465229416E8|\n",
      "|1002| 05| 2.067296592137146E8|\n",
      "|1001| 05| 3.180884683165741E8|\n",
      "|1003| 05| 2.146838592137146E8|\n",
      "|1004| 05| 3.101342652822876E8|\n",
      "+----+---+--------------------+\n",
      "\n"
     ]
    }
   ],
   "source": [
    "spark.sql(\"\"\"select o_id, first(date_format(date, 'MM')) as mth, sum(amount) as total_amount from customers group by o_id order by mth desc\"\"\").show()"
   ]
  },
  {
   "cell_type": "code",
   "execution_count": 181,
   "id": "538b6158",
   "metadata": {},
   "outputs": [
    {
     "name": "stdout",
     "output_type": "stream",
     "text": [
      "+----+---+--------------------+\n",
      "|o_id|mth|        total_amount|\n",
      "+----+---+--------------------+\n",
      "|1006|  6|1.9085621268618202E8|\n",
      "|1015|  6|1.6700301465229416E8|\n",
      "|1007|  6|1.4313205465189552E8|\n",
      "|1010|  6|1.6699778965229416E8|\n",
      "|1014|  6|1.5109356965229416E8|\n",
      "|1011|  6|1.9086143768658066E8|\n",
      "|1012|  6|1.4313727965229416E8|\n",
      "|1009|  6|1.5108834465189552E8|\n",
      "|1013|  6|1.3518412465229416E8|\n",
      "|1008|  6|1.3517889965189552E8|\n",
      "|1005|  5| 2.624090592137146E8|\n",
      "|1002|  5| 2.067296592137146E8|\n",
      "|1003|  5| 2.146838592137146E8|\n",
      "|1001|  5| 3.180884683165741E8|\n",
      "|1004|  5| 3.101342652822876E8|\n",
      "+----+---+--------------------+\n",
      "\n"
     ]
    }
   ],
   "source": [
    "spark.sql(\"\"\"select o_id, first(int(date_format(date, 'MM'))) as mth, sum(amount) as total_amount from customers group by o_id order by mth desc\"\"\").show()"
   ]
  },
  {
   "cell_type": "code",
   "execution_count": 182,
   "id": "dc17ca52",
   "metadata": {},
   "outputs": [
    {
     "name": "stdout",
     "output_type": "stream",
     "text": [
      "+----+----------+----+------+\n",
      "|o_id|      date|c_id|amount|\n",
      "+----+----------+----+------+\n",
      "|1001|2023-05-15|1001| 49.99|\n",
      "|1002|2023-05-16|1002| 29.99|\n",
      "|1003|2023-05-17|1003| 39.99|\n",
      "|1004|2023-05-18|1004| 19.99|\n",
      "|1005|2023-05-19|1005| 24.99|\n",
      "|1001|2023-05-20|1002| 29.99|\n",
      "|1002|2023-05-21|1003| 39.99|\n",
      "|1003|2023-05-22|1004| 19.99|\n",
      "|1004|2023-05-23|1005| 24.99|\n",
      "|1005|2023-05-24|1001| 49.99|\n",
      "|1001|2023-05-25|1003| 39.99|\n",
      "|1002|2023-05-26|1004| 19.99|\n",
      "|1003|2023-05-27|1005| 24.99|\n",
      "|1004|2023-05-28|1001| 49.99|\n",
      "|1005|2023-05-29|1002| 29.99|\n",
      "|1001|2023-05-30|1003| 39.99|\n",
      "|1002|2023-05-31|1004| 19.99|\n",
      "|1003|2023-06-01|1005| 24.99|\n",
      "|1004|2023-06-02|1001| 49.99|\n",
      "|1005|2023-06-03|1002| 29.99|\n",
      "+----+----------+----+------+\n",
      "only showing top 20 rows\n",
      "\n"
     ]
    }
   ],
   "source": [
    "spark.sql('''select * from customers''').show()"
   ]
  },
  {
   "cell_type": "code",
   "execution_count": 183,
   "id": "18c269bf",
   "metadata": {},
   "outputs": [
    {
     "name": "stdout",
     "output_type": "stream",
     "text": [
      "+----+----+\n",
      "|o_id|c_id|\n",
      "+----+----+\n",
      "|1001|1001|\n",
      "|1001|1001|\n",
      "|1001|1003|\n",
      "|1001|1003|\n",
      "|1001|1003|\n",
      "|1001|1001|\n",
      "|1001|1002|\n",
      "|1001|1003|\n",
      "|1001|1003|\n",
      "|1001|1003|\n",
      "|1001|1001|\n",
      "|1001|1002|\n",
      "|1001|1002|\n",
      "|1001|1003|\n",
      "|1001|1003|\n",
      "|1001|1003|\n",
      "|1001|1001|\n",
      "|1001|1002|\n",
      "|1001|1003|\n",
      "|1001|1003|\n",
      "+----+----+\n",
      "only showing top 20 rows\n",
      "\n"
     ]
    }
   ],
   "source": [
    "spark.sql(\"\"\"select o_id, c_id from (select o_id, c_id from customers where o_id <1010 ) where o_id <1007 order by o_id asc \"\"\").show()"
   ]
  },
  {
   "cell_type": "code",
   "execution_count": 130,
   "id": "f04067f4",
   "metadata": {},
   "outputs": [
    {
     "name": "stdout",
     "output_type": "stream",
     "text": [
      "== Parsed Logical Plan ==\n",
      "'Sort ['o_id ASC NULLS FIRST], true\n",
      "+- 'Project ['o_id, 'c_id]\n",
      "   +- 'Filter ('o_id < 1007)\n",
      "      +- 'SubqueryAlias __auto_generated_subquery_name\n",
      "         +- 'Project ['o_id, 'c_id]\n",
      "            +- 'Filter ('o_id < 1010)\n",
      "               +- 'UnresolvedRelation [customers], [], false\n",
      "\n",
      "== Analyzed Logical Plan ==\n",
      "o_id: int, c_id: int\n",
      "Sort [o_id#2385 ASC NULLS FIRST], true\n",
      "+- Project [o_id#2385, c_id#2387]\n",
      "   +- Filter (o_id#2385 < 1007)\n",
      "      +- SubqueryAlias __auto_generated_subquery_name\n",
      "         +- Project [o_id#2385, c_id#2387]\n",
      "            +- Filter (o_id#2385 < 1010)\n",
      "               +- SubqueryAlias customers\n",
      "                  +- Relation[o_id#2385,date#2386,c_id#2387,amount#2388] csv\n",
      "\n",
      "== Optimized Logical Plan ==\n",
      "Sort [o_id#2385 ASC NULLS FIRST], true\n",
      "+- Project [o_id#2385, c_id#2387]\n",
      "   +- Filter ((isnotnull(o_id#2385) AND (o_id#2385 < 1010)) AND (o_id#2385 < 1007))\n",
      "      +- Relation[o_id#2385,date#2386,c_id#2387,amount#2388] csv\n",
      "\n",
      "== Physical Plan ==\n",
      "*(2) Sort [o_id#2385 ASC NULLS FIRST], true, 0\n",
      "+- Exchange rangepartitioning(o_id#2385 ASC NULLS FIRST, 200), ENSURE_REQUIREMENTS, [id=#1404]\n",
      "   +- *(1) Filter ((isnotnull(o_id#2385) AND (o_id#2385 < 1010)) AND (o_id#2385 < 1007))\n",
      "      +- FileScan csv [o_id#2385,c_id#2387] Batched: false, DataFilters: [isnotnull(o_id#2385), (o_id#2385 < 1010), (o_id#2385 < 1007)], Format: CSV, Location: InMemoryFileIndex[hdfs://m01.itversity.com:9000/user/itv009033/landing/cust_trnsf/cust_transf.csv], PartitionFilters: [], PushedFilters: [IsNotNull(o_id), LessThan(o_id,1010), LessThan(o_id,1007)], ReadSchema: struct<o_id:int,c_id:int>\n",
      "\n"
     ]
    }
   ],
   "source": [
    "spark.sql(\"\"\"select o_id, c_id from (select o_id, c_id from customers where o_id <1010 ) where o_id <1007 order by o_id asc \"\"\").explain(True)"
   ]
  },
  {
   "cell_type": "code",
   "execution_count": 184,
   "id": "01d7d4b1",
   "metadata": {},
   "outputs": [
    {
     "name": "stdout",
     "output_type": "stream",
     "text": [
      "+----+----------+----+------+\n",
      "|o_id|      date|c_id|amount|\n",
      "+----+----------+----+------+\n",
      "|1001|2023-05-15|1001| 49.99|\n",
      "|1002|2023-05-16|1002| 29.99|\n",
      "|1003|2023-05-17|1003| 39.99|\n",
      "|1004|2023-05-18|1004| 19.99|\n",
      "|1005|2023-05-19|1005| 24.99|\n",
      "|1001|2023-05-20|1002| 29.99|\n",
      "|1002|2023-05-21|1003| 39.99|\n",
      "|1003|2023-05-22|1004| 19.99|\n",
      "|1004|2023-05-23|1005| 24.99|\n",
      "|1005|2023-05-24|1001| 49.99|\n",
      "|1001|2023-05-25|1003| 39.99|\n",
      "|1002|2023-05-26|1004| 19.99|\n",
      "|1003|2023-05-27|1005| 24.99|\n",
      "|1004|2023-05-28|1001| 49.99|\n",
      "|1005|2023-05-29|1002| 29.99|\n",
      "|1001|2023-05-30|1003| 39.99|\n",
      "|1002|2023-05-31|1004| 19.99|\n",
      "|1003|2023-06-01|1005| 24.99|\n",
      "|1004|2023-06-02|1001| 49.99|\n",
      "|1005|2023-06-03|1002| 29.99|\n",
      "+----+----------+----+------+\n",
      "only showing top 20 rows\n",
      "\n"
     ]
    }
   ],
   "source": [
    "temp_df.show()"
   ]
  },
  {
   "cell_type": "code",
   "execution_count": 207,
   "id": "34e29488",
   "metadata": {},
   "outputs": [],
   "source": [
    "schema_evol_schema = StructType([StructField(\"o_id\", IntegerType(), True)\n",
    "                              ,StructField(\"date\", DateType(), True)\n",
    "                              ,StructField(\"c_id\", StringType(), True)\n",
    "                              ,StructField(\"amount\", FloatType(), True)\n",
    "                              ,StructField(\"status\", StringType(), True)])"
   ]
  },
  {
   "cell_type": "code",
   "execution_count": 208,
   "id": "f09159d4",
   "metadata": {},
   "outputs": [],
   "source": [
    "schema_evol = spark.read.format(\"csv\").schema(schema_evol_schema).load(\"landing/cust_trnsf/\")"
   ]
  },
  {
   "cell_type": "code",
   "execution_count": 209,
   "id": "51a91a9b",
   "metadata": {},
   "outputs": [
    {
     "name": "stdout",
     "output_type": "stream",
     "text": [
      "+----+----------+----+------+------+\n",
      "|o_id|      date|c_id|amount|status|\n",
      "+----+----------+----+------+------+\n",
      "|1001|2023-05-15|1001| 49.99|  null|\n",
      "|1002|2023-05-16|1002| 29.99|  null|\n",
      "|1003|2023-05-17|1003| 39.99|  null|\n",
      "|1004|2023-05-18|1004| 19.99|  null|\n",
      "|1005|2023-05-19|1005| 24.99|  null|\n",
      "|1001|2023-05-20|1002| 29.99|  null|\n",
      "|1002|2023-05-21|1003| 39.99|  null|\n",
      "|1003|2023-05-22|1004| 19.99|  null|\n",
      "|1004|2023-05-23|1005| 24.99|  null|\n",
      "|1005|2023-05-24|1001| 49.99|  null|\n",
      "|1001|2023-05-25|1003| 39.99|  null|\n",
      "|1002|2023-05-26|1004| 19.99|  null|\n",
      "|1003|2023-05-27|1005| 24.99|  null|\n",
      "|1004|2023-05-28|1001| 49.99|  null|\n",
      "|1005|2023-05-29|1002| 29.99|  null|\n",
      "|1001|2023-05-30|1003| 39.99|  null|\n",
      "|1002|2023-05-31|1004| 19.99|  null|\n",
      "|1003|2023-06-01|1005| 24.99|  null|\n",
      "|1004|2023-06-02|1001| 49.99|  null|\n",
      "|1005|2023-06-03|1002| 29.99|  null|\n",
      "+----+----------+----+------+------+\n",
      "only showing top 20 rows\n",
      "\n"
     ]
    }
   ],
   "source": [
    "schema_evol.show()"
   ]
  },
  {
   "cell_type": "code",
   "execution_count": 215,
   "id": "27f22b78",
   "metadata": {},
   "outputs": [],
   "source": [
    "schema_evol.write.format(\"parquet\").option(\"mergeSchema\", True).mode(\"overwrite\").option(\"compression\",\"gzip\").option(\"path\",\"/user/itv009033/landing/cust_trnsf_parquet/\").save()"
   ]
  },
  {
   "cell_type": "code",
   "execution_count": 211,
   "id": "98834f98",
   "metadata": {},
   "outputs": [],
   "source": [
    "schema_evol_parquet = spark.read.format(\"parquet\").load(\"landing/cust_trnsf_parquet/\")"
   ]
  },
  {
   "cell_type": "code",
   "execution_count": 212,
   "id": "836481fa",
   "metadata": {},
   "outputs": [
    {
     "name": "stdout",
     "output_type": "stream",
     "text": [
      "+----+----------+----+------+------+\n",
      "|o_id|      date|c_id|amount|status|\n",
      "+----+----------+----+------+------+\n",
      "|1010|2023-06-10|1001| 49.99|  null|\n",
      "|1006|2023-06-11|1003| 39.99|  null|\n",
      "|1007|2023-06-12|1004| 19.99|  null|\n",
      "|1008|2023-06-13|1005| 24.99|  null|\n",
      "|1009|2023-06-14|1001| 49.99|  null|\n",
      "|1010|2023-06-15|1002| 29.99|  null|\n",
      "|1011|2023-06-01|1001| 49.99|  null|\n",
      "|1012|2023-06-02|1002| 29.99|  null|\n",
      "|1013|2023-06-03|1003| 39.99|  null|\n",
      "|1014|2023-06-04|1004| 19.99|  null|\n",
      "|1015|2023-06-05|1005| 24.99|  null|\n",
      "|1011|2023-06-06|1002| 29.99|  null|\n",
      "|1012|2023-06-07|1003| 39.99|  null|\n",
      "|1013|2023-06-08|1004| 19.99|  null|\n",
      "|1014|2023-06-09|1005| 24.99|  null|\n",
      "|1015|2023-06-10|1001| 49.99|  null|\n",
      "|1011|2023-06-11|1003| 39.99|  null|\n",
      "|1012|2023-06-12|1004| 19.99|  null|\n",
      "|1013|2023-06-13|1005| 24.99|  null|\n",
      "|1014|2023-06-14|1001| 49.99|  null|\n",
      "+----+----------+----+------+------+\n",
      "only showing top 20 rows\n",
      "\n"
     ]
    }
   ],
   "source": [
    "schema_evol_parquet.show()"
   ]
  },
  {
   "cell_type": "code",
   "execution_count": 213,
   "id": "21a41ddc",
   "metadata": {},
   "outputs": [
    {
     "data": {
      "text/plain": [
       "[Row(o_id=1011, date=datetime.date(2023, 5, 27), c_id='1011', amount=39.9900016784668, status=None),\n",
       " Row(o_id=1012, date=datetime.date(2023, 5, 28), c_id='1012', amount=44.9900016784668, status=None),\n",
       " Row(o_id=1013, date=datetime.date(2023, 5, 29), c_id='1013', amount=49.9900016784668, status=None),\n",
       " Row(o_id=1014, date=datetime.date(2023, 5, 30), c_id='1014', amount=54.9900016784668, status=None),\n",
       " Row(o_id=1015, date=datetime.date(2023, 5, 31), c_id='1015', amount=59.9900016784668, status=None),\n",
       " Row(o_id=1006, date=datetime.date(2023, 5, 22), c_id='1006', amount=14.989999771118164, status=None),\n",
       " Row(o_id=1007, date=datetime.date(2023, 5, 23), c_id='1007', amount=19.989999771118164, status=None),\n",
       " Row(o_id=1008, date=datetime.date(2023, 5, 24), c_id='1008', amount=24.989999771118164, status=None),\n",
       " Row(o_id=1009, date=datetime.date(2023, 5, 25), c_id='1009', amount=29.989999771118164, status=None),\n",
       " Row(o_id=1010, date=datetime.date(2023, 5, 26), c_id='1010', amount=34.9900016784668, status=None),\n",
       " Row(o_id=1011, date=datetime.date(2023, 5, 27), c_id='1011', amount=39.9900016784668, status=None),\n",
       " Row(o_id=1012, date=datetime.date(2023, 5, 28), c_id='1012', amount=44.9900016784668, status=None),\n",
       " Row(o_id=1013, date=datetime.date(2023, 5, 29), c_id='1013', amount=49.9900016784668, status=None),\n",
       " Row(o_id=1014, date=datetime.date(2023, 5, 30), c_id='1014', amount=54.9900016784668, status=None),\n",
       " Row(o_id=1015, date=datetime.date(2023, 5, 31), c_id='1015', amount=59.9900016784668, status=None),\n",
       " Row(o_id=1006, date=datetime.date(2023, 5, 22), c_id='1006', amount=14.989999771118164, status=None),\n",
       " Row(o_id=1007, date=datetime.date(2023, 5, 23), c_id='1007', amount=19.989999771118164, status=None),\n",
       " Row(o_id=1008, date=datetime.date(2023, 5, 24), c_id='1008', amount=24.989999771118164, status=None),\n",
       " Row(o_id=1009, date=datetime.date(2023, 5, 25), c_id='1009', amount=29.989999771118164, status=None),\n",
       " Row(o_id=1010, date=datetime.date(2023, 5, 26), c_id='1010', amount=34.9900016784668, status=None),\n",
       " Row(o_id=1011, date=datetime.date(2023, 5, 27), c_id='1011', amount=39.9900016784668, status=None),\n",
       " Row(o_id=1012, date=datetime.date(2023, 5, 28), c_id='1012', amount=44.9900016784668, status=None),\n",
       " Row(o_id=1013, date=datetime.date(2023, 5, 29), c_id='1013', amount=49.9900016784668, status=None),\n",
       " Row(o_id=1014, date=datetime.date(2023, 5, 30), c_id='1014', amount=54.9900016784668, status=None),\n",
       " Row(o_id=1015, date=datetime.date(2023, 5, 31), c_id='1015', amount=59.9900016784668, status=None),\n",
       " Row(o_id=1015, date=datetime.date(2023, 5, 31), c_id='1015', amount=59.9900016784668, status=None),\n",
       " Row(o_id=None, date=None, c_id='c_id', amount=None, status='status'),\n",
       " Row(o_id=1017, date=datetime.date(2023, 5, 17), c_id='1002', amount=600.22998046875, status='Open'),\n",
       " Row(o_id=1018, date=datetime.date(2023, 5, 18), c_id='1002', amount=699.3300170898438, status='Open'),\n",
       " Row(o_id=1019, date=datetime.date(2023, 5, 19), c_id='1002', amount=99.0, status='Closeed'),\n",
       " Row(o_id=1020, date=datetime.date(2023, 5, 20), c_id='1002', amount=55.22999954223633, status='Closed'),\n",
       " Row(o_id=1021, date=datetime.date(2023, 5, 21), c_id='1002', amount=65.2300033569336, status='Open'),\n",
       " Row(o_id=1022, date=datetime.date(2023, 5, 22), c_id='1003', amount=565.22998046875, status='Open'),\n",
       " Row(o_id=1023, date=datetime.date(2023, 5, 23), c_id='1004', amount=212.64999389648438, status='Open'),\n",
       " Row(o_id=1024, date=datetime.date(2023, 5, 24), c_id='1005', amount=22.0, status='Open'),\n",
       " Row(o_id=1025, date=datetime.date(2023, 5, 25), c_id='1006', amount=98.0, status='Open'),\n",
       " Row(o_id=1026, date=datetime.date(2023, 5, 26), c_id='1007', amount=69.0, status='Open'),\n",
       " Row(o_id=1027, date=datetime.date(2023, 5, 27), c_id='1008', amount=78.0, status='Open'),\n",
       " Row(o_id=None, date=None, c_id='c_id', amount=None, status=None),\n",
       " Row(o_id=1017, date=datetime.date(2023, 5, 17), c_id='1002', amount=None, status=None),\n",
       " Row(o_id=1018, date=datetime.date(2023, 5, 18), c_id='1002', amount=None, status=None),\n",
       " Row(o_id=1019, date=datetime.date(2023, 5, 19), c_id='1002', amount=None, status=None),\n",
       " Row(o_id=1020, date=datetime.date(2023, 5, 20), c_id='1002', amount=None, status=None),\n",
       " Row(o_id=1021, date=datetime.date(2023, 5, 21), c_id='1002', amount=None, status=None),\n",
       " Row(o_id=1022, date=datetime.date(2023, 5, 22), c_id='1003', amount=None, status=None),\n",
       " Row(o_id=1023, date=datetime.date(2023, 5, 23), c_id='1004', amount=None, status=None),\n",
       " Row(o_id=1024, date=datetime.date(2023, 5, 24), c_id='1005', amount=None, status=None),\n",
       " Row(o_id=1025, date=datetime.date(2023, 5, 25), c_id='1006', amount=None, status=None),\n",
       " Row(o_id=1026, date=datetime.date(2023, 5, 26), c_id='1007', amount=None, status=None),\n",
       " Row(o_id=1027, date=datetime.date(2023, 5, 27), c_id='1008', amount=None, status=None)]"
      ]
     },
     "execution_count": 213,
     "metadata": {},
     "output_type": "execute_result"
    }
   ],
   "source": [
    "schema_evol_parquet.tail(50)"
   ]
  },
  {
   "cell_type": "code",
   "execution_count": 157,
   "id": "bb96847b",
   "metadata": {},
   "outputs": [],
   "source": []
  },
  {
   "cell_type": "code",
   "execution_count": 218,
   "id": "3b815282",
   "metadata": {},
   "outputs": [],
   "source": [
    "schema_evol.write.format(\"orc\").option(\"mergeSchema\", True).mode(\"overwrite\").option(\"compression\",\"lzo\").option(\"path\",\"/user/itv009033/landing/cust_trnsf_orc/\").save()"
   ]
  },
  {
   "cell_type": "code",
   "execution_count": null,
   "id": "f7c93b5c",
   "metadata": {},
   "outputs": [],
   "source": []
  }
 ],
 "metadata": {
  "kernelspec": {
   "display_name": "Pyspark 3",
   "language": "python",
   "name": "pyspark3"
  },
  "language_info": {
   "codemirror_mode": {
    "name": "ipython",
    "version": 3
   },
   "file_extension": ".py",
   "mimetype": "text/x-python",
   "name": "python",
   "nbconvert_exporter": "python",
   "pygments_lexer": "ipython3",
   "version": "3.6.12"
  }
 },
 "nbformat": 4,
 "nbformat_minor": 5
}
