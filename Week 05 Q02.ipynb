{
 "cells": [
  {
   "cell_type": "code",
   "execution_count": 1,
   "id": "56ffe09e",
   "metadata": {},
   "outputs": [],
   "source": [
    "from pyspark.sql import SparkSession\n",
    "from pyspark.sql import SparkSession\n",
    "import getpass\n",
    "username = getpass.getuser()\n",
    "spark= SparkSession. \\\n",
    "builder. \\\n",
    "config('spark.ui.port','0'). \\\n",
    "config(\"spark.sql.warehouse.dir\", f\"/user/itv009033/warehouse\"). \\\n",
    "enableHiveSupport(). \\\n",
    "master('yarn'). \\\n",
    "getOrCreate()"
   ]
  },
  {
   "cell_type": "code",
   "execution_count": 2,
   "id": "8c91b928",
   "metadata": {},
   "outputs": [],
   "source": [
    "# spark.stop()"
   ]
  },
  {
   "cell_type": "code",
   "execution_count": 2,
   "id": "91cf56c7",
   "metadata": {},
   "outputs": [
    {
     "data": {
      "text/html": [
       "\n",
       "            <div>\n",
       "                <p><b>SparkSession - hive</b></p>\n",
       "                \n",
       "        <div>\n",
       "            <p><b>SparkContext</b></p>\n",
       "\n",
       "            <p><a href=\"http://g02.itversity.com:40401\">Spark UI</a></p>\n",
       "\n",
       "            <dl>\n",
       "              <dt>Version</dt>\n",
       "                <dd><code>v3.1.2</code></dd>\n",
       "              <dt>Master</dt>\n",
       "                <dd><code>yarn</code></dd>\n",
       "              <dt>AppName</dt>\n",
       "                <dd><code>pyspark-shell</code></dd>\n",
       "            </dl>\n",
       "        </div>\n",
       "        \n",
       "            </div>\n",
       "        "
      ],
      "text/plain": [
       "<pyspark.sql.session.SparkSession at 0x7fc6bc6e0f98>"
      ]
     },
     "execution_count": 2,
     "metadata": {},
     "output_type": "execute_result"
    }
   ],
   "source": [
    "spark"
   ]
  },
  {
   "cell_type": "markdown",
   "id": "7e34c373",
   "metadata": {},
   "source": [
    "# Question 2 : Use the dataset given in HDFS (path : /public/trendytech/retail_db/products) :\n",
    "``ProductID, Category, ProductName, Description(here no data is given), Price,\n",
    "ImageURL``"
   ]
  },
  {
   "cell_type": "code",
   "execution_count": 3,
   "id": "208217ea",
   "metadata": {},
   "outputs": [],
   "source": [
    "products_df = spark.read.format('csv')\\\n",
    "                    .option('header', 'true')\\\n",
    "                    .option('inferschema','true')\\\n",
    "                    .option(\"mode\", \"DROPMALFORMED\")\\\n",
    "                    .load(\"/user/itv009033/products_folder/products_wh_data.csv\")"
   ]
  },
  {
   "cell_type": "code",
   "execution_count": 4,
   "id": "78b34c19",
   "metadata": {},
   "outputs": [
    {
     "name": "stdout",
     "output_type": "stream",
     "text": [
      "+----------+--------+---------------------------------------------+-----------+------+------------------------------------------------------------------------------------------------+\n",
      "|product_id|category|product_name                                 |description|price |image_url                                                                                       |\n",
      "+----------+--------+---------------------------------------------+-----------+------+------------------------------------------------------------------------------------------------+\n",
      "|1         |2       |Quest Q64 10 FT. x 10 FT. Slant Leg Instant U|null       |59.98 |http://images.acmesports.sports/Quest+Q64+10+FT.+x+10+FT.+Slant+Leg+Instant+Up+Canopy           |\n",
      "|2         |2       |Under Armour Men's Highlight MC Football Clea|null       |129.99|http://images.acmesports.sports/Under+Armour+Men%27s+Highlight+MC+Football+Cleat                |\n",
      "|3         |2       |Under Armour Men's Renegade D Mid Football Cl|null       |89.99 |http://images.acmesports.sports/Under+Armour+Men%27s+Renegade+D+Mid+Football+Cleat              |\n",
      "|4         |2       |Under Armour Men's Renegade D Mid Football Cl|null       |89.99 |http://images.acmesports.sports/Under+Armour+Men%27s+Renegade+D+Mid+Football+Cleat              |\n",
      "|5         |2       |Riddell Youth Revolution Speed Custom Footbal|null       |199.99|http://images.acmesports.sports/Riddell+Youth+Revolution+Speed+Custom+Football+Helmet           |\n",
      "|6         |2       |Jordan Men's VI Retro TD Football Cleat      |null       |134.99|http://images.acmesports.sports/Jordan+Men%27s+VI+Retro+TD+Football+Cleat                       |\n",
      "|7         |2       |Schutt Youth Recruit Hybrid Custom Football H|null       |99.99 |http://images.acmesports.sports/Schutt+Youth+Recruit+Hybrid+Custom+Football+Helmet+2014         |\n",
      "|8         |2       |Nike Men's Vapor Carbon Elite TD Football Cle|null       |129.99|http://images.acmesports.sports/Nike+Men%27s+Vapor+Carbon+Elite+TD+Football+Cleat               |\n",
      "|9         |2       |Nike Adult Vapor Jet 3.0 Receiver Gloves     |null       |50.0  |http://images.acmesports.sports/Nike+Adult+Vapor+Jet+3.0+Receiver+Gloves                        |\n",
      "|10        |2       |Under Armour Men's Highlight MC Football Clea|null       |129.99|http://images.acmesports.sports/Under+Armour+Men%27s+Highlight+MC+Football+Cleat                |\n",
      "|11        |2       |Fitness Gear 300 lb Olympic Weight Set       |null       |209.99|http://images.acmesports.sports/Fitness+Gear+300+lb+Olympic+Weight+Set                          |\n",
      "|12        |2       |Under Armour Men's Highlight MC Alter Ego Fla|null       |139.99|http://images.acmesports.sports/Under+Armour+Men%27s+Highlight+MC+Alter+Ego+Flash+Football...   |\n",
      "|13        |2       |Under Armour Men's Renegade D Mid Football Cl|null       |89.99 |http://images.acmesports.sports/Under+Armour+Men%27s+Renegade+D+Mid+Football+Cleat              |\n",
      "|14        |2       |Quik Shade Summit SX170 10 FT. x 10 FT. Canop|null       |199.99|http://images.acmesports.sports/Quik+Shade+Summit+SX170+10+FT.+x+10+FT.+Canopy                  |\n",
      "|15        |2       |Under Armour Kids' Highlight RM Alter Ego Sup|null       |59.99 |http://images.acmesports.sports/Under+Armour+Kids%27+Highlight+RM+Alter+Ego+Superman+Football...|\n",
      "|16        |2       |Riddell Youth 360 Custom Football Helmet     |null       |299.99|http://images.acmesports.sports/Riddell+Youth+360+Custom+Football+Helmet                        |\n",
      "|17        |2       |Under Armour Men's Highlight MC Football Clea|null       |129.99|http://images.acmesports.sports/Under+Armour+Men%27s+Highlight+MC+Football+Cleat                |\n",
      "|18        |2       |Reebok Men's Full Zip Training Jacket        |null       |29.97 |http://images.acmesports.sports/Reebok+Men%27s+Full+Zip+Training+Jacket                         |\n",
      "|19        |2       |Nike Men's Fingertrap Max Training Shoe      |null       |124.99|http://images.acmesports.sports/Nike+Men%27s+Fingertrap+Max+Training+Shoe                       |\n",
      "|20        |2       |Under Armour Men's Highlight MC Football Clea|null       |129.99|http://images.acmesports.sports/Under+Armour+Men%27s+Highlight+MC+Football+Cleat                |\n",
      "+----------+--------+---------------------------------------------+-----------+------+------------------------------------------------------------------------------------------------+\n",
      "only showing top 20 rows\n",
      "\n"
     ]
    }
   ],
   "source": [
    "products_df.show(truncate = False)"
   ]
  },
  {
   "cell_type": "code",
   "execution_count": 5,
   "id": "96807a24",
   "metadata": {},
   "outputs": [
    {
     "name": "stdout",
     "output_type": "stream",
     "text": [
      "root\n",
      " |-- product_id: integer (nullable = true)\n",
      " |-- category: integer (nullable = true)\n",
      " |-- product_name: string (nullable = true)\n",
      " |-- description: string (nullable = true)\n",
      " |-- price: double (nullable = true)\n",
      " |-- image_url: string (nullable = true)\n",
      "\n"
     ]
    }
   ],
   "source": [
    "products_df.printSchema()"
   ]
  },
  {
   "cell_type": "code",
   "execution_count": 6,
   "id": "ea69e2e8",
   "metadata": {},
   "outputs": [
    {
     "name": "stdout",
     "output_type": "stream",
     "text": [
      "+-----------------------------------+\n",
      "|namespace                          |\n",
      "+-----------------------------------+\n",
      "|00000assign7_itv006450             |\n",
      "|0001_av_ivy_tesco                  |\n",
      "|001_retail                         |\n",
      "|003402_hive1                       |\n",
      "|005198_ivy_tesco                   |\n",
      "|005212_ivy_tesco                   |\n",
      "|005222_ivy_practice                |\n",
      "|005260_ivy_database                |\n",
      "|005876_week5_assignment            |\n",
      "|005933_retail                      |\n",
      "|006018_trendytech_assignments_week5|\n",
      "|006539_week5                       |\n",
      "|006539_week5_1                     |\n",
      "|006586_database                    |\n",
      "|006608_database                    |\n",
      "|006866_week5_assignment            |\n",
      "|007384_w5_db                       |\n",
      "|008057_bucketing_db                |\n",
      "|008211_week5                       |\n",
      "|008228trendytechweek5              |\n",
      "+-----------------------------------+\n",
      "only showing top 20 rows\n",
      "\n"
     ]
    }
   ],
   "source": [
    "spark.sql(\"show databases\").show(truncate = False)"
   ]
  },
  {
   "cell_type": "code",
   "execution_count": 7,
   "id": "e05d3aca",
   "metadata": {},
   "outputs": [
    {
     "data": {
      "text/html": [
       "<table border='1'>\n",
       "<tr><th></th></tr>\n",
       "</table>\n"
      ],
      "text/plain": [
       "++\n",
       "||\n",
       "++\n",
       "++"
      ]
     },
     "execution_count": 7,
     "metadata": {},
     "output_type": "execute_result"
    }
   ],
   "source": [
    "spark.sql(\"use itv009033_week5_assignment\")"
   ]
  },
  {
   "cell_type": "code",
   "execution_count": 8,
   "id": "483e1fdd",
   "metadata": {},
   "outputs": [
    {
     "data": {
      "text/html": [
       "<table border='1'>\n",
       "<tr><th>database</th><th>tableName</th><th>isTemporary</th></tr>\n",
       "<tr><td>itv009033_week5_a...</td><td>product</td><td>false</td></tr>\n",
       "</table>\n"
      ],
      "text/plain": [
       "+--------------------+---------+-----------+\n",
       "|            database|tableName|isTemporary|\n",
       "+--------------------+---------+-----------+\n",
       "|itv009033_week5_a...|  product|      false|\n",
       "+--------------------+---------+-----------+"
      ]
     },
     "execution_count": 8,
     "metadata": {},
     "output_type": "execute_result"
    }
   ],
   "source": [
    "spark.sql(\"show tables\")"
   ]
  },
  {
   "cell_type": "code",
   "execution_count": 9,
   "id": "b4f36af9",
   "metadata": {},
   "outputs": [],
   "source": [
    "products_df.createOrReplaceTempView(\"products\")"
   ]
  },
  {
   "cell_type": "code",
   "execution_count": 10,
   "id": "83a9bcc4",
   "metadata": {},
   "outputs": [
    {
     "data": {
      "text/html": [
       "<table border='1'>\n",
       "<tr><th>database</th><th>tableName</th><th>isTemporary</th></tr>\n",
       "<tr><td>itv009033_week5_a...</td><td>product</td><td>false</td></tr>\n",
       "<tr><td></td><td>products</td><td>true</td></tr>\n",
       "</table>\n"
      ],
      "text/plain": [
       "+--------------------+---------+-----------+\n",
       "|            database|tableName|isTemporary|\n",
       "+--------------------+---------+-----------+\n",
       "|itv009033_week5_a...|  product|      false|\n",
       "|                    | products|       true|\n",
       "+--------------------+---------+-----------+"
      ]
     },
     "execution_count": 10,
     "metadata": {},
     "output_type": "execute_result"
    }
   ],
   "source": [
    "spark.sql(\"show tables\")"
   ]
  },
  {
   "cell_type": "code",
   "execution_count": 11,
   "id": "ffd694cd",
   "metadata": {},
   "outputs": [
    {
     "name": "stdout",
     "output_type": "stream",
     "text": [
      "root\n",
      " |-- product_id: integer (nullable = true)\n",
      " |-- category: integer (nullable = true)\n",
      " |-- product_name: string (nullable = true)\n",
      " |-- description: string (nullable = true)\n",
      " |-- price: double (nullable = true)\n",
      " |-- image_url: string (nullable = true)\n",
      "\n"
     ]
    }
   ],
   "source": [
    "products_df.printSchema()"
   ]
  },
  {
   "cell_type": "code",
   "execution_count": 12,
   "id": "f3e071fe",
   "metadata": {},
   "outputs": [
    {
     "data": {
      "text/html": [
       "<table border='1'>\n",
       "<tr><th></th></tr>\n",
       "</table>\n"
      ],
      "text/plain": [
       "++\n",
       "||\n",
       "++\n",
       "++"
      ]
     },
     "execution_count": 12,
     "metadata": {},
     "output_type": "execute_result"
    }
   ],
   "source": [
    "spark.sql(\"create table if not exists itv009033_week5_assignment.product(product_id int, category int, product_name string, description string, price float, image_url string)\")"
   ]
  },
  {
   "cell_type": "code",
   "execution_count": 13,
   "id": "faca6761",
   "metadata": {},
   "outputs": [
    {
     "name": "stdout",
     "output_type": "stream",
     "text": [
      "+--------------------------+---------+-----------+\n",
      "|database                  |tableName|isTemporary|\n",
      "+--------------------------+---------+-----------+\n",
      "|itv009033_week5_assignment|product  |false      |\n",
      "|                          |products |true       |\n",
      "+--------------------------+---------+-----------+\n",
      "\n"
     ]
    }
   ],
   "source": [
    "spark.sql(\"show tables\").show(truncate = False)"
   ]
  },
  {
   "cell_type": "code",
   "execution_count": 14,
   "id": "0781c2d7",
   "metadata": {},
   "outputs": [
    {
     "name": "stdout",
     "output_type": "stream",
     "text": [
      "+----------+--------+--------------------+-----------+------+--------------------+\n",
      "|product_id|category|        product_name|description| price|           image_url|\n",
      "+----------+--------+--------------------+-----------+------+--------------------+\n",
      "|         1|       2|Quest Q64 10 FT. ...|       null| 59.98|http://images.acm...|\n",
      "|         2|       2|Under Armour Men'...|       null|129.99|http://images.acm...|\n",
      "|         3|       2|Under Armour Men'...|       null| 89.99|http://images.acm...|\n",
      "|         4|       2|Under Armour Men'...|       null| 89.99|http://images.acm...|\n",
      "|         5|       2|Riddell Youth Rev...|       null|199.99|http://images.acm...|\n",
      "|         6|       2|Jordan Men's VI R...|       null|134.99|http://images.acm...|\n",
      "|         7|       2|Schutt Youth Recr...|       null| 99.99|http://images.acm...|\n",
      "|         8|       2|Nike Men's Vapor ...|       null|129.99|http://images.acm...|\n",
      "|         9|       2|Nike Adult Vapor ...|       null|  50.0|http://images.acm...|\n",
      "|        10|       2|Under Armour Men'...|       null|129.99|http://images.acm...|\n",
      "|        11|       2|Fitness Gear 300 ...|       null|209.99|http://images.acm...|\n",
      "|        12|       2|Under Armour Men'...|       null|139.99|http://images.acm...|\n",
      "|        13|       2|Under Armour Men'...|       null| 89.99|http://images.acm...|\n",
      "|        14|       2|Quik Shade Summit...|       null|199.99|http://images.acm...|\n",
      "|        15|       2|Under Armour Kids...|       null| 59.99|http://images.acm...|\n",
      "|        16|       2|Riddell Youth 360...|       null|299.99|http://images.acm...|\n",
      "|        17|       2|Under Armour Men'...|       null|129.99|http://images.acm...|\n",
      "|        18|       2|Reebok Men's Full...|       null| 29.97|http://images.acm...|\n",
      "|        19|       2|Nike Men's Finger...|       null|124.99|http://images.acm...|\n",
      "|        20|       2|Under Armour Men'...|       null|129.99|http://images.acm...|\n",
      "+----------+--------+--------------------+-----------+------+--------------------+\n",
      "only showing top 20 rows\n",
      "\n"
     ]
    }
   ],
   "source": [
    "spark.sql(\"select * from products\").show()"
   ]
  },
  {
   "cell_type": "code",
   "execution_count": 15,
   "id": "11219a51",
   "metadata": {},
   "outputs": [
    {
     "name": "stdout",
     "output_type": "stream",
     "text": [
      "++\n",
      "||\n",
      "++\n",
      "++\n",
      "\n"
     ]
    }
   ],
   "source": [
    "spark.sql(\"insert into itv009033_week5_assignment.product select * from products\").show()"
   ]
  },
  {
   "cell_type": "code",
   "execution_count": 16,
   "id": "5f3f211b",
   "metadata": {},
   "outputs": [
    {
     "data": {
      "text/html": [
       "<table border='1'>\n",
       "<tr><th>product_id</th><th>category</th><th>product_name</th><th>description</th><th>price</th><th>image_url</th></tr>\n",
       "<tr><td>1</td><td>2</td><td>Quest Q64 10 FT. ...</td><td>null</td><td>59.98</td><td>http://images.acm...</td></tr>\n",
       "<tr><td>2</td><td>2</td><td>Under Armour Men&#x27;...</td><td>null</td><td>129.99</td><td>http://images.acm...</td></tr>\n",
       "<tr><td>3</td><td>2</td><td>Under Armour Men&#x27;...</td><td>null</td><td>89.99</td><td>http://images.acm...</td></tr>\n",
       "<tr><td>4</td><td>2</td><td>Under Armour Men&#x27;...</td><td>null</td><td>89.99</td><td>http://images.acm...</td></tr>\n",
       "<tr><td>5</td><td>2</td><td>Riddell Youth Rev...</td><td>null</td><td>199.99</td><td>http://images.acm...</td></tr>\n",
       "<tr><td>6</td><td>2</td><td>Jordan Men&#x27;s VI R...</td><td>null</td><td>134.99</td><td>http://images.acm...</td></tr>\n",
       "<tr><td>7</td><td>2</td><td>Schutt Youth Recr...</td><td>null</td><td>99.99</td><td>http://images.acm...</td></tr>\n",
       "<tr><td>8</td><td>2</td><td>Nike Men&#x27;s Vapor ...</td><td>null</td><td>129.99</td><td>http://images.acm...</td></tr>\n",
       "<tr><td>9</td><td>2</td><td>Nike Adult Vapor ...</td><td>null</td><td>50.0</td><td>http://images.acm...</td></tr>\n",
       "<tr><td>10</td><td>2</td><td>Under Armour Men&#x27;...</td><td>null</td><td>129.99</td><td>http://images.acm...</td></tr>\n",
       "<tr><td>11</td><td>2</td><td>Fitness Gear 300 ...</td><td>null</td><td>209.99</td><td>http://images.acm...</td></tr>\n",
       "<tr><td>12</td><td>2</td><td>Under Armour Men&#x27;...</td><td>null</td><td>139.99</td><td>http://images.acm...</td></tr>\n",
       "<tr><td>13</td><td>2</td><td>Under Armour Men&#x27;...</td><td>null</td><td>89.99</td><td>http://images.acm...</td></tr>\n",
       "<tr><td>14</td><td>2</td><td>Quik Shade Summit...</td><td>null</td><td>199.99</td><td>http://images.acm...</td></tr>\n",
       "<tr><td>15</td><td>2</td><td>Under Armour Kids...</td><td>null</td><td>59.99</td><td>http://images.acm...</td></tr>\n",
       "<tr><td>16</td><td>2</td><td>Riddell Youth 360...</td><td>null</td><td>299.99</td><td>http://images.acm...</td></tr>\n",
       "<tr><td>17</td><td>2</td><td>Under Armour Men&#x27;...</td><td>null</td><td>129.99</td><td>http://images.acm...</td></tr>\n",
       "<tr><td>18</td><td>2</td><td>Reebok Men&#x27;s Full...</td><td>null</td><td>29.97</td><td>http://images.acm...</td></tr>\n",
       "<tr><td>19</td><td>2</td><td>Nike Men&#x27;s Finger...</td><td>null</td><td>124.99</td><td>http://images.acm...</td></tr>\n",
       "<tr><td>20</td><td>2</td><td>Under Armour Men&#x27;...</td><td>null</td><td>129.99</td><td>http://images.acm...</td></tr>\n",
       "</table>\n",
       "only showing top 20 rows\n"
      ],
      "text/plain": [
       "+----------+--------+--------------------+-----------+------+--------------------+\n",
       "|product_id|category|        product_name|description| price|           image_url|\n",
       "+----------+--------+--------------------+-----------+------+--------------------+\n",
       "|         1|       2|Quest Q64 10 FT. ...|       null| 59.98|http://images.acm...|\n",
       "|         2|       2|Under Armour Men'...|       null|129.99|http://images.acm...|\n",
       "|         3|       2|Under Armour Men'...|       null| 89.99|http://images.acm...|\n",
       "|         4|       2|Under Armour Men'...|       null| 89.99|http://images.acm...|\n",
       "|         5|       2|Riddell Youth Rev...|       null|199.99|http://images.acm...|\n",
       "|         6|       2|Jordan Men's VI R...|       null|134.99|http://images.acm...|\n",
       "|         7|       2|Schutt Youth Recr...|       null| 99.99|http://images.acm...|\n",
       "|         8|       2|Nike Men's Vapor ...|       null|129.99|http://images.acm...|\n",
       "|         9|       2|Nike Adult Vapor ...|       null|  50.0|http://images.acm...|\n",
       "|        10|       2|Under Armour Men'...|       null|129.99|http://images.acm...|\n",
       "|        11|       2|Fitness Gear 300 ...|       null|209.99|http://images.acm...|\n",
       "|        12|       2|Under Armour Men'...|       null|139.99|http://images.acm...|\n",
       "|        13|       2|Under Armour Men'...|       null| 89.99|http://images.acm...|\n",
       "|        14|       2|Quik Shade Summit...|       null|199.99|http://images.acm...|\n",
       "|        15|       2|Under Armour Kids...|       null| 59.99|http://images.acm...|\n",
       "|        16|       2|Riddell Youth 360...|       null|299.99|http://images.acm...|\n",
       "|        17|       2|Under Armour Men'...|       null|129.99|http://images.acm...|\n",
       "|        18|       2|Reebok Men's Full...|       null| 29.97|http://images.acm...|\n",
       "|        19|       2|Nike Men's Finger...|       null|124.99|http://images.acm...|\n",
       "|        20|       2|Under Armour Men'...|       null|129.99|http://images.acm...|\n",
       "+----------+--------+--------------------+-----------+------+--------------------+\n",
       "only showing top 20 rows"
      ]
     },
     "execution_count": 16,
     "metadata": {},
     "output_type": "execute_result"
    }
   ],
   "source": [
    "spark.sql(\"select * from product\")"
   ]
  },
  {
   "cell_type": "markdown",
   "id": "3c94b88d",
   "metadata": {},
   "source": [
    "# 2.1. Find the total number of products in the given dataset"
   ]
  },
  {
   "cell_type": "markdown",
   "id": "3e2de54e",
   "metadata": {},
   "source": [
    "<h3> Dataframe </h3>"
   ]
  },
  {
   "cell_type": "code",
   "execution_count": 17,
   "id": "80219743",
   "metadata": {},
   "outputs": [],
   "source": [
    "results_df = products_df.count()"
   ]
  },
  {
   "cell_type": "code",
   "execution_count": 18,
   "id": "7555d7a7",
   "metadata": {},
   "outputs": [
    {
     "data": {
      "text/plain": [
       "1346"
      ]
     },
     "execution_count": 18,
     "metadata": {},
     "output_type": "execute_result"
    }
   ],
   "source": [
    "results_df"
   ]
  },
  {
   "cell_type": "markdown",
   "id": "459f7b07",
   "metadata": {},
   "source": [
    "# 2.2. Find the number of unique categories of products in the given dataset."
   ]
  },
  {
   "cell_type": "code",
   "execution_count": 19,
   "id": "ee78f989",
   "metadata": {},
   "outputs": [],
   "source": [
    "results_df = products_df.select(\"category\").distinct().count()"
   ]
  },
  {
   "cell_type": "code",
   "execution_count": 20,
   "id": "8039e34a",
   "metadata": {},
   "outputs": [
    {
     "data": {
      "text/plain": [
       "55"
      ]
     },
     "execution_count": 20,
     "metadata": {},
     "output_type": "execute_result"
    }
   ],
   "source": [
    "results_df"
   ]
  },
  {
   "cell_type": "markdown",
   "id": "95543931",
   "metadata": {},
   "source": [
    "# 2.3. Find the top 5 most expensive products based on their price, along with their product name, category, and image URL."
   ]
  },
  {
   "cell_type": "code",
   "execution_count": 21,
   "id": "7e0bc7b8",
   "metadata": {},
   "outputs": [],
   "source": [
    "results_df = products_df.select(\"product_name\", \"category\", \"price\").orderBy(\"price\", ascending = False).limit(5)"
   ]
  },
  {
   "cell_type": "code",
   "execution_count": 22,
   "id": "00b5974d",
   "metadata": {},
   "outputs": [
    {
     "name": "stdout",
     "output_type": "stream",
     "text": [
      "+------------------------------------------------+--------+-------+\n",
      "|product_name                                    |category|price  |\n",
      "+------------------------------------------------+--------+-------+\n",
      "|SOLE E35 Elliptical                             |10      |1999.99|\n",
      "|SOLE F85 Treadmill                              |4       |1799.99|\n",
      "|SOLE F85 Treadmill                              |10      |1799.99|\n",
      "|SOLE F85 Treadmill                              |22      |1799.99|\n",
      "|\"Spalding Beast 60\"\" Glass Portable Basketball \"|47      |1099.99|\n",
      "+------------------------------------------------+--------+-------+\n",
      "\n"
     ]
    }
   ],
   "source": [
    "results_df.show(truncate =False)"
   ]
  },
  {
   "cell_type": "markdown",
   "id": "942a197a",
   "metadata": {},
   "source": [
    "# 2.4. Find the number of products in each category that have a price greater than $100 Display the results in a tabular format that shows the category name and the number of products that satisfy the condition.\n"
   ]
  },
  {
   "cell_type": "code",
   "execution_count": 39,
   "id": "12b29cfa",
   "metadata": {},
   "outputs": [
    {
     "name": "stdout",
     "output_type": "stream",
     "text": [
      "+------------------------------------------------+--------+-------+\n",
      "|product_name                                    |category|price  |\n",
      "+------------------------------------------------+--------+-------+\n",
      "|SOLE E35 Elliptical                             |10      |1999.99|\n",
      "|SOLE F85 Treadmill                              |4       |1799.99|\n",
      "|SOLE F85 Treadmill                              |10      |1799.99|\n",
      "|SOLE F85 Treadmill                              |22      |1799.99|\n",
      "|\"Spalding Beast 60\"\" Glass Portable Basketball \"|47      |1099.99|\n",
      "+------------------------------------------------+--------+-------+\n",
      "\n"
     ]
    }
   ],
   "source": [
    "products_df.select(\"product_name\",\"category\",\"price\").filter(\"price>100\").sort(\"price\", ascending = False).limit(5).show(truncate = False)"
   ]
  },
  {
   "cell_type": "markdown",
   "id": "02a12816",
   "metadata": {},
   "source": [
    "# 2.5. What are the product names and prices of products that have a price greater than $200 and belong to category 5?\n"
   ]
  },
  {
   "cell_type": "code",
   "execution_count": 40,
   "id": "ac40c8fc",
   "metadata": {},
   "outputs": [
    {
     "name": "stdout",
     "output_type": "stream",
     "text": [
      "+------------------------------------------------+--------+------+\n",
      "|product_name                                    |category|price |\n",
      "+------------------------------------------------+--------+------+\n",
      "|\"Goaliath 54\"\" In-Ground Basketball Hoop with P\"|5       |499.99|\n",
      "|Teeter Hang Ups NXT-S Inversion Table           |5       |299.99|\n",
      "|Fitness Gear 300 lb Olympic Weight Set          |5       |209.99|\n",
      "+------------------------------------------------+--------+------+\n",
      "\n"
     ]
    }
   ],
   "source": [
    "products_df.select(\"product_name\",\"category\",\"price\").filter(\"price>200 and category = 5\").sort(\"price\", ascending = False).limit(5).show(truncate = False)"
   ]
  },
  {
   "cell_type": "markdown",
   "id": "89492c78",
   "metadata": {},
   "source": [
    "<h3> SQL </h3>"
   ]
  },
  {
   "cell_type": "code",
   "execution_count": 23,
   "id": "0bcd3269",
   "metadata": {},
   "outputs": [
    {
     "data": {
      "text/html": [
       "<table border='1'>\n",
       "<tr><th>count(1)</th></tr>\n",
       "<tr><td>2690</td></tr>\n",
       "</table>\n"
      ],
      "text/plain": [
       "+--------+\n",
       "|count(1)|\n",
       "+--------+\n",
       "|    2690|\n",
       "+--------+"
      ]
     },
     "execution_count": 23,
     "metadata": {},
     "output_type": "execute_result"
    }
   ],
   "source": [
    "spark.sql(\"select count(*) from product\")"
   ]
  },
  {
   "cell_type": "code",
   "execution_count": 42,
   "id": "2b6ebfd7",
   "metadata": {},
   "outputs": [
    {
     "data": {
      "text/html": [
       "<table border='1'>\n",
       "<tr><th>unique_categories</th></tr>\n",
       "<tr><td>55</td></tr>\n",
       "</table>\n"
      ],
      "text/plain": [
       "+-----------------+\n",
       "|unique_categories|\n",
       "+-----------------+\n",
       "|               55|\n",
       "+-----------------+"
      ]
     },
     "execution_count": 42,
     "metadata": {},
     "output_type": "execute_result"
    }
   ],
   "source": [
    "spark.sql(\"select COUNT(DISTINCT category) as unique_categories from product\")"
   ]
  },
  {
   "cell_type": "code",
   "execution_count": 28,
   "id": "97eb8258",
   "metadata": {},
   "outputs": [
    {
     "data": {
      "text/html": [
       "<table border='1'>\n",
       "<tr><th>product_name</th><th>category</th><th>price</th></tr>\n",
       "<tr><td>SOLE E35 Elliptical</td><td>10</td><td>1999.99</td></tr>\n",
       "<tr><td>SOLE E35 Elliptical</td><td>10</td><td>1999.99</td></tr>\n",
       "<tr><td>SOLE F85 Treadmill</td><td>4</td><td>1799.99</td></tr>\n",
       "<tr><td>SOLE F85 Treadmill</td><td>10</td><td>1799.99</td></tr>\n",
       "<tr><td>SOLE F85 Treadmill</td><td>22</td><td>1799.99</td></tr>\n",
       "</table>\n"
      ],
      "text/plain": [
       "+-------------------+--------+-------+\n",
       "|       product_name|category|  price|\n",
       "+-------------------+--------+-------+\n",
       "|SOLE E35 Elliptical|      10|1999.99|\n",
       "|SOLE E35 Elliptical|      10|1999.99|\n",
       "| SOLE F85 Treadmill|       4|1799.99|\n",
       "| SOLE F85 Treadmill|      10|1799.99|\n",
       "| SOLE F85 Treadmill|      22|1799.99|\n",
       "+-------------------+--------+-------+"
      ]
     },
     "execution_count": 28,
     "metadata": {},
     "output_type": "execute_result"
    }
   ],
   "source": [
    "spark.sql(\"select product_name,category,price from product order by price desc limit 5\")"
   ]
  },
  {
   "cell_type": "code",
   "execution_count": 29,
   "id": "24f2fd97",
   "metadata": {},
   "outputs": [
    {
     "data": {
      "text/html": [
       "<table border='1'>\n",
       "<tr><th>category</th><th>counter</th></tr>\n",
       "<tr><td>31</td><td>34</td></tr>\n",
       "<tr><td>53</td><td>32</td></tr>\n",
       "<tr><td>34</td><td>30</td></tr>\n",
       "<tr><td>44</td><td>18</td></tr>\n",
       "<tr><td>12</td><td>6</td></tr>\n",
       "<tr><td>22</td><td>8</td></tr>\n",
       "<tr><td>47</td><td>20</td></tr>\n",
       "<tr><td>52</td><td>10</td></tr>\n",
       "<tr><td>13</td><td>2</td></tr>\n",
       "<tr><td>6</td><td>10</td></tr>\n",
       "<tr><td>16</td><td>22</td></tr>\n",
       "<tr><td>3</td><td>10</td></tr>\n",
       "<tr><td>20</td><td>14</td></tr>\n",
       "<tr><td>57</td><td>12</td></tr>\n",
       "<tr><td>54</td><td>12</td></tr>\n",
       "<tr><td>48</td><td>34</td></tr>\n",
       "<tr><td>5</td><td>22</td></tr>\n",
       "<tr><td>19</td><td>26</td></tr>\n",
       "<tr><td>41</td><td>22</td></tr>\n",
       "<tr><td>43</td><td>46</td></tr>\n",
       "</table>\n",
       "only showing top 20 rows\n"
      ],
      "text/plain": [
       "+--------+-------+\n",
       "|category|counter|\n",
       "+--------+-------+\n",
       "|      31|     34|\n",
       "|      53|     32|\n",
       "|      34|     30|\n",
       "|      44|     18|\n",
       "|      12|      6|\n",
       "|      22|      8|\n",
       "|      47|     20|\n",
       "|      52|     10|\n",
       "|      13|      2|\n",
       "|       6|     10|\n",
       "|      16|     22|\n",
       "|       3|     10|\n",
       "|      20|     14|\n",
       "|      57|     12|\n",
       "|      54|     12|\n",
       "|      48|     34|\n",
       "|       5|     22|\n",
       "|      19|     26|\n",
       "|      41|     22|\n",
       "|      43|     46|\n",
       "+--------+-------+\n",
       "only showing top 20 rows"
      ]
     },
     "execution_count": 29,
     "metadata": {},
     "output_type": "execute_result"
    }
   ],
   "source": [
    "spark.sql(\"select category,count(*) as counter from product where price>100 group by 1\")"
   ]
  },
  {
   "cell_type": "code",
   "execution_count": 30,
   "id": "a4704b83",
   "metadata": {},
   "outputs": [
    {
     "name": "stdout",
     "output_type": "stream",
     "text": [
      "+------------------------------------------------+--------+------+\n",
      "|product_name                                    |category|price |\n",
      "+------------------------------------------------+--------+------+\n",
      "|\"Goaliath 54\"\" In-Ground Basketball Hoop with P\"|5       |499.99|\n",
      "|Fitness Gear 300 lb Olympic Weight Set          |5       |209.99|\n",
      "|Teeter Hang Ups NXT-S Inversion Table           |5       |299.99|\n",
      "|\"Goaliath 54\"\" In-Ground Basketball Hoop with P\"|5       |499.99|\n",
      "|Fitness Gear 300 lb Olympic Weight Set          |5       |209.99|\n",
      "|Teeter Hang Ups NXT-S Inversion Table           |5       |299.99|\n",
      "+------------------------------------------------+--------+------+\n",
      "\n"
     ]
    }
   ],
   "source": [
    "spark.sql(\"select product_name,category,price from product where price>200 and category = 5\").show(truncate = False)"
   ]
  },
  {
   "cell_type": "code",
   "execution_count": null,
   "id": "56793f58",
   "metadata": {},
   "outputs": [],
   "source": []
  },
  {
   "cell_type": "code",
   "execution_count": null,
   "id": "1b77b2bf",
   "metadata": {},
   "outputs": [],
   "source": []
  }
 ],
 "metadata": {
  "kernelspec": {
   "display_name": "Pyspark 3",
   "language": "python",
   "name": "pyspark3"
  },
  "language_info": {
   "codemirror_mode": {
    "name": "ipython",
    "version": 3
   },
   "file_extension": ".py",
   "mimetype": "text/x-python",
   "name": "python",
   "nbconvert_exporter": "python",
   "pygments_lexer": "ipython3",
   "version": "3.6.12"
  }
 },
 "nbformat": 4,
 "nbformat_minor": 5
}
