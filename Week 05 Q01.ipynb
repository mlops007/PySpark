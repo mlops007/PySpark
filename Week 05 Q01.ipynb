{
 "cells": [
  {
   "cell_type": "code",
   "execution_count": 1,
   "id": "f8fe8af6",
   "metadata": {},
   "outputs": [],
   "source": [
    "from pyspark.sql import SparkSession\n",
    "from pyspark.sql import SparkSession\n",
    "import getpass\n",
    "username = getpass.getuser()\n",
    "spark= SparkSession. \\\n",
    "builder. \\\n",
    "config('spark.ui.port','0'). \\\n",
    "config(\"spark.sql.warehouse.dir\", f\"/user/itv009033/warehouse\"). \\\n",
    "enableHiveSupport(). \\\n",
    "master('yarn'). \\\n",
    "getOrCreate()"
   ]
  },
  {
   "cell_type": "code",
   "execution_count": 2,
   "id": "1d357fe1",
   "metadata": {},
   "outputs": [
    {
     "data": {
      "text/html": [
       "\n",
       "            <div>\n",
       "                <p><b>SparkSession - hive</b></p>\n",
       "                \n",
       "        <div>\n",
       "            <p><b>SparkContext</b></p>\n",
       "\n",
       "            <p><a href=\"http://g02.itversity.com:39287\">Spark UI</a></p>\n",
       "\n",
       "            <dl>\n",
       "              <dt>Version</dt>\n",
       "                <dd><code>v3.1.2</code></dd>\n",
       "              <dt>Master</dt>\n",
       "                <dd><code>yarn</code></dd>\n",
       "              <dt>AppName</dt>\n",
       "                <dd><code>pyspark-shell</code></dd>\n",
       "            </dl>\n",
       "        </div>\n",
       "        \n",
       "            </div>\n",
       "        "
      ],
      "text/plain": [
       "<pyspark.sql.session.SparkSession at 0x7f004d57def0>"
      ]
     },
     "execution_count": 2,
     "metadata": {},
     "output_type": "execute_result"
    }
   ],
   "source": [
    "spark"
   ]
  },
  {
   "cell_type": "markdown",
   "id": "62e30d8c",
   "metadata": {},
   "source": [
    "# 1.1. Create a managed spark table and load data to it from the given csv file.\n",
    "````(path : /public/trendytech/groceries.csv)````\n"
   ]
  },
  {
   "cell_type": "code",
   "execution_count": 3,
   "id": "c6ba4e88",
   "metadata": {},
   "outputs": [
    {
     "name": "stdout",
     "output_type": "stream",
     "text": [
      "+--------+---------+--------+----------+--------+\n",
      "|order_id| location|    item|order_date|quantity|\n",
      "+--------+---------+--------+----------+--------+\n",
      "|      o1|  Seattle| Bananas|01/01/2017|       7|\n",
      "|      o2|     Kent|  Apples|02/01/2017|      20|\n",
      "|      o3| Bellevue| Flowers|02/01/2017|      10|\n",
      "|      o4|  Redmond|    Meat|03/01/2017|      40|\n",
      "|      o5|  Seattle|Potatoes|04/01/2017|       9|\n",
      "|      o6| Bellevue|   Bread|04/01/2017|       5|\n",
      "|      o7|  Redmond|   Bread|05/01/2017|       5|\n",
      "|      o8| Issaquah|   Onion|05/01/2017|       4|\n",
      "|      o9|  Redmond|  Cheese|05/01/2017|      15|\n",
      "|     o10| Issaquah|   Onion|06/01/2017|       4|\n",
      "|     o11|   Renton|   Bread|05/01/2017|       5|\n",
      "|     o12| Issaquah|   Onion|07/01/2017|       4|\n",
      "|     o13|Sammamish|   Bread|07/01/2017|       5|\n",
      "|     o14| Issaquah|  Tomato|07/01/2017|       6|\n",
      "|     o15| Issaquah|    Meat|08/01/2017|       3|\n",
      "|     o16| Issaquah|    Meat|09/01/2017|       5|\n",
      "|     o17| Issaquah|    Meat|10/01/2017|       6|\n",
      "|     o18| Bellevue|   Bread|11/01/2017|       7|\n",
      "|     o19| Bellevue|   Bread|12/01/2017|      54|\n",
      "|     o20| Bellevue|   Bread|13/01/2017|      34|\n",
      "+--------+---------+--------+----------+--------+\n",
      "only showing top 20 rows\n",
      "\n"
     ]
    }
   ],
   "source": [
    "groceries_df = spark.read.format('csv').option('header', 'true').option('inferschema','true').load(\"/public/trendytech/groceries.csv\")\n",
    "groceries_df.show()"
   ]
  },
  {
   "cell_type": "code",
   "execution_count": 4,
   "id": "8a57a646",
   "metadata": {},
   "outputs": [
    {
     "name": "stdout",
     "output_type": "stream",
     "text": [
      "root\n",
      " |-- order_id: string (nullable = true)\n",
      " |-- location: string (nullable = true)\n",
      " |-- item: string (nullable = true)\n",
      " |-- order_date: string (nullable = true)\n",
      " |-- quantity: integer (nullable = true)\n",
      "\n"
     ]
    }
   ],
   "source": [
    "groceries_df.printSchema()"
   ]
  },
  {
   "cell_type": "code",
   "execution_count": 5,
   "id": "6b17ae52",
   "metadata": {},
   "outputs": [
    {
     "data": {
      "text/html": [
       "<table border='1'>\n",
       "<tr><th></th></tr>\n",
       "</table>\n"
      ],
      "text/plain": [
       "++\n",
       "||\n",
       "++\n",
       "++"
      ]
     },
     "execution_count": 5,
     "metadata": {},
     "output_type": "execute_result"
    }
   ],
   "source": [
    "spark.sql(\"create database if not exists itv009033_week5_assignment\")"
   ]
  },
  {
   "cell_type": "code",
   "execution_count": 6,
   "id": "6fcd3518",
   "metadata": {},
   "outputs": [
    {
     "data": {
      "text/html": [
       "<table border='1'>\n",
       "<tr><th>namespace</th></tr>\n",
       "<tr><td>00000assign7_itv0...</td></tr>\n",
       "<tr><td>0001_av_ivy_tesco</td></tr>\n",
       "<tr><td>001_retail</td></tr>\n",
       "<tr><td>003402_hive1</td></tr>\n",
       "<tr><td>005198_ivy_tesco</td></tr>\n",
       "<tr><td>005212_ivy_tesco</td></tr>\n",
       "<tr><td>005222_ivy_practice</td></tr>\n",
       "<tr><td>005260_ivy_database</td></tr>\n",
       "<tr><td>005876_week5_assi...</td></tr>\n",
       "<tr><td>005933_retail</td></tr>\n",
       "<tr><td>006018_trendytech...</td></tr>\n",
       "<tr><td>006539_week5</td></tr>\n",
       "<tr><td>006539_week5_1</td></tr>\n",
       "<tr><td>006586_database</td></tr>\n",
       "<tr><td>006608_database</td></tr>\n",
       "<tr><td>006866_week5_assi...</td></tr>\n",
       "<tr><td>007384_w5_db</td></tr>\n",
       "<tr><td>008057_bucketing_db</td></tr>\n",
       "<tr><td>008211_week5</td></tr>\n",
       "<tr><td>008228trendytechw...</td></tr>\n",
       "</table>\n",
       "only showing top 20 rows\n"
      ],
      "text/plain": [
       "+--------------------+\n",
       "|           namespace|\n",
       "+--------------------+\n",
       "|00000assign7_itv0...|\n",
       "|   0001_av_ivy_tesco|\n",
       "|          001_retail|\n",
       "|        003402_hive1|\n",
       "|    005198_ivy_tesco|\n",
       "|    005212_ivy_tesco|\n",
       "| 005222_ivy_practice|\n",
       "| 005260_ivy_database|\n",
       "|005876_week5_assi...|\n",
       "|       005933_retail|\n",
       "|006018_trendytech...|\n",
       "|        006539_week5|\n",
       "|      006539_week5_1|\n",
       "|     006586_database|\n",
       "|     006608_database|\n",
       "|006866_week5_assi...|\n",
       "|        007384_w5_db|\n",
       "| 008057_bucketing_db|\n",
       "|        008211_week5|\n",
       "|008228trendytechw...|\n",
       "+--------------------+\n",
       "only showing top 20 rows"
      ]
     },
     "execution_count": 6,
     "metadata": {},
     "output_type": "execute_result"
    }
   ],
   "source": [
    "spark.sql(\"show databases\")"
   ]
  },
  {
   "cell_type": "code",
   "execution_count": 7,
   "id": "a1cba832",
   "metadata": {},
   "outputs": [
    {
     "name": "stdout",
     "output_type": "stream",
     "text": [
      "+--------------------------+\n",
      "|namespace                 |\n",
      "+--------------------------+\n",
      "|itv009033_week5_assignment|\n",
      "+--------------------------+\n",
      "\n"
     ]
    }
   ],
   "source": [
    "spark.sql(\"show databases\").filter(\"namespace ='itv009033_week5_assignment'\").show(truncate=False)"
   ]
  },
  {
   "cell_type": "code",
   "execution_count": 8,
   "id": "403b950d",
   "metadata": {},
   "outputs": [
    {
     "data": {
      "text/html": [
       "<table border='1'>\n",
       "<tr><th></th></tr>\n",
       "</table>\n"
      ],
      "text/plain": [
       "++\n",
       "||\n",
       "++\n",
       "++"
      ]
     },
     "execution_count": 8,
     "metadata": {},
     "output_type": "execute_result"
    }
   ],
   "source": [
    "spark.sql(\"use itv009033_week5_assignment\")"
   ]
  },
  {
   "cell_type": "code",
   "execution_count": 9,
   "id": "9b16bfe6",
   "metadata": {},
   "outputs": [
    {
     "name": "stdout",
     "output_type": "stream",
     "text": [
      "+--------------------+---------+-----------+\n",
      "|            database|tableName|isTemporary|\n",
      "+--------------------+---------+-----------+\n",
      "|itv009033_week5_a...|groceries|      false|\n",
      "+--------------------+---------+-----------+\n",
      "\n"
     ]
    }
   ],
   "source": [
    "spark.sql(\"show tables\").show()"
   ]
  },
  {
   "cell_type": "code",
   "execution_count": 10,
   "id": "164642f8",
   "metadata": {},
   "outputs": [
    {
     "name": "stdout",
     "output_type": "stream",
     "text": [
      "root\n",
      " |-- order_id: string (nullable = true)\n",
      " |-- location: string (nullable = true)\n",
      " |-- item: string (nullable = true)\n",
      " |-- order_date: string (nullable = true)\n",
      " |-- quantity: integer (nullable = true)\n",
      "\n"
     ]
    }
   ],
   "source": [
    "groceries_df.printSchema()"
   ]
  },
  {
   "cell_type": "code",
   "execution_count": 16,
   "id": "ea99e22c",
   "metadata": {},
   "outputs": [
    {
     "data": {
      "text/html": [
       "<table border='1'>\n",
       "<tr><th></th></tr>\n",
       "</table>\n"
      ],
      "text/plain": [
       "++\n",
       "||\n",
       "++\n",
       "++"
      ]
     },
     "execution_count": 16,
     "metadata": {},
     "output_type": "execute_result"
    }
   ],
   "source": [
    "spark.sql(\"create table if not exists itv009033_week5_assignment.groceries(order_id string,location string,item string,order_date string,quantity integer)\")"
   ]
  },
  {
   "cell_type": "code",
   "execution_count": 17,
   "id": "39337e34",
   "metadata": {},
   "outputs": [
    {
     "name": "stdout",
     "output_type": "stream",
     "text": [
      "+--------------------------+--------------+-----------+\n",
      "|database                  |tableName     |isTemporary|\n",
      "+--------------------------+--------------+-----------+\n",
      "|itv009033_week5_assignment|groceries     |false      |\n",
      "|                          |groceries_temp|true       |\n",
      "+--------------------------+--------------+-----------+\n",
      "\n"
     ]
    }
   ],
   "source": [
    "spark.sql(\"show tables\").show(truncate = False)"
   ]
  },
  {
   "cell_type": "code",
   "execution_count": 18,
   "id": "db5c4467",
   "metadata": {},
   "outputs": [],
   "source": [
    "groceries_df.createOrReplaceTempView(\"groceries_temp\")\n",
    "groceries_temp = spark.sql(\"select * from groceries_temp\")"
   ]
  },
  {
   "cell_type": "code",
   "execution_count": 19,
   "id": "4f6c53a3",
   "metadata": {},
   "outputs": [
    {
     "name": "stdout",
     "output_type": "stream",
     "text": [
      "+--------+---------+--------+----------+--------+\n",
      "|order_id| location|    item|order_date|quantity|\n",
      "+--------+---------+--------+----------+--------+\n",
      "|      o1|  Seattle| Bananas|01/01/2017|       7|\n",
      "|      o2|     Kent|  Apples|02/01/2017|      20|\n",
      "|      o3| Bellevue| Flowers|02/01/2017|      10|\n",
      "|      o4|  Redmond|    Meat|03/01/2017|      40|\n",
      "|      o5|  Seattle|Potatoes|04/01/2017|       9|\n",
      "|      o6| Bellevue|   Bread|04/01/2017|       5|\n",
      "|      o7|  Redmond|   Bread|05/01/2017|       5|\n",
      "|      o8| Issaquah|   Onion|05/01/2017|       4|\n",
      "|      o9|  Redmond|  Cheese|05/01/2017|      15|\n",
      "|     o10| Issaquah|   Onion|06/01/2017|       4|\n",
      "|     o11|   Renton|   Bread|05/01/2017|       5|\n",
      "|     o12| Issaquah|   Onion|07/01/2017|       4|\n",
      "|     o13|Sammamish|   Bread|07/01/2017|       5|\n",
      "|     o14| Issaquah|  Tomato|07/01/2017|       6|\n",
      "|     o15| Issaquah|    Meat|08/01/2017|       3|\n",
      "|     o16| Issaquah|    Meat|09/01/2017|       5|\n",
      "|     o17| Issaquah|    Meat|10/01/2017|       6|\n",
      "|     o18| Bellevue|   Bread|11/01/2017|       7|\n",
      "|     o19| Bellevue|   Bread|12/01/2017|      54|\n",
      "|     o20| Bellevue|   Bread|13/01/2017|      34|\n",
      "+--------+---------+--------+----------+--------+\n",
      "only showing top 20 rows\n",
      "\n"
     ]
    }
   ],
   "source": [
    "groceries_temp.show()"
   ]
  },
  {
   "cell_type": "code",
   "execution_count": 20,
   "id": "796e4212",
   "metadata": {},
   "outputs": [
    {
     "data": {
      "text/html": [
       "<table border='1'>\n",
       "<tr><th>order_id</th><th>location</th><th>item</th><th>order_date</th><th>quantity</th></tr>\n",
       "<tr><td>o1</td><td>Seattle</td><td>Bananas</td><td>01/01/2017</td><td>7</td></tr>\n",
       "<tr><td>o2</td><td>Kent</td><td>Apples</td><td>02/01/2017</td><td>20</td></tr>\n",
       "<tr><td>o3</td><td>Bellevue</td><td>Flowers</td><td>02/01/2017</td><td>10</td></tr>\n",
       "<tr><td>o4</td><td>Redmond</td><td>Meat</td><td>03/01/2017</td><td>40</td></tr>\n",
       "<tr><td>o5</td><td>Seattle</td><td>Potatoes</td><td>04/01/2017</td><td>9</td></tr>\n",
       "<tr><td>o6</td><td>Bellevue</td><td>Bread</td><td>04/01/2017</td><td>5</td></tr>\n",
       "<tr><td>o7</td><td>Redmond</td><td>Bread</td><td>05/01/2017</td><td>5</td></tr>\n",
       "<tr><td>o8</td><td>Issaquah</td><td>Onion</td><td>05/01/2017</td><td>4</td></tr>\n",
       "<tr><td>o9</td><td>Redmond</td><td>Cheese</td><td>05/01/2017</td><td>15</td></tr>\n",
       "<tr><td>o10</td><td>Issaquah</td><td>Onion</td><td>06/01/2017</td><td>4</td></tr>\n",
       "<tr><td>o11</td><td>Renton</td><td>Bread</td><td>05/01/2017</td><td>5</td></tr>\n",
       "<tr><td>o12</td><td>Issaquah</td><td>Onion</td><td>07/01/2017</td><td>4</td></tr>\n",
       "<tr><td>o13</td><td>Sammamish</td><td>Bread</td><td>07/01/2017</td><td>5</td></tr>\n",
       "<tr><td>o14</td><td>Issaquah</td><td>Tomato</td><td>07/01/2017</td><td>6</td></tr>\n",
       "<tr><td>o15</td><td>Issaquah</td><td>Meat</td><td>08/01/2017</td><td>3</td></tr>\n",
       "<tr><td>o16</td><td>Issaquah</td><td>Meat</td><td>09/01/2017</td><td>5</td></tr>\n",
       "<tr><td>o17</td><td>Issaquah</td><td>Meat</td><td>10/01/2017</td><td>6</td></tr>\n",
       "<tr><td>o18</td><td>Bellevue</td><td>Bread</td><td>11/01/2017</td><td>7</td></tr>\n",
       "<tr><td>o19</td><td>Bellevue</td><td>Bread</td><td>12/01/2017</td><td>54</td></tr>\n",
       "<tr><td>o20</td><td>Bellevue</td><td>Bread</td><td>13/01/2017</td><td>34</td></tr>\n",
       "</table>\n",
       "only showing top 20 rows\n"
      ],
      "text/plain": [
       "+--------+---------+--------+----------+--------+\n",
       "|order_id| location|    item|order_date|quantity|\n",
       "+--------+---------+--------+----------+--------+\n",
       "|      o1|  Seattle| Bananas|01/01/2017|       7|\n",
       "|      o2|     Kent|  Apples|02/01/2017|      20|\n",
       "|      o3| Bellevue| Flowers|02/01/2017|      10|\n",
       "|      o4|  Redmond|    Meat|03/01/2017|      40|\n",
       "|      o5|  Seattle|Potatoes|04/01/2017|       9|\n",
       "|      o6| Bellevue|   Bread|04/01/2017|       5|\n",
       "|      o7|  Redmond|   Bread|05/01/2017|       5|\n",
       "|      o8| Issaquah|   Onion|05/01/2017|       4|\n",
       "|      o9|  Redmond|  Cheese|05/01/2017|      15|\n",
       "|     o10| Issaquah|   Onion|06/01/2017|       4|\n",
       "|     o11|   Renton|   Bread|05/01/2017|       5|\n",
       "|     o12| Issaquah|   Onion|07/01/2017|       4|\n",
       "|     o13|Sammamish|   Bread|07/01/2017|       5|\n",
       "|     o14| Issaquah|  Tomato|07/01/2017|       6|\n",
       "|     o15| Issaquah|    Meat|08/01/2017|       3|\n",
       "|     o16| Issaquah|    Meat|09/01/2017|       5|\n",
       "|     o17| Issaquah|    Meat|10/01/2017|       6|\n",
       "|     o18| Bellevue|   Bread|11/01/2017|       7|\n",
       "|     o19| Bellevue|   Bread|12/01/2017|      54|\n",
       "|     o20| Bellevue|   Bread|13/01/2017|      34|\n",
       "+--------+---------+--------+----------+--------+\n",
       "only showing top 20 rows"
      ]
     },
     "execution_count": 20,
     "metadata": {},
     "output_type": "execute_result"
    }
   ],
   "source": [
    "spark.sql(\"select * from groceries\")"
   ]
  },
  {
   "cell_type": "code",
   "execution_count": 21,
   "id": "1621d3f3",
   "metadata": {},
   "outputs": [
    {
     "data": {
      "text/html": [
       "<table border='1'>\n",
       "<tr><th></th></tr>\n",
       "</table>\n"
      ],
      "text/plain": [
       "++\n",
       "||\n",
       "++\n",
       "++"
      ]
     },
     "execution_count": 21,
     "metadata": {},
     "output_type": "execute_result"
    }
   ],
   "source": [
    "spark.sql(\"insert into itv009033_week5_assignment.groceries select * from groceries_temp\")"
   ]
  },
  {
   "cell_type": "code",
   "execution_count": 24,
   "id": "f8ebc701",
   "metadata": {},
   "outputs": [
    {
     "name": "stdout",
     "output_type": "stream",
     "text": [
      "+--------+---------+--------+----------+--------+\n",
      "|order_id|location |item    |order_date|quantity|\n",
      "+--------+---------+--------+----------+--------+\n",
      "|o1      |Seattle  |Bananas |01/01/2017|7       |\n",
      "|o2      |Kent     |Apples  |02/01/2017|20      |\n",
      "|o3      |Bellevue |Flowers |02/01/2017|10      |\n",
      "|o4      |Redmond  |Meat    |03/01/2017|40      |\n",
      "|o5      |Seattle  |Potatoes|04/01/2017|9       |\n",
      "|o6      |Bellevue |Bread   |04/01/2017|5       |\n",
      "|o7      |Redmond  |Bread   |05/01/2017|5       |\n",
      "|o8      |Issaquah |Onion   |05/01/2017|4       |\n",
      "|o9      |Redmond  |Cheese  |05/01/2017|15      |\n",
      "|o10     |Issaquah |Onion   |06/01/2017|4       |\n",
      "|o11     |Renton   |Bread   |05/01/2017|5       |\n",
      "|o12     |Issaquah |Onion   |07/01/2017|4       |\n",
      "|o13     |Sammamish|Bread   |07/01/2017|5       |\n",
      "|o14     |Issaquah |Tomato  |07/01/2017|6       |\n",
      "|o15     |Issaquah |Meat    |08/01/2017|3       |\n",
      "|o16     |Issaquah |Meat    |09/01/2017|5       |\n",
      "|o17     |Issaquah |Meat    |10/01/2017|6       |\n",
      "|o18     |Bellevue |Bread   |11/01/2017|7       |\n",
      "|o19     |Bellevue |Bread   |12/01/2017|54      |\n",
      "|o20     |Bellevue |Bread   |13/01/2017|34      |\n",
      "|o21     |Bellevue |Bread   |14/01/2017|25      |\n",
      "|o1      |Seattle  |Bananas |01/01/2017|7       |\n",
      "|o2      |Kent     |Apples  |02/01/2017|20      |\n",
      "|o3      |Bellevue |Flowers |02/01/2017|10      |\n",
      "|o4      |Redmond  |Meat    |03/01/2017|40      |\n",
      "|o5      |Seattle  |Potatoes|04/01/2017|9       |\n",
      "|o6      |Bellevue |Bread   |04/01/2017|5       |\n",
      "|o7      |Redmond  |Bread   |05/01/2017|5       |\n",
      "|o8      |Issaquah |Onion   |05/01/2017|4       |\n",
      "|o9      |Redmond  |Cheese  |05/01/2017|15      |\n",
      "|o10     |Issaquah |Onion   |06/01/2017|4       |\n",
      "|o11     |Renton   |Bread   |05/01/2017|5       |\n",
      "|o12     |Issaquah |Onion   |07/01/2017|4       |\n",
      "|o13     |Sammamish|Bread   |07/01/2017|5       |\n",
      "|o14     |Issaquah |Tomato  |07/01/2017|6       |\n",
      "|o15     |Issaquah |Meat    |08/01/2017|3       |\n",
      "|o16     |Issaquah |Meat    |09/01/2017|5       |\n",
      "|o17     |Issaquah |Meat    |10/01/2017|6       |\n",
      "|o18     |Bellevue |Bread   |11/01/2017|7       |\n",
      "|o19     |Bellevue |Bread   |12/01/2017|54      |\n",
      "|o20     |Bellevue |Bread   |13/01/2017|34      |\n",
      "|o21     |Bellevue |Bread   |14/01/2017|25      |\n",
      "+--------+---------+--------+----------+--------+\n",
      "\n"
     ]
    }
   ],
   "source": [
    "spark.sql(\"select * from groceries\").show(100,truncate = False)"
   ]
  },
  {
   "cell_type": "code",
   "execution_count": 25,
   "id": "eaf8c2ff",
   "metadata": {},
   "outputs": [
    {
     "name": "stdout",
     "output_type": "stream",
     "text": [
      "+----------------------------+----------------------------------------------------------------------------------------------+-------+\n",
      "|col_name                    |data_type                                                                                     |comment|\n",
      "+----------------------------+----------------------------------------------------------------------------------------------+-------+\n",
      "|order_id                    |string                                                                                        |null   |\n",
      "|location                    |string                                                                                        |null   |\n",
      "|item                        |string                                                                                        |null   |\n",
      "|order_date                  |string                                                                                        |null   |\n",
      "|quantity                    |int                                                                                           |null   |\n",
      "|                            |                                                                                              |       |\n",
      "|# Detailed Table Information|                                                                                              |       |\n",
      "|Database                    |itv009033_week5_assignment                                                                    |       |\n",
      "|Table                       |groceries                                                                                     |       |\n",
      "|Owner                       |itv009033                                                                                     |       |\n",
      "|Created Time                |Tue Oct 03 11:19:26 EDT 2023                                                                  |       |\n",
      "|Last Access                 |UNKNOWN                                                                                       |       |\n",
      "|Created By                  |Spark 3.1.2                                                                                   |       |\n",
      "|Type                        |MANAGED                                                                                       |       |\n",
      "|Provider                    |hive                                                                                          |       |\n",
      "|Table Properties            |[transient_lastDdlTime=1696395174]                                                            |       |\n",
      "|Statistics                  |1332 bytes                                                                                    |       |\n",
      "|Location                    |hdfs://m01.itversity.com:9000/user/itv009033/warehouse/itv009033_week5_assignment.db/groceries|       |\n",
      "|Serde Library               |org.apache.hadoop.hive.serde2.lazy.LazySimpleSerDe                                            |       |\n",
      "|InputFormat                 |org.apache.hadoop.mapred.TextInputFormat                                                      |       |\n",
      "+----------------------------+----------------------------------------------------------------------------------------------+-------+\n",
      "only showing top 20 rows\n",
      "\n"
     ]
    }
   ],
   "source": [
    "spark.sql(\"describe extended itv009033_week5_assignment.groceries\").show(truncate=False)"
   ]
  },
  {
   "cell_type": "markdown",
   "id": "ad549382",
   "metadata": {},
   "source": [
    "# 1.2. Create an external spark table with the same data.\n",
    "``(path : /public/trendytech/groceries.csv)``"
   ]
  },
  {
   "cell_type": "code",
   "execution_count": 27,
   "id": "7df80b0b",
   "metadata": {},
   "outputs": [
    {
     "data": {
      "text/html": [
       "<table border='1'>\n",
       "<tr><th></th></tr>\n",
       "</table>\n"
      ],
      "text/plain": [
       "++\n",
       "||\n",
       "++\n",
       "++"
      ]
     },
     "execution_count": 27,
     "metadata": {},
     "output_type": "execute_result"
    }
   ],
   "source": [
    "spark.sql(\"create table if not exists itv009033_week5_assignment.groceries_external(order_id string,location string,item string,order_date string,quantity integer) using csv options(header='true') location '/public/trendytech/groceries.csv'\")"
   ]
  },
  {
   "cell_type": "code",
   "execution_count": 29,
   "id": "67497e97",
   "metadata": {},
   "outputs": [
    {
     "data": {
      "text/html": [
       "<table border='1'>\n",
       "<tr><th>order_id</th><th>location</th><th>item</th><th>order_date</th><th>quantity</th></tr>\n",
       "<tr><td>o1</td><td>Seattle</td><td>Bananas</td><td>01/01/2017</td><td>7</td></tr>\n",
       "<tr><td>o2</td><td>Kent</td><td>Apples</td><td>02/01/2017</td><td>20</td></tr>\n",
       "<tr><td>o3</td><td>Bellevue</td><td>Flowers</td><td>02/01/2017</td><td>10</td></tr>\n",
       "<tr><td>o4</td><td>Redmond</td><td>Meat</td><td>03/01/2017</td><td>40</td></tr>\n",
       "<tr><td>o5</td><td>Seattle</td><td>Potatoes</td><td>04/01/2017</td><td>9</td></tr>\n",
       "<tr><td>o6</td><td>Bellevue</td><td>Bread</td><td>04/01/2017</td><td>5</td></tr>\n",
       "<tr><td>o7</td><td>Redmond</td><td>Bread</td><td>05/01/2017</td><td>5</td></tr>\n",
       "<tr><td>o8</td><td>Issaquah</td><td>Onion</td><td>05/01/2017</td><td>4</td></tr>\n",
       "<tr><td>o9</td><td>Redmond</td><td>Cheese</td><td>05/01/2017</td><td>15</td></tr>\n",
       "<tr><td>o10</td><td>Issaquah</td><td>Onion</td><td>06/01/2017</td><td>4</td></tr>\n",
       "<tr><td>o11</td><td>Renton</td><td>Bread</td><td>05/01/2017</td><td>5</td></tr>\n",
       "<tr><td>o12</td><td>Issaquah</td><td>Onion</td><td>07/01/2017</td><td>4</td></tr>\n",
       "<tr><td>o13</td><td>Sammamish</td><td>Bread</td><td>07/01/2017</td><td>5</td></tr>\n",
       "<tr><td>o14</td><td>Issaquah</td><td>Tomato</td><td>07/01/2017</td><td>6</td></tr>\n",
       "<tr><td>o15</td><td>Issaquah</td><td>Meat</td><td>08/01/2017</td><td>3</td></tr>\n",
       "<tr><td>o16</td><td>Issaquah</td><td>Meat</td><td>09/01/2017</td><td>5</td></tr>\n",
       "<tr><td>o17</td><td>Issaquah</td><td>Meat</td><td>10/01/2017</td><td>6</td></tr>\n",
       "<tr><td>o18</td><td>Bellevue</td><td>Bread</td><td>11/01/2017</td><td>7</td></tr>\n",
       "<tr><td>o19</td><td>Bellevue</td><td>Bread</td><td>12/01/2017</td><td>54</td></tr>\n",
       "<tr><td>o20</td><td>Bellevue</td><td>Bread</td><td>13/01/2017</td><td>34</td></tr>\n",
       "</table>\n",
       "only showing top 20 rows\n"
      ],
      "text/plain": [
       "+--------+---------+--------+----------+--------+\n",
       "|order_id| location|    item|order_date|quantity|\n",
       "+--------+---------+--------+----------+--------+\n",
       "|      o1|  Seattle| Bananas|01/01/2017|       7|\n",
       "|      o2|     Kent|  Apples|02/01/2017|      20|\n",
       "|      o3| Bellevue| Flowers|02/01/2017|      10|\n",
       "|      o4|  Redmond|    Meat|03/01/2017|      40|\n",
       "|      o5|  Seattle|Potatoes|04/01/2017|       9|\n",
       "|      o6| Bellevue|   Bread|04/01/2017|       5|\n",
       "|      o7|  Redmond|   Bread|05/01/2017|       5|\n",
       "|      o8| Issaquah|   Onion|05/01/2017|       4|\n",
       "|      o9|  Redmond|  Cheese|05/01/2017|      15|\n",
       "|     o10| Issaquah|   Onion|06/01/2017|       4|\n",
       "|     o11|   Renton|   Bread|05/01/2017|       5|\n",
       "|     o12| Issaquah|   Onion|07/01/2017|       4|\n",
       "|     o13|Sammamish|   Bread|07/01/2017|       5|\n",
       "|     o14| Issaquah|  Tomato|07/01/2017|       6|\n",
       "|     o15| Issaquah|    Meat|08/01/2017|       3|\n",
       "|     o16| Issaquah|    Meat|09/01/2017|       5|\n",
       "|     o17| Issaquah|    Meat|10/01/2017|       6|\n",
       "|     o18| Bellevue|   Bread|11/01/2017|       7|\n",
       "|     o19| Bellevue|   Bread|12/01/2017|      54|\n",
       "|     o20| Bellevue|   Bread|13/01/2017|      34|\n",
       "+--------+---------+--------+----------+--------+\n",
       "only showing top 20 rows"
      ]
     },
     "execution_count": 29,
     "metadata": {},
     "output_type": "execute_result"
    }
   ],
   "source": [
    "spark.sql(\"select * from groceries_external\")"
   ]
  },
  {
   "cell_type": "markdown",
   "id": "010b251a",
   "metadata": {},
   "source": [
    "# 1.3. Verify that the data has been successfully loaded into both the tables.\n"
   ]
  },
  {
   "cell_type": "code",
   "execution_count": 31,
   "id": "ec98aff2",
   "metadata": {},
   "outputs": [
    {
     "name": "stdout",
     "output_type": "stream",
     "text": [
      "+--------+---------+--------+----------+--------+\n",
      "|order_id|location |item    |order_date|quantity|\n",
      "+--------+---------+--------+----------+--------+\n",
      "|o1      |Seattle  |Bananas |01/01/2017|7       |\n",
      "|o2      |Kent     |Apples  |02/01/2017|20      |\n",
      "|o3      |Bellevue |Flowers |02/01/2017|10      |\n",
      "|o4      |Redmond  |Meat    |03/01/2017|40      |\n",
      "|o5      |Seattle  |Potatoes|04/01/2017|9       |\n",
      "|o6      |Bellevue |Bread   |04/01/2017|5       |\n",
      "|o7      |Redmond  |Bread   |05/01/2017|5       |\n",
      "|o8      |Issaquah |Onion   |05/01/2017|4       |\n",
      "|o9      |Redmond  |Cheese  |05/01/2017|15      |\n",
      "|o10     |Issaquah |Onion   |06/01/2017|4       |\n",
      "|o11     |Renton   |Bread   |05/01/2017|5       |\n",
      "|o12     |Issaquah |Onion   |07/01/2017|4       |\n",
      "|o13     |Sammamish|Bread   |07/01/2017|5       |\n",
      "|o14     |Issaquah |Tomato  |07/01/2017|6       |\n",
      "|o15     |Issaquah |Meat    |08/01/2017|3       |\n",
      "|o16     |Issaquah |Meat    |09/01/2017|5       |\n",
      "|o17     |Issaquah |Meat    |10/01/2017|6       |\n",
      "|o18     |Bellevue |Bread   |11/01/2017|7       |\n",
      "|o19     |Bellevue |Bread   |12/01/2017|54      |\n",
      "|o20     |Bellevue |Bread   |13/01/2017|34      |\n",
      "+--------+---------+--------+----------+--------+\n",
      "only showing top 20 rows\n",
      "\n"
     ]
    }
   ],
   "source": [
    "spark.sql(\"select * from groceries_external\").show(truncate = False)"
   ]
  },
  {
   "cell_type": "markdown",
   "id": "ded085d0",
   "metadata": {},
   "source": [
    "# 1.4. Drop the managed and external tables and see the differences."
   ]
  },
  {
   "cell_type": "code",
   "execution_count": 33,
   "id": "23952237",
   "metadata": {},
   "outputs": [
    {
     "name": "stdout",
     "output_type": "stream",
     "text": [
      "+--------------------------+------------------+-----------+\n",
      "|database                  |tableName         |isTemporary|\n",
      "+--------------------------+------------------+-----------+\n",
      "|itv009033_week5_assignment|groceries         |false      |\n",
      "|itv009033_week5_assignment|groceries_external|false      |\n",
      "|                          |groceries_temp    |true       |\n",
      "+--------------------------+------------------+-----------+\n",
      "\n"
     ]
    }
   ],
   "source": [
    "spark.sql(\"show tables\").show(truncate = False)"
   ]
  },
  {
   "cell_type": "code",
   "execution_count": 35,
   "id": "510695cb",
   "metadata": {},
   "outputs": [
    {
     "data": {
      "text/html": [
       "<table border='1'>\n",
       "<tr><th></th></tr>\n",
       "</table>\n"
      ],
      "text/plain": [
       "++\n",
       "||\n",
       "++\n",
       "++"
      ]
     },
     "execution_count": 35,
     "metadata": {},
     "output_type": "execute_result"
    }
   ],
   "source": [
    "spark.sql(\"drop table itv009033_week5_assignment.groceries_external\")"
   ]
  },
  {
   "cell_type": "code",
   "execution_count": 36,
   "id": "94cf7588",
   "metadata": {},
   "outputs": [
    {
     "name": "stdout",
     "output_type": "stream",
     "text": [
      "+--------------------------+--------------+-----------+\n",
      "|database                  |tableName     |isTemporary|\n",
      "+--------------------------+--------------+-----------+\n",
      "|itv009033_week5_assignment|groceries     |false      |\n",
      "|                          |groceries_temp|true       |\n",
      "+--------------------------+--------------+-----------+\n",
      "\n"
     ]
    }
   ],
   "source": [
    "spark.sql(\"show tables\").show(truncate = False)"
   ]
  },
  {
   "cell_type": "code",
   "execution_count": 37,
   "id": "9fe399ff",
   "metadata": {},
   "outputs": [
    {
     "name": "stdout",
     "output_type": "stream",
     "text": [
      "+--------+--------------+-----------+\n",
      "|database|tableName     |isTemporary|\n",
      "+--------+--------------+-----------+\n",
      "|        |groceries_temp|true       |\n",
      "+--------+--------------+-----------+\n",
      "\n"
     ]
    }
   ],
   "source": [
    "spark.sql(\"drop table itv009033_week5_assignment.groceries\")\n",
    "spark.sql(\"show tables\").show(truncate = False)"
   ]
  },
  {
   "cell_type": "markdown",
   "id": "8eb4a052",
   "metadata": {},
   "source": [
    "# 1.5. Perform all the above tasks with the given json file.\n",
    "``(path :\n",
    "/public/trendytech/orders_wh.json/part-00000-68544d18-9a34-443f-bf0e-1dd8\n",
    "103ff94e-c000.json)``\n"
   ]
  },
  {
   "cell_type": "markdown",
   "id": "fbd11973",
   "metadata": {},
   "source": [
    "<h3> 1.5.1 Create a managed spark table and load data to it </h3>"
   ]
  },
  {
   "cell_type": "code",
   "execution_count": 58,
   "id": "6fd7365d",
   "metadata": {},
   "outputs": [
    {
     "name": "stdout",
     "output_type": "stream",
     "text": [
      "+-----------+---------------------+--------+---------------+\n",
      "|customer_id|order_date           |order_id|order_status   |\n",
      "+-----------+---------------------+--------+---------------+\n",
      "|11599      |2013-07-25 00:00:00.0|1       |CLOSED         |\n",
      "|256        |2013-07-25 00:00:00.0|2       |PENDING_PAYMENT|\n",
      "|12111      |2013-07-25 00:00:00.0|3       |COMPLETE       |\n",
      "|8827       |2013-07-25 00:00:00.0|4       |CLOSED         |\n",
      "|11318      |2013-07-25 00:00:00.0|5       |COMPLETE       |\n",
      "|7130       |2013-07-25 00:00:00.0|6       |COMPLETE       |\n",
      "|4530       |2013-07-25 00:00:00.0|7       |COMPLETE       |\n",
      "|2911       |2013-07-25 00:00:00.0|8       |PROCESSING     |\n",
      "|5657       |2013-07-25 00:00:00.0|9       |PENDING_PAYMENT|\n",
      "|5648       |2013-07-25 00:00:00.0|10      |PENDING_PAYMENT|\n",
      "|918        |2013-07-25 00:00:00.0|11      |PAYMENT_REVIEW |\n",
      "|1837       |2013-07-25 00:00:00.0|12      |CLOSED         |\n",
      "|9149       |2013-07-25 00:00:00.0|13      |PENDING_PAYMENT|\n",
      "|9842       |2013-07-25 00:00:00.0|14      |PROCESSING     |\n",
      "|2568       |2013-07-25 00:00:00.0|15      |COMPLETE       |\n",
      "|7276       |2013-07-25 00:00:00.0|16      |PENDING_PAYMENT|\n",
      "|2667       |2013-07-25 00:00:00.0|17      |COMPLETE       |\n",
      "|1205       |2013-07-25 00:00:00.0|18      |CLOSED         |\n",
      "|9488       |2013-07-25 00:00:00.0|19      |PENDING_PAYMENT|\n",
      "|9198       |2013-07-25 00:00:00.0|20      |PROCESSING     |\n",
      "+-----------+---------------------+--------+---------------+\n",
      "only showing top 20 rows\n",
      "\n"
     ]
    }
   ],
   "source": [
    "json_df = spark.read.format('json').option('header', 'true').option('inferschema','true').load(\"/public/trendytech/orders_wh.json/part-00000-68544d18-9a34-443f-bf0e-1dd8103ff94e-c000.json\")\n",
    "json_df.show(truncate = False)"
   ]
  },
  {
   "cell_type": "code",
   "execution_count": 59,
   "id": "48ccb6bb",
   "metadata": {},
   "outputs": [
    {
     "name": "stdout",
     "output_type": "stream",
     "text": [
      "root\n",
      " |-- customer_id: long (nullable = true)\n",
      " |-- order_date: string (nullable = true)\n",
      " |-- order_id: long (nullable = true)\n",
      " |-- order_status: string (nullable = true)\n",
      "\n"
     ]
    }
   ],
   "source": [
    "json_df.printSchema()"
   ]
  },
  {
   "cell_type": "code",
   "execution_count": 60,
   "id": "b6273eed",
   "metadata": {},
   "outputs": [
    {
     "data": {
      "text/html": [
       "<table border='1'>\n",
       "<tr><th></th></tr>\n",
       "</table>\n"
      ],
      "text/plain": [
       "++\n",
       "||\n",
       "++\n",
       "++"
      ]
     },
     "execution_count": 60,
     "metadata": {},
     "output_type": "execute_result"
    }
   ],
   "source": [
    "spark.sql(\"use itv009033_week5_assignment\")"
   ]
  },
  {
   "cell_type": "code",
   "execution_count": 61,
   "id": "12e66571",
   "metadata": {},
   "outputs": [
    {
     "data": {
      "text/html": [
       "<table border='1'>\n",
       "<tr><th></th></tr>\n",
       "</table>\n"
      ],
      "text/plain": [
       "++\n",
       "||\n",
       "++\n",
       "++"
      ]
     },
     "execution_count": 61,
     "metadata": {},
     "output_type": "execute_result"
    }
   ],
   "source": [
    "spark.sql(\"create table if not exists itv009033_week5_assignment.orders_json(customer_id int,order_date string,order_id int,order_status string)\")"
   ]
  },
  {
   "cell_type": "code",
   "execution_count": 62,
   "id": "9db9447a",
   "metadata": {},
   "outputs": [],
   "source": [
    "json_df.createOrReplaceTempView(\"order_json\")"
   ]
  },
  {
   "cell_type": "code",
   "execution_count": 63,
   "id": "48f5c7bd",
   "metadata": {},
   "outputs": [
    {
     "name": "stdout",
     "output_type": "stream",
     "text": [
      "+--------------------------+--------------+-----------+\n",
      "|database                  |tableName     |isTemporary|\n",
      "+--------------------------+--------------+-----------+\n",
      "|itv009033_week5_assignment|orders_json   |false      |\n",
      "|                          |groceries_temp|true       |\n",
      "|                          |order         |true       |\n",
      "|                          |order_json    |true       |\n",
      "|                          |orders        |true       |\n",
      "+--------------------------+--------------+-----------+\n",
      "\n"
     ]
    }
   ],
   "source": [
    "spark.sql(\"show tables\").show(truncate = False)"
   ]
  },
  {
   "cell_type": "code",
   "execution_count": 64,
   "id": "cee547da",
   "metadata": {},
   "outputs": [
    {
     "data": {
      "text/html": [
       "<table border='1'>\n",
       "<tr><th></th></tr>\n",
       "</table>\n"
      ],
      "text/plain": [
       "++\n",
       "||\n",
       "++\n",
       "++"
      ]
     },
     "execution_count": 64,
     "metadata": {},
     "output_type": "execute_result"
    }
   ],
   "source": [
    "spark.sql(\"insert into itv009033_week5_assignment.orders_json select * from order_json\")"
   ]
  },
  {
   "cell_type": "code",
   "execution_count": 65,
   "id": "90a300b0",
   "metadata": {},
   "outputs": [
    {
     "name": "stdout",
     "output_type": "stream",
     "text": [
      "+-----------+---------------------+--------+---------------+\n",
      "|customer_id|order_date           |order_id|order_status   |\n",
      "+-----------+---------------------+--------+---------------+\n",
      "|11599      |2013-07-25 00:00:00.0|1       |CLOSED         |\n",
      "|256        |2013-07-25 00:00:00.0|2       |PENDING_PAYMENT|\n",
      "|12111      |2013-07-25 00:00:00.0|3       |COMPLETE       |\n",
      "|8827       |2013-07-25 00:00:00.0|4       |CLOSED         |\n",
      "|11318      |2013-07-25 00:00:00.0|5       |COMPLETE       |\n",
      "|7130       |2013-07-25 00:00:00.0|6       |COMPLETE       |\n",
      "|4530       |2013-07-25 00:00:00.0|7       |COMPLETE       |\n",
      "|2911       |2013-07-25 00:00:00.0|8       |PROCESSING     |\n",
      "|5657       |2013-07-25 00:00:00.0|9       |PENDING_PAYMENT|\n",
      "|5648       |2013-07-25 00:00:00.0|10      |PENDING_PAYMENT|\n",
      "|918        |2013-07-25 00:00:00.0|11      |PAYMENT_REVIEW |\n",
      "|1837       |2013-07-25 00:00:00.0|12      |CLOSED         |\n",
      "|9149       |2013-07-25 00:00:00.0|13      |PENDING_PAYMENT|\n",
      "|9842       |2013-07-25 00:00:00.0|14      |PROCESSING     |\n",
      "|2568       |2013-07-25 00:00:00.0|15      |COMPLETE       |\n",
      "|7276       |2013-07-25 00:00:00.0|16      |PENDING_PAYMENT|\n",
      "|2667       |2013-07-25 00:00:00.0|17      |COMPLETE       |\n",
      "|1205       |2013-07-25 00:00:00.0|18      |CLOSED         |\n",
      "|9488       |2013-07-25 00:00:00.0|19      |PENDING_PAYMENT|\n",
      "|9198       |2013-07-25 00:00:00.0|20      |PROCESSING     |\n",
      "|2711       |2013-07-25 00:00:00.0|21      |PENDING        |\n",
      "|333        |2013-07-25 00:00:00.0|22      |COMPLETE       |\n",
      "|4367       |2013-07-25 00:00:00.0|23      |PENDING_PAYMENT|\n",
      "|11441      |2013-07-25 00:00:00.0|24      |CLOSED         |\n",
      "|9503       |2013-07-25 00:00:00.0|25      |CLOSED         |\n",
      "|7562       |2013-07-25 00:00:00.0|26      |COMPLETE       |\n",
      "|3241       |2013-07-25 00:00:00.0|27      |PENDING_PAYMENT|\n",
      "|656        |2013-07-25 00:00:00.0|28      |COMPLETE       |\n",
      "|196        |2013-07-25 00:00:00.0|29      |PROCESSING     |\n",
      "|10039      |2013-07-25 00:00:00.0|30      |PENDING_PAYMENT|\n",
      "|6983       |2013-07-25 00:00:00.0|31      |PAYMENT_REVIEW |\n",
      "|3960       |2013-07-25 00:00:00.0|32      |COMPLETE       |\n",
      "|5793       |2013-07-25 00:00:00.0|33      |PENDING_PAYMENT|\n",
      "|4189       |2013-07-25 00:00:00.0|34      |PROCESSING     |\n",
      "|4840       |2013-07-25 00:00:00.0|35      |COMPLETE       |\n",
      "|5649       |2013-07-25 00:00:00.0|36      |PENDING        |\n",
      "|5863       |2013-07-25 00:00:00.0|37      |CLOSED         |\n",
      "|11586      |2013-07-25 00:00:00.0|38      |PROCESSING     |\n",
      "|8214       |2013-07-25 00:00:00.0|39      |PENDING        |\n",
      "|12092      |2013-07-25 00:00:00.0|40      |PENDING_PAYMENT|\n",
      "|8136       |2013-07-25 00:00:00.0|41      |PENDING_PAYMENT|\n",
      "|9776       |2013-07-25 00:00:00.0|42      |PENDING        |\n",
      "|7776       |2013-07-25 00:00:00.0|43      |PENDING_PAYMENT|\n",
      "|10500      |2013-07-25 00:00:00.0|44      |PENDING        |\n",
      "|2636       |2013-07-25 00:00:00.0|45      |COMPLETE       |\n",
      "|1549       |2013-07-25 00:00:00.0|46      |ON_HOLD        |\n",
      "|8487       |2013-07-25 00:00:00.0|47      |PENDING_PAYMENT|\n",
      "|12186      |2013-07-25 00:00:00.0|48      |PROCESSING     |\n",
      "|1871       |2013-07-25 00:00:00.0|49      |PENDING        |\n",
      "|5225       |2013-07-25 00:00:00.0|50      |CANCELED       |\n",
      "|12271      |2013-07-25 00:00:00.0|51      |CLOSED         |\n",
      "|5126       |2013-07-25 00:00:00.0|52      |PENDING_PAYMENT|\n",
      "|4701       |2013-07-25 00:00:00.0|53      |PROCESSING     |\n",
      "|10628      |2013-07-25 00:00:00.0|54      |PENDING_PAYMENT|\n",
      "|2052       |2013-07-25 00:00:00.0|55      |PENDING        |\n",
      "|10519      |2013-07-25 00:00:00.0|56      |COMPLETE       |\n",
      "|7073       |2013-07-25 00:00:00.0|57      |CLOSED         |\n",
      "|9213       |2013-07-25 00:00:00.0|58      |PENDING_PAYMENT|\n",
      "|11644      |2013-07-25 00:00:00.0|59      |PENDING_PAYMENT|\n",
      "|8365       |2013-07-25 00:00:00.0|60      |PENDING_PAYMENT|\n",
      "|4791       |2013-07-25 00:00:00.0|61      |CLOSED         |\n",
      "|9111       |2013-07-25 00:00:00.0|62      |CLOSED         |\n",
      "|1148       |2013-07-25 00:00:00.0|63      |COMPLETE       |\n",
      "|5579       |2013-07-25 00:00:00.0|64      |PENDING_PAYMENT|\n",
      "|5903       |2013-07-25 00:00:00.0|65      |COMPLETE       |\n",
      "|1792       |2013-07-25 00:00:00.0|66      |ON_HOLD        |\n",
      "|1406       |2013-07-25 00:00:00.0|67      |COMPLETE       |\n",
      "|4320       |2013-07-25 00:00:00.0|68      |PENDING        |\n",
      "|2821       |2013-07-25 00:00:00.0|69      |SUSPECTED_FRAUD|\n",
      "|11809      |2013-07-25 00:00:00.0|70      |PENDING_PAYMENT|\n",
      "|8646       |2013-07-25 00:00:00.0|71      |COMPLETE       |\n",
      "|4349       |2013-07-25 00:00:00.0|72      |COMPLETE       |\n",
      "|8504       |2013-07-25 00:00:00.0|73      |PENDING_PAYMENT|\n",
      "|662        |2013-07-25 00:00:00.0|74      |PENDING_PAYMENT|\n",
      "|2505       |2013-07-25 00:00:00.0|75      |PENDING_PAYMENT|\n",
      "|6898       |2013-07-25 00:00:00.0|76      |COMPLETE       |\n",
      "|7915       |2013-07-25 00:00:00.0|77      |PENDING_PAYMENT|\n",
      "|8619       |2013-07-25 00:00:00.0|78      |PAYMENT_REVIEW |\n",
      "|7327       |2013-07-25 00:00:00.0|79      |PENDING_PAYMENT|\n",
      "|3007       |2013-07-25 00:00:00.0|80      |COMPLETE       |\n",
      "|674        |2013-07-25 00:00:00.0|81      |PROCESSING     |\n",
      "|3566       |2013-07-25 00:00:00.0|82      |PENDING_PAYMENT|\n",
      "|1265       |2013-07-25 00:00:00.0|83      |COMPLETE       |\n",
      "|6789       |2013-07-25 00:00:00.0|84      |PROCESSING     |\n",
      "|1485       |2013-07-25 00:00:00.0|85      |PENDING        |\n",
      "|6680       |2013-07-25 00:00:00.0|86      |PENDING_PAYMENT|\n",
      "|3065       |2013-07-25 00:00:00.0|87      |CLOSED         |\n",
      "|3809       |2013-07-25 00:00:00.0|88      |COMPLETE       |\n",
      "|824        |2013-07-25 00:00:00.0|89      |ON_HOLD        |\n",
      "|9131       |2013-07-25 00:00:00.0|90      |CLOSED         |\n",
      "|8912       |2013-07-25 00:00:00.0|91      |COMPLETE       |\n",
      "|6932       |2013-07-25 00:00:00.0|92      |COMPLETE       |\n",
      "|2256       |2013-07-25 00:00:00.0|93      |PENDING_PAYMENT|\n",
      "|11589      |2013-07-25 00:00:00.0|94      |PROCESSING     |\n",
      "|9032       |2013-07-25 00:00:00.0|95      |COMPLETE       |\n",
      "|8683       |2013-07-25 00:00:00.0|96      |PENDING        |\n",
      "|10784      |2013-07-25 00:00:00.0|97      |PENDING        |\n",
      "|5243       |2013-07-25 00:00:00.0|98      |COMPLETE       |\n",
      "|11542      |2013-07-25 00:00:00.0|99      |PENDING_PAYMENT|\n",
      "|12131      |2013-07-25 00:00:00.0|100     |PROCESSING     |\n",
      "+-----------+---------------------+--------+---------------+\n",
      "only showing top 100 rows\n",
      "\n"
     ]
    }
   ],
   "source": [
    "spark.sql(\"select * from itv009033_week5_assignment.orders_json\").show(100, truncate = False)"
   ]
  },
  {
   "cell_type": "markdown",
   "id": "5f2f5a7e",
   "metadata": {},
   "source": [
    "<h3> 1.5.2 Create an external spark table with the same data. </h3>"
   ]
  },
  {
   "cell_type": "code",
   "execution_count": 67,
   "id": "9ae2d812",
   "metadata": {},
   "outputs": [],
   "source": [
    "spark.sql(\"create table if not exists itv009033_week5_assignment.orders_json_extrenal(customer_id int,order_date string,order_id int,order_status string)using json options(header = 'true') location '/public/trendytech/orders_wh.json/part-00000-68544d18-9a34-443f-bf0e-1dd8103ff94e-c000.json'\")"
   ]
  },
  {
   "cell_type": "code",
   "execution_count": 68,
   "id": "9ba17e23",
   "metadata": {},
   "outputs": [
    {
     "data": {
      "text/html": [
       "<table border='1'>\n",
       "<tr><th>customer_id</th><th>order_date</th><th>order_id</th><th>order_status</th></tr>\n",
       "<tr><td>11599</td><td>2013-07-25 00:00:...</td><td>1</td><td>CLOSED</td></tr>\n",
       "<tr><td>256</td><td>2013-07-25 00:00:...</td><td>2</td><td>PENDING_PAYMENT</td></tr>\n",
       "<tr><td>12111</td><td>2013-07-25 00:00:...</td><td>3</td><td>COMPLETE</td></tr>\n",
       "<tr><td>8827</td><td>2013-07-25 00:00:...</td><td>4</td><td>CLOSED</td></tr>\n",
       "<tr><td>11318</td><td>2013-07-25 00:00:...</td><td>5</td><td>COMPLETE</td></tr>\n",
       "<tr><td>7130</td><td>2013-07-25 00:00:...</td><td>6</td><td>COMPLETE</td></tr>\n",
       "<tr><td>4530</td><td>2013-07-25 00:00:...</td><td>7</td><td>COMPLETE</td></tr>\n",
       "<tr><td>2911</td><td>2013-07-25 00:00:...</td><td>8</td><td>PROCESSING</td></tr>\n",
       "<tr><td>5657</td><td>2013-07-25 00:00:...</td><td>9</td><td>PENDING_PAYMENT</td></tr>\n",
       "<tr><td>5648</td><td>2013-07-25 00:00:...</td><td>10</td><td>PENDING_PAYMENT</td></tr>\n",
       "<tr><td>918</td><td>2013-07-25 00:00:...</td><td>11</td><td>PAYMENT_REVIEW</td></tr>\n",
       "<tr><td>1837</td><td>2013-07-25 00:00:...</td><td>12</td><td>CLOSED</td></tr>\n",
       "<tr><td>9149</td><td>2013-07-25 00:00:...</td><td>13</td><td>PENDING_PAYMENT</td></tr>\n",
       "<tr><td>9842</td><td>2013-07-25 00:00:...</td><td>14</td><td>PROCESSING</td></tr>\n",
       "<tr><td>2568</td><td>2013-07-25 00:00:...</td><td>15</td><td>COMPLETE</td></tr>\n",
       "<tr><td>7276</td><td>2013-07-25 00:00:...</td><td>16</td><td>PENDING_PAYMENT</td></tr>\n",
       "<tr><td>2667</td><td>2013-07-25 00:00:...</td><td>17</td><td>COMPLETE</td></tr>\n",
       "<tr><td>1205</td><td>2013-07-25 00:00:...</td><td>18</td><td>CLOSED</td></tr>\n",
       "<tr><td>9488</td><td>2013-07-25 00:00:...</td><td>19</td><td>PENDING_PAYMENT</td></tr>\n",
       "<tr><td>9198</td><td>2013-07-25 00:00:...</td><td>20</td><td>PROCESSING</td></tr>\n",
       "</table>\n",
       "only showing top 20 rows\n"
      ],
      "text/plain": [
       "+-----------+--------------------+--------+---------------+\n",
       "|customer_id|          order_date|order_id|   order_status|\n",
       "+-----------+--------------------+--------+---------------+\n",
       "|      11599|2013-07-25 00:00:...|       1|         CLOSED|\n",
       "|        256|2013-07-25 00:00:...|       2|PENDING_PAYMENT|\n",
       "|      12111|2013-07-25 00:00:...|       3|       COMPLETE|\n",
       "|       8827|2013-07-25 00:00:...|       4|         CLOSED|\n",
       "|      11318|2013-07-25 00:00:...|       5|       COMPLETE|\n",
       "|       7130|2013-07-25 00:00:...|       6|       COMPLETE|\n",
       "|       4530|2013-07-25 00:00:...|       7|       COMPLETE|\n",
       "|       2911|2013-07-25 00:00:...|       8|     PROCESSING|\n",
       "|       5657|2013-07-25 00:00:...|       9|PENDING_PAYMENT|\n",
       "|       5648|2013-07-25 00:00:...|      10|PENDING_PAYMENT|\n",
       "|        918|2013-07-25 00:00:...|      11| PAYMENT_REVIEW|\n",
       "|       1837|2013-07-25 00:00:...|      12|         CLOSED|\n",
       "|       9149|2013-07-25 00:00:...|      13|PENDING_PAYMENT|\n",
       "|       9842|2013-07-25 00:00:...|      14|     PROCESSING|\n",
       "|       2568|2013-07-25 00:00:...|      15|       COMPLETE|\n",
       "|       7276|2013-07-25 00:00:...|      16|PENDING_PAYMENT|\n",
       "|       2667|2013-07-25 00:00:...|      17|       COMPLETE|\n",
       "|       1205|2013-07-25 00:00:...|      18|         CLOSED|\n",
       "|       9488|2013-07-25 00:00:...|      19|PENDING_PAYMENT|\n",
       "|       9198|2013-07-25 00:00:...|      20|     PROCESSING|\n",
       "+-----------+--------------------+--------+---------------+\n",
       "only showing top 20 rows"
      ]
     },
     "execution_count": 68,
     "metadata": {},
     "output_type": "execute_result"
    }
   ],
   "source": [
    "spark.sql(\"select * from orders_json_extrenal\")"
   ]
  },
  {
   "cell_type": "markdown",
   "id": "433660b8",
   "metadata": {},
   "source": [
    "<h3>1.5.3 Verify that the data has been successfully loaded into both the tables</h3>"
   ]
  },
  {
   "cell_type": "code",
   "execution_count": 69,
   "id": "e8f658ac",
   "metadata": {},
   "outputs": [
    {
     "name": "stdout",
     "output_type": "stream",
     "text": [
      "+-----------+---------------------+--------+---------------+\n",
      "|customer_id|order_date           |order_id|order_status   |\n",
      "+-----------+---------------------+--------+---------------+\n",
      "|11599      |2013-07-25 00:00:00.0|1       |CLOSED         |\n",
      "|256        |2013-07-25 00:00:00.0|2       |PENDING_PAYMENT|\n",
      "|12111      |2013-07-25 00:00:00.0|3       |COMPLETE       |\n",
      "|8827       |2013-07-25 00:00:00.0|4       |CLOSED         |\n",
      "|11318      |2013-07-25 00:00:00.0|5       |COMPLETE       |\n",
      "|7130       |2013-07-25 00:00:00.0|6       |COMPLETE       |\n",
      "|4530       |2013-07-25 00:00:00.0|7       |COMPLETE       |\n",
      "|2911       |2013-07-25 00:00:00.0|8       |PROCESSING     |\n",
      "|5657       |2013-07-25 00:00:00.0|9       |PENDING_PAYMENT|\n",
      "|5648       |2013-07-25 00:00:00.0|10      |PENDING_PAYMENT|\n",
      "|918        |2013-07-25 00:00:00.0|11      |PAYMENT_REVIEW |\n",
      "|1837       |2013-07-25 00:00:00.0|12      |CLOSED         |\n",
      "|9149       |2013-07-25 00:00:00.0|13      |PENDING_PAYMENT|\n",
      "|9842       |2013-07-25 00:00:00.0|14      |PROCESSING     |\n",
      "|2568       |2013-07-25 00:00:00.0|15      |COMPLETE       |\n",
      "|7276       |2013-07-25 00:00:00.0|16      |PENDING_PAYMENT|\n",
      "|2667       |2013-07-25 00:00:00.0|17      |COMPLETE       |\n",
      "|1205       |2013-07-25 00:00:00.0|18      |CLOSED         |\n",
      "|9488       |2013-07-25 00:00:00.0|19      |PENDING_PAYMENT|\n",
      "|9198       |2013-07-25 00:00:00.0|20      |PROCESSING     |\n",
      "+-----------+---------------------+--------+---------------+\n",
      "only showing top 20 rows\n",
      "\n"
     ]
    }
   ],
   "source": [
    "spark.sql(\"select * from orders_json_extrenal\").show(20, truncate = False)"
   ]
  },
  {
   "cell_type": "code",
   "execution_count": 70,
   "id": "f31170fb",
   "metadata": {},
   "outputs": [
    {
     "name": "stdout",
     "output_type": "stream",
     "text": [
      "+-----------+---------------------+--------+---------------+\n",
      "|customer_id|order_date           |order_id|order_status   |\n",
      "+-----------+---------------------+--------+---------------+\n",
      "|11599      |2013-07-25 00:00:00.0|1       |CLOSED         |\n",
      "|256        |2013-07-25 00:00:00.0|2       |PENDING_PAYMENT|\n",
      "|12111      |2013-07-25 00:00:00.0|3       |COMPLETE       |\n",
      "|8827       |2013-07-25 00:00:00.0|4       |CLOSED         |\n",
      "|11318      |2013-07-25 00:00:00.0|5       |COMPLETE       |\n",
      "|7130       |2013-07-25 00:00:00.0|6       |COMPLETE       |\n",
      "|4530       |2013-07-25 00:00:00.0|7       |COMPLETE       |\n",
      "|2911       |2013-07-25 00:00:00.0|8       |PROCESSING     |\n",
      "|5657       |2013-07-25 00:00:00.0|9       |PENDING_PAYMENT|\n",
      "|5648       |2013-07-25 00:00:00.0|10      |PENDING_PAYMENT|\n",
      "|918        |2013-07-25 00:00:00.0|11      |PAYMENT_REVIEW |\n",
      "|1837       |2013-07-25 00:00:00.0|12      |CLOSED         |\n",
      "|9149       |2013-07-25 00:00:00.0|13      |PENDING_PAYMENT|\n",
      "|9842       |2013-07-25 00:00:00.0|14      |PROCESSING     |\n",
      "|2568       |2013-07-25 00:00:00.0|15      |COMPLETE       |\n",
      "|7276       |2013-07-25 00:00:00.0|16      |PENDING_PAYMENT|\n",
      "|2667       |2013-07-25 00:00:00.0|17      |COMPLETE       |\n",
      "|1205       |2013-07-25 00:00:00.0|18      |CLOSED         |\n",
      "|9488       |2013-07-25 00:00:00.0|19      |PENDING_PAYMENT|\n",
      "|9198       |2013-07-25 00:00:00.0|20      |PROCESSING     |\n",
      "+-----------+---------------------+--------+---------------+\n",
      "only showing top 20 rows\n",
      "\n"
     ]
    }
   ],
   "source": [
    "spark.sql(\"select * from orders_json\").show(20, truncate = False)"
   ]
  },
  {
   "cell_type": "markdown",
   "id": "0f7ddb73",
   "metadata": {},
   "source": [
    "<h3>1.5.4 Drop the managed and external tables and see the differences</h3>"
   ]
  },
  {
   "cell_type": "code",
   "execution_count": 71,
   "id": "15f669d6",
   "metadata": {},
   "outputs": [
    {
     "data": {
      "text/html": [
       "<table border='1'>\n",
       "<tr><th></th></tr>\n",
       "</table>\n"
      ],
      "text/plain": [
       "++\n",
       "||\n",
       "++\n",
       "++"
      ]
     },
     "execution_count": 71,
     "metadata": {},
     "output_type": "execute_result"
    }
   ],
   "source": [
    "spark.sql(\"drop table itv009033_week5_assignment.orders_json_extrenal\")"
   ]
  },
  {
   "cell_type": "code",
   "execution_count": 72,
   "id": "99ce447e",
   "metadata": {},
   "outputs": [
    {
     "data": {
      "text/html": [
       "<table border='1'>\n",
       "<tr><th></th></tr>\n",
       "</table>\n"
      ],
      "text/plain": [
       "++\n",
       "||\n",
       "++\n",
       "++"
      ]
     },
     "execution_count": 72,
     "metadata": {},
     "output_type": "execute_result"
    }
   ],
   "source": [
    "spark.sql(\"drop table itv009033_week5_assignment.orders_json\")"
   ]
  },
  {
   "cell_type": "code",
   "execution_count": 79,
   "id": "1b17b99a",
   "metadata": {},
   "outputs": [
    {
     "name": "stdout",
     "output_type": "stream",
     "text": [
      "+--------+--------------+-----------+\n",
      "|database|tableName     |isTemporary|\n",
      "+--------+--------------+-----------+\n",
      "|        |groceries_temp|true       |\n",
      "|        |order         |true       |\n",
      "|        |order_json    |true       |\n",
      "|        |orders        |true       |\n",
      "+--------+--------------+-----------+\n",
      "\n"
     ]
    }
   ],
   "source": [
    "spark.sql(\"show tables\").show(truncate = False)"
   ]
  },
  {
   "cell_type": "code",
   "execution_count": 78,
   "id": "f675fdf0",
   "metadata": {},
   "outputs": [],
   "source": [
    "spark.stop()"
   ]
  },
  {
   "cell_type": "code",
   "execution_count": null,
   "id": "14b0fd93",
   "metadata": {},
   "outputs": [],
   "source": []
  },
  {
   "cell_type": "code",
   "execution_count": null,
   "id": "e7df81c7",
   "metadata": {},
   "outputs": [],
   "source": []
  }
 ],
 "metadata": {
  "kernelspec": {
   "display_name": "Pyspark 3",
   "language": "python",
   "name": "pyspark3"
  },
  "language_info": {
   "codemirror_mode": {
    "name": "ipython",
    "version": 3
   },
   "file_extension": ".py",
   "mimetype": "text/x-python",
   "name": "python",
   "nbconvert_exporter": "python",
   "pygments_lexer": "ipython3",
   "version": "3.6.12"
  }
 },
 "nbformat": 4,
 "nbformat_minor": 5
}
