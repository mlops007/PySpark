{
 "cells": [
  {
   "cell_type": "code",
   "execution_count": 2,
   "id": "2a64b768",
   "metadata": {},
   "outputs": [],
   "source": [
    "from pyspark.sql import SparkSession\n",
    "import getpass\n",
    "username = getpass.getuser()\n",
    "spark= SparkSession. \\\n",
    "builder. \\\n",
    "config('spark.ui.port','0'). \\\n",
    "config(\"spark.sql.warehouse.dir\", f\"/user/itv009033/warehouse\"). \\\n",
    "enableHiveSupport(). \\\n",
    "master('yarn'). \\\n",
    "getOrCreate()"
   ]
  },
  {
   "cell_type": "code",
   "execution_count": 3,
   "id": "193ef56d",
   "metadata": {},
   "outputs": [
    {
     "data": {
      "text/html": [
       "\n",
       "            <div>\n",
       "                <p><b>SparkSession - hive</b></p>\n",
       "                \n",
       "        <div>\n",
       "            <p><b>SparkContext</b></p>\n",
       "\n",
       "            <p><a href=\"http://g02.itversity.com:45369\">Spark UI</a></p>\n",
       "\n",
       "            <dl>\n",
       "              <dt>Version</dt>\n",
       "                <dd><code>v3.1.2</code></dd>\n",
       "              <dt>Master</dt>\n",
       "                <dd><code>yarn</code></dd>\n",
       "              <dt>AppName</dt>\n",
       "                <dd><code>pyspark-shell</code></dd>\n",
       "            </dl>\n",
       "        </div>\n",
       "        \n",
       "            </div>\n",
       "        "
      ],
      "text/plain": [
       "<pyspark.sql.session.SparkSession at 0x7f2e78dfce80>"
      ]
     },
     "execution_count": 3,
     "metadata": {},
     "output_type": "execute_result"
    }
   ],
   "source": [
    "spark"
   ]
  },
  {
   "cell_type": "markdown",
   "id": "b3acb782",
   "metadata": {},
   "source": [
    "# Question 3 : Use the dataset given in HDFS(path: /public/trendytech/retail_db/customers)"
   ]
  },
  {
   "cell_type": "code",
   "execution_count": 4,
   "id": "04ac8a9d",
   "metadata": {},
   "outputs": [],
   "source": [
    "customers_df = spark.read.format('csv')\\\n",
    "                    .option('header', 'true')\\\n",
    "                    .option('inferschema','true')\\\n",
    "                    .option(\"mode\", \"DROPMALFORMED\")\\\n",
    "                    .load(\"/user/itv009033/customers_folder/final_customers.csv\")"
   ]
  },
  {
   "cell_type": "code",
   "execution_count": 5,
   "id": "42fed45a",
   "metadata": {},
   "outputs": [
    {
     "data": {
      "text/html": [
       "<table border='1'>\n",
       "<tr><th>namespace</th></tr>\n",
       "<tr><td>00000assign7_itv0...</td></tr>\n",
       "<tr><td>0001_av_ivy_tesco</td></tr>\n",
       "<tr><td>001_retail</td></tr>\n",
       "<tr><td>003402_hive1</td></tr>\n",
       "<tr><td>005198_ivy_tesco</td></tr>\n",
       "<tr><td>005212_ivy_tesco</td></tr>\n",
       "<tr><td>005222_ivy_practice</td></tr>\n",
       "<tr><td>005260_ivy_database</td></tr>\n",
       "<tr><td>005876_week5_assi...</td></tr>\n",
       "<tr><td>005933_retail</td></tr>\n",
       "<tr><td>006018_trendytech...</td></tr>\n",
       "<tr><td>006539_week5</td></tr>\n",
       "<tr><td>006539_week5_1</td></tr>\n",
       "<tr><td>006586_database</td></tr>\n",
       "<tr><td>006608_database</td></tr>\n",
       "<tr><td>006866_week5_assi...</td></tr>\n",
       "<tr><td>007384_w5_db</td></tr>\n",
       "<tr><td>008057_bucketing_db</td></tr>\n",
       "<tr><td>008211_week5</td></tr>\n",
       "<tr><td>008228trendytechw...</td></tr>\n",
       "</table>\n",
       "only showing top 20 rows\n"
      ],
      "text/plain": [
       "+--------------------+\n",
       "|           namespace|\n",
       "+--------------------+\n",
       "|00000assign7_itv0...|\n",
       "|   0001_av_ivy_tesco|\n",
       "|          001_retail|\n",
       "|        003402_hive1|\n",
       "|    005198_ivy_tesco|\n",
       "|    005212_ivy_tesco|\n",
       "| 005222_ivy_practice|\n",
       "| 005260_ivy_database|\n",
       "|005876_week5_assi...|\n",
       "|       005933_retail|\n",
       "|006018_trendytech...|\n",
       "|        006539_week5|\n",
       "|      006539_week5_1|\n",
       "|     006586_database|\n",
       "|     006608_database|\n",
       "|006866_week5_assi...|\n",
       "|        007384_w5_db|\n",
       "| 008057_bucketing_db|\n",
       "|        008211_week5|\n",
       "|008228trendytechw...|\n",
       "+--------------------+\n",
       "only showing top 20 rows"
      ]
     },
     "execution_count": 5,
     "metadata": {},
     "output_type": "execute_result"
    }
   ],
   "source": [
    "spark.sql(\"show databases\")"
   ]
  },
  {
   "cell_type": "code",
   "execution_count": 6,
   "id": "0335409e",
   "metadata": {},
   "outputs": [
    {
     "name": "stdout",
     "output_type": "stream",
     "text": [
      "+-------+-----------+----------+----------+-------------+---------------------------+-------------+----------+------------+\n",
      "|cust_id|cust_fname |cust_lname|cust_email|cust_password|cust_street                |cust_city    |cust_state|cust_zipcode|\n",
      "+-------+-----------+----------+----------+-------------+---------------------------+-------------+----------+------------+\n",
      "|1      |Richard    |Hernandez |XXXXXXXXX |XXXXXXXXX    |6303 Heather Plaza         |Brownsville  |TX        |78521       |\n",
      "|2      |Mary       |Barrett   |XXXXXXXXX |XXXXXXXXX    |9526 Noble Embers Ridge    |Littleton    |CO        |80126       |\n",
      "|3      |Ann        |Smith     |XXXXXXXXX |XXXXXXXXX    |3422 Blue Pioneer Bend     |Caguas       |PR        |725         |\n",
      "|4      |Mary       |Jones     |XXXXXXXXX |XXXXXXXXX    |8324 Little Common         |San Marcos   |CA        |92069       |\n",
      "|5      |Robert     |Hudson    |XXXXXXXXX |XXXXXXXXX    |10 Crystal River Mall      |Caguas       |PR        |725         |\n",
      "|6      |Mary       |Smith     |XXXXXXXXX |XXXXXXXXX    |3151 Sleepy Quail Promenade|Passaic      |NJ        |7055        |\n",
      "|7      |Melissa    |Wilcox    |XXXXXXXXX |XXXXXXXXX    |9453 High Concession       |Caguas       |PR        |725         |\n",
      "|8      |Megan      |Smith     |XXXXXXXXX |XXXXXXXXX    |3047 Foggy Forest Plaza    |Lawrence     |MA        |1841        |\n",
      "|9      |Mary       |Perez     |XXXXXXXXX |XXXXXXXXX    |3616 Quaking Street        |Caguas       |PR        |725         |\n",
      "|10     |Melissa    |Smith     |XXXXXXXXX |XXXXXXXXX    |8598 Harvest Beacon Plaza  |Stafford     |VA        |22554       |\n",
      "|11     |Mary       |Huffman   |XXXXXXXXX |XXXXXXXXX    |3169 Stony Woods           |Caguas       |PR        |725         |\n",
      "|12     |Christopher|Smith     |XXXXXXXXX |XXXXXXXXX    |5594 Jagged Embers By-pass |San Antonio  |TX        |78227       |\n",
      "|13     |Mary       |Baldwin   |XXXXXXXXX |XXXXXXXXX    |7922 Iron Oak Gardens      |Caguas       |PR        |725         |\n",
      "|14     |Katherine  |Smith     |XXXXXXXXX |XXXXXXXXX    |5666 Hazy Pony Square      |Pico Rivera  |CA        |90660       |\n",
      "|15     |Jane       |Luna      |XXXXXXXXX |XXXXXXXXX    |673 Burning Glen           |Fontana      |CA        |92336       |\n",
      "|16     |Tiffany    |Smith     |XXXXXXXXX |XXXXXXXXX    |6651 Iron Port             |Caguas       |PR        |725         |\n",
      "|17     |Mary       |Robinson  |XXXXXXXXX |XXXXXXXXX    |1325 Noble Pike            |Taylor       |MI        |48180       |\n",
      "|18     |Robert     |Smith     |XXXXXXXXX |XXXXXXXXX    |2734 Hazy Butterfly Circle |Martinez     |CA        |94553       |\n",
      "|19     |Stephanie  |Mitchell  |XXXXXXXXX |XXXXXXXXX    |3543 Red Treasure Bay      |Caguas       |PR        |725         |\n",
      "|20     |Mary       |Ellis     |XXXXXXXXX |XXXXXXXXX    |4703 Old Route             |West New York|NJ        |7093        |\n",
      "+-------+-----------+----------+----------+-------------+---------------------------+-------------+----------+------------+\n",
      "only showing top 20 rows\n",
      "\n"
     ]
    }
   ],
   "source": [
    "customers_df.show(truncate = False)"
   ]
  },
  {
   "cell_type": "code",
   "execution_count": 8,
   "id": "d72f84e8",
   "metadata": {},
   "outputs": [
    {
     "data": {
      "text/html": [
       "<table border='1'>\n",
       "<tr><th></th></tr>\n",
       "</table>\n"
      ],
      "text/plain": [
       "++\n",
       "||\n",
       "++\n",
       "++"
      ]
     },
     "execution_count": 8,
     "metadata": {},
     "output_type": "execute_result"
    }
   ],
   "source": [
    "spark.sql(\"use itv009033_week5_assignment\")"
   ]
  },
  {
   "cell_type": "code",
   "execution_count": 9,
   "id": "2043159f",
   "metadata": {},
   "outputs": [
    {
     "name": "stdout",
     "output_type": "stream",
     "text": [
      "root\n",
      " |-- cust_id: integer (nullable = true)\n",
      " |-- cust_fname: string (nullable = true)\n",
      " |-- cust_lname: string (nullable = true)\n",
      " |-- cust_email: string (nullable = true)\n",
      " |-- cust_password: string (nullable = true)\n",
      " |-- cust_street: string (nullable = true)\n",
      " |-- cust_city: string (nullable = true)\n",
      " |-- cust_state: string (nullable = true)\n",
      " |-- cust_zipcode: integer (nullable = true)\n",
      "\n"
     ]
    }
   ],
   "source": [
    "customers_df.printSchema()"
   ]
  },
  {
   "cell_type": "code",
   "execution_count": 11,
   "id": "98ec0ba5",
   "metadata": {},
   "outputs": [],
   "source": [
    "customers_df.createOrReplaceTempView(\"customer\")"
   ]
  },
  {
   "cell_type": "code",
   "execution_count": 12,
   "id": "d4c8954c",
   "metadata": {},
   "outputs": [
    {
     "name": "stdout",
     "output_type": "stream",
     "text": [
      "+--------------------------+---------+-----------+\n",
      "|database                  |tableName|isTemporary|\n",
      "+--------------------------+---------+-----------+\n",
      "|itv009033_week5_assignment|customers|false      |\n",
      "|itv009033_week5_assignment|product  |false      |\n",
      "|                          |customer |true       |\n",
      "+--------------------------+---------+-----------+\n",
      "\n"
     ]
    }
   ],
   "source": [
    "spark.sql(\"show tables\").show(truncate = False)"
   ]
  },
  {
   "cell_type": "code",
   "execution_count": 13,
   "id": "821ff945",
   "metadata": {},
   "outputs": [
    {
     "data": {
      "text/html": [
       "<table border='1'>\n",
       "<tr><th></th></tr>\n",
       "</table>\n"
      ],
      "text/plain": [
       "++\n",
       "||\n",
       "++\n",
       "++"
      ]
     },
     "execution_count": 13,
     "metadata": {},
     "output_type": "execute_result"
    }
   ],
   "source": [
    "spark.sql(\"drop table customers\")"
   ]
  },
  {
   "cell_type": "code",
   "execution_count": 14,
   "id": "6b3e2cb6",
   "metadata": {},
   "outputs": [
    {
     "name": "stdout",
     "output_type": "stream",
     "text": [
      "+--------------------------+---------+-----------+\n",
      "|database                  |tableName|isTemporary|\n",
      "+--------------------------+---------+-----------+\n",
      "|itv009033_week5_assignment|product  |false      |\n",
      "|                          |customer |true       |\n",
      "+--------------------------+---------+-----------+\n",
      "\n"
     ]
    }
   ],
   "source": [
    "spark.sql(\"show tables\").show(truncate = False)"
   ]
  },
  {
   "cell_type": "code",
   "execution_count": 15,
   "id": "eb8a316e",
   "metadata": {},
   "outputs": [
    {
     "data": {
      "text/html": [
       "<table border='1'>\n",
       "<tr><th></th></tr>\n",
       "</table>\n"
      ],
      "text/plain": [
       "++\n",
       "||\n",
       "++\n",
       "++"
      ]
     },
     "execution_count": 15,
     "metadata": {},
     "output_type": "execute_result"
    }
   ],
   "source": [
    "spark.sql(\"create table if not exists itv009033_week5_assignment.customers(cust_id int, cust_fname string, cust_lname string, cust_email string, cust_password string, cust_street string, cust_city string, cust_state string, cust_zipcode int)\")"
   ]
  },
  {
   "cell_type": "code",
   "execution_count": 16,
   "id": "1e677bf1",
   "metadata": {},
   "outputs": [
    {
     "name": "stdout",
     "output_type": "stream",
     "text": [
      "+--------------------------+---------+-----------+\n",
      "|database                  |tableName|isTemporary|\n",
      "+--------------------------+---------+-----------+\n",
      "|itv009033_week5_assignment|customers|false      |\n",
      "|itv009033_week5_assignment|product  |false      |\n",
      "|                          |customer |true       |\n",
      "+--------------------------+---------+-----------+\n",
      "\n"
     ]
    }
   ],
   "source": [
    "spark.sql(\"show tables\").show(truncate = False)"
   ]
  },
  {
   "cell_type": "code",
   "execution_count": 17,
   "id": "bc190488",
   "metadata": {},
   "outputs": [
    {
     "name": "stdout",
     "output_type": "stream",
     "text": [
      "++\n",
      "||\n",
      "++\n",
      "++\n",
      "\n"
     ]
    }
   ],
   "source": [
    "spark.sql(\"insert into itv009033_week5_assignment.customers select * from customer\").show()"
   ]
  },
  {
   "cell_type": "code",
   "execution_count": 18,
   "id": "40dfdca6",
   "metadata": {},
   "outputs": [
    {
     "name": "stdout",
     "output_type": "stream",
     "text": [
      "+-------+-----------+----------+----------+-------------+---------------------------+-------------+----------+------------+\n",
      "|cust_id|cust_fname |cust_lname|cust_email|cust_password|cust_street                |cust_city    |cust_state|cust_zipcode|\n",
      "+-------+-----------+----------+----------+-------------+---------------------------+-------------+----------+------------+\n",
      "|1      |Richard    |Hernandez |XXXXXXXXX |XXXXXXXXX    |6303 Heather Plaza         |Brownsville  |TX        |78521       |\n",
      "|2      |Mary       |Barrett   |XXXXXXXXX |XXXXXXXXX    |9526 Noble Embers Ridge    |Littleton    |CO        |80126       |\n",
      "|3      |Ann        |Smith     |XXXXXXXXX |XXXXXXXXX    |3422 Blue Pioneer Bend     |Caguas       |PR        |725         |\n",
      "|4      |Mary       |Jones     |XXXXXXXXX |XXXXXXXXX    |8324 Little Common         |San Marcos   |CA        |92069       |\n",
      "|5      |Robert     |Hudson    |XXXXXXXXX |XXXXXXXXX    |10 Crystal River Mall      |Caguas       |PR        |725         |\n",
      "|6      |Mary       |Smith     |XXXXXXXXX |XXXXXXXXX    |3151 Sleepy Quail Promenade|Passaic      |NJ        |7055        |\n",
      "|7      |Melissa    |Wilcox    |XXXXXXXXX |XXXXXXXXX    |9453 High Concession       |Caguas       |PR        |725         |\n",
      "|8      |Megan      |Smith     |XXXXXXXXX |XXXXXXXXX    |3047 Foggy Forest Plaza    |Lawrence     |MA        |1841        |\n",
      "|9      |Mary       |Perez     |XXXXXXXXX |XXXXXXXXX    |3616 Quaking Street        |Caguas       |PR        |725         |\n",
      "|10     |Melissa    |Smith     |XXXXXXXXX |XXXXXXXXX    |8598 Harvest Beacon Plaza  |Stafford     |VA        |22554       |\n",
      "|11     |Mary       |Huffman   |XXXXXXXXX |XXXXXXXXX    |3169 Stony Woods           |Caguas       |PR        |725         |\n",
      "|12     |Christopher|Smith     |XXXXXXXXX |XXXXXXXXX    |5594 Jagged Embers By-pass |San Antonio  |TX        |78227       |\n",
      "|13     |Mary       |Baldwin   |XXXXXXXXX |XXXXXXXXX    |7922 Iron Oak Gardens      |Caguas       |PR        |725         |\n",
      "|14     |Katherine  |Smith     |XXXXXXXXX |XXXXXXXXX    |5666 Hazy Pony Square      |Pico Rivera  |CA        |90660       |\n",
      "|15     |Jane       |Luna      |XXXXXXXXX |XXXXXXXXX    |673 Burning Glen           |Fontana      |CA        |92336       |\n",
      "|16     |Tiffany    |Smith     |XXXXXXXXX |XXXXXXXXX    |6651 Iron Port             |Caguas       |PR        |725         |\n",
      "|17     |Mary       |Robinson  |XXXXXXXXX |XXXXXXXXX    |1325 Noble Pike            |Taylor       |MI        |48180       |\n",
      "|18     |Robert     |Smith     |XXXXXXXXX |XXXXXXXXX    |2734 Hazy Butterfly Circle |Martinez     |CA        |94553       |\n",
      "|19     |Stephanie  |Mitchell  |XXXXXXXXX |XXXXXXXXX    |3543 Red Treasure Bay      |Caguas       |PR        |725         |\n",
      "|20     |Mary       |Ellis     |XXXXXXXXX |XXXXXXXXX    |4703 Old Route             |West New York|NJ        |7093        |\n",
      "+-------+-----------+----------+----------+-------------+---------------------------+-------------+----------+------------+\n",
      "only showing top 20 rows\n",
      "\n"
     ]
    }
   ],
   "source": [
    "spark.sql(\"select * from customers\").show(truncate = False)"
   ]
  },
  {
   "cell_type": "code",
   "execution_count": null,
   "id": "7c23034e",
   "metadata": {},
   "outputs": [],
   "source": []
  },
  {
   "cell_type": "markdown",
   "id": "f43d5eec",
   "metadata": {},
   "source": [
    "# 3.1. Find the total number of customers in each state."
   ]
  },
  {
   "cell_type": "code",
   "execution_count": 19,
   "id": "bbc57689",
   "metadata": {},
   "outputs": [
    {
     "name": "stdout",
     "output_type": "stream",
     "text": [
      "+----------+-----+\n",
      "|cust_state|count|\n",
      "+----------+-----+\n",
      "|        PR| 4771|\n",
      "|        CA| 2012|\n",
      "|        NY|  775|\n",
      "|        TX|  635|\n",
      "|        IL|  523|\n",
      "|        FL|  374|\n",
      "|        OH|  276|\n",
      "|        PA|  261|\n",
      "|        MI|  254|\n",
      "|        NJ|  219|\n",
      "|        AZ|  213|\n",
      "|        GA|  169|\n",
      "|        MD|  164|\n",
      "|        NC|  150|\n",
      "|        VA|  136|\n",
      "|        CO|  122|\n",
      "|        OR|  119|\n",
      "|        MA|  113|\n",
      "|        TN|  104|\n",
      "|        NV|  103|\n",
      "+----------+-----+\n",
      "only showing top 20 rows\n",
      "\n"
     ]
    }
   ],
   "source": [
    "customers_df.select(\"cust_state\").groupBy(\"cust_state\").count().sort(\"count\", ascending = False).show()"
   ]
  },
  {
   "cell_type": "code",
   "execution_count": 20,
   "id": "a1942b0a",
   "metadata": {},
   "outputs": [
    {
     "name": "stdout",
     "output_type": "stream",
     "text": [
      "+----------+---------------+\n",
      "|cust_state|count_of_states|\n",
      "+----------+---------------+\n",
      "|        PR|           4771|\n",
      "|        CA|           2012|\n",
      "|        NY|            775|\n",
      "|        TX|            635|\n",
      "|        IL|            523|\n",
      "|        FL|            374|\n",
      "|        OH|            276|\n",
      "|        PA|            261|\n",
      "|        MI|            254|\n",
      "|        NJ|            219|\n",
      "|        AZ|            213|\n",
      "|        GA|            169|\n",
      "|        MD|            164|\n",
      "|        NC|            150|\n",
      "|        VA|            136|\n",
      "|        CO|            122|\n",
      "|        OR|            119|\n",
      "|        MA|            113|\n",
      "|        TN|            104|\n",
      "|        NV|            103|\n",
      "+----------+---------------+\n",
      "only showing top 20 rows\n",
      "\n"
     ]
    }
   ],
   "source": [
    "spark.sql(\"select cust_state, count(*) as count_of_states from customers group by 1 order by count(*) desc\").show()"
   ]
  },
  {
   "cell_type": "markdown",
   "id": "3c7caeeb",
   "metadata": {},
   "source": [
    "# 3.2. Find the top 5 most common last names among the customers"
   ]
  },
  {
   "cell_type": "code",
   "execution_count": 21,
   "id": "4b54185a",
   "metadata": {},
   "outputs": [
    {
     "name": "stdout",
     "output_type": "stream",
     "text": [
      "+----------+-----+\n",
      "|cust_lname|count|\n",
      "+----------+-----+\n",
      "|Smith     |4626 |\n",
      "|Johnson   |76   |\n",
      "|Williams  |69   |\n",
      "|Jones     |65   |\n",
      "|Brown     |62   |\n",
      "+----------+-----+\n",
      "\n"
     ]
    }
   ],
   "source": [
    "customers_df.select(\"cust_lname\").groupBy(\"cust_lname\").count().sort(\"count\",ascending = False).limit(5).show(truncate = False)"
   ]
  },
  {
   "cell_type": "code",
   "execution_count": 22,
   "id": "e2a99986",
   "metadata": {},
   "outputs": [
    {
     "name": "stdout",
     "output_type": "stream",
     "text": [
      "+----------+-----------------+\n",
      "|cust_lname|last_name_counter|\n",
      "+----------+-----------------+\n",
      "|     Smith|             4626|\n",
      "|   Johnson|               76|\n",
      "|  Williams|               69|\n",
      "|     Jones|               65|\n",
      "|     Brown|               62|\n",
      "+----------+-----------------+\n",
      "\n"
     ]
    }
   ],
   "source": [
    "spark.sql(\"select cust_lname, count(cust_lname) as last_name_counter from customers group by 1 order by last_name_counter desc limit 5\").show()"
   ]
  },
  {
   "cell_type": "markdown",
   "id": "48578516",
   "metadata": {},
   "source": [
    "# 3.3. Check whether there are any customers whose zip codes are not valid (i.e., not equal to 5 digits).\n"
   ]
  },
  {
   "cell_type": "code",
   "execution_count": 23,
   "id": "11e41db3",
   "metadata": {},
   "outputs": [],
   "source": [
    "from pyspark.sql.functions import length"
   ]
  },
  {
   "cell_type": "code",
   "execution_count": 24,
   "id": "21b17d09",
   "metadata": {},
   "outputs": [
    {
     "name": "stdout",
     "output_type": "stream",
     "text": [
      "+-------+----------+----------+----------+-------------+--------------------+-------------+----------+------------+\n",
      "|cust_id|cust_fname|cust_lname|cust_email|cust_password|         cust_street|    cust_city|cust_state|cust_zipcode|\n",
      "+-------+----------+----------+----------+-------------+--------------------+-------------+----------+------------+\n",
      "|      3|       Ann|     Smith| XXXXXXXXX|    XXXXXXXXX|3422 Blue Pioneer...|       Caguas|        PR|         725|\n",
      "|      5|    Robert|    Hudson| XXXXXXXXX|    XXXXXXXXX|10 Crystal River ...|       Caguas|        PR|         725|\n",
      "|      6|      Mary|     Smith| XXXXXXXXX|    XXXXXXXXX|3151 Sleepy Quail...|      Passaic|        NJ|        7055|\n",
      "|      7|   Melissa|    Wilcox| XXXXXXXXX|    XXXXXXXXX|9453 High Concession|       Caguas|        PR|         725|\n",
      "|      8|     Megan|     Smith| XXXXXXXXX|    XXXXXXXXX|3047 Foggy Forest...|     Lawrence|        MA|        1841|\n",
      "|      9|      Mary|     Perez| XXXXXXXXX|    XXXXXXXXX| 3616 Quaking Street|       Caguas|        PR|         725|\n",
      "|     11|      Mary|   Huffman| XXXXXXXXX|    XXXXXXXXX|    3169 Stony Woods|       Caguas|        PR|         725|\n",
      "|     13|      Mary|   Baldwin| XXXXXXXXX|    XXXXXXXXX|7922 Iron Oak Gar...|       Caguas|        PR|         725|\n",
      "|     16|   Tiffany|     Smith| XXXXXXXXX|    XXXXXXXXX|      6651 Iron Port|       Caguas|        PR|         725|\n",
      "|     19| Stephanie|  Mitchell| XXXXXXXXX|    XXXXXXXXX|3543 Red Treasure...|       Caguas|        PR|         725|\n",
      "|     20|      Mary|     Ellis| XXXXXXXXX|    XXXXXXXXX|      4703 Old Route|West New York|        NJ|        7093|\n",
      "|     21|   William| Zimmerman| XXXXXXXXX|    XXXXXXXXX|3323 Old Willow M...|       Caguas|        PR|         725|\n",
      "|     22|    Joseph|     Smith| XXXXXXXXX|    XXXXXXXXX|7740 Broad Fox Vi...| North Bergen|        NJ|        7047|\n",
      "|     23|  Benjamin|    Duarte| XXXXXXXXX|    XXXXXXXXX|8811 High Horse I...|     San Juan|        PR|         921|\n",
      "|     24|      Mary|     Smith| XXXXXXXXX|    XXXXXXXXX| 9417 Emerald Towers|       Caguas|        PR|         725|\n",
      "|     27|      Mary|   Vincent| XXXXXXXXX|    XXXXXXXXX|1768 Sleepy Zephy...|       Caguas|        PR|         725|\n",
      "|     30|   Barbara|     Smith| XXXXXXXXX|    XXXXXXXXX|   2455 Merry Hollow|       Caguas|        PR|         725|\n",
      "|     32|     Alice|     Smith| XXXXXXXXX|    XXXXXXXXX|   2082 Hidden Green|       Caguas|        PR|         725|\n",
      "|     34|      Mary|     Smith| XXXXXXXXX|    XXXXXXXXX|3330 Easy Berry R...|       Caguas|        PR|         725|\n",
      "|     36|  Michelle|     Carey| XXXXXXXXX|    XXXXXXXXX| 6336 Fallen Village|       Caguas|        PR|         725|\n",
      "+-------+----------+----------+----------+-------------+--------------------+-------------+----------+------------+\n",
      "only showing top 20 rows\n",
      "\n"
     ]
    }
   ],
   "source": [
    "customers_df.select(\"*\").filter(length(\"cust_zipcode\")!=5).show()"
   ]
  },
  {
   "cell_type": "code",
   "execution_count": 25,
   "id": "5e99e9ef",
   "metadata": {},
   "outputs": [
    {
     "name": "stdout",
     "output_type": "stream",
     "text": [
      "+-------+----------+----------+----------+-------------+--------------------+-------------+----------+------------+\n",
      "|cust_id|cust_fname|cust_lname|cust_email|cust_password|         cust_street|    cust_city|cust_state|cust_zipcode|\n",
      "+-------+----------+----------+----------+-------------+--------------------+-------------+----------+------------+\n",
      "|      3|       Ann|     Smith| XXXXXXXXX|    XXXXXXXXX|3422 Blue Pioneer...|       Caguas|        PR|         725|\n",
      "|      5|    Robert|    Hudson| XXXXXXXXX|    XXXXXXXXX|10 Crystal River ...|       Caguas|        PR|         725|\n",
      "|      6|      Mary|     Smith| XXXXXXXXX|    XXXXXXXXX|3151 Sleepy Quail...|      Passaic|        NJ|        7055|\n",
      "|      7|   Melissa|    Wilcox| XXXXXXXXX|    XXXXXXXXX|9453 High Concession|       Caguas|        PR|         725|\n",
      "|      8|     Megan|     Smith| XXXXXXXXX|    XXXXXXXXX|3047 Foggy Forest...|     Lawrence|        MA|        1841|\n",
      "|      9|      Mary|     Perez| XXXXXXXXX|    XXXXXXXXX| 3616 Quaking Street|       Caguas|        PR|         725|\n",
      "|     11|      Mary|   Huffman| XXXXXXXXX|    XXXXXXXXX|    3169 Stony Woods|       Caguas|        PR|         725|\n",
      "|     13|      Mary|   Baldwin| XXXXXXXXX|    XXXXXXXXX|7922 Iron Oak Gar...|       Caguas|        PR|         725|\n",
      "|     16|   Tiffany|     Smith| XXXXXXXXX|    XXXXXXXXX|      6651 Iron Port|       Caguas|        PR|         725|\n",
      "|     19| Stephanie|  Mitchell| XXXXXXXXX|    XXXXXXXXX|3543 Red Treasure...|       Caguas|        PR|         725|\n",
      "|     20|      Mary|     Ellis| XXXXXXXXX|    XXXXXXXXX|      4703 Old Route|West New York|        NJ|        7093|\n",
      "|     21|   William| Zimmerman| XXXXXXXXX|    XXXXXXXXX|3323 Old Willow M...|       Caguas|        PR|         725|\n",
      "|     22|    Joseph|     Smith| XXXXXXXXX|    XXXXXXXXX|7740 Broad Fox Vi...| North Bergen|        NJ|        7047|\n",
      "|     23|  Benjamin|    Duarte| XXXXXXXXX|    XXXXXXXXX|8811 High Horse I...|     San Juan|        PR|         921|\n",
      "|     24|      Mary|     Smith| XXXXXXXXX|    XXXXXXXXX| 9417 Emerald Towers|       Caguas|        PR|         725|\n",
      "|     27|      Mary|   Vincent| XXXXXXXXX|    XXXXXXXXX|1768 Sleepy Zephy...|       Caguas|        PR|         725|\n",
      "|     30|   Barbara|     Smith| XXXXXXXXX|    XXXXXXXXX|   2455 Merry Hollow|       Caguas|        PR|         725|\n",
      "|     32|     Alice|     Smith| XXXXXXXXX|    XXXXXXXXX|   2082 Hidden Green|       Caguas|        PR|         725|\n",
      "|     34|      Mary|     Smith| XXXXXXXXX|    XXXXXXXXX|3330 Easy Berry R...|       Caguas|        PR|         725|\n",
      "|     36|  Michelle|     Carey| XXXXXXXXX|    XXXXXXXXX| 6336 Fallen Village|       Caguas|        PR|         725|\n",
      "+-------+----------+----------+----------+-------------+--------------------+-------------+----------+------------+\n",
      "only showing top 20 rows\n",
      "\n"
     ]
    }
   ],
   "source": [
    "spark.sql(\"select * from customers where LENGTH(cust_zipcode)<>5\").show()"
   ]
  },
  {
   "cell_type": "markdown",
   "id": "4e849bdb",
   "metadata": {},
   "source": [
    "# 3.4. Count the number of customers who have valid zip codes."
   ]
  },
  {
   "cell_type": "code",
   "execution_count": 26,
   "id": "ab4a07b8",
   "metadata": {},
   "outputs": [
    {
     "name": "stdout",
     "output_type": "stream",
     "text": [
      "+-------+-----------+----------+----------+-------------+--------------------+-----------+----------+------------+\n",
      "|cust_id| cust_fname|cust_lname|cust_email|cust_password|         cust_street|  cust_city|cust_state|cust_zipcode|\n",
      "+-------+-----------+----------+----------+-------------+--------------------+-----------+----------+------------+\n",
      "|      1|    Richard| Hernandez| XXXXXXXXX|    XXXXXXXXX|  6303 Heather Plaza|Brownsville|        TX|       78521|\n",
      "|      2|       Mary|   Barrett| XXXXXXXXX|    XXXXXXXXX|9526 Noble Embers...|  Littleton|        CO|       80126|\n",
      "|      4|       Mary|     Jones| XXXXXXXXX|    XXXXXXXXX|  8324 Little Common| San Marcos|        CA|       92069|\n",
      "|     10|    Melissa|     Smith| XXXXXXXXX|    XXXXXXXXX|8598 Harvest Beac...|   Stafford|        VA|       22554|\n",
      "|     12|Christopher|     Smith| XXXXXXXXX|    XXXXXXXXX|5594 Jagged Ember...|San Antonio|        TX|       78227|\n",
      "|     14|  Katherine|     Smith| XXXXXXXXX|    XXXXXXXXX|5666 Hazy Pony Sq...|Pico Rivera|        CA|       90660|\n",
      "|     15|       Jane|      Luna| XXXXXXXXX|    XXXXXXXXX|    673 Burning Glen|    Fontana|        CA|       92336|\n",
      "|     17|       Mary|  Robinson| XXXXXXXXX|    XXXXXXXXX|     1325 Noble Pike|     Taylor|        MI|       48180|\n",
      "|     18|     Robert|     Smith| XXXXXXXXX|    XXXXXXXXX|2734 Hazy Butterf...|   Martinez|        CA|       94553|\n",
      "|     25|       Paul|Richardson| XXXXXXXXX|    XXXXXXXXX|318 Merry Creek M...|     Peoria|        AZ|       85345|\n",
      "|     26|     Johnny|      Hood| XXXXXXXXX|    XXXXXXXXX|9576 Middle Hills...|   Glenview|        IL|       60025|\n",
      "|     28|    Timothy|     Smith| XXXXXXXXX|    XXXXXXXXX|9366 Colonial Hor...|   Longview|        WA|       98632|\n",
      "|     29|       Mary|  Humphrey| XXXXXXXXX|    XXXXXXXXX|2469 Blue Brook C...| Fort Worth|        TX|       76133|\n",
      "|     31|       Mary|      Byrd| XXXXXXXXX|    XXXXXXXXX|     8259 Foggy Edge|Albuquerque|        NM|       87111|\n",
      "|     33|       Adam|  Petersen| XXXXXXXXX|    XXXXXXXXX|9768 Noble Horse ...|    Norfolk|        VA|       23503|\n",
      "|     35|   Margaret|    Wright| XXXXXXXXX|    XXXXXXXXX|   9456 Sleepy Jetty|  Oceanside|        CA|       92056|\n",
      "|     37|   Virginia|    Conrad| XXXXXXXXX|    XXXXXXXXX|6115 Indian Beaco...|    Norfolk|        VA|       23503|\n",
      "|     38|       Mary|     Smith| XXXXXXXXX|    XXXXXXXXX|   2805 Crystal Moor|  Opelousas|        LA|       70570|\n",
      "|     40|       Mary|     Smith| XXXXXXXXX|    XXXXXXXXX|   7358 Rocky Villas| Long Beach|        CA|       90805|\n",
      "|     41|   Victoria|     Mason| XXXXXXXXX|    XXXXXXXXX|7869 Crystal View...|   Brooklyn|        NY|       11230|\n",
      "+-------+-----------+----------+----------+-------------+--------------------+-----------+----------+------------+\n",
      "only showing top 20 rows\n",
      "\n"
     ]
    }
   ],
   "source": [
    "customers_df.select(\"*\").filter(length(\"cust_zipcode\")==5).show()"
   ]
  },
  {
   "cell_type": "code",
   "execution_count": 27,
   "id": "7efae63d",
   "metadata": {},
   "outputs": [
    {
     "data": {
      "text/plain": [
       "7244"
      ]
     },
     "execution_count": 27,
     "metadata": {},
     "output_type": "execute_result"
    }
   ],
   "source": [
    "customers_df.select(\"*\").filter(length(\"cust_zipcode\")==5).count()"
   ]
  },
  {
   "cell_type": "code",
   "execution_count": 28,
   "id": "4c77e0f9",
   "metadata": {},
   "outputs": [
    {
     "name": "stdout",
     "output_type": "stream",
     "text": [
      "+-------+-----------+----------+----------+-------------+--------------------+-----------+----------+------------+\n",
      "|cust_id| cust_fname|cust_lname|cust_email|cust_password|         cust_street|  cust_city|cust_state|cust_zipcode|\n",
      "+-------+-----------+----------+----------+-------------+--------------------+-----------+----------+------------+\n",
      "|      1|    Richard| Hernandez| XXXXXXXXX|    XXXXXXXXX|  6303 Heather Plaza|Brownsville|        TX|       78521|\n",
      "|      2|       Mary|   Barrett| XXXXXXXXX|    XXXXXXXXX|9526 Noble Embers...|  Littleton|        CO|       80126|\n",
      "|      4|       Mary|     Jones| XXXXXXXXX|    XXXXXXXXX|  8324 Little Common| San Marcos|        CA|       92069|\n",
      "|     10|    Melissa|     Smith| XXXXXXXXX|    XXXXXXXXX|8598 Harvest Beac...|   Stafford|        VA|       22554|\n",
      "|     12|Christopher|     Smith| XXXXXXXXX|    XXXXXXXXX|5594 Jagged Ember...|San Antonio|        TX|       78227|\n",
      "|     14|  Katherine|     Smith| XXXXXXXXX|    XXXXXXXXX|5666 Hazy Pony Sq...|Pico Rivera|        CA|       90660|\n",
      "|     15|       Jane|      Luna| XXXXXXXXX|    XXXXXXXXX|    673 Burning Glen|    Fontana|        CA|       92336|\n",
      "|     17|       Mary|  Robinson| XXXXXXXXX|    XXXXXXXXX|     1325 Noble Pike|     Taylor|        MI|       48180|\n",
      "|     18|     Robert|     Smith| XXXXXXXXX|    XXXXXXXXX|2734 Hazy Butterf...|   Martinez|        CA|       94553|\n",
      "|     25|       Paul|Richardson| XXXXXXXXX|    XXXXXXXXX|318 Merry Creek M...|     Peoria|        AZ|       85345|\n",
      "|     26|     Johnny|      Hood| XXXXXXXXX|    XXXXXXXXX|9576 Middle Hills...|   Glenview|        IL|       60025|\n",
      "|     28|    Timothy|     Smith| XXXXXXXXX|    XXXXXXXXX|9366 Colonial Hor...|   Longview|        WA|       98632|\n",
      "|     29|       Mary|  Humphrey| XXXXXXXXX|    XXXXXXXXX|2469 Blue Brook C...| Fort Worth|        TX|       76133|\n",
      "|     31|       Mary|      Byrd| XXXXXXXXX|    XXXXXXXXX|     8259 Foggy Edge|Albuquerque|        NM|       87111|\n",
      "|     33|       Adam|  Petersen| XXXXXXXXX|    XXXXXXXXX|9768 Noble Horse ...|    Norfolk|        VA|       23503|\n",
      "|     35|   Margaret|    Wright| XXXXXXXXX|    XXXXXXXXX|   9456 Sleepy Jetty|  Oceanside|        CA|       92056|\n",
      "|     37|   Virginia|    Conrad| XXXXXXXXX|    XXXXXXXXX|6115 Indian Beaco...|    Norfolk|        VA|       23503|\n",
      "|     38|       Mary|     Smith| XXXXXXXXX|    XXXXXXXXX|   2805 Crystal Moor|  Opelousas|        LA|       70570|\n",
      "|     40|       Mary|     Smith| XXXXXXXXX|    XXXXXXXXX|   7358 Rocky Villas| Long Beach|        CA|       90805|\n",
      "|     41|   Victoria|     Mason| XXXXXXXXX|    XXXXXXXXX|7869 Crystal View...|   Brooklyn|        NY|       11230|\n",
      "+-------+-----------+----------+----------+-------------+--------------------+-----------+----------+------------+\n",
      "only showing top 20 rows\n",
      "\n"
     ]
    }
   ],
   "source": [
    "spark.sql(\"select * from customers where LENGTH(cust_zipcode)=5\").show()"
   ]
  },
  {
   "cell_type": "code",
   "execution_count": 29,
   "id": "4c6ba6d8",
   "metadata": {},
   "outputs": [
    {
     "name": "stdout",
     "output_type": "stream",
     "text": [
      "+----------+\n",
      "|valid_zips|\n",
      "+----------+\n",
      "|      7244|\n",
      "+----------+\n",
      "\n"
     ]
    }
   ],
   "source": [
    "spark.sql(\"select count(*) as valid_zips from customers where LENGTH(cust_zipcode)=5\").show()"
   ]
  },
  {
   "cell_type": "markdown",
   "id": "27a5a089",
   "metadata": {},
   "source": [
    "# 3.5. Find the number of customers from each city in the state of California(CA)."
   ]
  },
  {
   "cell_type": "code",
   "execution_count": 30,
   "id": "1860c766",
   "metadata": {},
   "outputs": [
    {
     "name": "stdout",
     "output_type": "stream",
     "text": [
      "+--------------+-----+\n",
      "|     cust_city|count|\n",
      "+--------------+-----+\n",
      "|   Los Angeles|  224|\n",
      "|     San Diego|  104|\n",
      "|      San Jose|   71|\n",
      "|   Bakersfield|   41|\n",
      "|     Santa Ana|   36|\n",
      "|    Long Beach|   36|\n",
      "|        Fresno|   29|\n",
      "|     Escondido|   29|\n",
      "|       Ontario|   29|\n",
      "| San Francisco|   28|\n",
      "|     Riverside|   27|\n",
      "| Mission Viejo|   26|\n",
      "|     Oceanside|   24|\n",
      "|    Sacramento|   23|\n",
      "|       Modesto|   23|\n",
      "|       Fremont|   22|\n",
      "|       Hayward|   21|\n",
      "| Moreno Valley|   21|\n",
      "|   Simi Valley|   20|\n",
      "|San Bernardino|   20|\n",
      "+--------------+-----+\n",
      "only showing top 20 rows\n",
      "\n"
     ]
    }
   ],
   "source": [
    "customers_df.select(\"cust_city\").filter(\"cust_state == 'CA'\").groupBy(\"cust_city\").count().sort(\"count\", ascending =  False).show()"
   ]
  },
  {
   "cell_type": "code",
   "execution_count": 31,
   "id": "882ab81b",
   "metadata": {},
   "outputs": [
    {
     "name": "stdout",
     "output_type": "stream",
     "text": [
      "+-------------+---------------+\n",
      "|    cust_city|count_of_cities|\n",
      "+-------------+---------------+\n",
      "|  Los Angeles|            224|\n",
      "|    San Diego|            104|\n",
      "|     San Jose|             71|\n",
      "|  Bakersfield|             41|\n",
      "|    Santa Ana|             36|\n",
      "|   Long Beach|             36|\n",
      "|       Fresno|             29|\n",
      "|    Escondido|             29|\n",
      "|      Ontario|             29|\n",
      "|San Francisco|             28|\n",
      "|    Riverside|             27|\n",
      "|Mission Viejo|             26|\n",
      "|    Oceanside|             24|\n",
      "|   Sacramento|             23|\n",
      "|      Modesto|             23|\n",
      "|      Fremont|             22|\n",
      "|Moreno Valley|             21|\n",
      "|      Hayward|             21|\n",
      "| Garden Grove|             20|\n",
      "|  Simi Valley|             20|\n",
      "+-------------+---------------+\n",
      "only showing top 20 rows\n",
      "\n"
     ]
    }
   ],
   "source": [
    "spark.sql(\"select cust_city, count(*) as count_of_cities from customers where cust_state = 'CA' group by 1 order by count_of_cities desc\").show()"
   ]
  },
  {
   "cell_type": "code",
   "execution_count": null,
   "id": "10472b87",
   "metadata": {},
   "outputs": [],
   "source": []
  }
 ],
 "metadata": {
  "kernelspec": {
   "display_name": "Pyspark 3",
   "language": "python",
   "name": "pyspark3"
  },
  "language_info": {
   "codemirror_mode": {
    "name": "ipython",
    "version": 3
   },
   "file_extension": ".py",
   "mimetype": "text/x-python",
   "name": "python",
   "nbconvert_exporter": "python",
   "pygments_lexer": "ipython3",
   "version": "3.6.12"
  }
 },
 "nbformat": 4,
 "nbformat_minor": 5
}
