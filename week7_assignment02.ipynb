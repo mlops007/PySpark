{
 "cells": [
  {
   "cell_type": "code",
   "execution_count": 1,
   "id": "174972ef",
   "metadata": {},
   "outputs": [],
   "source": [
    "from pyspark.sql import SparkSession\n",
    "import getpass\n",
    "username = getpass.getuser()\n",
    "spark= SparkSession. \\\n",
    "builder. \\\n",
    "appName(\"week_7_assignment_two\"). \\\n",
    "config('spark.ui.port','0'). \\\n",
    "config(\"spark.sql.warehouse.dir\", f\"/user/itv009033/warehouse\"). \\\n",
    "enableHiveSupport(). \\\n",
    "master('yarn'). \\\n",
    "getOrCreate()"
   ]
  },
  {
   "cell_type": "code",
   "execution_count": 2,
   "id": "5925d60a",
   "metadata": {},
   "outputs": [
    {
     "data": {
      "text/html": [
       "\n",
       "            <div>\n",
       "                <p><b>SparkSession - hive</b></p>\n",
       "                \n",
       "        <div>\n",
       "            <p><b>SparkContext</b></p>\n",
       "\n",
       "            <p><a href=\"http://g02.itversity.com:42115\">Spark UI</a></p>\n",
       "\n",
       "            <dl>\n",
       "              <dt>Version</dt>\n",
       "                <dd><code>v2.4.7</code></dd>\n",
       "              <dt>Master</dt>\n",
       "                <dd><code>yarn</code></dd>\n",
       "              <dt>AppName</dt>\n",
       "                <dd><code>week_7_assignment_two</code></dd>\n",
       "            </dl>\n",
       "        </div>\n",
       "        \n",
       "            </div>\n",
       "        "
      ],
      "text/plain": [
       "<pyspark.sql.session.SparkSession at 0x7f1303de3390>"
      ]
     },
     "execution_count": 2,
     "metadata": {},
     "output_type": "execute_result"
    }
   ],
   "source": [
    "spark"
   ]
  },
  {
   "cell_type": "markdown",
   "id": "1ff9d51d",
   "metadata": {},
   "source": [
    "# 2. Consider a scenario where you have a large dataset (/public/trendytech/datasets/hotel_data.csv) in HDFS. Design a caching mechanism using spark external tables to improve the query performance on this dataset. The dataset contains the following columns: booking_id,guest_name, checkin_date, checkout_date, room_type, and total_price."
   ]
  },
  {
   "cell_type": "markdown",
   "id": "c906ca3b",
   "metadata": {},
   "source": [
    "## A) Write a query to fetch the total count of hotel bookings in the hotel_bookings table and compare the duration it took to determine the impact of caching."
   ]
  },
  {
   "cell_type": "code",
   "execution_count": 3,
   "id": "40fa046a",
   "metadata": {},
   "outputs": [
    {
     "data": {
      "text/html": [
       "<table border='1'>\n",
       "<tr><th></th></tr>\n",
       "</table>\n"
      ],
      "text/plain": [
       "++\n",
       "||\n",
       "++\n",
       "++"
      ]
     },
     "execution_count": 3,
     "metadata": {},
     "output_type": "execute_result"
    }
   ],
   "source": [
    "spark.sql(\"create database if not exists itv009033_hotel\")"
   ]
  },
  {
   "cell_type": "code",
   "execution_count": 4,
   "id": "a2a9c915",
   "metadata": {},
   "outputs": [
    {
     "data": {
      "text/html": [
       "<table border='1'>\n",
       "<tr><th></th></tr>\n",
       "</table>\n"
      ],
      "text/plain": [
       "++\n",
       "||\n",
       "++\n",
       "++"
      ]
     },
     "execution_count": 4,
     "metadata": {},
     "output_type": "execute_result"
    }
   ],
   "source": [
    "spark.sql(\"use itv009033_hotel\")"
   ]
  },
  {
   "cell_type": "code",
   "execution_count": 5,
   "id": "b34e1649",
   "metadata": {},
   "outputs": [
    {
     "data": {
      "text/html": [
       "<table border='1'>\n",
       "<tr><th></th></tr>\n",
       "</table>\n"
      ],
      "text/plain": [
       "++\n",
       "||\n",
       "++\n",
       "++"
      ]
     },
     "execution_count": 5,
     "metadata": {},
     "output_type": "execute_result"
    }
   ],
   "source": [
    "spark.sql(\"create table if not exists itv009033_hotel.hotel_ext(booking_id int,guest_name string, checkin_date date, checkout_date date, room_type string, total_price double) using csv location '/public/trendytech/datasets/hotel_data.csv' \")"
   ]
  },
  {
   "cell_type": "code",
   "execution_count": 6,
   "id": "9c3b4d2e",
   "metadata": {},
   "outputs": [
    {
     "name": "stdout",
     "output_type": "stream",
     "text": [
      "+----------+-----------------+------------+-------------+---------+-----------+\n",
      "|booking_id|       guest_name|checkin_date|checkout_date|room_type|total_price|\n",
      "+----------+-----------------+------------+-------------+---------+-----------+\n",
      "|         1|         John Doe|  2023-05-01|   2023-05-05| Standard|      400.0|\n",
      "|         2|       Jane Smith|  2023-05-02|   2023-05-06|   Deluxe|      600.0|\n",
      "|         3|     Mark Johnson|  2023-05-03|   2023-05-08| Standard|      450.0|\n",
      "|         4|     Sarah Wilson|  2023-05-04|   2023-05-07|Executive|      750.0|\n",
      "|         5|      Emily Brown|  2023-05-06|   2023-05-09|   Deluxe|      550.0|\n",
      "|         6|    Michael Davis|  2023-05-07|   2023-05-10| Standard|      400.0|\n",
      "|         7|Samantha Thompson|  2023-05-08|   2023-05-12|   Deluxe|      600.0|\n",
      "|         8|      William Lee|  2023-05-10|   2023-05-13| Standard|      450.0|\n",
      "|         9|    Amanda Harris|  2023-05-11|   2023-05-16|Executive|      750.0|\n",
      "|        10|  David Rodriguez|  2023-05-12|   2023-05-15|   Deluxe|      550.0|\n",
      "|        11|     Linda Wilson|  2023-05-14|   2023-05-18| Standard|      400.0|\n",
      "|        12|   Robert Johnson|  2023-05-15|   2023-05-20|   Deluxe|      600.0|\n",
      "|        13|  Sophia Anderson|  2023-05-16|   2023-05-21| Standard|      450.0|\n",
      "|        14|      James Smith|  2023-05-17|   2023-05-23|Executive|      750.0|\n",
      "|        15|     Olivia Brown|  2023-05-19|   2023-05-24|   Deluxe|      550.0|\n",
      "|        16|    Michael Davis|  2023-05-20|   2023-05-25| Standard|      400.0|\n",
      "|        17|   Emily Thompson|  2023-05-21|   2023-05-27|   Deluxe|      600.0|\n",
      "|        18|      William Lee|  2023-05-23|   2023-05-28| Standard|      450.0|\n",
      "|        19|       Ava Harris|  2023-05-24|   2023-05-30|Executive|      750.0|\n",
      "|        20| Daniel Rodriguez|  2023-05-25|   2023-05-29|   Deluxe|      550.0|\n",
      "+----------+-----------------+------------+-------------+---------+-----------+\n",
      "only showing top 20 rows\n",
      "\n"
     ]
    }
   ],
   "source": [
    "spark.sql(\"select * from itv009033_hotel.hotel_ext\").show()"
   ]
  },
  {
   "cell_type": "code",
   "execution_count": 8,
   "id": "12ce9fd0",
   "metadata": {},
   "outputs": [],
   "source": [
    "hotels_schema = \"booking_id int,guest_name string, checkin_date date, checkout_date date, room_type string, total_price double\""
   ]
  },
  {
   "cell_type": "code",
   "execution_count": 9,
   "id": "4b231506",
   "metadata": {},
   "outputs": [],
   "source": [
    "hotels = spark.read.format(\"csv\").schema(hotels_schema).load(\"/public/trendytech/datasets/hotel_data.csv\")"
   ]
  },
  {
   "cell_type": "code",
   "execution_count": 10,
   "id": "d132657a",
   "metadata": {},
   "outputs": [
    {
     "name": "stdout",
     "output_type": "stream",
     "text": [
      "+----------+-----------------+------------+-------------+---------+-----------+\n",
      "|booking_id|       guest_name|checkin_date|checkout_date|room_type|total_price|\n",
      "+----------+-----------------+------------+-------------+---------+-----------+\n",
      "|         1|         John Doe|  2023-05-01|   2023-05-05| Standard|      400.0|\n",
      "|         2|       Jane Smith|  2023-05-02|   2023-05-06|   Deluxe|      600.0|\n",
      "|         3|     Mark Johnson|  2023-05-03|   2023-05-08| Standard|      450.0|\n",
      "|         4|     Sarah Wilson|  2023-05-04|   2023-05-07|Executive|      750.0|\n",
      "|         5|      Emily Brown|  2023-05-06|   2023-05-09|   Deluxe|      550.0|\n",
      "|         6|    Michael Davis|  2023-05-07|   2023-05-10| Standard|      400.0|\n",
      "|         7|Samantha Thompson|  2023-05-08|   2023-05-12|   Deluxe|      600.0|\n",
      "|         8|      William Lee|  2023-05-10|   2023-05-13| Standard|      450.0|\n",
      "|         9|    Amanda Harris|  2023-05-11|   2023-05-16|Executive|      750.0|\n",
      "|        10|  David Rodriguez|  2023-05-12|   2023-05-15|   Deluxe|      550.0|\n",
      "|        11|     Linda Wilson|  2023-05-14|   2023-05-18| Standard|      400.0|\n",
      "|        12|   Robert Johnson|  2023-05-15|   2023-05-20|   Deluxe|      600.0|\n",
      "|        13|  Sophia Anderson|  2023-05-16|   2023-05-21| Standard|      450.0|\n",
      "|        14|      James Smith|  2023-05-17|   2023-05-23|Executive|      750.0|\n",
      "|        15|     Olivia Brown|  2023-05-19|   2023-05-24|   Deluxe|      550.0|\n",
      "|        16|    Michael Davis|  2023-05-20|   2023-05-25| Standard|      400.0|\n",
      "|        17|   Emily Thompson|  2023-05-21|   2023-05-27|   Deluxe|      600.0|\n",
      "|        18|      William Lee|  2023-05-23|   2023-05-28| Standard|      450.0|\n",
      "|        19|       Ava Harris|  2023-05-24|   2023-05-30|Executive|      750.0|\n",
      "|        20| Daniel Rodriguez|  2023-05-25|   2023-05-29|   Deluxe|      550.0|\n",
      "+----------+-----------------+------------+-------------+---------+-----------+\n",
      "only showing top 20 rows\n",
      "\n"
     ]
    }
   ],
   "source": [
    "hotels.show()"
   ]
  },
  {
   "cell_type": "code",
   "execution_count": 12,
   "id": "4fb0d14a",
   "metadata": {},
   "outputs": [
    {
     "data": {
      "text/plain": [
       "107"
      ]
     },
     "execution_count": 12,
     "metadata": {},
     "output_type": "execute_result"
    }
   ],
   "source": [
    "hotels.count()"
   ]
  },
  {
   "cell_type": "code",
   "execution_count": 13,
   "id": "74ec4ec5",
   "metadata": {},
   "outputs": [
    {
     "data": {
      "text/html": [
       "<table border='1'>\n",
       "<tr><th></th></tr>\n",
       "</table>\n"
      ],
      "text/plain": [
       "++\n",
       "||\n",
       "++\n",
       "++"
      ]
     },
     "execution_count": 13,
     "metadata": {},
     "output_type": "execute_result"
    }
   ],
   "source": [
    "spark.sql(\"cache lazy table itv009033_hotel.hotel_ext\")"
   ]
  },
  {
   "cell_type": "code",
   "execution_count": 17,
   "id": "e30c09c6",
   "metadata": {},
   "outputs": [
    {
     "name": "stdout",
     "output_type": "stream",
     "text": [
      "+--------+\n",
      "|count(1)|\n",
      "+--------+\n",
      "|     107|\n",
      "+--------+\n",
      "\n"
     ]
    }
   ],
   "source": [
    "spark.sql(\"select count(*) from itv009033_hotel.hotel_ext\").show()"
   ]
  },
  {
   "cell_type": "code",
   "execution_count": 18,
   "id": "597e9247",
   "metadata": {},
   "outputs": [],
   "source": [
    "cached = hotels.cache()"
   ]
  },
  {
   "cell_type": "code",
   "execution_count": 20,
   "id": "6a2235fd",
   "metadata": {},
   "outputs": [
    {
     "data": {
      "text/plain": [
       "107"
      ]
     },
     "execution_count": 20,
     "metadata": {},
     "output_type": "execute_result"
    }
   ],
   "source": [
    "cached.count()"
   ]
  },
  {
   "cell_type": "code",
   "execution_count": 21,
   "id": "008d34e6",
   "metadata": {},
   "outputs": [],
   "source": [
    "from pyspark.sql.functions import year, month\n",
    "from pyspark.sql.functions import countDistinct\n",
    "from pyspark.storagelevel import StorageLevel"
   ]
  },
  {
   "cell_type": "code",
   "execution_count": 22,
   "id": "cde048c6",
   "metadata": {},
   "outputs": [],
   "source": [
    "hotels_persist = hotels.persist(StorageLevel.MEMORY_AND_DISK_SER)"
   ]
  },
  {
   "cell_type": "code",
   "execution_count": 25,
   "id": "c983847f",
   "metadata": {},
   "outputs": [
    {
     "data": {
      "text/plain": [
       "107"
      ]
     },
     "execution_count": 25,
     "metadata": {},
     "output_type": "execute_result"
    }
   ],
   "source": [
    "hotels_persist.count()"
   ]
  },
  {
   "cell_type": "code",
   "execution_count": 26,
   "id": "687b9955",
   "metadata": {},
   "outputs": [
    {
     "name": "stdout",
     "output_type": "stream",
     "text": [
      "+----------+-----------------+------------+-------------+---------+-----------+\n",
      "|booking_id|       guest_name|checkin_date|checkout_date|room_type|total_price|\n",
      "+----------+-----------------+------------+-------------+---------+-----------+\n",
      "|         1|         John Doe|  2023-05-01|   2023-05-05| Standard|      400.0|\n",
      "|         2|       Jane Smith|  2023-05-02|   2023-05-06|   Deluxe|      600.0|\n",
      "|         3|     Mark Johnson|  2023-05-03|   2023-05-08| Standard|      450.0|\n",
      "|         4|     Sarah Wilson|  2023-05-04|   2023-05-07|Executive|      750.0|\n",
      "|         5|      Emily Brown|  2023-05-06|   2023-05-09|   Deluxe|      550.0|\n",
      "|         6|    Michael Davis|  2023-05-07|   2023-05-10| Standard|      400.0|\n",
      "|         7|Samantha Thompson|  2023-05-08|   2023-05-12|   Deluxe|      600.0|\n",
      "|         8|      William Lee|  2023-05-10|   2023-05-13| Standard|      450.0|\n",
      "|         9|    Amanda Harris|  2023-05-11|   2023-05-16|Executive|      750.0|\n",
      "|        10|  David Rodriguez|  2023-05-12|   2023-05-15|   Deluxe|      550.0|\n",
      "|        11|     Linda Wilson|  2023-05-14|   2023-05-18| Standard|      400.0|\n",
      "|        12|   Robert Johnson|  2023-05-15|   2023-05-20|   Deluxe|      600.0|\n",
      "|        13|  Sophia Anderson|  2023-05-16|   2023-05-21| Standard|      450.0|\n",
      "|        14|      James Smith|  2023-05-17|   2023-05-23|Executive|      750.0|\n",
      "|        15|     Olivia Brown|  2023-05-19|   2023-05-24|   Deluxe|      550.0|\n",
      "|        16|    Michael Davis|  2023-05-20|   2023-05-25| Standard|      400.0|\n",
      "|        17|   Emily Thompson|  2023-05-21|   2023-05-27|   Deluxe|      600.0|\n",
      "|        18|      William Lee|  2023-05-23|   2023-05-28| Standard|      450.0|\n",
      "|        19|       Ava Harris|  2023-05-24|   2023-05-30|Executive|      750.0|\n",
      "|        20| Daniel Rodriguez|  2023-05-25|   2023-05-29|   Deluxe|      550.0|\n",
      "+----------+-----------------+------------+-------------+---------+-----------+\n",
      "only showing top 20 rows\n",
      "\n"
     ]
    }
   ],
   "source": [
    "hotels_persist.show()"
   ]
  },
  {
   "cell_type": "markdown",
   "id": "81ac1019",
   "metadata": {},
   "source": [
    "## B) Calculate the average total price of bookings grouped by room_type for the first 100 records in the hotel_bookings table without caching. Execute the same query after caching the table and compare the duration"
   ]
  },
  {
   "cell_type": "code",
   "execution_count": 32,
   "id": "c1fcd025",
   "metadata": {},
   "outputs": [],
   "source": [
    "price = hotels_persist.groupBy(\"room_type\").sum(\"total_price\").withColumnRenamed(\"sum(total_price)\", \"price\").cache()"
   ]
  },
  {
   "cell_type": "code",
   "execution_count": 34,
   "id": "c5982d29",
   "metadata": {},
   "outputs": [
    {
     "name": "stdout",
     "output_type": "stream",
     "text": [
      "+---------+-------+\n",
      "|room_type|  price|\n",
      "+---------+-------+\n",
      "|Executive|15000.0|\n",
      "|   Deluxe|24750.0|\n",
      "| Standard|18700.0|\n",
      "+---------+-------+\n",
      "\n"
     ]
    }
   ],
   "source": [
    "price.show()"
   ]
  },
  {
   "cell_type": "code",
   "execution_count": 37,
   "id": "cf4ee456",
   "metadata": {},
   "outputs": [
    {
     "name": "stdout",
     "output_type": "stream",
     "text": [
      "+---------+-------+\n",
      "|room_type|  price|\n",
      "+---------+-------+\n",
      "|Executive|15000.0|\n",
      "|   Deluxe|24750.0|\n",
      "| Standard|18700.0|\n",
      "+---------+-------+\n",
      "\n"
     ]
    }
   ],
   "source": [
    "spark.sql(\"select room_type, sum(total_price) as price from itv009033_hotel.hotel_ext group by 1\").show()"
   ]
  },
  {
   "cell_type": "code",
   "execution_count": 38,
   "id": "dbec67f5",
   "metadata": {},
   "outputs": [
    {
     "data": {
      "text/html": [
       "<table border='1'>\n",
       "<tr><th></th></tr>\n",
       "</table>\n"
      ],
      "text/plain": [
       "++\n",
       "||\n",
       "++\n",
       "++"
      ]
     },
     "execution_count": 38,
     "metadata": {},
     "output_type": "execute_result"
    }
   ],
   "source": [
    "spark.sql(\"clear cache\")"
   ]
  },
  {
   "cell_type": "code",
   "execution_count": 39,
   "id": "69ed5d76",
   "metadata": {},
   "outputs": [],
   "source": [
    "spark.stop()"
   ]
  },
  {
   "cell_type": "code",
   "execution_count": null,
   "id": "68969551",
   "metadata": {},
   "outputs": [],
   "source": []
  }
 ],
 "metadata": {
  "kernelspec": {
   "display_name": "Pyspark 2",
   "language": "python",
   "name": "pyspark2"
  },
  "language_info": {
   "codemirror_mode": {
    "name": "ipython",
    "version": 3
   },
   "file_extension": ".py",
   "mimetype": "text/x-python",
   "name": "python",
   "nbconvert_exporter": "python",
   "pygments_lexer": "ipython3",
   "version": "3.6.12"
  }
 },
 "nbformat": 4,
 "nbformat_minor": 5
}
