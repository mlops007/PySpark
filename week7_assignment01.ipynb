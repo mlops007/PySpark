{
 "cells": [
  {
   "cell_type": "code",
   "execution_count": 1,
   "id": "8de867c5",
   "metadata": {},
   "outputs": [],
   "source": [
    "from pyspark.sql import SparkSession\n",
    "import getpass\n",
    "username = getpass.getuser()\n",
    "spark= SparkSession. \\\n",
    "builder. \\\n",
    "appName(\"week_7_assignment_one\"). \\\n",
    "config('spark.ui.port','0'). \\\n",
    "config(\"spark.sql.warehouse.dir\", f\"/user/itv009033/warehouse\"). \\\n",
    "enableHiveSupport(). \\\n",
    "master('yarn'). \\\n",
    "getOrCreate()"
   ]
  },
  {
   "cell_type": "code",
   "execution_count": 2,
   "id": "c2f22d5f",
   "metadata": {},
   "outputs": [
    {
     "data": {
      "text/html": [
       "\n",
       "            <div>\n",
       "                <p><b>SparkSession - hive</b></p>\n",
       "                \n",
       "        <div>\n",
       "            <p><b>SparkContext</b></p>\n",
       "\n",
       "            <p><a href=\"http://g02.itversity.com:45659\">Spark UI</a></p>\n",
       "\n",
       "            <dl>\n",
       "              <dt>Version</dt>\n",
       "                <dd><code>v2.4.7</code></dd>\n",
       "              <dt>Master</dt>\n",
       "                <dd><code>yarn</code></dd>\n",
       "              <dt>AppName</dt>\n",
       "                <dd><code>week_7_assignment_one</code></dd>\n",
       "            </dl>\n",
       "        </div>\n",
       "        \n",
       "            </div>\n",
       "        "
      ],
      "text/plain": [
       "<pyspark.sql.session.SparkSession at 0x7f1151cae390>"
      ]
     },
     "execution_count": 2,
     "metadata": {},
     "output_type": "execute_result"
    }
   ],
   "source": [
    "spark"
   ]
  },
  {
   "cell_type": "markdown",
   "id": "fcf42cc0",
   "metadata": {},
   "source": [
    "# 1. You are working as a Data Engineer in ABC Company. You are dealing with a large dataset of customer transactions (/public/trendytech/datasets/cust_transf.csv) in HDFS, including information such as customer ID, purchase date, product id, and amount."
   ]
  },
  {
   "cell_type": "markdown",
   "id": "38f311af",
   "metadata": {},
   "source": [
    "# A) Design a caching mechanism using dataframes to enhance the performance of data retrieval for the following use cases"
   ]
  },
  {
   "cell_type": "markdown",
   "id": "d83cd767",
   "metadata": {},
   "source": [
    "<h3>A.1 Your marketing team wants to identify the top-selling products based on\n",
    "revenue for a given time period. The query is expected to be executed\n",
    "frequently, and the results need to be returned quickly. Design a caching\n",
    "strategy that efficiently retrieves the top-selling products by revenue.\n",
    "Additionally, demonstrate the impact of caching by comparing the retrieval\n",
    "time for Top 10 best-selling products from start_date = \"2023-05-01\" to\n",
    "end_date = \"2023-06-08\" before and after implementing the caching strategy.\n",
    "[Note : Strategize your caching in such a way that the right Dataframes are\n",
    "cached at the right time for maximal performance gains]</h3>"
   ]
  },
  {
   "cell_type": "markdown",
   "id": "8a48cc9b",
   "metadata": {},
   "source": [
    "<h8>Without caching : </h8>"
   ]
  },
  {
   "cell_type": "code",
   "execution_count": 3,
   "id": "41c11eb4",
   "metadata": {},
   "outputs": [],
   "source": [
    "# customer ID, purchase date, product id, and amount.\n",
    "\n",
    "customer_schema = \"customer_ID long, purchase_date date, product_id long,amount float\""
   ]
  },
  {
   "cell_type": "code",
   "execution_count": 4,
   "id": "eabdce82",
   "metadata": {},
   "outputs": [
    {
     "name": "stdout",
     "output_type": "stream",
     "text": [
      "+-----------+-------------+----------+------+\n",
      "|customer_ID|purchase_date|product_id|amount|\n",
      "+-----------+-------------+----------+------+\n",
      "|       1001|   2023-05-15|      1001| 49.99|\n",
      "|       1002|   2023-05-16|      1002| 29.99|\n",
      "|       1003|   2023-05-17|      1003| 39.99|\n",
      "|       1004|   2023-05-18|      1004| 19.99|\n",
      "|       1005|   2023-05-19|      1005| 24.99|\n",
      "|       1001|   2023-05-20|      1002| 29.99|\n",
      "|       1002|   2023-05-21|      1003| 39.99|\n",
      "|       1003|   2023-05-22|      1004| 19.99|\n",
      "|       1004|   2023-05-23|      1005| 24.99|\n",
      "|       1005|   2023-05-24|      1001| 49.99|\n",
      "|       1001|   2023-05-25|      1003| 39.99|\n",
      "|       1002|   2023-05-26|      1004| 19.99|\n",
      "|       1003|   2023-05-27|      1005| 24.99|\n",
      "|       1004|   2023-05-28|      1001| 49.99|\n",
      "|       1005|   2023-05-29|      1002| 29.99|\n",
      "|       1001|   2023-05-30|      1003| 39.99|\n",
      "|       1002|   2023-05-31|      1004| 19.99|\n",
      "|       1003|   2023-06-01|      1005| 24.99|\n",
      "|       1004|   2023-06-02|      1001| 49.99|\n",
      "|       1005|   2023-06-03|      1002| 29.99|\n",
      "+-----------+-------------+----------+------+\n",
      "only showing top 20 rows\n",
      "\n"
     ]
    }
   ],
   "source": [
    "customers_df = spark.read.format(\"csv\").schema(customer_schema).load(\"/public/trendytech/datasets/cust_transf.csv\")\n",
    "customers_df.show()"
   ]
  },
  {
   "cell_type": "code",
   "execution_count": 5,
   "id": "51933c3c",
   "metadata": {},
   "outputs": [],
   "source": [
    "filtered = customers_df.filter((customers_df.purchase_date>=\"2023-05-01\") & (customers_df.purchase_date<=\"2023-06-08\"))"
   ]
  },
  {
   "cell_type": "code",
   "execution_count": 6,
   "id": "27bb21dc",
   "metadata": {},
   "outputs": [
    {
     "name": "stdout",
     "output_type": "stream",
     "text": [
      "+----------+--------------------+\n",
      "|product_id|             Revenue|\n",
      "+----------+--------------------+\n",
      "|      1010|   7312.910350799561|\n",
      "|      1002| 4.293836211229706E8|\n",
      "|      1012|    9402.91035079956|\n",
      "|      1009|   6267.909952163696|\n",
      "|      1013|   10447.91035079956|\n",
      "|      1007|   4177.909952163696|\n",
      "|      1011|    8357.91035079956|\n",
      "|      1005|2.7828563865119934E8|\n",
      "|      1001| 5.566826598912048E8|\n",
      "|      1015|   12537.91035079956|\n",
      "|      1014|   11492.91035079956|\n",
      "|      1008|   5222.909952163696|\n",
      "|      1004| 2.862080211229706E8|\n",
      "|      1006|  3132.9099521636963|\n",
      "|      1003| 5.725592484315491E8|\n",
      "+----------+--------------------+\n",
      "\n"
     ]
    }
   ],
   "source": [
    "filtered.groupBy(\"product_id\").sum(\"amount\").withColumnRenamed(\"sum(amount)\", \"Revenue\").show()"
   ]
  },
  {
   "cell_type": "markdown",
   "id": "7bf25ee9",
   "metadata": {},
   "source": [
    "<h8>With caching : </h8>"
   ]
  },
  {
   "cell_type": "code",
   "execution_count": 7,
   "id": "c78ef31c",
   "metadata": {},
   "outputs": [],
   "source": [
    "customers_cached = customers_df.cache()"
   ]
  },
  {
   "cell_type": "code",
   "execution_count": 8,
   "id": "3fa29ea8",
   "metadata": {},
   "outputs": [
    {
     "name": "stdout",
     "output_type": "stream",
     "text": [
      "+-----------+-------------+----------+------+\n",
      "|customer_ID|purchase_date|product_id|amount|\n",
      "+-----------+-------------+----------+------+\n",
      "|       1001|   2023-05-15|      1001| 49.99|\n",
      "|       1002|   2023-05-16|      1002| 29.99|\n",
      "|       1003|   2023-05-17|      1003| 39.99|\n",
      "|       1004|   2023-05-18|      1004| 19.99|\n",
      "|       1005|   2023-05-19|      1005| 24.99|\n",
      "|       1001|   2023-05-20|      1002| 29.99|\n",
      "|       1002|   2023-05-21|      1003| 39.99|\n",
      "|       1003|   2023-05-22|      1004| 19.99|\n",
      "|       1004|   2023-05-23|      1005| 24.99|\n",
      "|       1005|   2023-05-24|      1001| 49.99|\n",
      "|       1001|   2023-05-25|      1003| 39.99|\n",
      "|       1002|   2023-05-26|      1004| 19.99|\n",
      "|       1003|   2023-05-27|      1005| 24.99|\n",
      "|       1004|   2023-05-28|      1001| 49.99|\n",
      "|       1005|   2023-05-29|      1002| 29.99|\n",
      "|       1001|   2023-05-30|      1003| 39.99|\n",
      "|       1002|   2023-05-31|      1004| 19.99|\n",
      "|       1003|   2023-06-01|      1005| 24.99|\n",
      "|       1004|   2023-06-02|      1001| 49.99|\n",
      "|       1005|   2023-06-03|      1002| 29.99|\n",
      "+-----------+-------------+----------+------+\n",
      "only showing top 20 rows\n",
      "\n"
     ]
    }
   ],
   "source": [
    "customers_cached.show()"
   ]
  },
  {
   "cell_type": "code",
   "execution_count": 9,
   "id": "70e19929",
   "metadata": {},
   "outputs": [
    {
     "data": {
      "text/plain": [
       "87498290"
      ]
     },
     "execution_count": 9,
     "metadata": {},
     "output_type": "execute_result"
    }
   ],
   "source": [
    "customers_cached.count()"
   ]
  },
  {
   "cell_type": "code",
   "execution_count": 10,
   "id": "65980798",
   "metadata": {},
   "outputs": [
    {
     "data": {
      "text/plain": [
       "87498290"
      ]
     },
     "execution_count": 10,
     "metadata": {},
     "output_type": "execute_result"
    }
   ],
   "source": [
    "customers_cached.count()"
   ]
  },
  {
   "cell_type": "code",
   "execution_count": 11,
   "id": "4fa89488",
   "metadata": {},
   "outputs": [],
   "source": [
    "filtered_cache = customers_cached.filter((customers_cached.purchase_date >= \"2023-05-01\") & (customers_cached.purchase_date<=\"2023-06-08\")).cache()"
   ]
  },
  {
   "cell_type": "code",
   "execution_count": 12,
   "id": "159c0558",
   "metadata": {},
   "outputs": [
    {
     "name": "stdout",
     "output_type": "stream",
     "text": [
      "+-----------+-------------+----------+------+\n",
      "|customer_ID|purchase_date|product_id|amount|\n",
      "+-----------+-------------+----------+------+\n",
      "|       1001|   2023-05-15|      1001| 49.99|\n",
      "|       1002|   2023-05-16|      1002| 29.99|\n",
      "|       1003|   2023-05-17|      1003| 39.99|\n",
      "|       1004|   2023-05-18|      1004| 19.99|\n",
      "|       1005|   2023-05-19|      1005| 24.99|\n",
      "|       1001|   2023-05-20|      1002| 29.99|\n",
      "|       1002|   2023-05-21|      1003| 39.99|\n",
      "|       1003|   2023-05-22|      1004| 19.99|\n",
      "|       1004|   2023-05-23|      1005| 24.99|\n",
      "|       1005|   2023-05-24|      1001| 49.99|\n",
      "|       1001|   2023-05-25|      1003| 39.99|\n",
      "|       1002|   2023-05-26|      1004| 19.99|\n",
      "|       1003|   2023-05-27|      1005| 24.99|\n",
      "|       1004|   2023-05-28|      1001| 49.99|\n",
      "|       1005|   2023-05-29|      1002| 29.99|\n",
      "|       1001|   2023-05-30|      1003| 39.99|\n",
      "|       1002|   2023-05-31|      1004| 19.99|\n",
      "|       1003|   2023-06-01|      1005| 24.99|\n",
      "|       1004|   2023-06-02|      1001| 49.99|\n",
      "|       1005|   2023-06-03|      1002| 29.99|\n",
      "+-----------+-------------+----------+------+\n",
      "only showing top 20 rows\n",
      "\n"
     ]
    }
   ],
   "source": [
    "filtered_cache.show()"
   ]
  },
  {
   "cell_type": "code",
   "execution_count": 13,
   "id": "b1a403fe",
   "metadata": {},
   "outputs": [
    {
     "data": {
      "text/plain": [
       "65226530"
      ]
     },
     "execution_count": 13,
     "metadata": {},
     "output_type": "execute_result"
    }
   ],
   "source": [
    "filtered_cache.count()"
   ]
  },
  {
   "cell_type": "code",
   "execution_count": 14,
   "id": "1b0f7252",
   "metadata": {},
   "outputs": [
    {
     "data": {
      "text/plain": [
       "65226530"
      ]
     },
     "execution_count": 14,
     "metadata": {},
     "output_type": "execute_result"
    }
   ],
   "source": [
    "filtered_cache.count()"
   ]
  },
  {
   "cell_type": "code",
   "execution_count": 15,
   "id": "a1d4eb15",
   "metadata": {},
   "outputs": [
    {
     "name": "stdout",
     "output_type": "stream",
     "text": [
      "+----------+--------------------+\n",
      "|product_id|             Revenue|\n",
      "+----------+--------------------+\n",
      "|      1010|   7312.910350799561|\n",
      "|      1002| 4.293836211229706E8|\n",
      "|      1012|    9402.91035079956|\n",
      "|      1009|   6267.909952163696|\n",
      "|      1013|   10447.91035079956|\n",
      "|      1007|   4177.909952163696|\n",
      "|      1011|    8357.91035079956|\n",
      "|      1005|2.7828563865119934E8|\n",
      "|      1001| 5.566826598912048E8|\n",
      "|      1015|   12537.91035079956|\n",
      "|      1014|   11492.91035079956|\n",
      "|      1008|   5222.909952163696|\n",
      "|      1004| 2.862080211229706E8|\n",
      "|      1006|  3132.9099521636963|\n",
      "|      1003| 5.725592484315491E8|\n",
      "+----------+--------------------+\n",
      "\n"
     ]
    }
   ],
   "source": [
    "filtered_cache.groupBy(\"product_id\").sum(\"amount\").withColumnRenamed(\"sum(amount)\", \"Revenue\").show()"
   ]
  },
  {
   "cell_type": "markdown",
   "id": "29b15f1a",
   "metadata": {},
   "source": [
    "# A.2 Find the top 10 customers with maximum transaction amount for the same date range of start_date = \"2023-05-01\" to end_date = \"2023-06-08\""
   ]
  },
  {
   "cell_type": "code",
   "execution_count": 16,
   "id": "5dbfc822",
   "metadata": {},
   "outputs": [
    {
     "name": "stdout",
     "output_type": "stream",
     "text": [
      "+-----------+--------------+\n",
      "|customer_ID|maximum_amount|\n",
      "+-----------+--------------+\n",
      "|       1015|         59.99|\n",
      "|       1014|         54.99|\n",
      "|       1011|         49.99|\n",
      "|       1013|         49.99|\n",
      "|       1006|         49.99|\n",
      "|       1005|         49.99|\n",
      "|       1004|         49.99|\n",
      "|       1001|         49.99|\n",
      "|       1012|         44.99|\n",
      "|       1007|         39.99|\n",
      "+-----------+--------------+\n",
      "\n"
     ]
    }
   ],
   "source": [
    "filtered_cache.groupBy(\"customer_ID\").max(\"amount\").withColumnRenamed(\"max(amount)\", \"maximum_amount\").sort(\"maximum_amount\", ascending = False).limit(10).show()"
   ]
  },
  {
   "cell_type": "markdown",
   "id": "ad8fdfe6",
   "metadata": {},
   "source": [
    "# A.3 Implement all of the above using Spark Table (Create an External Table)."
   ]
  },
  {
   "cell_type": "code",
   "execution_count": 17,
   "id": "51ee6641",
   "metadata": {},
   "outputs": [
    {
     "data": {
      "text/html": [
       "<table border='1'>\n",
       "<tr><th></th></tr>\n",
       "</table>\n"
      ],
      "text/plain": [
       "++\n",
       "||\n",
       "++\n",
       "++"
      ]
     },
     "execution_count": 17,
     "metadata": {},
     "output_type": "execute_result"
    }
   ],
   "source": [
    "spark.sql(\"create database if not exists it009033_customers\")"
   ]
  },
  {
   "cell_type": "code",
   "execution_count": 18,
   "id": "ad0f77e9",
   "metadata": {},
   "outputs": [
    {
     "data": {
      "text/html": [
       "<table border='1'>\n",
       "<tr><th>databaseName</th></tr>\n",
       "<tr><td>00000assign7_itv0...</td></tr>\n",
       "<tr><td>0001_av_ivy_tesco</td></tr>\n",
       "<tr><td>001_retail</td></tr>\n",
       "<tr><td>003402_hive1</td></tr>\n",
       "<tr><td>005198_ivy_tesco</td></tr>\n",
       "<tr><td>005212_ivy_tesco</td></tr>\n",
       "<tr><td>005222_ivy_practice</td></tr>\n",
       "<tr><td>005260_ivy_database</td></tr>\n",
       "<tr><td>005876_week5_assi...</td></tr>\n",
       "<tr><td>005933_retail</td></tr>\n",
       "<tr><td>006018_trendytech...</td></tr>\n",
       "<tr><td>006539_week5</td></tr>\n",
       "<tr><td>006539_week5_1</td></tr>\n",
       "<tr><td>006586_database</td></tr>\n",
       "<tr><td>006608_database</td></tr>\n",
       "<tr><td>006866_week5_assi...</td></tr>\n",
       "<tr><td>007384_w5_db</td></tr>\n",
       "<tr><td>008057_bucketing_db</td></tr>\n",
       "<tr><td>008211_week5</td></tr>\n",
       "<tr><td>008228trendytechw...</td></tr>\n",
       "</table>\n",
       "only showing top 20 rows\n"
      ],
      "text/plain": [
       "+--------------------+\n",
       "|        databaseName|\n",
       "+--------------------+\n",
       "|00000assign7_itv0...|\n",
       "|   0001_av_ivy_tesco|\n",
       "|          001_retail|\n",
       "|        003402_hive1|\n",
       "|    005198_ivy_tesco|\n",
       "|    005212_ivy_tesco|\n",
       "| 005222_ivy_practice|\n",
       "| 005260_ivy_database|\n",
       "|005876_week5_assi...|\n",
       "|       005933_retail|\n",
       "|006018_trendytech...|\n",
       "|        006539_week5|\n",
       "|      006539_week5_1|\n",
       "|     006586_database|\n",
       "|     006608_database|\n",
       "|006866_week5_assi...|\n",
       "|        007384_w5_db|\n",
       "| 008057_bucketing_db|\n",
       "|        008211_week5|\n",
       "|008228trendytechw...|\n",
       "+--------------------+\n",
       "only showing top 20 rows"
      ]
     },
     "execution_count": 18,
     "metadata": {},
     "output_type": "execute_result"
    }
   ],
   "source": [
    "spark.sql(\"show databases\")"
   ]
  },
  {
   "cell_type": "code",
   "execution_count": 19,
   "id": "2504aaa5",
   "metadata": {},
   "outputs": [
    {
     "data": {
      "text/html": [
       "<table border='1'>\n",
       "<tr><th></th></tr>\n",
       "</table>\n"
      ],
      "text/plain": [
       "++\n",
       "||\n",
       "++\n",
       "++"
      ]
     },
     "execution_count": 19,
     "metadata": {},
     "output_type": "execute_result"
    }
   ],
   "source": [
    "spark.sql(\"use it009033_customers\")"
   ]
  },
  {
   "cell_type": "code",
   "execution_count": 20,
   "id": "af7bc34c",
   "metadata": {},
   "outputs": [
    {
     "data": {
      "text/html": [
       "<table border='1'>\n",
       "<tr><th></th></tr>\n",
       "</table>\n"
      ],
      "text/plain": [
       "++\n",
       "||\n",
       "++\n",
       "++"
      ]
     },
     "execution_count": 20,
     "metadata": {},
     "output_type": "execute_result"
    }
   ],
   "source": [
    "spark.sql(\"create table if not exists it009033_customers.customers_external(customer_ID long, purchase_date date, product_id long,amount float) using csv location '/public/trendytech/datasets/cust_transf.csv'\")"
   ]
  },
  {
   "cell_type": "code",
   "execution_count": 21,
   "id": "3b37cab5",
   "metadata": {},
   "outputs": [
    {
     "name": "stdout",
     "output_type": "stream",
     "text": [
      "+------------------+------------------+-----------+\n",
      "|          database|         tableName|isTemporary|\n",
      "+------------------+------------------+-----------+\n",
      "|it009033_customers|customers_external|      false|\n",
      "+------------------+------------------+-----------+\n",
      "\n"
     ]
    }
   ],
   "source": [
    "spark.sql(\"show tables\").show()"
   ]
  },
  {
   "cell_type": "code",
   "execution_count": 22,
   "id": "59fedaca",
   "metadata": {},
   "outputs": [
    {
     "name": "stdout",
     "output_type": "stream",
     "text": [
      "+-----------+-------------+----------+------+\n",
      "|customer_ID|purchase_date|product_id|amount|\n",
      "+-----------+-------------+----------+------+\n",
      "|       1001|   2023-05-15|      1001| 49.99|\n",
      "|       1002|   2023-05-16|      1002| 29.99|\n",
      "|       1003|   2023-05-17|      1003| 39.99|\n",
      "|       1004|   2023-05-18|      1004| 19.99|\n",
      "|       1005|   2023-05-19|      1005| 24.99|\n",
      "|       1001|   2023-05-20|      1002| 29.99|\n",
      "|       1002|   2023-05-21|      1003| 39.99|\n",
      "|       1003|   2023-05-22|      1004| 19.99|\n",
      "|       1004|   2023-05-23|      1005| 24.99|\n",
      "|       1005|   2023-05-24|      1001| 49.99|\n",
      "|       1001|   2023-05-25|      1003| 39.99|\n",
      "|       1002|   2023-05-26|      1004| 19.99|\n",
      "|       1003|   2023-05-27|      1005| 24.99|\n",
      "|       1004|   2023-05-28|      1001| 49.99|\n",
      "|       1005|   2023-05-29|      1002| 29.99|\n",
      "|       1001|   2023-05-30|      1003| 39.99|\n",
      "|       1002|   2023-05-31|      1004| 19.99|\n",
      "|       1003|   2023-06-01|      1005| 24.99|\n",
      "|       1004|   2023-06-02|      1001| 49.99|\n",
      "|       1005|   2023-06-03|      1002| 29.99|\n",
      "+-----------+-------------+----------+------+\n",
      "only showing top 20 rows\n",
      "\n"
     ]
    }
   ],
   "source": [
    "spark.sql(\"select * from customers_external\").show()"
   ]
  },
  {
   "cell_type": "code",
   "execution_count": 23,
   "id": "eed448f1",
   "metadata": {},
   "outputs": [
    {
     "name": "stdout",
     "output_type": "stream",
     "text": [
      "+----------+-------------------+\n",
      "|product_id|            revenue|\n",
      "+----------+-------------------+\n",
      "|      1001|8.747870369718933E8|\n",
      "|      1003|6.997946369718933E8|\n",
      "|      1002|5.248022035947418E8|\n",
      "|      1005|4.373060035947418E8|\n",
      "|      1004|3.498098035947418E8|\n",
      "|      1015|  12537.91035079956|\n",
      "|      1014|  11492.91035079956|\n",
      "|      1013|  10447.91035079956|\n",
      "|      1012|   9402.91035079956|\n",
      "|      1011|   8357.91035079956|\n",
      "+----------+-------------------+\n",
      "\n"
     ]
    }
   ],
   "source": [
    "spark.sql(\"select product_id, sum(amount) as revenue from it009033_customers.customers_external where purchase_date>= '2023-05-01' and purchase_date <= '2023-06-30' group by 1 order by sum(amount) desc limit 10\").show()"
   ]
  },
  {
   "cell_type": "code",
   "execution_count": 24,
   "id": "c519d02f",
   "metadata": {},
   "outputs": [
    {
     "name": "stdout",
     "output_type": "stream",
     "text": [
      "+-----------+--------------+\n",
      "|customer_ID|maximum_amount|\n",
      "+-----------+--------------+\n",
      "|       1015|         59.99|\n",
      "|       1014|         54.99|\n",
      "|       1009|         49.99|\n",
      "|       1001|         49.99|\n",
      "|       1013|         49.99|\n",
      "|       1004|         49.99|\n",
      "|       1005|         49.99|\n",
      "|       1006|         49.99|\n",
      "|       1011|         49.99|\n",
      "|       1010|         49.99|\n",
      "+-----------+--------------+\n",
      "\n"
     ]
    }
   ],
   "source": [
    "spark.sql(\"select customer_ID, max(amount) as maximum_amount from it009033_customers.customers_external where purchase_date>= '2023-05-01' and purchase_date <= '2023-06-30' group by 1 order by max(amount) desc limit 10\").show()"
   ]
  },
  {
   "cell_type": "code",
   "execution_count": 25,
   "id": "5011f8e5",
   "metadata": {},
   "outputs": [
    {
     "data": {
      "text/html": [
       "<table border='1'>\n",
       "<tr><th></th></tr>\n",
       "</table>\n"
      ],
      "text/plain": [
       "++\n",
       "||\n",
       "++\n",
       "++"
      ]
     },
     "execution_count": 25,
     "metadata": {},
     "output_type": "execute_result"
    }
   ],
   "source": [
    "spark.sql(\"cache lazy table it009033_customers.customers_external\")"
   ]
  },
  {
   "cell_type": "code",
   "execution_count": 26,
   "id": "d335f9bd",
   "metadata": {},
   "outputs": [
    {
     "name": "stdout",
     "output_type": "stream",
     "text": [
      "+----------+-------------------+\n",
      "|product_id|            revenue|\n",
      "+----------+-------------------+\n",
      "|      1001|8.747870369718933E8|\n",
      "|      1003|6.997946369718933E8|\n",
      "|      1002|5.248022035947418E8|\n",
      "|      1005|4.373060035947418E8|\n",
      "|      1004|3.498098035947418E8|\n",
      "|      1015|  12537.91035079956|\n",
      "|      1014|  11492.91035079956|\n",
      "|      1013|  10447.91035079956|\n",
      "|      1012|   9402.91035079956|\n",
      "|      1011|   8357.91035079956|\n",
      "+----------+-------------------+\n",
      "\n"
     ]
    }
   ],
   "source": [
    "spark.sql(\"select product_id, sum(amount) as revenue from it009033_customers.customers_external where purchase_date>= '2023-05-01' and purchase_date <= '2023-06-30' group by 1 order by sum(amount) desc limit 10\").show()"
   ]
  },
  {
   "cell_type": "code",
   "execution_count": 27,
   "id": "7f1cd7e3",
   "metadata": {},
   "outputs": [
    {
     "name": "stdout",
     "output_type": "stream",
     "text": [
      "+----------+-------------------+\n",
      "|product_id|            revenue|\n",
      "+----------+-------------------+\n",
      "|      1001|8.747870369718933E8|\n",
      "|      1003|6.997946369718933E8|\n",
      "|      1002|5.248022035947418E8|\n",
      "|      1005|4.373060035947418E8|\n",
      "|      1004|3.498098035947418E8|\n",
      "|      1015|  12537.91035079956|\n",
      "|      1014|  11492.91035079956|\n",
      "|      1013|  10447.91035079956|\n",
      "|      1012|   9402.91035079956|\n",
      "|      1011|   8357.91035079956|\n",
      "+----------+-------------------+\n",
      "\n"
     ]
    }
   ],
   "source": [
    "spark.sql(\"select product_id, sum(amount) as revenue from it009033_customers.customers_external where purchase_date>= '2023-05-01' and purchase_date <= '2023-06-30' group by 1 order by sum(amount) desc limit 10\").show()"
   ]
  },
  {
   "cell_type": "code",
   "execution_count": 28,
   "id": "4921981a",
   "metadata": {},
   "outputs": [
    {
     "name": "stdout",
     "output_type": "stream",
     "text": [
      "+-----------+--------------+\n",
      "|customer_ID|maximum_amount|\n",
      "+-----------+--------------+\n",
      "|       1015|         59.99|\n",
      "|       1014|         54.99|\n",
      "|       1005|         49.99|\n",
      "|       1006|         49.99|\n",
      "|       1010|         49.99|\n",
      "|       1011|         49.99|\n",
      "|       1004|         49.99|\n",
      "|       1001|         49.99|\n",
      "|       1013|         49.99|\n",
      "|       1009|         49.99|\n",
      "+-----------+--------------+\n",
      "\n"
     ]
    }
   ],
   "source": [
    "spark.sql(\"select customer_ID, max(amount) as maximum_amount from it009033_customers.customers_external where purchase_date>= '2023-05-01' and purchase_date <= '2023-06-30' group by 1 order by max(amount) desc limit 10\").show()"
   ]
  },
  {
   "cell_type": "code",
   "execution_count": 29,
   "id": "1291e670",
   "metadata": {},
   "outputs": [
    {
     "name": "stdout",
     "output_type": "stream",
     "text": [
      "+-----------+--------------+\n",
      "|customer_ID|maximum_amount|\n",
      "+-----------+--------------+\n",
      "|       1015|         59.99|\n",
      "|       1014|         54.99|\n",
      "|       1010|         49.99|\n",
      "|       1013|         49.99|\n",
      "|       1009|         49.99|\n",
      "|       1011|         49.99|\n",
      "|       1005|         49.99|\n",
      "|       1006|         49.99|\n",
      "|       1001|         49.99|\n",
      "|       1004|         49.99|\n",
      "+-----------+--------------+\n",
      "\n"
     ]
    }
   ],
   "source": [
    "spark.sql(\"select customer_ID, max(amount) as maximum_amount from it009033_customers.customers_external where purchase_date>= '2023-05-01' and purchase_date <= '2023-06-30' group by 1 order by max(amount) desc limit 10\").show()"
   ]
  },
  {
   "cell_type": "code",
   "execution_count": null,
   "id": "f25536af",
   "metadata": {},
   "outputs": [],
   "source": []
  },
  {
   "cell_type": "code",
   "execution_count": 30,
   "id": "d09eba66",
   "metadata": {},
   "outputs": [
    {
     "name": "stdout",
     "output_type": "stream",
     "text": [
      "+-----------+-------------+----------+------+\n",
      "|customer_ID|purchase_date|product_id|amount|\n",
      "+-----------+-------------+----------+------+\n",
      "|       1001|   2023-05-15|      1001| 49.99|\n",
      "|       1002|   2023-05-16|      1002| 29.99|\n",
      "+-----------+-------------+----------+------+\n",
      "only showing top 2 rows\n",
      "\n"
     ]
    }
   ],
   "source": [
    "customers_df.show(2)"
   ]
  },
  {
   "cell_type": "code",
   "execution_count": 51,
   "id": "764c4497",
   "metadata": {},
   "outputs": [],
   "source": [
    "from pyspark.sql.functions import year, month\n",
    "from pyspark.sql.functions import countDistinct\n",
    "from pyspark.storagelevel import StorageLevel"
   ]
  },
  {
   "cell_type": "code",
   "execution_count": 32,
   "id": "66aa889b",
   "metadata": {},
   "outputs": [
    {
     "name": "stdout",
     "output_type": "stream",
     "text": [
      "+-----------+-------------+----------+------+------+-------+\n",
      "|customer_ID|purchase_date|product_id|amount|p_year|p_month|\n",
      "+-----------+-------------+----------+------+------+-------+\n",
      "|       1001|   2023-05-15|      1001| 49.99|  2023|      5|\n",
      "|       1002|   2023-05-16|      1002| 29.99|  2023|      5|\n",
      "|       1003|   2023-05-17|      1003| 39.99|  2023|      5|\n",
      "|       1004|   2023-05-18|      1004| 19.99|  2023|      5|\n",
      "|       1005|   2023-05-19|      1005| 24.99|  2023|      5|\n",
      "|       1001|   2023-05-20|      1002| 29.99|  2023|      5|\n",
      "|       1002|   2023-05-21|      1003| 39.99|  2023|      5|\n",
      "|       1003|   2023-05-22|      1004| 19.99|  2023|      5|\n",
      "|       1004|   2023-05-23|      1005| 24.99|  2023|      5|\n",
      "|       1005|   2023-05-24|      1001| 49.99|  2023|      5|\n",
      "|       1001|   2023-05-25|      1003| 39.99|  2023|      5|\n",
      "|       1002|   2023-05-26|      1004| 19.99|  2023|      5|\n",
      "|       1003|   2023-05-27|      1005| 24.99|  2023|      5|\n",
      "|       1004|   2023-05-28|      1001| 49.99|  2023|      5|\n",
      "|       1005|   2023-05-29|      1002| 29.99|  2023|      5|\n",
      "|       1001|   2023-05-30|      1003| 39.99|  2023|      5|\n",
      "|       1002|   2023-05-31|      1004| 19.99|  2023|      5|\n",
      "|       1003|   2023-06-01|      1005| 24.99|  2023|      6|\n",
      "|       1004|   2023-06-02|      1001| 49.99|  2023|      6|\n",
      "|       1005|   2023-06-03|      1002| 29.99|  2023|      6|\n",
      "+-----------+-------------+----------+------+------+-------+\n",
      "only showing top 20 rows\n",
      "\n"
     ]
    }
   ],
   "source": [
    "df2 = customers_df.withColumn(\"p_year\", year(\"purchase_date\")).withColumn(\"p_month\", month(\"purchase_date\"))\n",
    "\n",
    "df2.show()"
   ]
  },
  {
   "cell_type": "code",
   "execution_count": 33,
   "id": "3b23579e",
   "metadata": {},
   "outputs": [
    {
     "name": "stdout",
     "output_type": "stream",
     "text": [
      "+-----------+------+-------+---------------+\n",
      "|customer_ID|p_year|p_month|distinct_months|\n",
      "+-----------+------+-------+---------------+\n",
      "|       1011|  2023|      5|              1|\n",
      "|       1002|  2023|      5|              1|\n",
      "|       1004|  2023|      6|              1|\n",
      "|       1014|  2023|      5|              1|\n",
      "|       1004|  2023|      5|              1|\n",
      "|       1009|  2023|      6|              1|\n",
      "|       1013|  2023|      6|              1|\n",
      "|       1002|  2023|      6|              1|\n",
      "|       1013|  2023|      5|              1|\n",
      "|       1001|  2023|      6|              1|\n",
      "|       1007|  2023|      6|              1|\n",
      "|       1007|  2023|      5|              1|\n",
      "|       1015|  2023|      6|              1|\n",
      "|       1006|  2023|      5|              1|\n",
      "|       1005|  2023|      6|              1|\n",
      "|       1006|  2023|      6|              1|\n",
      "|       1014|  2023|      6|              1|\n",
      "|       1003|  2023|      5|              1|\n",
      "|       1010|  2023|      5|              1|\n",
      "|       1012|  2023|      5|              1|\n",
      "+-----------+------+-------+---------------+\n",
      "only showing top 20 rows\n",
      "\n"
     ]
    }
   ],
   "source": [
    "df3 = df2.groupBy(\"customer_ID\", \"p_year\", \"p_month\").agg(countDistinct(\"p_month\")).withColumnRenamed(\"count(DISTINCT p_month)\", \"distinct_months\")\n",
    "# df3 = df3.withColumnRenamed(\"count(DISTINCT p_month)\", \"distinct_months\")\n",
    "df3.show()"
   ]
  },
  {
   "cell_type": "code",
   "execution_count": 34,
   "id": "53e48ecc",
   "metadata": {},
   "outputs": [],
   "source": [
    "regular_custs = df3.filter(\"distinct_months == 1\").groupBy(\"customer_ID\").count()"
   ]
  },
  {
   "cell_type": "code",
   "execution_count": 35,
   "id": "0d0a25fc",
   "metadata": {},
   "outputs": [
    {
     "name": "stdout",
     "output_type": "stream",
     "text": [
      "+-----------+-----+\n",
      "|customer_ID|count|\n",
      "+-----------+-----+\n",
      "|       1010|    2|\n",
      "|       1002|    2|\n",
      "|       1012|    2|\n",
      "|       1009|    2|\n",
      "|       1013|    2|\n",
      "|       1007|    2|\n",
      "|       1011|    2|\n",
      "|       1005|    2|\n",
      "|       1001|    2|\n",
      "|       1015|    2|\n",
      "|       1014|    2|\n",
      "|       1008|    2|\n",
      "|       1004|    2|\n",
      "|       1006|    2|\n",
      "|       1003|    2|\n",
      "+-----------+-----+\n",
      "\n"
     ]
    }
   ],
   "source": [
    "regular_custs.show()"
   ]
  },
  {
   "cell_type": "code",
   "execution_count": 36,
   "id": "ecef49a6",
   "metadata": {},
   "outputs": [],
   "source": [
    "per_cust = customers_cached.persist(StorageLevel.MEMORY_AND_DISK_SER)"
   ]
  },
  {
   "cell_type": "code",
   "execution_count": 37,
   "id": "89899676",
   "metadata": {},
   "outputs": [
    {
     "data": {
      "text/plain": [
       "87498290"
      ]
     },
     "execution_count": 37,
     "metadata": {},
     "output_type": "execute_result"
    }
   ],
   "source": [
    "per_cust.count()"
   ]
  },
  {
   "cell_type": "code",
   "execution_count": 52,
   "id": "2bcd5e35",
   "metadata": {},
   "outputs": [
    {
     "name": "stdout",
     "output_type": "stream",
     "text": [
      "+-----------+------+-------+---------------+\n",
      "|customer_ID|p_year|p_month|distinct_months|\n",
      "+-----------+------+-------+---------------+\n",
      "|       1011|  2023|      5|              1|\n",
      "|       1002|  2023|      5|              1|\n",
      "|       1004|  2023|      6|              1|\n",
      "|       1014|  2023|      5|              1|\n",
      "|       1004|  2023|      5|              1|\n",
      "|       1009|  2023|      6|              1|\n",
      "|       1013|  2023|      6|              1|\n",
      "|       1002|  2023|      6|              1|\n",
      "|       1013|  2023|      5|              1|\n",
      "|       1001|  2023|      6|              1|\n",
      "|       1007|  2023|      6|              1|\n",
      "|       1007|  2023|      5|              1|\n",
      "|       1015|  2023|      6|              1|\n",
      "|       1006|  2023|      5|              1|\n",
      "|       1005|  2023|      6|              1|\n",
      "|       1006|  2023|      6|              1|\n",
      "|       1014|  2023|      6|              1|\n",
      "|       1003|  2023|      5|              1|\n",
      "|       1010|  2023|      5|              1|\n",
      "|       1012|  2023|      5|              1|\n",
      "+-----------+------+-------+---------------+\n",
      "only showing top 20 rows\n",
      "\n"
     ]
    }
   ],
   "source": [
    "per_m_d = df2.groupBy(\"customer_ID\", \"p_year\", \"p_month\").agg(countDistinct(\"p_month\")).withColumnRenamed(\"count(DISTINCT p_month)\", \"distinct_months\").persist(StorageLevel.MEMORY_AND_DISK_SER)\n",
    "# df3 = df3.withColumnRenamed(\"count(DISTINCT p_month)\", \"distinct_months\")\n",
    "per_m_d.show()"
   ]
  },
  {
   "cell_type": "code",
   "execution_count": 40,
   "id": "c8474ac1",
   "metadata": {},
   "outputs": [
    {
     "name": "stdout",
     "output_type": "stream",
     "text": [
      "+-----------+------+-------+---------------+\n",
      "|customer_ID|p_year|p_month|distinct_months|\n",
      "+-----------+------+-------+---------------+\n",
      "|       1011|  2023|      5|              1|\n",
      "|       1002|  2023|      5|              1|\n",
      "|       1004|  2023|      6|              1|\n",
      "|       1014|  2023|      5|              1|\n",
      "|       1004|  2023|      5|              1|\n",
      "|       1009|  2023|      6|              1|\n",
      "|       1013|  2023|      6|              1|\n",
      "|       1002|  2023|      6|              1|\n",
      "|       1013|  2023|      5|              1|\n",
      "|       1001|  2023|      6|              1|\n",
      "|       1007|  2023|      6|              1|\n",
      "|       1007|  2023|      5|              1|\n",
      "|       1015|  2023|      6|              1|\n",
      "|       1006|  2023|      5|              1|\n",
      "|       1005|  2023|      6|              1|\n",
      "|       1006|  2023|      6|              1|\n",
      "|       1014|  2023|      6|              1|\n",
      "|       1003|  2023|      5|              1|\n",
      "|       1010|  2023|      5|              1|\n",
      "|       1012|  2023|      5|              1|\n",
      "+-----------+------+-------+---------------+\n",
      "only showing top 20 rows\n",
      "\n"
     ]
    }
   ],
   "source": [
    "per_m_d.show()"
   ]
  },
  {
   "cell_type": "code",
   "execution_count": 41,
   "id": "e87fb97e",
   "metadata": {},
   "outputs": [
    {
     "name": "stdout",
     "output_type": "stream",
     "text": [
      "+-----------+------+-------+---------------+\n",
      "|customer_ID|p_year|p_month|distinct_months|\n",
      "+-----------+------+-------+---------------+\n",
      "|       1011|  2023|      5|              1|\n",
      "|       1002|  2023|      5|              1|\n",
      "|       1004|  2023|      6|              1|\n",
      "|       1014|  2023|      5|              1|\n",
      "|       1004|  2023|      5|              1|\n",
      "|       1009|  2023|      6|              1|\n",
      "|       1013|  2023|      6|              1|\n",
      "|       1002|  2023|      6|              1|\n",
      "|       1013|  2023|      5|              1|\n",
      "|       1001|  2023|      6|              1|\n",
      "|       1007|  2023|      6|              1|\n",
      "|       1007|  2023|      5|              1|\n",
      "|       1015|  2023|      6|              1|\n",
      "|       1006|  2023|      5|              1|\n",
      "|       1005|  2023|      6|              1|\n",
      "|       1006|  2023|      6|              1|\n",
      "|       1014|  2023|      6|              1|\n",
      "|       1003|  2023|      5|              1|\n",
      "|       1010|  2023|      5|              1|\n",
      "|       1012|  2023|      5|              1|\n",
      "+-----------+------+-------+---------------+\n",
      "only showing top 20 rows\n",
      "\n"
     ]
    }
   ],
   "source": [
    "cached_m_d = df2.groupBy(\"customer_ID\", \"p_year\", \"p_month\").agg(countDistinct(\"p_month\")).withColumnRenamed(\"count(DISTINCT p_month)\", \"distinct_months\").cache()\n",
    "# df3 = df3.withColumnRenamed(\"count(DISTINCT p_month)\", \"distinct_months\")\n",
    "cached_m_d.show()"
   ]
  },
  {
   "cell_type": "code",
   "execution_count": 42,
   "id": "d33f6eb5",
   "metadata": {},
   "outputs": [
    {
     "name": "stdout",
     "output_type": "stream",
     "text": [
      "+-----------+------+-------+---------------+\n",
      "|customer_ID|p_year|p_month|distinct_months|\n",
      "+-----------+------+-------+---------------+\n",
      "|       1011|  2023|      5|              1|\n",
      "|       1002|  2023|      5|              1|\n",
      "|       1004|  2023|      6|              1|\n",
      "|       1014|  2023|      5|              1|\n",
      "|       1004|  2023|      5|              1|\n",
      "|       1009|  2023|      6|              1|\n",
      "|       1013|  2023|      6|              1|\n",
      "|       1002|  2023|      6|              1|\n",
      "|       1013|  2023|      5|              1|\n",
      "|       1001|  2023|      6|              1|\n",
      "|       1007|  2023|      6|              1|\n",
      "|       1007|  2023|      5|              1|\n",
      "|       1015|  2023|      6|              1|\n",
      "|       1006|  2023|      5|              1|\n",
      "|       1005|  2023|      6|              1|\n",
      "|       1006|  2023|      6|              1|\n",
      "|       1014|  2023|      6|              1|\n",
      "|       1003|  2023|      5|              1|\n",
      "|       1010|  2023|      5|              1|\n",
      "|       1012|  2023|      5|              1|\n",
      "+-----------+------+-------+---------------+\n",
      "only showing top 20 rows\n",
      "\n"
     ]
    }
   ],
   "source": [
    "cached_m_d.show()"
   ]
  },
  {
   "cell_type": "code",
   "execution_count": 43,
   "id": "6e61e7e7",
   "metadata": {},
   "outputs": [
    {
     "data": {
      "text/html": [
       "<table border='1'>\n",
       "<tr><th>customer_ID</th><th>p_year</th><th>p_month</th><th>distinct_months</th></tr>\n",
       "<tr><td>1011</td><td>2023</td><td>5</td><td>1</td></tr>\n",
       "<tr><td>1002</td><td>2023</td><td>5</td><td>1</td></tr>\n",
       "<tr><td>1004</td><td>2023</td><td>6</td><td>1</td></tr>\n",
       "<tr><td>1014</td><td>2023</td><td>5</td><td>1</td></tr>\n",
       "<tr><td>1004</td><td>2023</td><td>5</td><td>1</td></tr>\n",
       "<tr><td>1009</td><td>2023</td><td>6</td><td>1</td></tr>\n",
       "<tr><td>1013</td><td>2023</td><td>6</td><td>1</td></tr>\n",
       "<tr><td>1002</td><td>2023</td><td>6</td><td>1</td></tr>\n",
       "<tr><td>1013</td><td>2023</td><td>5</td><td>1</td></tr>\n",
       "<tr><td>1001</td><td>2023</td><td>6</td><td>1</td></tr>\n",
       "<tr><td>1007</td><td>2023</td><td>6</td><td>1</td></tr>\n",
       "<tr><td>1007</td><td>2023</td><td>5</td><td>1</td></tr>\n",
       "<tr><td>1015</td><td>2023</td><td>6</td><td>1</td></tr>\n",
       "<tr><td>1006</td><td>2023</td><td>5</td><td>1</td></tr>\n",
       "<tr><td>1005</td><td>2023</td><td>6</td><td>1</td></tr>\n",
       "<tr><td>1006</td><td>2023</td><td>6</td><td>1</td></tr>\n",
       "<tr><td>1014</td><td>2023</td><td>6</td><td>1</td></tr>\n",
       "<tr><td>1003</td><td>2023</td><td>5</td><td>1</td></tr>\n",
       "<tr><td>1010</td><td>2023</td><td>5</td><td>1</td></tr>\n",
       "<tr><td>1012</td><td>2023</td><td>5</td><td>1</td></tr>\n",
       "</table>\n",
       "only showing top 20 rows\n"
      ],
      "text/plain": [
       "+-----------+------+-------+---------------+\n",
       "|customer_ID|p_year|p_month|distinct_months|\n",
       "+-----------+------+-------+---------------+\n",
       "|       1011|  2023|      5|              1|\n",
       "|       1002|  2023|      5|              1|\n",
       "|       1004|  2023|      6|              1|\n",
       "|       1014|  2023|      5|              1|\n",
       "|       1004|  2023|      5|              1|\n",
       "|       1009|  2023|      6|              1|\n",
       "|       1013|  2023|      6|              1|\n",
       "|       1002|  2023|      6|              1|\n",
       "|       1013|  2023|      5|              1|\n",
       "|       1001|  2023|      6|              1|\n",
       "|       1007|  2023|      6|              1|\n",
       "|       1007|  2023|      5|              1|\n",
       "|       1015|  2023|      6|              1|\n",
       "|       1006|  2023|      5|              1|\n",
       "|       1005|  2023|      6|              1|\n",
       "|       1006|  2023|      6|              1|\n",
       "|       1014|  2023|      6|              1|\n",
       "|       1003|  2023|      5|              1|\n",
       "|       1010|  2023|      5|              1|\n",
       "|       1012|  2023|      5|              1|\n",
       "+-----------+------+-------+---------------+\n",
       "only showing top 20 rows"
      ]
     },
     "execution_count": 43,
     "metadata": {},
     "output_type": "execute_result"
    }
   ],
   "source": [
    "cached_m_d.unpersist()"
   ]
  },
  {
   "cell_type": "code",
   "execution_count": 44,
   "id": "6371f385",
   "metadata": {},
   "outputs": [
    {
     "name": "stdout",
     "output_type": "stream",
     "text": [
      "+-----------+------+-------+---------------+\n",
      "|customer_ID|p_year|p_month|distinct_months|\n",
      "+-----------+------+-------+---------------+\n",
      "|       1011|  2023|      5|              1|\n",
      "|       1002|  2023|      5|              1|\n",
      "|       1004|  2023|      6|              1|\n",
      "|       1014|  2023|      5|              1|\n",
      "|       1004|  2023|      5|              1|\n",
      "|       1009|  2023|      6|              1|\n",
      "|       1013|  2023|      6|              1|\n",
      "|       1002|  2023|      6|              1|\n",
      "|       1013|  2023|      5|              1|\n",
      "|       1001|  2023|      6|              1|\n",
      "|       1007|  2023|      6|              1|\n",
      "|       1007|  2023|      5|              1|\n",
      "|       1015|  2023|      6|              1|\n",
      "|       1006|  2023|      5|              1|\n",
      "|       1005|  2023|      6|              1|\n",
      "|       1006|  2023|      6|              1|\n",
      "|       1014|  2023|      6|              1|\n",
      "|       1003|  2023|      5|              1|\n",
      "|       1010|  2023|      5|              1|\n",
      "|       1012|  2023|      5|              1|\n",
      "+-----------+------+-------+---------------+\n",
      "only showing top 20 rows\n",
      "\n"
     ]
    }
   ],
   "source": [
    "MEMORY_ONLY = df2.groupBy(\"customer_ID\", \"p_year\", \"p_month\").agg(countDistinct(\"p_month\")).withColumnRenamed(\"count(DISTINCT p_month)\", \"distinct_months\").persist(StorageLevel.MEMORY_ONLY)\n",
    "# df3 = df3.withColumnRenamed(\"count(DISTINCT p_month)\", \"distinct_months\")\n",
    "MEMORY_ONLY.show()"
   ]
  },
  {
   "cell_type": "code",
   "execution_count": 45,
   "id": "37a6ad3c",
   "metadata": {},
   "outputs": [
    {
     "name": "stdout",
     "output_type": "stream",
     "text": [
      "+-----------+-----+\n",
      "|customer_ID|count|\n",
      "+-----------+-----+\n",
      "|       1010|    2|\n",
      "|       1002|    2|\n",
      "|       1012|    2|\n",
      "|       1009|    2|\n",
      "|       1013|    2|\n",
      "|       1007|    2|\n",
      "|       1011|    2|\n",
      "|       1005|    2|\n",
      "|       1001|    2|\n",
      "|       1015|    2|\n",
      "|       1014|    2|\n",
      "|       1008|    2|\n",
      "|       1004|    2|\n",
      "|       1006|    2|\n",
      "|       1003|    2|\n",
      "+-----------+-----+\n",
      "\n"
     ]
    }
   ],
   "source": [
    "regular_custs = MEMORY_ONLY.filter(\"distinct_months == 1\").groupBy(\"customer_ID\").count()\n",
    "regular_custs.show()"
   ]
  },
  {
   "cell_type": "code",
   "execution_count": 46,
   "id": "70100d5d",
   "metadata": {},
   "outputs": [
    {
     "name": "stdout",
     "output_type": "stream",
     "text": [
      "+-----------+-----+\n",
      "|customer_ID|count|\n",
      "+-----------+-----+\n",
      "|       1010|    2|\n",
      "|       1002|    2|\n",
      "|       1012|    2|\n",
      "|       1009|    2|\n",
      "|       1013|    2|\n",
      "|       1007|    2|\n",
      "|       1011|    2|\n",
      "|       1005|    2|\n",
      "|       1001|    2|\n",
      "|       1015|    2|\n",
      "|       1014|    2|\n",
      "|       1008|    2|\n",
      "|       1004|    2|\n",
      "|       1006|    2|\n",
      "|       1003|    2|\n",
      "+-----------+-----+\n",
      "\n"
     ]
    }
   ],
   "source": [
    "regular_custs.show()"
   ]
  },
  {
   "cell_type": "code",
   "execution_count": 55,
   "id": "a578bc9e",
   "metadata": {},
   "outputs": [
    {
     "name": "stdout",
     "output_type": "stream",
     "text": [
      "+-----------+-----+\n",
      "|customer_ID|count|\n",
      "+-----------+-----+\n",
      "|       1010|    2|\n",
      "|       1002|    2|\n",
      "|       1012|    2|\n",
      "|       1009|    2|\n",
      "|       1013|    2|\n",
      "|       1007|    2|\n",
      "|       1011|    2|\n",
      "|       1005|    2|\n",
      "|       1001|    2|\n",
      "|       1015|    2|\n",
      "|       1014|    2|\n",
      "|       1008|    2|\n",
      "|       1004|    2|\n",
      "|       1006|    2|\n",
      "|       1003|    2|\n",
      "+-----------+-----+\n",
      "\n"
     ]
    }
   ],
   "source": [
    "LEVEL = df2.groupBy(\"customer_ID\", \"p_year\", \"p_month\").agg(countDistinct(\"p_month\")).withColumnRenamed(\"count(DISTINCT p_month)\", \"distinct_months\").persist(StorageLevel.MEMORY_ONLY_SER)\n",
    "LEVEL = LEVEL.filter(\"distinct_months == 1\").groupBy(\"customer_ID\").count()\n",
    "LEVEL.show()"
   ]
  },
  {
   "cell_type": "code",
   "execution_count": 56,
   "id": "5c142254",
   "metadata": {},
   "outputs": [
    {
     "name": "stdout",
     "output_type": "stream",
     "text": [
      "+-----------+-----+\n",
      "|customer_ID|count|\n",
      "+-----------+-----+\n",
      "|       1010|    2|\n",
      "|       1002|    2|\n",
      "|       1012|    2|\n",
      "|       1009|    2|\n",
      "|       1013|    2|\n",
      "|       1011|    2|\n",
      "|       1007|    2|\n",
      "|       1005|    2|\n",
      "|       1001|    2|\n",
      "|       1015|    2|\n",
      "|       1014|    2|\n",
      "|       1008|    2|\n",
      "|       1004|    2|\n",
      "|       1006|    2|\n",
      "|       1003|    2|\n",
      "+-----------+-----+\n",
      "\n"
     ]
    }
   ],
   "source": [
    "LEVEL.show()"
   ]
  },
  {
   "cell_type": "code",
   "execution_count": 57,
   "id": "1e895619",
   "metadata": {},
   "outputs": [
    {
     "name": "stdout",
     "output_type": "stream",
     "text": [
      "+-----------+-----+\n",
      "|customer_ID|count|\n",
      "+-----------+-----+\n",
      "|       1010|    2|\n",
      "|       1002|    2|\n",
      "|       1012|    2|\n",
      "|       1009|    2|\n",
      "|       1013|    2|\n",
      "|       1011|    2|\n",
      "|       1007|    2|\n",
      "|       1005|    2|\n",
      "|       1001|    2|\n",
      "|       1015|    2|\n",
      "|       1014|    2|\n",
      "|       1008|    2|\n",
      "|       1004|    2|\n",
      "|       1006|    2|\n",
      "|       1003|    2|\n",
      "+-----------+-----+\n",
      "\n"
     ]
    }
   ],
   "source": [
    "LEVEL = df2.groupBy(\"customer_ID\", \"p_year\", \"p_month\").agg(countDistinct(\"p_month\")).withColumnRenamed(\"count(DISTINCT p_month)\", \"distinct_months\").persist(StorageLevel.MEMORY_AND_DISK)\n",
    "LEVEL = LEVEL.filter(\"distinct_months == 1\").groupBy(\"customer_ID\").count()\n",
    "LEVEL.show()"
   ]
  },
  {
   "cell_type": "code",
   "execution_count": 58,
   "id": "ffc0fb33",
   "metadata": {},
   "outputs": [
    {
     "name": "stdout",
     "output_type": "stream",
     "text": [
      "+-----------+-----+\n",
      "|customer_ID|count|\n",
      "+-----------+-----+\n",
      "|       1010|    2|\n",
      "|       1002|    2|\n",
      "|       1012|    2|\n",
      "|       1009|    2|\n",
      "|       1013|    2|\n",
      "|       1007|    2|\n",
      "|       1011|    2|\n",
      "|       1005|    2|\n",
      "|       1001|    2|\n",
      "|       1015|    2|\n",
      "|       1014|    2|\n",
      "|       1008|    2|\n",
      "|       1004|    2|\n",
      "|       1006|    2|\n",
      "|       1003|    2|\n",
      "+-----------+-----+\n",
      "\n"
     ]
    }
   ],
   "source": [
    "LEVEL.show()"
   ]
  },
  {
   "cell_type": "code",
   "execution_count": 59,
   "id": "afa11f83",
   "metadata": {},
   "outputs": [
    {
     "name": "stdout",
     "output_type": "stream",
     "text": [
      "+-----------+-----+\n",
      "|customer_ID|count|\n",
      "+-----------+-----+\n",
      "|       1010|    2|\n",
      "|       1002|    2|\n",
      "|       1012|    2|\n",
      "|       1009|    2|\n",
      "|       1013|    2|\n",
      "|       1007|    2|\n",
      "|       1011|    2|\n",
      "|       1005|    2|\n",
      "|       1001|    2|\n",
      "|       1015|    2|\n",
      "|       1014|    2|\n",
      "|       1008|    2|\n",
      "|       1004|    2|\n",
      "|       1006|    2|\n",
      "|       1003|    2|\n",
      "+-----------+-----+\n",
      "\n"
     ]
    }
   ],
   "source": [
    "LEVEL = df2.groupBy(\"customer_ID\", \"p_year\", \"p_month\").agg(countDistinct(\"p_month\")).withColumnRenamed(\"count(DISTINCT p_month)\", \"distinct_months\").persist(StorageLevel.MEMORY_AND_DISK_SER)\n",
    "LEVEL = LEVEL.filter(\"distinct_months == 1\").groupBy(\"customer_ID\").count()\n",
    "LEVEL.show()"
   ]
  },
  {
   "cell_type": "code",
   "execution_count": 60,
   "id": "a8d9496f",
   "metadata": {},
   "outputs": [
    {
     "name": "stdout",
     "output_type": "stream",
     "text": [
      "+-----------+-----+\n",
      "|customer_ID|count|\n",
      "+-----------+-----+\n",
      "|       1010|    2|\n",
      "|       1002|    2|\n",
      "|       1012|    2|\n",
      "|       1009|    2|\n",
      "|       1013|    2|\n",
      "|       1007|    2|\n",
      "|       1011|    2|\n",
      "|       1005|    2|\n",
      "|       1001|    2|\n",
      "|       1015|    2|\n",
      "|       1014|    2|\n",
      "|       1008|    2|\n",
      "|       1004|    2|\n",
      "|       1006|    2|\n",
      "|       1003|    2|\n",
      "+-----------+-----+\n",
      "\n"
     ]
    }
   ],
   "source": [
    "LEVEL.show()"
   ]
  },
  {
   "cell_type": "code",
   "execution_count": 61,
   "id": "24c71fd3",
   "metadata": {},
   "outputs": [
    {
     "name": "stdout",
     "output_type": "stream",
     "text": [
      "+-----------+-----+\n",
      "|customer_ID|count|\n",
      "+-----------+-----+\n",
      "|       1010|    2|\n",
      "|       1002|    2|\n",
      "|       1012|    2|\n",
      "|       1009|    2|\n",
      "|       1013|    2|\n",
      "|       1011|    2|\n",
      "|       1007|    2|\n",
      "|       1005|    2|\n",
      "|       1001|    2|\n",
      "|       1015|    2|\n",
      "|       1014|    2|\n",
      "|       1008|    2|\n",
      "|       1004|    2|\n",
      "|       1006|    2|\n",
      "|       1003|    2|\n",
      "+-----------+-----+\n",
      "\n"
     ]
    }
   ],
   "source": [
    "LEVEL = df2.groupBy(\"customer_ID\", \"p_year\", \"p_month\").agg(countDistinct(\"p_month\")).withColumnRenamed(\"count(DISTINCT p_month)\", \"distinct_months\").persist(StorageLevel.DISK_ONLY)\n",
    "LEVEL = LEVEL.filter(\"distinct_months == 1\").groupBy(\"customer_ID\").count()\n",
    "LEVEL.show()"
   ]
  },
  {
   "cell_type": "code",
   "execution_count": 62,
   "id": "96596a16",
   "metadata": {},
   "outputs": [
    {
     "name": "stdout",
     "output_type": "stream",
     "text": [
      "+-----------+-----+\n",
      "|customer_ID|count|\n",
      "+-----------+-----+\n",
      "|       1010|    2|\n",
      "|       1002|    2|\n",
      "|       1012|    2|\n",
      "|       1009|    2|\n",
      "|       1013|    2|\n",
      "|       1007|    2|\n",
      "|       1011|    2|\n",
      "|       1005|    2|\n",
      "|       1001|    2|\n",
      "|       1015|    2|\n",
      "|       1014|    2|\n",
      "|       1008|    2|\n",
      "|       1004|    2|\n",
      "|       1006|    2|\n",
      "|       1003|    2|\n",
      "+-----------+-----+\n",
      "\n"
     ]
    }
   ],
   "source": [
    "LEVEL.show()"
   ]
  },
  {
   "cell_type": "markdown",
   "id": "331152f7",
   "metadata": {},
   "source": [
    "# B) The customer service team frequently needs to access the transaction history of a specific customer to resolve any issues or provide personalized assistance. Design a caching mechanism that allows fast retrieval of a customer's transaction history.(hint: you can use user defined functions to pass customer_id to get the transaction details)"
   ]
  },
  {
   "cell_type": "code",
   "execution_count": 63,
   "id": "f4eff414",
   "metadata": {},
   "outputs": [
    {
     "name": "stdout",
     "output_type": "stream",
     "text": [
      "+-----------+-------------+----------+------+\n",
      "|customer_ID|purchase_date|product_id|amount|\n",
      "+-----------+-------------+----------+------+\n",
      "|       1001|   2023-05-15|      1001| 49.99|\n",
      "|       1002|   2023-05-16|      1002| 29.99|\n",
      "|       1003|   2023-05-17|      1003| 39.99|\n",
      "|       1004|   2023-05-18|      1004| 19.99|\n",
      "|       1005|   2023-05-19|      1005| 24.99|\n",
      "|       1001|   2023-05-20|      1002| 29.99|\n",
      "|       1002|   2023-05-21|      1003| 39.99|\n",
      "|       1003|   2023-05-22|      1004| 19.99|\n",
      "|       1004|   2023-05-23|      1005| 24.99|\n",
      "|       1005|   2023-05-24|      1001| 49.99|\n",
      "|       1001|   2023-05-25|      1003| 39.99|\n",
      "|       1002|   2023-05-26|      1004| 19.99|\n",
      "|       1003|   2023-05-27|      1005| 24.99|\n",
      "|       1004|   2023-05-28|      1001| 49.99|\n",
      "|       1005|   2023-05-29|      1002| 29.99|\n",
      "|       1001|   2023-05-30|      1003| 39.99|\n",
      "|       1002|   2023-05-31|      1004| 19.99|\n",
      "|       1003|   2023-06-01|      1005| 24.99|\n",
      "|       1004|   2023-06-02|      1001| 49.99|\n",
      "|       1005|   2023-06-03|      1002| 29.99|\n",
      "+-----------+-------------+----------+------+\n",
      "only showing top 20 rows\n",
      "\n"
     ]
    }
   ],
   "source": [
    "customers_cached.show()"
   ]
  },
  {
   "cell_type": "code",
   "execution_count": 78,
   "id": "5598c311",
   "metadata": {},
   "outputs": [],
   "source": [
    "def desc(ids):\n",
    "    hist = customers_cached.select(\"purchase_date\", \"product_id\", \"amount\").filter((customers_cached.customer_ID == ids)).cache()\n",
    "    return hist"
   ]
  },
  {
   "cell_type": "code",
   "execution_count": 80,
   "id": "535f0163",
   "metadata": {},
   "outputs": [
    {
     "name": "stdout",
     "output_type": "stream",
     "text": [
      "+-------------+----------+------+\n",
      "|purchase_date|product_id|amount|\n",
      "+-------------+----------+------+\n",
      "|   2023-05-15|      1001| 49.99|\n",
      "|   2023-05-20|      1002| 29.99|\n",
      "|   2023-05-25|      1003| 39.99|\n",
      "|   2023-05-30|      1003| 39.99|\n",
      "|   2023-06-04|      1003| 39.99|\n",
      "|   2023-05-15|      1001| 49.99|\n",
      "|   2023-05-20|      1002| 29.99|\n",
      "|   2023-05-25|      1003| 39.99|\n",
      "|   2023-05-30|      1003| 39.99|\n",
      "|   2023-06-04|      1003| 39.99|\n",
      "|   2023-05-15|      1001| 49.99|\n",
      "|   2023-05-20|      1002| 29.99|\n",
      "|   2023-05-25|      1003| 39.99|\n",
      "|   2023-05-30|      1003| 39.99|\n",
      "|   2023-06-04|      1003| 39.99|\n",
      "|   2023-05-15|      1001| 49.99|\n",
      "|   2023-05-20|      1002| 29.99|\n",
      "|   2023-05-25|      1003| 39.99|\n",
      "|   2023-05-30|      1003| 39.99|\n",
      "|   2023-06-04|      1003| 39.99|\n",
      "+-------------+----------+------+\n",
      "only showing top 20 rows\n",
      "\n"
     ]
    }
   ],
   "source": [
    "desc(1001).show()"
   ]
  },
  {
   "cell_type": "code",
   "execution_count": 50,
   "id": "36c36c8f",
   "metadata": {},
   "outputs": [],
   "source": [
    "def persisting(LEVELS):\n",
    "    LEVEL = df2.groupBy(\"customer_ID\", \"p_year\", \"p_month\").agg(countDistinct(\"p_month\")).withColumnRenamed(\"count(DISTINCT p_month)\", \"distinct_months\").persist(StorageLevel.LEVELS)\n",
    "    LEVEL = LEVEL.filter(\"distinct_months == 1\").groupBy(\"customer_ID\").count()\n",
    "    return LEVELS.show()"
   ]
  },
  {
   "cell_type": "code",
   "execution_count": 81,
   "id": "869348c8",
   "metadata": {},
   "outputs": [
    {
     "data": {
      "text/html": [
       "<table border='1'>\n",
       "<tr><th></th></tr>\n",
       "</table>\n"
      ],
      "text/plain": [
       "++\n",
       "||\n",
       "++\n",
       "++"
      ]
     },
     "execution_count": 81,
     "metadata": {},
     "output_type": "execute_result"
    }
   ],
   "source": [
    "spark.sql(\"uncache table it009033_customers.customers_external\")"
   ]
  },
  {
   "cell_type": "code",
   "execution_count": 82,
   "id": "7c6892f1",
   "metadata": {},
   "outputs": [
    {
     "data": {
      "text/html": [
       "<table border='1'>\n",
       "<tr><th></th></tr>\n",
       "</table>\n"
      ],
      "text/plain": [
       "++\n",
       "||\n",
       "++\n",
       "++"
      ]
     },
     "execution_count": 82,
     "metadata": {},
     "output_type": "execute_result"
    }
   ],
   "source": [
    "spark.sql(\"clear cache\")"
   ]
  },
  {
   "cell_type": "code",
   "execution_count": 83,
   "id": "e5737acd",
   "metadata": {},
   "outputs": [],
   "source": [
    "spark.stop()"
   ]
  },
  {
   "cell_type": "code",
   "execution_count": null,
   "id": "6efdd621",
   "metadata": {},
   "outputs": [],
   "source": []
  }
 ],
 "metadata": {
  "kernelspec": {
   "display_name": "Pyspark 2",
   "language": "python",
   "name": "pyspark2"
  },
  "language_info": {
   "codemirror_mode": {
    "name": "ipython",
    "version": 3
   },
   "file_extension": ".py",
   "mimetype": "text/x-python",
   "name": "python",
   "nbconvert_exporter": "python",
   "pygments_lexer": "ipython3",
   "version": "3.6.12"
  }
 },
 "nbformat": 4,
 "nbformat_minor": 5
}
